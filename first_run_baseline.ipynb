{
 "cells": [
  {
   "cell_type": "markdown",
   "metadata": {},
   "source": [
    "### 0. Imports and requirements"
   ]
  },
  {
   "cell_type": "markdown",
   "metadata": {},
   "source": [
    "* В данном соревновании мы имеем дело с последовательностями, один из интуитивных способов работы с ними &ndash; использование рекуррентных нейронных сетей. В этом базовом решении мы демонстрируем, как можно построить хорошее решение задачи соревнования без использования сложного и трудоемкого feature engineering'а (чтобы эффективно решать ту же задачу с высоким качеством с помощью бустингов нужно несколько тысяч признаков), благодаря рекуррентным нейронным сетям. В этом ноутбуке мы построим решение с использованием фреймфорка `torch`. Для комфортной работы Вам понадобится машина с `GPU` (хватит ресурсов `google colab` или `kaggle`)."
   ]
  },
  {
   "cell_type": "code",
   "execution_count": 1,
   "metadata": {
    "execution": {
     "iopub.execute_input": "2025-04-03T19:49:52.459772Z",
     "iopub.status.busy": "2025-04-03T19:49:52.459454Z",
     "iopub.status.idle": "2025-04-03T19:49:57.667474Z",
     "shell.execute_reply": "2025-04-03T19:49:57.666572Z",
     "shell.execute_reply.started": "2025-04-03T19:49:52.459741Z"
    },
    "trusted": true
   },
   "outputs": [],
   "source": [
    "%load_ext autoreload\n",
    "%autoreload 2\n",
    "\n",
    "import os\n",
    "import pandas as pd\n",
    "import sys\n",
    "import pickle\n",
    "import numpy as np\n",
    "import torch\n",
    "import torch.nn as nn\n",
    "\n",
    "from sklearn.model_selection import train_test_split\n",
    "import tqdm\n",
    "\n",
    "# !!! измените \"2\" на номер доступной вам сuda\n",
    "#os.environ[\"CUDA_VISIBLE_DEVICES\"] = \"2\"\n",
    "pd.set_option(\"display.max_columns\", None)\n",
    "sys.path.append('/kaggle/input/credit')\n",
    "sys.path.append('../')\n",
    "\n",
    "# добавим родительскую директорию, в ней лежат все необходимые полезные функции для обработки данных"
   ]
  },
  {
   "cell_type": "code",
   "execution_count": 2,
   "metadata": {
    "execution": {
     "iopub.execute_input": "2025-04-03T19:49:57.668909Z",
     "iopub.status.busy": "2025-04-03T19:49:57.668533Z",
     "iopub.status.idle": "2025-04-03T19:49:57.693357Z",
     "shell.execute_reply": "2025-04-03T19:49:57.692553Z",
     "shell.execute_reply.started": "2025-04-03T19:49:57.668875Z"
    },
    "trusted": true
   },
   "outputs": [],
   "source": [
    "import matplotlib.pyplot as plt\n",
    "plt.style.use(\"seaborn-v0_8-whitegrid\")"
   ]
  },
  {
   "cell_type": "markdown",
   "metadata": {},
   "source": [
    "### 1. Data Preprocessing"
   ]
  },
  {
   "cell_type": "code",
   "execution_count": 3,
   "metadata": {
    "execution": {
     "iopub.execute_input": "2025-04-03T19:49:57.695414Z",
     "iopub.status.busy": "2025-04-03T19:49:57.695203Z",
     "iopub.status.idle": "2025-04-03T19:49:57.849697Z",
     "shell.execute_reply": "2025-04-03T19:49:57.849028Z",
     "shell.execute_reply.started": "2025-04-03T19:49:57.695390Z"
    },
    "trusted": true
   },
   "outputs": [
    {
     "name": "stdout",
     "output_type": "stream",
     "text": [
      "['Dict', '__builtins__', '__cached__', '__doc__', '__file__', '__loader__', '__name__', '__package__', '__spec__', 'create_padded_buckets', 'features', 'np', 'pad_sequence', 'pd', 'pickle', 'tqdm', 'transform_credits_to_sequences', 'truncate']\n"
     ]
    }
   ],
   "source": [
    "import dataset_preprocessing_utils\n",
    "print(dir(dataset_preprocessing_utils))"
   ]
  },
  {
   "cell_type": "code",
   "execution_count": 4,
   "metadata": {
    "execution": {
     "iopub.execute_input": "2025-04-03T19:49:57.850890Z",
     "iopub.status.busy": "2025-04-03T19:49:57.850626Z",
     "iopub.status.idle": "2025-04-03T19:49:57.875500Z",
     "shell.execute_reply": "2025-04-03T19:49:57.874795Z",
     "shell.execute_reply.started": "2025-04-03T19:49:57.850859Z"
    },
    "trusted": true
   },
   "outputs": [],
   "source": [
    "TRAIN_DATA_PATH = \"/kaggle/input/credit/data/train_data/\"\n",
    "TEST_DATA_PATH = \"/kaggle/input/credit/data/test_data/\"\n",
    "\n",
    "TRAIN_TARGET_PATH = \"/kaggle/input/credit/data/train_target.csv\""
   ]
  },
  {
   "cell_type": "code",
   "execution_count": 5,
   "metadata": {
    "execution": {
     "iopub.execute_input": "2025-04-03T19:49:57.876458Z",
     "iopub.status.busy": "2025-04-03T19:49:57.876218Z",
     "iopub.status.idle": "2025-04-03T19:49:58.527744Z",
     "shell.execute_reply": "2025-04-03T19:49:58.527049Z",
     "shell.execute_reply.started": "2025-04-03T19:49:57.876438Z"
    },
    "trusted": true
   },
   "outputs": [
    {
     "data": {
      "text/html": [
       "<div>\n",
       "<style scoped>\n",
       "    .dataframe tbody tr th:only-of-type {\n",
       "        vertical-align: middle;\n",
       "    }\n",
       "\n",
       "    .dataframe tbody tr th {\n",
       "        vertical-align: top;\n",
       "    }\n",
       "\n",
       "    .dataframe thead th {\n",
       "        text-align: right;\n",
       "    }\n",
       "</style>\n",
       "<table border=\"1\" class=\"dataframe\">\n",
       "  <thead>\n",
       "    <tr style=\"text-align: right;\">\n",
       "      <th></th>\n",
       "      <th>id</th>\n",
       "      <th>flag</th>\n",
       "    </tr>\n",
       "  </thead>\n",
       "  <tbody>\n",
       "    <tr>\n",
       "      <th>0</th>\n",
       "      <td>0</td>\n",
       "      <td>0</td>\n",
       "    </tr>\n",
       "    <tr>\n",
       "      <th>1</th>\n",
       "      <td>1</td>\n",
       "      <td>0</td>\n",
       "    </tr>\n",
       "    <tr>\n",
       "      <th>2</th>\n",
       "      <td>2</td>\n",
       "      <td>0</td>\n",
       "    </tr>\n",
       "    <tr>\n",
       "      <th>3</th>\n",
       "      <td>3</td>\n",
       "      <td>0</td>\n",
       "    </tr>\n",
       "    <tr>\n",
       "      <th>4</th>\n",
       "      <td>4</td>\n",
       "      <td>0</td>\n",
       "    </tr>\n",
       "    <tr>\n",
       "      <th>...</th>\n",
       "      <td>...</td>\n",
       "      <td>...</td>\n",
       "    </tr>\n",
       "    <tr>\n",
       "      <th>2999995</th>\n",
       "      <td>2999995</td>\n",
       "      <td>0</td>\n",
       "    </tr>\n",
       "    <tr>\n",
       "      <th>2999996</th>\n",
       "      <td>2999996</td>\n",
       "      <td>0</td>\n",
       "    </tr>\n",
       "    <tr>\n",
       "      <th>2999997</th>\n",
       "      <td>2999997</td>\n",
       "      <td>0</td>\n",
       "    </tr>\n",
       "    <tr>\n",
       "      <th>2999998</th>\n",
       "      <td>2999998</td>\n",
       "      <td>0</td>\n",
       "    </tr>\n",
       "    <tr>\n",
       "      <th>2999999</th>\n",
       "      <td>2999999</td>\n",
       "      <td>0</td>\n",
       "    </tr>\n",
       "  </tbody>\n",
       "</table>\n",
       "<p>3000000 rows × 2 columns</p>\n",
       "</div>"
      ],
      "text/plain": [
       "              id  flag\n",
       "0              0     0\n",
       "1              1     0\n",
       "2              2     0\n",
       "3              3     0\n",
       "4              4     0\n",
       "...          ...   ...\n",
       "2999995  2999995     0\n",
       "2999996  2999996     0\n",
       "2999997  2999997     0\n",
       "2999998  2999998     0\n",
       "2999999  2999999     0\n",
       "\n",
       "[3000000 rows x 2 columns]"
      ]
     },
     "execution_count": 5,
     "metadata": {},
     "output_type": "execute_result"
    }
   ],
   "source": [
    "train_target = pd.read_csv(TRAIN_TARGET_PATH)\n",
    "train_target"
   ]
  },
  {
   "cell_type": "markdown",
   "metadata": {},
   "source": [
    "* Как и в случае с бустингами, мы не можем поместить всю выборку в память ввиду, например, ограниченных ресурсов. Для итеративного чтения данных нам потребуется функция `utils.read_parquet_dataset_from_local`, которая читает N частей датасета за раз в память.\n",
    "\n",
    "\n",
    "* Нейронные сети требуют отдельного внимания к тому, как будут предобработаны и поданы данные. Важные моменты, на которые требуется обратить внимание:\n",
    "    1. Использование рекуррентных сетей подразумевает работу на уровне последовательностей, где одна последовательность &ndash; все исторические кредиты клиента. Чтобы преобразовать `pd.DataFrame` с записями из кредитных историй клиентов в табличном виде к последовательностям, мы подготовили функцию `dataset_preprocessing_utils.transform_credits_to_sequences`, она производит необходимые манипуляции и возвращает фрейм с двумя колонками: `id` и `sequences`. Колонка `sequences` представляет из себя список списков длины `len(features)`, где каждый вложенный список &ndash; значения одного конкретного признака во всех кредитах клиента. \n",
    "    \n",
    "    2. Клиенты могут иметь различные по длине кредитные истории. При этом обучение нейронных сетей происходит батчами и поскольку рекуррентные слои не способны обрабатывать батчи с последовательностями  неодинаковой длины, существует несколько подходов для приведения последовтельностей в батче к удобоваримому виду. Простой подход заключается в дополнении более коротких последовательностей нулями до максимальной длины последовательности в батче (т. н. паддинг). Довольно неэффективно делать паддинг внутри батча на последовательностях случайной длины (часто будем делать большой и бесполезный паддинг). Гораздо лучше использовать технику `Sequence Bucketing` (о ней мы рассказываем в нашем треке). Для реализации паддинга последовательностей кредитов клиентов мы подготовили функцию `dataset_preprocessing_utils.create_padded_buckets`."
   ]
  },
  {
   "cell_type": "code",
   "execution_count": 6,
   "metadata": {
    "execution": {
     "iopub.execute_input": "2025-04-03T19:49:58.528755Z",
     "iopub.status.busy": "2025-04-03T19:49:58.528553Z",
     "iopub.status.idle": "2025-04-03T19:49:58.560711Z",
     "shell.execute_reply": "2025-04-03T19:49:58.559998Z",
     "shell.execute_reply.started": "2025-04-03T19:49:58.528738Z"
    },
    "trusted": true
   },
   "outputs": [],
   "source": [
    "from utils import read_parquet_dataset_from_local\n",
    "from dataset_preprocessing_utils import features, transform_credits_to_sequences, create_padded_buckets"
   ]
  },
  {
   "cell_type": "markdown",
   "metadata": {},
   "source": [
    "* В дальнейшем при построении рекуррентной нейронной сети нам понадобятся следующие статистики по тренировочной и тестовой выборкам: распределение длин кредитных историй и число уникальных значений каждого категориального значения. Посчитаем эти статистики:"
   ]
  },
  {
   "cell_type": "code",
   "execution_count": 7,
   "metadata": {
    "execution": {
     "iopub.execute_input": "2025-04-03T19:49:58.561874Z",
     "iopub.status.busy": "2025-04-03T19:49:58.561567Z",
     "iopub.status.idle": "2025-04-03T19:50:50.557936Z",
     "shell.execute_reply": "2025-04-03T19:50:50.557063Z",
     "shell.execute_reply.started": "2025-04-03T19:49:58.561842Z"
    },
    "trusted": true
   },
   "outputs": [
    {
     "data": {
      "application/vnd.jupyter.widget-view+json": {
       "model_id": "6bdf336386634263b5f6f6c49131af28",
       "version_major": 2,
       "version_minor": 0
      },
      "text/plain": [
       "Count statistics on train data:   0%|          | 0/3 [00:00<?, ?it/s]"
      ]
     },
     "metadata": {},
     "output_type": "display_data"
    },
    {
     "name": "stdout",
     "output_type": "stream",
     "text": [
      "Reading chunks:\n",
      "/kaggle/input/credit/data/train_data/train_data_0.pq\n",
      "/kaggle/input/credit/data/train_data/train_data_1.pq\n",
      "/kaggle/input/credit/data/train_data/train_data_2.pq\n",
      "/kaggle/input/credit/data/train_data/train_data_3.pq\n"
     ]
    },
    {
     "data": {
      "application/vnd.jupyter.widget-view+json": {
       "model_id": "8e3bd82d704b4146b8ce65b52b6c023f",
       "version_major": 2,
       "version_minor": 0
      },
      "text/plain": [
       "Reading dataset with pandas:   0%|          | 0/4 [00:00<?, ?it/s]"
      ]
     },
     "metadata": {},
     "output_type": "display_data"
    },
    {
     "name": "stdout",
     "output_type": "stream",
     "text": [
      "Reading chunks:\n",
      "/kaggle/input/credit/data/train_data/train_data_4.pq\n",
      "/kaggle/input/credit/data/train_data/train_data_5.pq\n",
      "/kaggle/input/credit/data/train_data/train_data_6.pq\n",
      "/kaggle/input/credit/data/train_data/train_data_7.pq\n"
     ]
    },
    {
     "data": {
      "application/vnd.jupyter.widget-view+json": {
       "model_id": "f82d2e0635e045ab92571eaca5490f83",
       "version_major": 2,
       "version_minor": 0
      },
      "text/plain": [
       "Reading dataset with pandas:   0%|          | 0/4 [00:00<?, ?it/s]"
      ]
     },
     "metadata": {},
     "output_type": "display_data"
    },
    {
     "name": "stdout",
     "output_type": "stream",
     "text": [
      "Reading chunks:\n",
      "/kaggle/input/credit/data/train_data/train_data_8.pq\n",
      "/kaggle/input/credit/data/train_data/train_data_9.pq\n",
      "/kaggle/input/credit/data/train_data/train_data_10.pq\n",
      "/kaggle/input/credit/data/train_data/train_data_11.pq\n"
     ]
    },
    {
     "data": {
      "application/vnd.jupyter.widget-view+json": {
       "model_id": "96bcb9cc306d44bc82da0f1d52039657",
       "version_major": 2,
       "version_minor": 0
      },
      "text/plain": [
       "Reading dataset with pandas:   0%|          | 0/4 [00:00<?, ?it/s]"
      ]
     },
     "metadata": {},
     "output_type": "display_data"
    },
    {
     "data": {
      "application/vnd.jupyter.widget-view+json": {
       "model_id": "196188dad9924273b916718133b995e1",
       "version_major": 2,
       "version_minor": 0
      },
      "text/plain": [
       "Count statistics on test data:   0%|          | 0/1 [00:00<?, ?it/s]"
      ]
     },
     "metadata": {},
     "output_type": "display_data"
    },
    {
     "name": "stdout",
     "output_type": "stream",
     "text": [
      "Reading chunks:\n",
      "/kaggle/input/credit/data/test_data/test_data_0.pq\n",
      "/kaggle/input/credit/data/test_data/test_data_1.pq\n"
     ]
    },
    {
     "data": {
      "application/vnd.jupyter.widget-view+json": {
       "model_id": "2ed321ab4f28490ba320365bfc178138",
       "version_major": 2,
       "version_minor": 0
      },
      "text/plain": [
       "Reading dataset with pandas:   0%|          | 0/2 [00:00<?, ?it/s]"
      ]
     },
     "metadata": {},
     "output_type": "display_data"
    },
    {
     "name": "stdout",
     "output_type": "stream",
     "text": [
      "CPU times: user 46.1 s, sys: 35.1 s, total: 1min 21s\n",
      "Wall time: 52 s\n"
     ]
    }
   ],
   "source": [
    "%%time\n",
    "from collections import defaultdict\n",
    "\n",
    "\n",
    "train_lens = []\n",
    "test_lens = []\n",
    "uniques = defaultdict(set)\n",
    "\n",
    "for step in tqdm.notebook.tqdm(range(0, 12, 4),\n",
    "                     desc=\"Count statistics on train data\"):\n",
    "        credits_frame = read_parquet_dataset_from_local(TRAIN_DATA_PATH, step, 4, verbose=True)\n",
    "        seq_lens = credits_frame.groupby(\"id\").agg(seq_len=(\"rn\", \"max\"))[\"seq_len\"].values\n",
    "        train_lens.extend(seq_lens)\n",
    "        credits_frame.drop(columns=[\"id\", \"rn\"], inplace=True)\n",
    "        for feat in credits_frame.columns.values:\n",
    "            uniques[feat] = uniques[feat].union(credits_frame[feat].unique())\n",
    "train_lens = np.hstack(train_lens)\n",
    "\n",
    "for step in tqdm.notebook.tqdm(range(0, 2, 2),\n",
    "                     desc=\"Count statistics on test data\"):\n",
    "        credits_frame = read_parquet_dataset_from_local(TEST_DATA_PATH, step, 2, verbose=True)\n",
    "        seq_lens = credits_frame.groupby(\"id\").agg(seq_len=(\"rn\", \"max\"))[\"seq_len\"].values\n",
    "        test_lens.extend(seq_lens)\n",
    "        credits_frame.drop(columns=[\"id\", \"rn\"], inplace=True)\n",
    "        for feat in credits_frame.columns.values:\n",
    "            uniques[feat] = uniques[feat].union(credits_frame[feat].unique())\n",
    "test_lens = np.hstack(test_lens)\n",
    "uniques = dict(uniques)"
   ]
  },
  {
   "cell_type": "markdown",
   "metadata": {},
   "source": [
    "* Чтобы сразу убедиться, что посчитанные статистики интересные и полезные, построим графики распределений длин кредитных историй в тренировочной и тестовой выборках"
   ]
  },
  {
   "cell_type": "code",
   "execution_count": 8,
   "metadata": {
    "execution": {
     "iopub.execute_input": "2025-04-03T19:50:50.559259Z",
     "iopub.status.busy": "2025-04-03T19:50:50.558903Z",
     "iopub.status.idle": "2025-04-03T19:50:50.589126Z",
     "shell.execute_reply": "2025-04-03T19:50:50.588031Z",
     "shell.execute_reply.started": "2025-04-03T19:50:50.559225Z"
    },
    "trusted": true
   },
   "outputs": [
    {
     "name": "stdout",
     "output_type": "stream",
     "text": [
      "['Dict', '__builtins__', '__cached__', '__doc__', '__file__', '__loader__', '__name__', '__package__', '__spec__', 'create_padded_buckets', 'features', 'np', 'pad_sequence', 'pd', 'pickle', 'tqdm', 'transform_credits_to_sequences', 'truncate']\n"
     ]
    }
   ],
   "source": [
    "import dataset_preprocessing_utils\n",
    "print(dir(dataset_preprocessing_utils))"
   ]
  },
  {
   "cell_type": "code",
   "execution_count": 9,
   "metadata": {
    "execution": {
     "iopub.execute_input": "2025-04-03T19:50:50.591832Z",
     "iopub.status.busy": "2025-04-03T19:50:50.591566Z",
     "iopub.status.idle": "2025-04-03T19:50:51.070878Z",
     "shell.execute_reply": "2025-04-03T19:50:51.070042Z",
     "shell.execute_reply.started": "2025-04-03T19:50:50.591811Z"
    },
    "trusted": true
   },
   "outputs": [],
   "source": [
    "from collections import Counter\n",
    "\n",
    "\n",
    "train_len_counter = pd.Series(Counter(train_lens)).sort_index()\n",
    "test_len_counter = pd.Series(Counter(test_lens)).sort_index()"
   ]
  },
  {
   "cell_type": "code",
   "execution_count": 10,
   "metadata": {
    "execution": {
     "iopub.execute_input": "2025-04-03T19:50:51.073142Z",
     "iopub.status.busy": "2025-04-03T19:50:51.072848Z",
     "iopub.status.idle": "2025-04-03T19:50:51.441754Z",
     "shell.execute_reply": "2025-04-03T19:50:51.441049Z",
     "shell.execute_reply.started": "2025-04-03T19:50:51.073120Z"
    },
    "trusted": true
   },
   "outputs": [
    {
     "data": {
      "text/plain": [
       "<BarContainer object of 54 artists>"
      ]
     },
     "execution_count": 10,
     "metadata": {},
     "output_type": "execute_result"
    },
    {
     "data": {
      "image/png": "[encoded data removed]",
      "text/plain": [
       "<Figure size 1500x600 with 1 Axes>"
      ]
     },
     "metadata": {},
     "output_type": "display_data"
    }
   ],
   "source": [
    "fig, ax = plt.subplots(figsize=(15, 6), nrows=1)\n",
    "ax.bar(train_len_counter.index.values, train_len_counter.values)"
   ]
  },
  {
   "cell_type": "code",
   "execution_count": 11,
   "metadata": {
    "execution": {
     "iopub.execute_input": "2025-04-03T19:50:51.442896Z",
     "iopub.status.busy": "2025-04-03T19:50:51.442655Z",
     "iopub.status.idle": "2025-04-03T19:50:51.693169Z",
     "shell.execute_reply": "2025-04-03T19:50:51.692326Z",
     "shell.execute_reply.started": "2025-04-03T19:50:51.442865Z"
    },
    "trusted": true
   },
   "outputs": [
    {
     "data": {
      "text/plain": [
       "<BarContainer object of 50 artists>"
      ]
     },
     "execution_count": 11,
     "metadata": {},
     "output_type": "execute_result"
    },
    {
     "data": {
      "image/png": "[encoded data removed]",
      "text/plain": [
       "<Figure size 1500x600 with 1 Axes>"
      ]
     },
     "metadata": {},
     "output_type": "display_data"
    }
   ],
   "source": [
    "fig, ax = plt.subplots(figsize=(15, 6), nrows=1)\n",
    "ax.bar(test_len_counter.index.values, test_len_counter.values)"
   ]
  },
  {
   "cell_type": "code",
   "execution_count": 12,
   "metadata": {
    "execution": {
     "iopub.execute_input": "2025-04-03T19:50:51.694354Z",
     "iopub.status.busy": "2025-04-03T19:50:51.694078Z",
     "iopub.status.idle": "2025-04-03T19:50:51.724446Z",
     "shell.execute_reply": "2025-04-03T19:50:51.723647Z",
     "shell.execute_reply.started": "2025-04-03T19:50:51.694322Z"
    },
    "trusted": true
   },
   "outputs": [
    {
     "data": {
      "text/plain": [
       "(58, 57)"
      ]
     },
     "execution_count": 12,
     "metadata": {},
     "output_type": "execute_result"
    }
   ],
   "source": [
    "train_lens.max(), test_lens.max()"
   ]
  },
  {
   "cell_type": "markdown",
   "metadata": {},
   "source": [
    "* Один из аргументов в функции `dataset_preprocessing_utils.create_padded_buckets` &ndash; `bucket_info` &ndash; словарь, где для конкретной длины последовательности указано до какой длины нужно делать паддинг. Для данного бэйзлайна возьмем простое разбиение на 43 бакета: \n",
    "| Длина последовательности | Длина после паддинга |\n",
    "| :-: | :-: \n",
    "| 1 &ndash; 40 | без изменений |\n",
    "| 41 &ndash; 45 | 45 |\n",
    "| 46 &ndash; 50 | 50 |\n",
    "| 51 &ndash; 58 | 58 |"
   ]
  },
  {
   "cell_type": "code",
   "execution_count": 13,
   "metadata": {
    "execution": {
     "iopub.execute_input": "2025-04-03T19:50:51.725371Z",
     "iopub.status.busy": "2025-04-03T19:50:51.725131Z",
     "iopub.status.idle": "2025-04-03T19:50:51.755079Z",
     "shell.execute_reply": "2025-04-03T19:50:51.754457Z",
     "shell.execute_reply.started": "2025-04-03T19:50:51.725335Z"
    },
    "trusted": true
   },
   "outputs": [
    {
     "data": {
      "text/plain": [
       "{1: 1,\n",
       " 2: 2,\n",
       " 3: 3,\n",
       " 4: 4,\n",
       " 5: 5,\n",
       " 6: 6,\n",
       " 7: 7,\n",
       " 8: 8,\n",
       " 9: 9,\n",
       " 10: 10,\n",
       " 11: 11,\n",
       " 12: 12,\n",
       " 13: 13,\n",
       " 14: 14,\n",
       " 15: 15,\n",
       " 16: 16,\n",
       " 17: 17,\n",
       " 18: 18,\n",
       " 19: 19,\n",
       " 20: 20,\n",
       " 21: 21,\n",
       " 22: 22,\n",
       " 23: 23,\n",
       " 24: 24,\n",
       " 25: 25,\n",
       " 26: 26,\n",
       " 27: 27,\n",
       " 28: 28,\n",
       " 29: 29,\n",
       " 30: 30,\n",
       " 31: 31,\n",
       " 32: 32,\n",
       " 33: 33,\n",
       " 34: 34,\n",
       " 35: 35,\n",
       " 36: 36,\n",
       " 37: 37,\n",
       " 38: 38,\n",
       " 39: 39,\n",
       " 40: 40,\n",
       " 41: 45,\n",
       " 42: 45,\n",
       " 43: 45,\n",
       " 44: 45,\n",
       " 45: 45,\n",
       " 46: 50,\n",
       " 47: 50,\n",
       " 48: 50,\n",
       " 49: 50,\n",
       " 50: 50,\n",
       " 51: 58,\n",
       " 52: 58,\n",
       " 53: 58,\n",
       " 54: 58,\n",
       " 55: 58,\n",
       " 56: 58,\n",
       " 57: 58,\n",
       " 58: 58}"
      ]
     },
     "execution_count": 13,
     "metadata": {},
     "output_type": "execute_result"
    }
   ],
   "source": [
    "keys_ = list(range(1, 59)) \n",
    "lens_ = list(range(1, 41)) + [45] * 5 + [50] * 5 + [58] * 8\n",
    "bucket_info = dict(zip(keys_, lens_))\n",
    "bucket_info"
   ]
  },
  {
   "cell_type": "markdown",
   "metadata": {},
   "source": [
    "* Так же рассмотрим уникальные значения признаков"
   ]
  },
  {
   "cell_type": "code",
   "execution_count": 14,
   "metadata": {
    "execution": {
     "iopub.execute_input": "2025-04-03T19:50:51.756082Z",
     "iopub.status.busy": "2025-04-03T19:50:51.755786Z",
     "iopub.status.idle": "2025-04-03T19:50:51.789965Z",
     "shell.execute_reply": "2025-04-03T19:50:51.789193Z",
     "shell.execute_reply.started": "2025-04-03T19:50:51.756054Z"
    },
    "trusted": true
   },
   "outputs": [
    {
     "name": "stdout",
     "output_type": "stream",
     "text": [
      "Feature: pre_since_opened, unique values: {0, 1, 2, 3, 4, 5, 6, 7, 8, 9, 10, 11, 12, 13, 14, 15, 16, 17, 18, 19}\n",
      "Feature: pre_since_confirmed, unique values: {0, 1, 2, 3, 4, 5, 6, 7, 8, 9, 10, 11, 12, 13, 14, 15, 16, 17}\n",
      "Feature: pre_pterm, unique values: {0, 1, 2, 3, 4, 5, 6, 7, 8, 9, 10, 11, 12, 13, 14, 15, 16, 17}\n",
      "Feature: pre_fterm, unique values: {0, 1, 2, 3, 4, 5, 6, 7, 8, 9, 10, 11, 12, 13, 14, 15, 16}\n",
      "Feature: pre_till_pclose, unique values: {0, 1, 2, 3, 4, 5, 6, 7, 8, 9, 10, 11, 12, 13, 14, 15, 16}\n",
      "Feature: pre_till_fclose, unique values: {0, 1, 2, 3, 4, 5, 6, 7, 8, 9, 10, 11, 12, 13, 14, 15}\n",
      "Feature: pre_loans_credit_limit, unique values: {0, 1, 2, 3, 4, 5, 6, 7, 8, 9, 10, 11, 12, 13, 14, 15, 16, 17, 18, 19}\n",
      "Feature: pre_loans_next_pay_summ, unique values: {0, 1, 2, 3, 4, 5, 6, 7}\n",
      "Feature: pre_loans_outstanding, unique values: {1, 2, 3, 4, 5}\n",
      "Feature: pre_loans_total_overdue, unique values: {0, 1}\n",
      "Feature: pre_loans_max_overdue_sum, unique values: {0, 1, 2, 3}\n",
      "Feature: pre_loans_credit_cost_rate, unique values: {0, 1, 2, 3, 4, 5, 6, 7, 8, 9, 10, 11, 12, 13}\n",
      "Feature: pre_loans5, unique values: {0, 1, 2, 3, 4, 5, 6, 7, 8, 9, 10, 11, 13, 14, 15, 16, 17}\n",
      "Feature: pre_loans530, unique values: {0, 1, 2, 3, 4, 5, 6, 7, 8, 9, 10, 11, 12, 13, 14, 15, 16, 17, 18, 19}\n",
      "Feature: pre_loans3060, unique values: {0, 1, 2, 3, 4, 5, 6, 7, 8, 9}\n",
      "Feature: pre_loans6090, unique values: {0, 1, 2, 3, 4, 5}\n",
      "Feature: pre_loans90, unique values: {1, 2, 3, 4, 8, 10, 11, 13, 14, 18, 19}\n",
      "Feature: is_zero_loans5, unique values: {0, 1}\n",
      "Feature: is_zero_loans530, unique values: {0, 1}\n",
      "Feature: is_zero_loans3060, unique values: {0, 1}\n",
      "Feature: is_zero_loans6090, unique values: {0, 1}\n",
      "Feature: is_zero_loans90, unique values: {0, 1}\n",
      "Feature: pre_util, unique values: {0, 1, 2, 3, 4, 5, 6, 7, 8, 9, 10, 11, 12, 13, 14, 15, 16, 17, 18, 19}\n",
      "Feature: pre_over2limit, unique values: {0, 1, 2, 3, 4, 5, 6, 7, 8, 9, 10, 11, 12, 13, 14, 15, 16, 17, 18, 19}\n",
      "Feature: pre_maxover2limit, unique values: {0, 1, 2, 3, 4, 5, 6, 7, 8, 9, 10, 11, 12, 13, 14, 15, 16, 17, 18, 19}\n",
      "Feature: is_zero_util, unique values: {0, 1}\n",
      "Feature: is_zero_over2limit, unique values: {0, 1}\n",
      "Feature: is_zero_maxover2limit, unique values: {0, 1}\n",
      "Feature: enc_paym_0, unique values: {0, 1, 2, 3}\n",
      "Feature: enc_paym_1, unique values: {0, 1, 2, 3}\n",
      "Feature: enc_paym_2, unique values: {0, 1, 2, 3}\n",
      "Feature: enc_paym_3, unique values: {0, 1, 2, 3}\n",
      "Feature: enc_paym_4, unique values: {0, 1, 2, 3}\n",
      "Feature: enc_paym_5, unique values: {0, 1, 2, 3}\n",
      "Feature: enc_paym_6, unique values: {0, 1, 2, 3}\n",
      "Feature: enc_paym_7, unique values: {0, 1, 2, 3}\n",
      "Feature: enc_paym_8, unique values: {0, 1, 2, 3}\n",
      "Feature: enc_paym_9, unique values: {0, 1, 2, 3}\n",
      "Feature: enc_paym_10, unique values: {0, 1, 2, 3}\n",
      "Feature: enc_paym_11, unique values: {1, 2, 3, 4}\n",
      "Feature: enc_paym_12, unique values: {0, 1, 2, 3}\n",
      "Feature: enc_paym_13, unique values: {0, 1, 2, 3}\n",
      "Feature: enc_paym_14, unique values: {0, 1, 2, 3}\n",
      "Feature: enc_paym_15, unique values: {0, 1, 2, 3}\n",
      "Feature: enc_paym_16, unique values: {0, 1, 2, 3}\n",
      "Feature: enc_paym_17, unique values: {0, 1, 2, 3}\n",
      "Feature: enc_paym_18, unique values: {0, 1, 2, 3}\n",
      "Feature: enc_paym_19, unique values: {0, 1, 2, 3}\n",
      "Feature: enc_paym_20, unique values: {1, 2, 3, 4}\n",
      "Feature: enc_paym_21, unique values: {0, 1, 2, 3}\n",
      "Feature: enc_paym_22, unique values: {0, 1, 2, 3}\n",
      "Feature: enc_paym_23, unique values: {0, 1, 2, 3}\n",
      "Feature: enc_paym_24, unique values: {1, 2, 3, 4}\n",
      "Feature: enc_loans_account_holder_type, unique values: {0, 1, 2, 3, 4, 5, 6}\n",
      "Feature: enc_loans_credit_status, unique values: {0, 1, 2, 3, 4, 5, 6}\n",
      "Feature: enc_loans_credit_type, unique values: {0, 1, 2, 3, 4, 5, 6, 7}\n",
      "Feature: enc_loans_account_cur, unique values: {0, 1, 2, 3}\n",
      "Feature: pclose_flag, unique values: {0, 1}\n",
      "Feature: fclose_flag, unique values: {0, 1}\n"
     ]
    }
   ],
   "source": [
    "for feat, uniq in uniques.items():\n",
    "    print(f\"Feature: {feat}, unique values: {uniq}\")"
   ]
  },
  {
   "cell_type": "markdown",
   "metadata": {},
   "source": [
    "* Поскольку паддинг будет производиться нулями, а категориальные признаки закодированы, начиная с 0, перед паддингом будем сдвигать все значения на 1."
   ]
  },
  {
   "cell_type": "markdown",
   "metadata": {},
   "source": [
    "* Вся описанная выше предобработка данных реализована в виде функции `create_buckets_from_credits`:"
   ]
  },
  {
   "cell_type": "code",
   "execution_count": 15,
   "metadata": {
    "execution": {
     "iopub.execute_input": "2025-04-03T19:50:51.791084Z",
     "iopub.status.busy": "2025-04-03T19:50:51.790820Z",
     "iopub.status.idle": "2025-04-03T19:50:51.817943Z",
     "shell.execute_reply": "2025-04-03T19:50:51.817186Z",
     "shell.execute_reply.started": "2025-04-03T19:50:51.791065Z"
    },
    "trusted": true
   },
   "outputs": [],
   "source": [
    "def create_buckets_from_credits(path_to_dataset, bucket_info, save_to_path, frame_with_ids = None, \n",
    "                                num_parts_to_preprocess_at_once: int = 1, \n",
    "                                num_parts_total=50, has_target=False):\n",
    "    block = 0\n",
    "    for step in tqdm.notebook.tqdm(range(0, num_parts_total, num_parts_to_preprocess_at_once),\n",
    "                     desc=\"Preparing credit data\"):\n",
    "        credits_frame = read_parquet_dataset_from_local(path_to_dataset, step, num_parts_to_preprocess_at_once, verbose=True)\n",
    "        credits_frame.loc[:, features] += 1       \n",
    "        seq = transform_credits_to_sequences(credits_frame)\n",
    "        print(\"Transforming credits to sequences is done.\")\n",
    "        \n",
    "        if frame_with_ids is not None:\n",
    "            seq = seq.merge(frame_with_ids, on=\"id\")\n",
    "\n",
    "        block_as_str = str(block)\n",
    "        if len(block_as_str) == 1:\n",
    "            block_as_str = \"00\" + block_as_str\n",
    "        else:\n",
    "            block_as_str = \"0\" + block_as_str\n",
    "            \n",
    "        processed_fragment =  create_padded_buckets(seq, bucket_info=bucket_info, has_target=has_target, \n",
    "                                                    save_to_file_path=os.path.join(save_to_path, \n",
    "                                                                                   f\"processed_chunk_{block_as_str}.pkl\"))\n",
    "        block += 1"
   ]
  },
  {
   "cell_type": "markdown",
   "metadata": {},
   "source": [
    "* Разобьем обучающие данные на тренировочную и валидационную выборки. Воспользуемся самым простым способом &ndash; для валидации случайным образом выберем 10% обучающих данных."
   ]
  },
  {
   "cell_type": "code",
   "execution_count": 16,
   "metadata": {
    "execution": {
     "iopub.execute_input": "2025-04-03T19:50:51.818846Z",
     "iopub.status.busy": "2025-04-03T19:50:51.818644Z",
     "iopub.status.idle": "2025-04-03T19:50:52.010919Z",
     "shell.execute_reply": "2025-04-03T19:50:52.010195Z",
     "shell.execute_reply.started": "2025-04-03T19:50:51.818828Z"
    },
    "trusted": true
   },
   "outputs": [
    {
     "data": {
      "text/plain": [
       "((2700000, 2), (300000, 2))"
      ]
     },
     "execution_count": 16,
     "metadata": {},
     "output_type": "execute_result"
    }
   ],
   "source": [
    "train, val = train_test_split(train_target, random_state=42, test_size=0.1)\n",
    "train.shape, val.shape"
   ]
  },
  {
   "cell_type": "code",
   "execution_count": 17,
   "metadata": {
    "execution": {
     "iopub.execute_input": "2025-04-03T19:50:52.012053Z",
     "iopub.status.busy": "2025-04-03T19:50:52.011732Z",
     "iopub.status.idle": "2025-04-03T19:50:52.038363Z",
     "shell.execute_reply": "2025-04-03T19:50:52.037750Z",
     "shell.execute_reply.started": "2025-04-03T19:50:52.012023Z"
    },
    "trusted": true
   },
   "outputs": [],
   "source": [
    "TRAIN_BUCKETS_PATH = \"data/train_buckets_rnn\"\n",
    "VAL_BUCKETS_PATH = \"data/val_buckets_rnn\"\n",
    "TEST_BUCKETS_PATH = \"data/test_buckets_rnn\""
   ]
  },
  {
   "cell_type": "code",
   "execution_count": 18,
   "metadata": {
    "execution": {
     "iopub.execute_input": "2025-04-03T19:50:52.039550Z",
     "iopub.status.busy": "2025-04-03T19:50:52.039267Z",
     "iopub.status.idle": "2025-04-03T19:50:52.067493Z",
     "shell.execute_reply": "2025-04-03T19:50:52.066675Z",
     "shell.execute_reply.started": "2025-04-03T19:50:52.039521Z"
    },
    "trusted": true
   },
   "outputs": [
    {
     "name": "stdout",
     "output_type": "stream",
     "text": [
      "Создаю папку data/train_buckets_rnn\n",
      "Создаю папку data/val_buckets_rnn\n",
      "Создаю папку data/test_buckets_rnn\n"
     ]
    }
   ],
   "source": [
    "import shutil\n",
    "\n",
    "for buckets_path in [TRAIN_BUCKETS_PATH, VAL_BUCKETS_PATH, TEST_BUCKETS_PATH]:\n",
    "    if os.path.exists(buckets_path):\n",
    "        print(f\"Удаляю папку {buckets_path}\")\n",
    "        shutil.rmtree(buckets_path)  # Удаляем директорию и её содержимое\n",
    "    print(f\"Создаю папку {buckets_path}\")\n",
    "    os.makedirs(buckets_path)  # Создаём директорию"
   ]
  },
  {
   "cell_type": "code",
   "execution_count": 19,
   "metadata": {
    "execution": {
     "iopub.execute_input": "2025-04-03T19:50:52.068630Z",
     "iopub.status.busy": "2025-04-03T19:50:52.068367Z",
     "iopub.status.idle": "2025-04-03T20:01:12.207023Z",
     "shell.execute_reply": "2025-04-03T20:01:12.206154Z",
     "shell.execute_reply.started": "2025-04-03T19:50:52.068610Z"
    },
    "trusted": true
   },
   "outputs": [
    {
     "data": {
      "application/vnd.jupyter.widget-view+json": {
       "model_id": "0f61bd6bb99d467a83126f30110c6e76",
       "version_major": 2,
       "version_minor": 0
      },
      "text/plain": [
       "Preparing credit data:   0%|          | 0/4 [00:00<?, ?it/s]"
      ]
     },
     "metadata": {},
     "output_type": "display_data"
    },
    {
     "name": "stdout",
     "output_type": "stream",
     "text": [
      "Reading chunks:\n",
      "/kaggle/input/credit/data/train_data/train_data_0.pq\n",
      "/kaggle/input/credit/data/train_data/train_data_1.pq\n",
      "/kaggle/input/credit/data/train_data/train_data_2.pq\n"
     ]
    },
    {
     "data": {
      "application/vnd.jupyter.widget-view+json": {
       "model_id": "f031a295eeb944119282b394a795a62c",
       "version_major": 2,
       "version_minor": 0
      },
      "text/plain": [
       "Reading dataset with pandas:   0%|          | 0/3 [00:00<?, ?it/s]"
      ]
     },
     "metadata": {},
     "output_type": "display_data"
    },
    {
     "name": "stdout",
     "output_type": "stream",
     "text": [
      "Transforming credits to sequences is done.\n"
     ]
    },
    {
     "data": {
      "application/vnd.jupyter.widget-view+json": {
       "model_id": "733a1c5759444a40a8d0bea0006d9985",
       "version_major": 2,
       "version_minor": 0
      },
      "text/plain": [
       "Extracting buckets:   0%|          | 0/43 [00:00<?, ?it/s]"
      ]
     },
     "metadata": {},
     "output_type": "display_data"
    },
    {
     "name": "stdout",
     "output_type": "stream",
     "text": [
      "Reading chunks:\n",
      "/kaggle/input/credit/data/train_data/train_data_3.pq\n",
      "/kaggle/input/credit/data/train_data/train_data_4.pq\n",
      "/kaggle/input/credit/data/train_data/train_data_5.pq\n"
     ]
    },
    {
     "data": {
      "application/vnd.jupyter.widget-view+json": {
       "model_id": "991d353cbfcb4912a1bb92b58cc3ea13",
       "version_major": 2,
       "version_minor": 0
      },
      "text/plain": [
       "Reading dataset with pandas:   0%|          | 0/3 [00:00<?, ?it/s]"
      ]
     },
     "metadata": {},
     "output_type": "display_data"
    },
    {
     "name": "stdout",
     "output_type": "stream",
     "text": [
      "Transforming credits to sequences is done.\n"
     ]
    },
    {
     "data": {
      "application/vnd.jupyter.widget-view+json": {
       "model_id": "11490e07e0b64c37b17bf4d018dad5fd",
       "version_major": 2,
       "version_minor": 0
      },
      "text/plain": [
       "Extracting buckets:   0%|          | 0/42 [00:00<?, ?it/s]"
      ]
     },
     "metadata": {},
     "output_type": "display_data"
    },
    {
     "name": "stdout",
     "output_type": "stream",
     "text": [
      "Reading chunks:\n",
      "/kaggle/input/credit/data/train_data/train_data_6.pq\n",
      "/kaggle/input/credit/data/train_data/train_data_7.pq\n",
      "/kaggle/input/credit/data/train_data/train_data_8.pq\n"
     ]
    },
    {
     "data": {
      "application/vnd.jupyter.widget-view+json": {
       "model_id": "cd53e4c2a0724cd699ca1b5bc94717bf",
       "version_major": 2,
       "version_minor": 0
      },
      "text/plain": [
       "Reading dataset with pandas:   0%|          | 0/3 [00:00<?, ?it/s]"
      ]
     },
     "metadata": {},
     "output_type": "display_data"
    },
    {
     "name": "stdout",
     "output_type": "stream",
     "text": [
      "Transforming credits to sequences is done.\n"
     ]
    },
    {
     "data": {
      "application/vnd.jupyter.widget-view+json": {
       "model_id": "e1b95ebd2ebf4e978d6e0fa33866e649",
       "version_major": 2,
       "version_minor": 0
      },
      "text/plain": [
       "Extracting buckets:   0%|          | 0/43 [00:00<?, ?it/s]"
      ]
     },
     "metadata": {},
     "output_type": "display_data"
    },
    {
     "name": "stdout",
     "output_type": "stream",
     "text": [
      "Reading chunks:\n",
      "/kaggle/input/credit/data/train_data/train_data_9.pq\n",
      "/kaggle/input/credit/data/train_data/train_data_10.pq\n",
      "/kaggle/input/credit/data/train_data/train_data_11.pq\n"
     ]
    },
    {
     "data": {
      "application/vnd.jupyter.widget-view+json": {
       "model_id": "9d7a6fbe490e499fa8a71ac5235d7290",
       "version_major": 2,
       "version_minor": 0
      },
      "text/plain": [
       "Reading dataset with pandas:   0%|          | 0/3 [00:00<?, ?it/s]"
      ]
     },
     "metadata": {},
     "output_type": "display_data"
    },
    {
     "name": "stdout",
     "output_type": "stream",
     "text": [
      "Transforming credits to sequences is done.\n"
     ]
    },
    {
     "data": {
      "application/vnd.jupyter.widget-view+json": {
       "model_id": "c1cf288f07ce4a549f076342b2efedcb",
       "version_major": 2,
       "version_minor": 0
      },
      "text/plain": [
       "Extracting buckets:   0%|          | 0/42 [00:00<?, ?it/s]"
      ]
     },
     "metadata": {},
     "output_type": "display_data"
    },
    {
     "name": "stdout",
     "output_type": "stream",
     "text": [
      "CPU times: user 9min 33s, sys: 1min 15s, total: 10min 48s\n",
      "Wall time: 10min 20s\n"
     ]
    },
    {
     "data": {
      "text/plain": [
       "['data/train_buckets_rnn/processed_chunk_000.pkl',\n",
       " 'data/train_buckets_rnn/processed_chunk_001.pkl',\n",
       " 'data/train_buckets_rnn/processed_chunk_002.pkl',\n",
       " 'data/train_buckets_rnn/processed_chunk_003.pkl']"
      ]
     },
     "execution_count": 19,
     "metadata": {},
     "output_type": "execute_result"
    }
   ],
   "source": [
    "%%time\n",
    "create_buckets_from_credits(TRAIN_DATA_PATH,\n",
    "                            bucket_info=bucket_info,\n",
    "                            save_to_path=TRAIN_BUCKETS_PATH,\n",
    "                            frame_with_ids=train,\n",
    "                            num_parts_to_preprocess_at_once=3, \n",
    "                            num_parts_total=12, has_target=True)\n",
    "\n",
    "dataset_train = sorted([os.path.join(TRAIN_BUCKETS_PATH, x) for x in os.listdir(TRAIN_BUCKETS_PATH)])\n",
    "dataset_train"
   ]
  },
  {
   "cell_type": "code",
   "execution_count": 20,
   "metadata": {
    "execution": {
     "iopub.execute_input": "2025-04-03T20:01:12.208292Z",
     "iopub.status.busy": "2025-04-03T20:01:12.207941Z",
     "iopub.status.idle": "2025-04-03T20:10:24.720462Z",
     "shell.execute_reply": "2025-04-03T20:10:24.719762Z",
     "shell.execute_reply.started": "2025-04-03T20:01:12.208260Z"
    },
    "trusted": true
   },
   "outputs": [
    {
     "data": {
      "application/vnd.jupyter.widget-view+json": {
       "model_id": "0f097795d3d94e6f80637320b5a9655d",
       "version_major": 2,
       "version_minor": 0
      },
      "text/plain": [
       "Preparing credit data:   0%|          | 0/4 [00:00<?, ?it/s]"
      ]
     },
     "metadata": {},
     "output_type": "display_data"
    },
    {
     "name": "stdout",
     "output_type": "stream",
     "text": [
      "Reading chunks:\n",
      "/kaggle/input/credit/data/train_data/train_data_0.pq\n",
      "/kaggle/input/credit/data/train_data/train_data_1.pq\n",
      "/kaggle/input/credit/data/train_data/train_data_2.pq\n"
     ]
    },
    {
     "data": {
      "application/vnd.jupyter.widget-view+json": {
       "model_id": "aa0dca2ac2b64d29930ed0119bf58ac4",
       "version_major": 2,
       "version_minor": 0
      },
      "text/plain": [
       "Reading dataset with pandas:   0%|          | 0/3 [00:00<?, ?it/s]"
      ]
     },
     "metadata": {},
     "output_type": "display_data"
    },
    {
     "name": "stdout",
     "output_type": "stream",
     "text": [
      "Transforming credits to sequences is done.\n"
     ]
    },
    {
     "data": {
      "application/vnd.jupyter.widget-view+json": {
       "model_id": "b6dc61d913a049349d26a1a0955a8e73",
       "version_major": 2,
       "version_minor": 0
      },
      "text/plain": [
       "Extracting buckets:   0%|          | 0/41 [00:00<?, ?it/s]"
      ]
     },
     "metadata": {},
     "output_type": "display_data"
    },
    {
     "name": "stdout",
     "output_type": "stream",
     "text": [
      "Reading chunks:\n",
      "/kaggle/input/credit/data/train_data/train_data_3.pq\n",
      "/kaggle/input/credit/data/train_data/train_data_4.pq\n",
      "/kaggle/input/credit/data/train_data/train_data_5.pq\n"
     ]
    },
    {
     "data": {
      "application/vnd.jupyter.widget-view+json": {
       "model_id": "4c090b8464714f54934123d5009b5501",
       "version_major": 2,
       "version_minor": 0
      },
      "text/plain": [
       "Reading dataset with pandas:   0%|          | 0/3 [00:00<?, ?it/s]"
      ]
     },
     "metadata": {},
     "output_type": "display_data"
    },
    {
     "name": "stdout",
     "output_type": "stream",
     "text": [
      "Transforming credits to sequences is done.\n"
     ]
    },
    {
     "data": {
      "application/vnd.jupyter.widget-view+json": {
       "model_id": "c0cfcb98d3594ca2aaf3b177ed938aa9",
       "version_major": 2,
       "version_minor": 0
      },
      "text/plain": [
       "Extracting buckets:   0%|          | 0/41 [00:00<?, ?it/s]"
      ]
     },
     "metadata": {},
     "output_type": "display_data"
    },
    {
     "name": "stdout",
     "output_type": "stream",
     "text": [
      "Reading chunks:\n",
      "/kaggle/input/credit/data/train_data/train_data_6.pq\n",
      "/kaggle/input/credit/data/train_data/train_data_7.pq\n",
      "/kaggle/input/credit/data/train_data/train_data_8.pq\n"
     ]
    },
    {
     "data": {
      "application/vnd.jupyter.widget-view+json": {
       "model_id": "b067070201004a919fc51ce8052ff151",
       "version_major": 2,
       "version_minor": 0
      },
      "text/plain": [
       "Reading dataset with pandas:   0%|          | 0/3 [00:00<?, ?it/s]"
      ]
     },
     "metadata": {},
     "output_type": "display_data"
    },
    {
     "name": "stdout",
     "output_type": "stream",
     "text": [
      "Transforming credits to sequences is done.\n"
     ]
    },
    {
     "data": {
      "application/vnd.jupyter.widget-view+json": {
       "model_id": "f2e13cc6175d4a16b6f1d9be84aa8e19",
       "version_major": 2,
       "version_minor": 0
      },
      "text/plain": [
       "Extracting buckets:   0%|          | 0/41 [00:00<?, ?it/s]"
      ]
     },
     "metadata": {},
     "output_type": "display_data"
    },
    {
     "name": "stdout",
     "output_type": "stream",
     "text": [
      "Reading chunks:\n",
      "/kaggle/input/credit/data/train_data/train_data_9.pq\n",
      "/kaggle/input/credit/data/train_data/train_data_10.pq\n",
      "/kaggle/input/credit/data/train_data/train_data_11.pq\n"
     ]
    },
    {
     "data": {
      "application/vnd.jupyter.widget-view+json": {
       "model_id": "c5beadb247874f86844effe49960ee76",
       "version_major": 2,
       "version_minor": 0
      },
      "text/plain": [
       "Reading dataset with pandas:   0%|          | 0/3 [00:00<?, ?it/s]"
      ]
     },
     "metadata": {},
     "output_type": "display_data"
    },
    {
     "name": "stdout",
     "output_type": "stream",
     "text": [
      "Transforming credits to sequences is done.\n"
     ]
    },
    {
     "data": {
      "application/vnd.jupyter.widget-view+json": {
       "model_id": "06be328b53304fe2846df0610cd5e400",
       "version_major": 2,
       "version_minor": 0
      },
      "text/plain": [
       "Extracting buckets:   0%|          | 0/43 [00:00<?, ?it/s]"
      ]
     },
     "metadata": {},
     "output_type": "display_data"
    },
    {
     "name": "stdout",
     "output_type": "stream",
     "text": [
      "CPU times: user 8min 58s, sys: 47.1 s, total: 9min 45s\n",
      "Wall time: 9min 12s\n"
     ]
    },
    {
     "data": {
      "text/plain": [
       "['data/val_buckets_rnn/processed_chunk_000.pkl',\n",
       " 'data/val_buckets_rnn/processed_chunk_001.pkl',\n",
       " 'data/val_buckets_rnn/processed_chunk_002.pkl',\n",
       " 'data/val_buckets_rnn/processed_chunk_003.pkl']"
      ]
     },
     "execution_count": 20,
     "metadata": {},
     "output_type": "execute_result"
    }
   ],
   "source": [
    "%%time\n",
    "create_buckets_from_credits(TRAIN_DATA_PATH,\n",
    "                            bucket_info=bucket_info,\n",
    "                            save_to_path=VAL_BUCKETS_PATH,\n",
    "                            frame_with_ids=val,\n",
    "                            num_parts_to_preprocess_at_once=3, \n",
    "                            num_parts_total=12, has_target=True)\n",
    "\n",
    "dataset_val = sorted([os.path.join(VAL_BUCKETS_PATH, x) for x in os.listdir(VAL_BUCKETS_PATH)])\n",
    "dataset_val"
   ]
  },
  {
   "cell_type": "code",
   "execution_count": 21,
   "metadata": {
    "execution": {
     "iopub.execute_input": "2025-04-03T20:10:24.721560Z",
     "iopub.status.busy": "2025-04-03T20:10:24.721252Z",
     "iopub.status.idle": "2025-04-03T20:12:07.107419Z",
     "shell.execute_reply": "2025-04-03T20:12:07.106444Z",
     "shell.execute_reply.started": "2025-04-03T20:10:24.721527Z"
    },
    "trusted": true
   },
   "outputs": [
    {
     "data": {
      "application/vnd.jupyter.widget-view+json": {
       "model_id": "84c0fa800d264c34987c77d3bdfc8fe6",
       "version_major": 2,
       "version_minor": 0
      },
      "text/plain": [
       "Preparing credit data:   0%|          | 0/1 [00:00<?, ?it/s]"
      ]
     },
     "metadata": {},
     "output_type": "display_data"
    },
    {
     "name": "stdout",
     "output_type": "stream",
     "text": [
      "Reading chunks:\n",
      "/kaggle/input/credit/data/test_data/test_data_0.pq\n",
      "/kaggle/input/credit/data/test_data/test_data_1.pq\n"
     ]
    },
    {
     "data": {
      "application/vnd.jupyter.widget-view+json": {
       "model_id": "ba572526682c4458bf585a95e6104d3d",
       "version_major": 2,
       "version_minor": 0
      },
      "text/plain": [
       "Reading dataset with pandas:   0%|          | 0/2 [00:00<?, ?it/s]"
      ]
     },
     "metadata": {},
     "output_type": "display_data"
    },
    {
     "name": "stdout",
     "output_type": "stream",
     "text": [
      "Transforming credits to sequences is done.\n"
     ]
    },
    {
     "data": {
      "application/vnd.jupyter.widget-view+json": {
       "model_id": "6fb7dabf0b4e48dca672c488bdb26a96",
       "version_major": 2,
       "version_minor": 0
      },
      "text/plain": [
       "Extracting buckets:   0%|          | 0/43 [00:00<?, ?it/s]"
      ]
     },
     "metadata": {},
     "output_type": "display_data"
    },
    {
     "name": "stdout",
     "output_type": "stream",
     "text": [
      "CPU times: user 1min 36s, sys: 12 s, total: 1min 48s\n",
      "Wall time: 1min 42s\n"
     ]
    },
    {
     "data": {
      "text/plain": [
       "['data/test_buckets_rnn/processed_chunk_000.pkl']"
      ]
     },
     "execution_count": 21,
     "metadata": {},
     "output_type": "execute_result"
    }
   ],
   "source": [
    "%%time\n",
    "create_buckets_from_credits(TEST_DATA_PATH,\n",
    "                            bucket_info=bucket_info,\n",
    "                            save_to_path=TEST_BUCKETS_PATH, num_parts_to_preprocess_at_once=2, \n",
    "                            num_parts_total=2)\n",
    "\n",
    "dataset_test = sorted([os.path.join(TEST_BUCKETS_PATH, x) for x in os.listdir(TEST_BUCKETS_PATH)])\n",
    "dataset_test"
   ]
  },
  {
   "cell_type": "markdown",
   "metadata": {},
   "source": [
    "### 2. Modeling"
   ]
  },
  {
   "cell_type": "code",
   "execution_count": 22,
   "metadata": {
    "execution": {
     "iopub.execute_input": "2025-04-03T20:12:07.108964Z",
     "iopub.status.busy": "2025-04-03T20:12:07.108592Z",
     "iopub.status.idle": "2025-04-03T20:12:07.226140Z",
     "shell.execute_reply": "2025-04-03T20:12:07.225167Z",
     "shell.execute_reply.started": "2025-04-03T20:12:07.108929Z"
    },
    "trusted": true
   },
   "outputs": [
    {
     "name": "stdout",
     "output_type": "stream",
     "text": [
      "Using device: cuda\n"
     ]
    }
   ],
   "source": [
    "device = torch.device('cpu')\n",
    "if torch.cuda.is_available():\n",
    "    device = torch.device('cuda')\n",
    "elif torch.backends.mps.is_available():\n",
    "    device = torch.device(\"mps\")\n",
    "print('Using device:', device)"
   ]
  },
  {
   "cell_type": "markdown",
   "metadata": {},
   "source": [
    "* Для создания модели будем использовать фреймворк `torch`. В нем есть все, чтобы писать произвольные сложные архитектуры и быстро экспериментировать. Для того, чтобы мониторить и логировать весь процесс во время обучения сетей, рекомендуется использовать надстройки над данным фреймворком, например, `lightning`.\n",
    "\n",
    "* В бейзлайне мы предлагаем базовые компоненты, чтобы можно было обучать нейронную сеть и отслеживать ее качество. Для этого вам предоставлены следующие функции:\n",
    "    * `data_generators.batches_generator` &ndash; функция-генератор, итеративно возвращает батчи, поддерживает батчи для `tensorflow.keras` и `torch.nn.Module` моделей. В зависимости от флага `is_train` может быть использована для генерации батчей на train/val/test стадии.\n",
    "    * функция `pytorch_training.train_epoch` &ndash; обучает модель одну эпоху.\n",
    "    * функция `pytorch_training.eval_model` &ndash; проверяет качество модели на отложенной выборке и возвращает roc_auc_score.\n",
    "    * функция `pytorch_training.inference` &ndash; делает предикты на новых данных и готовит фрейм для проверяющей системы.\n",
    "    * класс `training_aux.EarlyStopping` &ndash; реализует early_stopping, сохраняя лучшую модель. Пример использования приведен ниже."
   ]
  },
  {
   "cell_type": "code",
   "execution_count": 23,
   "metadata": {
    "execution": {
     "iopub.execute_input": "2025-04-03T20:12:07.227448Z",
     "iopub.status.busy": "2025-04-03T20:12:07.227076Z",
     "iopub.status.idle": "2025-04-03T20:12:07.274204Z",
     "shell.execute_reply": "2025-04-03T20:12:07.273302Z",
     "shell.execute_reply.started": "2025-04-03T20:12:07.227416Z"
    },
    "trusted": true
   },
   "outputs": [],
   "source": [
    "from data_generators import batches_generator\n",
    "from pytorch_training import train_epoch, eval_model, inference\n",
    "from training_aux import EarlyStopping"
   ]
  },
  {
   "cell_type": "markdown",
   "metadata": {},
   "source": [
    "* Все признаки, описывающие кредитную историю клиентов &ndash; категориальные. Для их представления в модели используем категориальные эмбеддинги. Для этого нужно каждому категориальному признаку задать размерность латентного пространства. Используем [формулу](https://forums.fast.ai/t/size-of-embedding-for-categorical-variables/42608) из библиотеки `fast.ai`."
   ]
  },
  {
   "cell_type": "code",
   "execution_count": 24,
   "metadata": {
    "execution": {
     "iopub.execute_input": "2025-04-03T20:12:07.275554Z",
     "iopub.status.busy": "2025-04-03T20:12:07.275277Z",
     "iopub.status.idle": "2025-04-03T20:12:07.318063Z",
     "shell.execute_reply": "2025-04-03T20:12:07.317061Z",
     "shell.execute_reply.started": "2025-04-03T20:12:07.275531Z"
    },
    "trusted": true
   },
   "outputs": [],
   "source": [
    "def compute_embed_dim(n_cat: int) -> int:\n",
    "    return min(600, round(1.6 * n_cat**0.56))"
   ]
  },
  {
   "cell_type": "code",
   "execution_count": 25,
   "metadata": {
    "execution": {
     "iopub.execute_input": "2025-04-03T20:12:07.319142Z",
     "iopub.status.busy": "2025-04-03T20:12:07.318899Z",
     "iopub.status.idle": "2025-04-03T20:12:07.351846Z",
     "shell.execute_reply": "2025-04-03T20:12:07.350814Z",
     "shell.execute_reply.started": "2025-04-03T20:12:07.319112Z"
    },
    "trusted": true
   },
   "outputs": [
    {
     "data": {
      "text/plain": [
       "{'pre_since_opened': (20, 9),\n",
       " 'pre_since_confirmed': (18, 8),\n",
       " 'pre_pterm': (18, 8),\n",
       " 'pre_fterm': (17, 8),\n",
       " 'pre_till_pclose': (17, 8),\n",
       " 'pre_till_fclose': (16, 8),\n",
       " 'pre_loans_credit_limit': (20, 9),\n",
       " 'pre_loans_next_pay_summ': (8, 5),\n",
       " 'pre_loans_outstanding': (6, 4),\n",
       " 'pre_loans_total_overdue': (2, 2),\n",
       " 'pre_loans_max_overdue_sum': (4, 3),\n",
       " 'pre_loans_credit_cost_rate': (14, 7),\n",
       " 'pre_loans5': (18, 8),\n",
       " 'pre_loans530': (20, 9),\n",
       " 'pre_loans3060': (10, 6),\n",
       " 'pre_loans6090': (6, 4),\n",
       " 'pre_loans90': (20, 9),\n",
       " 'is_zero_loans5': (2, 2),\n",
       " 'is_zero_loans530': (2, 2),\n",
       " 'is_zero_loans3060': (2, 2),\n",
       " 'is_zero_loans6090': (2, 2),\n",
       " 'is_zero_loans90': (2, 2),\n",
       " 'pre_util': (20, 9),\n",
       " 'pre_over2limit': (20, 9),\n",
       " 'pre_maxover2limit': (20, 9),\n",
       " 'is_zero_util': (2, 2),\n",
       " 'is_zero_over2limit': (2, 2),\n",
       " 'is_zero_maxover2limit': (2, 2),\n",
       " 'enc_paym_0': (4, 3),\n",
       " 'enc_paym_1': (4, 3),\n",
       " 'enc_paym_2': (4, 3),\n",
       " 'enc_paym_3': (4, 3),\n",
       " 'enc_paym_4': (4, 3),\n",
       " 'enc_paym_5': (4, 3),\n",
       " 'enc_paym_6': (4, 3),\n",
       " 'enc_paym_7': (4, 3),\n",
       " 'enc_paym_8': (4, 3),\n",
       " 'enc_paym_9': (4, 3),\n",
       " 'enc_paym_10': (4, 3),\n",
       " 'enc_paym_11': (5, 4),\n",
       " 'enc_paym_12': (4, 3),\n",
       " 'enc_paym_13': (4, 3),\n",
       " 'enc_paym_14': (4, 3),\n",
       " 'enc_paym_15': (4, 3),\n",
       " 'enc_paym_16': (4, 3),\n",
       " 'enc_paym_17': (4, 3),\n",
       " 'enc_paym_18': (4, 3),\n",
       " 'enc_paym_19': (4, 3),\n",
       " 'enc_paym_20': (5, 4),\n",
       " 'enc_paym_21': (4, 3),\n",
       " 'enc_paym_22': (4, 3),\n",
       " 'enc_paym_23': (4, 3),\n",
       " 'enc_paym_24': (5, 4),\n",
       " 'enc_loans_account_holder_type': (7, 5),\n",
       " 'enc_loans_credit_status': (7, 5),\n",
       " 'enc_loans_credit_type': (8, 5),\n",
       " 'enc_loans_account_cur': (4, 3),\n",
       " 'pclose_flag': (2, 2),\n",
       " 'fclose_flag': (2, 2)}"
      ]
     },
     "execution_count": 25,
     "metadata": {},
     "output_type": "execute_result"
    }
   ],
   "source": [
    "embedding_projections = {feat: (max(uniq)+1, compute_embed_dim(max(uniq)+1)) for feat, uniq in uniques.items()}\n",
    "embedding_projections"
   ]
  },
  {
   "cell_type": "markdown",
   "metadata": {},
   "source": [
    "* Реализуем модель. Все входные признаки представим в виде эмбеддингов, сконкатенируем, чтобы получить векторное представление транзакции. Подадим последовательности в `GRU` рекуррентный слой. Используем последнее скрытое состояние в качестве выхода слоя. На основе такого входа построим небольшой `MLP`, выступающий классификатором для целевой задачи. Используем градиентный спуск, чтобы решить оптимизационную задачу."
   ]
  },
  {
   "cell_type": "code",
   "execution_count": 26,
   "metadata": {
    "execution": {
     "iopub.execute_input": "2025-04-03T20:12:07.353110Z",
     "iopub.status.busy": "2025-04-03T20:12:07.352787Z",
     "iopub.status.idle": "2025-04-03T20:12:07.394062Z",
     "shell.execute_reply": "2025-04-03T20:12:07.392886Z",
     "shell.execute_reply.started": "2025-04-03T20:12:07.353071Z"
    },
    "trusted": true
   },
   "outputs": [],
   "source": [
    "class CreditsRNN(nn.Module):\n",
    "    def __init__(self, features, embedding_projections, rnn_units=128, top_classifier_units=32):\n",
    "        super(CreditsRNN, self).__init__()\n",
    "        self._credits_cat_embeddings = nn.ModuleList([self._create_embedding_projection(*embedding_projections[feature]) \n",
    "                                                          for feature in features])\n",
    "                        \n",
    "        self._gru = nn.GRU(input_size=sum([embedding_projections[x][1] for x in features]),\n",
    "                             hidden_size=rnn_units, batch_first=True, bidirectional=False)\n",
    "        self._hidden_size = rnn_units\n",
    "        self._top_classifier = nn.Linear(in_features=rnn_units, out_features=top_classifier_units)\n",
    "        self._intermediate_activation = nn.ReLU()\n",
    "        self._head = nn.Linear(in_features=top_classifier_units, out_features=1)\n",
    "    \n",
    "    def forward(self, features):\n",
    "        batch_size = features[0].shape[0]\n",
    "        embeddings = [embedding(features[i]) for i, embedding in enumerate(self._credits_cat_embeddings)]\n",
    "        concated_embeddings = torch.cat(embeddings, dim=-1)\n",
    "        \n",
    "        _, last_hidden = self._gru(concated_embeddings)\n",
    "        last_hidden = torch.reshape(last_hidden.permute(1, 2, 0), shape=(batch_size, self._hidden_size))\n",
    "                                \n",
    "        classification_hidden = self._top_classifier(last_hidden)\n",
    "        activation = self._intermediate_activation(classification_hidden)\n",
    "        raw_output = self._head(activation)\n",
    "        return raw_output\n",
    "    \n",
    "    @classmethod\n",
    "    def _create_embedding_projection(cls, cardinality, embed_size, add_missing=True, padding_idx=0):\n",
    "        add_missing = 1 if add_missing else 0\n",
    "        return nn.Embedding(num_embeddings=cardinality+add_missing, embedding_dim=embed_size, padding_idx=padding_idx)"
   ]
  },
  {
   "cell_type": "markdown",
   "metadata": {},
   "source": [
    "### 3. Training"
   ]
  },
  {
   "cell_type": "code",
   "execution_count": 27,
   "metadata": {
    "execution": {
     "iopub.execute_input": "2025-04-03T20:12:07.403071Z",
     "iopub.status.busy": "2025-04-03T20:12:07.402721Z",
     "iopub.status.idle": "2025-04-03T20:12:08.042195Z",
     "shell.execute_reply": "2025-04-03T20:12:08.040912Z",
     "shell.execute_reply.started": "2025-04-03T20:12:07.403028Z"
    },
    "trusted": true
   },
   "outputs": [],
   "source": [
    "!rm -rf ./checkpoints/\n",
    "!mkdir ./checkpoints/"
   ]
  },
  {
   "cell_type": "code",
   "execution_count": 28,
   "metadata": {
    "execution": {
     "iopub.execute_input": "2025-04-03T20:12:08.044179Z",
     "iopub.status.busy": "2025-04-03T20:12:08.043894Z",
     "iopub.status.idle": "2025-04-03T20:12:08.592146Z",
     "shell.execute_reply": "2025-04-03T20:12:08.590876Z",
     "shell.execute_reply.started": "2025-04-03T20:12:08.044153Z"
    },
    "trusted": true
   },
   "outputs": [
    {
     "name": "stdout",
     "output_type": "stream",
     "text": [
      "rm: cannot remove './checkpoints/pytorch_baseline': No such file or directory\n"
     ]
    }
   ],
   "source": [
    "!rm -r ./checkpoints/pytorch_baseline\n",
    "!mkdir ./checkpoints/pytorch_baseline"
   ]
  },
  {
   "cell_type": "markdown",
   "metadata": {},
   "source": [
    "* Для того, чтобы детектировать переобучение используем EarlyStopping."
   ]
  },
  {
   "cell_type": "code",
   "execution_count": 29,
   "metadata": {
    "execution": {
     "iopub.execute_input": "2025-04-03T20:12:08.593769Z",
     "iopub.status.busy": "2025-04-03T20:12:08.593411Z",
     "iopub.status.idle": "2025-04-03T20:12:08.627046Z",
     "shell.execute_reply": "2025-04-03T20:12:08.626345Z",
     "shell.execute_reply.started": "2025-04-03T20:12:08.593736Z"
    },
    "trusted": true
   },
   "outputs": [],
   "source": [
    "path_to_checkpoints = \"./checkpoints/pytorch_baseline/\"\n",
    "es = EarlyStopping(patience=3, mode=\"max\", verbose=True, save_path=os.path.join(path_to_checkpoints, \"best_checkpoint.pt\"), \n",
    "                   metric_name=\"ROC-AUC\", save_format=\"torch\")"
   ]
  },
  {
   "cell_type": "code",
   "execution_count": 30,
   "metadata": {
    "execution": {
     "iopub.execute_input": "2025-04-03T20:12:08.628076Z",
     "iopub.status.busy": "2025-04-03T20:12:08.627828Z",
     "iopub.status.idle": "2025-04-03T20:12:11.180039Z",
     "shell.execute_reply": "2025-04-03T20:12:11.178950Z",
     "shell.execute_reply.started": "2025-04-03T20:12:08.628055Z"
    },
    "trusted": true
   },
   "outputs": [],
   "source": [
    "num_epochs = 10\n",
    "train_batch_size = 128\n",
    "val_batch_size = 128"
   ]
  },
  {
   "cell_type": "code",
   "execution_count": 31,
   "metadata": {
    "execution": {
     "iopub.execute_input": "2025-04-03T20:12:11.181430Z",
     "iopub.status.busy": "2025-04-03T20:12:11.181121Z",
     "iopub.status.idle": "2025-04-03T20:12:13.204560Z",
     "shell.execute_reply": "2025-04-03T20:12:13.203720Z",
     "shell.execute_reply.started": "2025-04-03T20:12:11.181403Z"
    },
    "trusted": true
   },
   "outputs": [],
   "source": [
    "model = CreditsRNN(features, embedding_projections).to(device)"
   ]
  },
  {
   "cell_type": "code",
   "execution_count": 32,
   "metadata": {
    "execution": {
     "iopub.execute_input": "2025-04-03T20:12:13.205890Z",
     "iopub.status.busy": "2025-04-03T20:12:13.205575Z",
     "iopub.status.idle": "2025-04-03T20:12:13.925611Z",
     "shell.execute_reply": "2025-04-03T20:12:13.924708Z",
     "shell.execute_reply.started": "2025-04-03T20:12:13.205860Z"
    },
    "trusted": true
   },
   "outputs": [
    {
     "data": {
      "text/plain": [
       "CreditsRNN(\n",
       "  (_credits_cat_embeddings): ModuleList(\n",
       "    (0): Embedding(21, 9, padding_idx=0)\n",
       "    (1-2): 2 x Embedding(19, 8, padding_idx=0)\n",
       "    (3-4): 2 x Embedding(18, 8, padding_idx=0)\n",
       "    (5): Embedding(17, 8, padding_idx=0)\n",
       "    (6): Embedding(21, 9, padding_idx=0)\n",
       "    (7): Embedding(9, 5, padding_idx=0)\n",
       "    (8): Embedding(7, 4, padding_idx=0)\n",
       "    (9): Embedding(3, 2, padding_idx=0)\n",
       "    (10): Embedding(5, 3, padding_idx=0)\n",
       "    (11): Embedding(15, 7, padding_idx=0)\n",
       "    (12): Embedding(19, 8, padding_idx=0)\n",
       "    (13): Embedding(21, 9, padding_idx=0)\n",
       "    (14): Embedding(11, 6, padding_idx=0)\n",
       "    (15): Embedding(7, 4, padding_idx=0)\n",
       "    (16): Embedding(21, 9, padding_idx=0)\n",
       "    (17-21): 5 x Embedding(3, 2, padding_idx=0)\n",
       "    (22-24): 3 x Embedding(21, 9, padding_idx=0)\n",
       "    (25-27): 3 x Embedding(3, 2, padding_idx=0)\n",
       "    (28-38): 11 x Embedding(5, 3, padding_idx=0)\n",
       "    (39): Embedding(6, 4, padding_idx=0)\n",
       "    (40-47): 8 x Embedding(5, 3, padding_idx=0)\n",
       "    (48): Embedding(6, 4, padding_idx=0)\n",
       "    (49-51): 3 x Embedding(5, 3, padding_idx=0)\n",
       "    (52): Embedding(6, 4, padding_idx=0)\n",
       "    (53-54): 2 x Embedding(8, 5, padding_idx=0)\n",
       "    (55): Embedding(9, 5, padding_idx=0)\n",
       "    (56): Embedding(5, 3, padding_idx=0)\n",
       "    (57-58): 2 x Embedding(3, 2, padding_idx=0)\n",
       "  )\n",
       "  (_gru): GRU(258, 128, batch_first=True)\n",
       "  (_top_classifier): Linear(in_features=128, out_features=32, bias=True)\n",
       "  (_intermediate_activation): ReLU()\n",
       "  (_head): Linear(in_features=32, out_features=1, bias=True)\n",
       ")"
      ]
     },
     "execution_count": 32,
     "metadata": {},
     "output_type": "execute_result"
    }
   ],
   "source": [
    "model"
   ]
  },
  {
   "cell_type": "code",
   "execution_count": 33,
   "metadata": {
    "execution": {
     "iopub.execute_input": "2025-04-03T20:12:13.927095Z",
     "iopub.status.busy": "2025-04-03T20:12:13.926614Z",
     "iopub.status.idle": "2025-04-03T20:12:20.538750Z",
     "shell.execute_reply": "2025-04-03T20:12:20.538095Z",
     "shell.execute_reply.started": "2025-04-03T20:12:13.927058Z"
    },
    "trusted": true
   },
   "outputs": [],
   "source": [
    "optimizer = torch.optim.Adam(lr=1e-3, params=model.parameters())"
   ]
  },
  {
   "cell_type": "markdown",
   "metadata": {},
   "source": [
    "* Запустим цикл обучения, каждую эпоху будем логировать лосс, а так же ROC-AUC на валидации и на обучении. Будем сохрнаять веса после каждой эпохи, а так же лучшие с помощью early_stopping."
   ]
  },
  {
   "cell_type": "code",
   "execution_count": 34,
   "metadata": {
    "execution": {
     "iopub.execute_input": "2025-04-03T20:12:20.540098Z",
     "iopub.status.busy": "2025-04-03T20:12:20.539512Z",
     "iopub.status.idle": "2025-04-03T20:48:53.019590Z",
     "shell.execute_reply": "2025-04-03T20:48:53.016605Z",
     "shell.execute_reply.started": "2025-04-03T20:12:20.540073Z"
    },
    "trusted": true
   },
   "outputs": [
    {
     "name": "stdout",
     "output_type": "stream",
     "text": [
      "Starting epoch 1\n"
     ]
    },
    {
     "data": {
      "application/vnd.jupyter.widget-view+json": {
       "model_id": "7a824383778044cfad81aa8da3f90916",
       "version_major": 2,
       "version_minor": 0
      },
      "text/plain": [
       "Training: 0it [00:00, ?it/s]"
      ]
     },
     "metadata": {},
     "output_type": "display_data"
    },
    {
     "name": "stdout",
     "output_type": "stream",
     "text": [
      "Training loss after epoch: 0.13736474514007568\r"
     ]
    },
    {
     "data": {
      "application/vnd.jupyter.widget-view+json": {
       "model_id": "3ad5990b966747c98cf24adf4e8a52aa",
       "version_major": 2,
       "version_minor": 0
      },
      "text/plain": [
       "Evaluating model: 0it [00:00, ?it/s]"
      ]
     },
     "metadata": {},
     "output_type": "display_data"
    },
    {
     "name": "stdout",
     "output_type": "stream",
     "text": [
      "Validation ROC-AUC improved (-inf --> 0.766948).  Saving model...\n"
     ]
    },
    {
     "data": {
      "application/vnd.jupyter.widget-view+json": {
       "model_id": "b80f628155dd4696a0d767ba683550e6",
       "version_major": 2,
       "version_minor": 0
      },
      "text/plain": [
       "Evaluating model: 0it [00:00, ?it/s]"
      ]
     },
     "metadata": {},
     "output_type": "display_data"
    },
    {
     "name": "stdout",
     "output_type": "stream",
     "text": [
      "Epoch 1 completed. Train ROC AUC: 0.7709371252518774, val ROC AUC: 0.7669481787655641\n",
      "Starting epoch 2\n"
     ]
    },
    {
     "data": {
      "application/vnd.jupyter.widget-view+json": {
       "model_id": "c635693ffa2742f2a36389e45e33d49f",
       "version_major": 2,
       "version_minor": 0
      },
      "text/plain": [
       "Training: 0it [00:00, ?it/s]"
      ]
     },
     "metadata": {},
     "output_type": "display_data"
    },
    {
     "name": "stdout",
     "output_type": "stream",
     "text": [
      "Training loss after epoch: 0.13500343263149261\r"
     ]
    },
    {
     "data": {
      "application/vnd.jupyter.widget-view+json": {
       "model_id": "2b83a9237c62486486cfe359d31935d5",
       "version_major": 2,
       "version_minor": 0
      },
      "text/plain": [
       "Evaluating model: 0it [00:00, ?it/s]"
      ]
     },
     "metadata": {},
     "output_type": "display_data"
    },
    {
     "name": "stdout",
     "output_type": "stream",
     "text": [
      "Validation ROC-AUC improved (0.766948 --> 0.770565).  Saving model...\n"
     ]
    },
    {
     "data": {
      "application/vnd.jupyter.widget-view+json": {
       "model_id": "5b34d7e70a534546846edad9dbf1b381",
       "version_major": 2,
       "version_minor": 0
      },
      "text/plain": [
       "Evaluating model: 0it [00:00, ?it/s]"
      ]
     },
     "metadata": {},
     "output_type": "display_data"
    },
    {
     "name": "stdout",
     "output_type": "stream",
     "text": [
      "Epoch 2 completed. Train ROC AUC: 0.7774087516161643, val ROC AUC: 0.770565235081235\n",
      "Starting epoch 3\n"
     ]
    },
    {
     "data": {
      "application/vnd.jupyter.widget-view+json": {
       "model_id": "a616fe47ba614fc5a25208c3eec3f835",
       "version_major": 2,
       "version_minor": 0
      },
      "text/plain": [
       "Training: 0it [00:00, ?it/s]"
      ]
     },
     "metadata": {},
     "output_type": "display_data"
    },
    {
     "name": "stdout",
     "output_type": "stream",
     "text": [
      "Training loss after epoch: 0.13418604433536531\r"
     ]
    },
    {
     "data": {
      "application/vnd.jupyter.widget-view+json": {
       "model_id": "3080b80dd3934b17b0c1fd86c8738dfc",
       "version_major": 2,
       "version_minor": 0
      },
      "text/plain": [
       "Evaluating model: 0it [00:00, ?it/s]"
      ]
     },
     "metadata": {},
     "output_type": "display_data"
    },
    {
     "name": "stdout",
     "output_type": "stream",
     "text": [
      "Validation ROC-AUC improved (0.770565 --> 0.775713).  Saving model...\n"
     ]
    },
    {
     "data": {
      "application/vnd.jupyter.widget-view+json": {
       "model_id": "bde75205e7ed4e4491177730834db9da",
       "version_major": 2,
       "version_minor": 0
      },
      "text/plain": [
       "Evaluating model: 0it [00:00, ?it/s]"
      ]
     },
     "metadata": {},
     "output_type": "display_data"
    },
    {
     "name": "stdout",
     "output_type": "stream",
     "text": [
      "Epoch 3 completed. Train ROC AUC: 0.7848227503372085, val ROC AUC: 0.7757125175096327\n",
      "Starting epoch 4\n"
     ]
    },
    {
     "data": {
      "application/vnd.jupyter.widget-view+json": {
       "model_id": "da02493f6c80413c8fe9e7acb8abf4d3",
       "version_major": 2,
       "version_minor": 0
      },
      "text/plain": [
       "Training: 0it [00:00, ?it/s]"
      ]
     },
     "metadata": {},
     "output_type": "display_data"
    },
    {
     "name": "stdout",
     "output_type": "stream",
     "text": [
      "Training loss after epoch: 0.13344326615333557\r"
     ]
    },
    {
     "data": {
      "application/vnd.jupyter.widget-view+json": {
       "model_id": "6a50b7bd21b6418da50fe47ce5c7fe4a",
       "version_major": 2,
       "version_minor": 0
      },
      "text/plain": [
       "Evaluating model: 0it [00:00, ?it/s]"
      ]
     },
     "metadata": {},
     "output_type": "display_data"
    },
    {
     "name": "stdout",
     "output_type": "stream",
     "text": [
      "No imporvement in validation ROC-AUC. Current: 0.773987. Current best: 0.775713\n",
      "EarlyStopping counter: 1 out of 3\n"
     ]
    },
    {
     "data": {
      "application/vnd.jupyter.widget-view+json": {
       "model_id": "c892aa75b2084aa4a9269318923c9836",
       "version_major": 2,
       "version_minor": 0
      },
      "text/plain": [
       "Evaluating model: 0it [00:00, ?it/s]"
      ]
     },
     "metadata": {},
     "output_type": "display_data"
    },
    {
     "name": "stdout",
     "output_type": "stream",
     "text": [
      "Epoch 4 completed. Train ROC AUC: 0.7854884239714175, val ROC AUC: 0.7739865196749898\n",
      "Starting epoch 5\n"
     ]
    },
    {
     "data": {
      "application/vnd.jupyter.widget-view+json": {
       "model_id": "e5823a1b77754b249382386ccda41a61",
       "version_major": 2,
       "version_minor": 0
      },
      "text/plain": [
       "Training: 0it [00:00, ?it/s]"
      ]
     },
     "metadata": {},
     "output_type": "display_data"
    },
    {
     "name": "stdout",
     "output_type": "stream",
     "text": [
      "Training loss after epoch: 0.13295705616474152\r"
     ]
    },
    {
     "data": {
      "application/vnd.jupyter.widget-view+json": {
       "model_id": "8a59636cfcd0427aa20359725d00302e",
       "version_major": 2,
       "version_minor": 0
      },
      "text/plain": [
       "Evaluating model: 0it [00:00, ?it/s]"
      ]
     },
     "metadata": {},
     "output_type": "display_data"
    },
    {
     "name": "stdout",
     "output_type": "stream",
     "text": [
      "No imporvement in validation ROC-AUC. Current: 0.774464. Current best: 0.775713\n",
      "EarlyStopping counter: 2 out of 3\n"
     ]
    },
    {
     "data": {
      "application/vnd.jupyter.widget-view+json": {
       "model_id": "f242a8bb086a40b58bd1627faceea9aa",
       "version_major": 2,
       "version_minor": 0
      },
      "text/plain": [
       "Evaluating model: 0it [00:00, ?it/s]"
      ]
     },
     "metadata": {},
     "output_type": "display_data"
    },
    {
     "name": "stdout",
     "output_type": "stream",
     "text": [
      "Epoch 5 completed. Train ROC AUC: 0.7897834119298097, val ROC AUC: 0.7744639497823901\n",
      "Starting epoch 6\n"
     ]
    },
    {
     "data": {
      "application/vnd.jupyter.widget-view+json": {
       "model_id": "f4e91de9457f4f7198de4b913f939d04",
       "version_major": 2,
       "version_minor": 0
      },
      "text/plain": [
       "Training: 0it [00:00, ?it/s]"
      ]
     },
     "metadata": {},
     "output_type": "display_data"
    },
    {
     "name": "stdout",
     "output_type": "stream",
     "text": [
      "Training loss after epoch: 0.13245712220668793\r"
     ]
    },
    {
     "data": {
      "application/vnd.jupyter.widget-view+json": {
       "model_id": "0492542180a44c6483f8417a1b4dcd2f",
       "version_major": 2,
       "version_minor": 0
      },
      "text/plain": [
       "Evaluating model: 0it [00:00, ?it/s]"
      ]
     },
     "metadata": {},
     "output_type": "display_data"
    },
    {
     "name": "stdout",
     "output_type": "stream",
     "text": [
      "No imporvement in validation ROC-AUC. Current: 0.772925. Current best: 0.775713\n",
      "EarlyStopping counter: 3 out of 3\n",
      "Early stopping reached. Stop training...\n",
      "CPU times: user 32min 22s, sys: 1min 57s, total: 34min 19s\n",
      "Wall time: 36min 32s\n"
     ]
    }
   ],
   "source": [
    "%%time\n",
    "for epoch in range(num_epochs):\n",
    "    print(f\"Starting epoch {epoch+1}\")\n",
    "    train_epoch(model, optimizer, dataset_train, batch_size=train_batch_size, \n",
    "                shuffle=True, print_loss_every_n_batches=500, device=device)\n",
    "    \n",
    "    val_roc_auc = eval_model(model, dataset_val, batch_size=val_batch_size, device=device)\n",
    "    es(val_roc_auc, model)\n",
    "    \n",
    "    if es.early_stop:\n",
    "        print(\"Early stopping reached. Stop training...\")\n",
    "        break\n",
    "    torch.save(model.state_dict(), os.path.join(path_to_checkpoints, f\"epoch_{epoch+1}_val_{val_roc_auc:.3f}.pt\"))\n",
    "    \n",
    "    train_roc_auc = eval_model(model, dataset_train, batch_size=val_batch_size, device=device)\n",
    "    print(f\"Epoch {epoch+1} completed. Train ROC AUC: {train_roc_auc}, val ROC AUC: {val_roc_auc}\")"
   ]
  },
  {
   "cell_type": "markdown",
   "metadata": {},
   "source": [
    "### 4. Submission"
   ]
  },
  {
   "cell_type": "markdown",
   "metadata": {},
   "source": [
    "* Подготовим посылку в проверяющую систему"
   ]
  },
  {
   "cell_type": "code",
   "execution_count": 35,
   "metadata": {
    "execution": {
     "iopub.execute_input": "2025-04-03T20:48:53.023839Z",
     "iopub.status.busy": "2025-04-03T20:48:53.023616Z",
     "iopub.status.idle": "2025-04-03T20:48:53.177365Z",
     "shell.execute_reply": "2025-04-03T20:48:53.176487Z",
     "shell.execute_reply.started": "2025-04-03T20:48:53.023820Z"
    },
    "trusted": true
   },
   "outputs": [
    {
     "name": "stderr",
     "output_type": "stream",
     "text": [
      "<ipython-input-35-101b553bcff6>:1: FutureWarning: You are using `torch.load` with `weights_only=False` (the current default value), which uses the default pickle module implicitly. It is possible to construct malicious pickle data which will execute arbitrary code during unpickling (See https://github.com/pytorch/pytorch/blob/main/SECURITY.md#untrusted-models for more details). In a future release, the default value for `weights_only` will be flipped to `True`. This limits the functions that could be executed during unpickling. Arbitrary objects will no longer be allowed to be loaded via this mode unless they are explicitly allowlisted by the user via `torch.serialization.add_safe_globals`. We recommend you start setting `weights_only=True` for any use case where you don't have full control of the loaded file. Please open an issue on GitHub for any issues related to this experimental feature.\n",
      "  model.load_state_dict(torch.load(os.path.join(path_to_checkpoints, \"best_checkpoint.pt\")))\n"
     ]
    },
    {
     "data": {
      "text/plain": [
       "<All keys matched successfully>"
      ]
     },
     "execution_count": 35,
     "metadata": {},
     "output_type": "execute_result"
    }
   ],
   "source": [
    "model.load_state_dict(torch.load(os.path.join(path_to_checkpoints, \"best_checkpoint.pt\")))"
   ]
  },
  {
   "cell_type": "code",
   "execution_count": 40,
   "metadata": {
    "execution": {
     "iopub.execute_input": "2025-04-03T20:51:44.087032Z",
     "iopub.status.busy": "2025-04-03T20:51:44.086674Z",
     "iopub.status.idle": "2025-04-03T20:52:11.016640Z",
     "shell.execute_reply": "2025-04-03T20:52:11.015924Z",
     "shell.execute_reply.started": "2025-04-03T20:51:44.086986Z"
    },
    "trusted": true
   },
   "outputs": [
    {
     "data": {
      "application/vnd.jupyter.widget-view+json": {
       "model_id": "99d02d63e08a41b5b56bb400a0fe112b",
       "version_major": 2,
       "version_minor": 0
      },
      "text/plain": [
       "Test predictions: 0it [00:00, ?it/s]"
      ]
     },
     "metadata": {},
     "output_type": "display_data"
    }
   ],
   "source": [
    "test_preds = inference(model, dataset_test, batch_size=128, device=device)"
   ]
  },
  {
   "cell_type": "code",
   "execution_count": 41,
   "metadata": {
    "execution": {
     "iopub.execute_input": "2025-04-03T20:53:47.689933Z",
     "iopub.status.busy": "2025-04-03T20:53:47.689598Z",
     "iopub.status.idle": "2025-04-03T20:53:47.752024Z",
     "shell.execute_reply": "2025-04-03T20:53:47.751056Z",
     "shell.execute_reply.started": "2025-04-03T20:53:47.689910Z"
    },
    "trusted": true
   },
   "outputs": [
    {
     "data": {
      "text/html": [
       "<div>\n",
       "<style scoped>\n",
       "    .dataframe tbody tr th:only-of-type {\n",
       "        vertical-align: middle;\n",
       "    }\n",
       "\n",
       "    .dataframe tbody tr th {\n",
       "        vertical-align: top;\n",
       "    }\n",
       "\n",
       "    .dataframe thead th {\n",
       "        text-align: right;\n",
       "    }\n",
       "</style>\n",
       "<table border=\"1\" class=\"dataframe\">\n",
       "  <thead>\n",
       "    <tr style=\"text-align: right;\">\n",
       "      <th></th>\n",
       "      <th>id</th>\n",
       "      <th>score</th>\n",
       "    </tr>\n",
       "  </thead>\n",
       "  <tbody>\n",
       "    <tr>\n",
       "      <th>0</th>\n",
       "      <td>3000014</td>\n",
       "      <td>-3.203671</td>\n",
       "    </tr>\n",
       "    <tr>\n",
       "      <th>1</th>\n",
       "      <td>3000020</td>\n",
       "      <td>-1.652696</td>\n",
       "    </tr>\n",
       "    <tr>\n",
       "      <th>2</th>\n",
       "      <td>3000027</td>\n",
       "      <td>-2.893171</td>\n",
       "    </tr>\n",
       "    <tr>\n",
       "      <th>3</th>\n",
       "      <td>3000043</td>\n",
       "      <td>-2.156915</td>\n",
       "    </tr>\n",
       "    <tr>\n",
       "      <th>4</th>\n",
       "      <td>3000049</td>\n",
       "      <td>-3.745310</td>\n",
       "    </tr>\n",
       "  </tbody>\n",
       "</table>\n",
       "</div>"
      ],
      "text/plain": [
       "        id     score\n",
       "0  3000014 -3.203671\n",
       "1  3000020 -1.652696\n",
       "2  3000027 -2.893171\n",
       "3  3000043 -2.156915\n",
       "4  3000049 -3.745310"
      ]
     },
     "execution_count": 41,
     "metadata": {},
     "output_type": "execute_result"
    }
   ],
   "source": [
    "test_preds.head()"
   ]
  },
  {
   "cell_type": "code",
   "execution_count": 42,
   "metadata": {
    "execution": {
     "iopub.execute_input": "2025-04-03T20:53:48.714741Z",
     "iopub.status.busy": "2025-04-03T20:53:48.714428Z",
     "iopub.status.idle": "2025-04-03T20:53:48.752435Z",
     "shell.execute_reply": "2025-04-03T20:53:48.751614Z",
     "shell.execute_reply.started": "2025-04-03T20:53:48.714716Z"
    },
    "trusted": true
   },
   "outputs": [
    {
     "data": {
      "text/plain": [
       "(500000, 2)"
      ]
     },
     "execution_count": 42,
     "metadata": {},
     "output_type": "execute_result"
    }
   ],
   "source": [
    "test_preds.shape"
   ]
  },
  {
   "cell_type": "markdown",
   "metadata": {},
   "source": [
    "# лучший roc-auc на валидации 0.775"
   ]
  }
 ],
 "metadata": {
  "kaggle": {
   "accelerator": "gpu",
   "dataSources": [
    {
     "datasetId": 7043178,
     "sourceId": 11267456,
     "sourceType": "datasetVersion"
    }
   ],
   "dockerImageVersionId": 30919,
   "isGpuEnabled": true,
   "isInternetEnabled": true,
   "language": "python",
   "sourceType": "notebook"
  },
  "kernelspec": {
   "display_name": "Python 3",
   "language": "python",
   "name": "python3"
  },
  "language_info": {
   "codemirror_mode": {
    "name": "ipython",
    "version": 3
   },
   "file_extension": ".py",
   "mimetype": "text/x-python",
   "name": "python",
   "nbconvert_exporter": "python",
   "pygments_lexer": "ipython3",
   "version": "3.10.12"
  }
 },
 "nbformat": 4,
 "nbformat_minor": 4
}
