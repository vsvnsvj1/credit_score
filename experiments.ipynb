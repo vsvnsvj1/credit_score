{
 "cells": [
  {
   "cell_type": "markdown",
   "metadata": {},
   "source": [
    "### 0. Imports and requirements"
   ]
  },
  {
   "cell_type": "code",
   "execution_count": 19,
   "metadata": {
    "execution": {
     "iopub.execute_input": "2025-04-16T17:11:51.315092Z",
     "iopub.status.busy": "2025-04-16T17:11:51.314776Z",
     "iopub.status.idle": "2025-04-16T17:11:51.348435Z",
     "shell.execute_reply": "2025-04-16T17:11:51.347598Z",
     "shell.execute_reply.started": "2025-04-16T17:11:51.315069Z"
    },
    "trusted": true
   },
   "outputs": [
    {
     "name": "stdout",
     "output_type": "stream",
     "text": [
      "The autoreload extension is already loaded. To reload it, use:\n",
      "  %reload_ext autoreload\n"
     ]
    }
   ],
   "source": [
    "%load_ext autoreload\n",
    "%autoreload 2\n",
    "\n",
    "import os\n",
    "import pandas as pd\n",
    "import sys\n",
    "import pickle\n",
    "import numpy as np\n",
    "import torch\n",
    "import torchvision\n",
    "import torch.nn as nn\n",
    "import os\n",
    "import torch\n",
    "from tqdm import trange\n",
    "\n",
    "\n",
    "from sklearn.model_selection import train_test_split\n",
    "import tqdm \n",
    "\n",
    "\n",
    "pd.set_option(\"display.max_columns\", None)\n",
    "sys.path.append('/credit') # замени на свою\n",
    "sys.path.append('../')\n",
    "\n"
   ]
  },
  {
   "cell_type": "code",
   "execution_count": 20,
   "metadata": {
    "execution": {
     "iopub.execute_input": "2025-04-16T17:11:51.349723Z",
     "iopub.status.busy": "2025-04-16T17:11:51.349493Z",
     "iopub.status.idle": "2025-04-16T17:11:51.377852Z",
     "shell.execute_reply": "2025-04-16T17:11:51.376911Z",
     "shell.execute_reply.started": "2025-04-16T17:11:51.349703Z"
    },
    "trusted": true
   },
   "outputs": [],
   "source": [
    "import matplotlib.pyplot as plt\n",
    "plt.style.use(\"seaborn-v0_8-whitegrid\")"
   ]
  },
  {
   "cell_type": "markdown",
   "metadata": {},
   "source": [
    "### 1. Data Preprocessing"
   ]
  },
  {
   "cell_type": "code",
   "execution_count": 21,
   "metadata": {
    "execution": {
     "iopub.execute_input": "2025-04-16T17:11:51.396787Z",
     "iopub.status.busy": "2025-04-16T17:11:51.396561Z",
     "iopub.status.idle": "2025-04-16T17:11:51.423611Z",
     "shell.execute_reply": "2025-04-16T17:11:51.422936Z",
     "shell.execute_reply.started": "2025-04-16T17:11:51.396769Z"
    },
    "trusted": true
   },
   "outputs": [
    {
     "name": "stdout",
     "output_type": "stream",
     "text": [
      "['Dict', '__builtins__', '__cached__', '__doc__', '__file__', '__loader__', '__name__', '__package__', '__spec__', 'create_padded_buckets', 'features', 'np', 'pad_sequence', 'pd', 'pickle', 'tqdm', 'transform_credits_to_sequences', 'truncate']\n"
     ]
    }
   ],
   "source": [
    "import credit.dataset_preprocessing_utils\n",
    "print(dir(credit.dataset_preprocessing_utils))"
   ]
  },
  {
   "cell_type": "code",
   "execution_count": 22,
   "metadata": {
    "execution": {
     "iopub.execute_input": "2025-04-16T17:11:51.424918Z",
     "iopub.status.busy": "2025-04-16T17:11:51.424696Z",
     "iopub.status.idle": "2025-04-16T17:11:51.453298Z",
     "shell.execute_reply": "2025-04-16T17:11:51.452461Z",
     "shell.execute_reply.started": "2025-04-16T17:11:51.424899Z"
    },
    "trusted": true
   },
   "outputs": [],
   "source": [
    "# тут тоже поставь свое \n",
    "TRAIN_DATA_PATH = \"credit/data/train_data/\" \n",
    "TEST_DATA_PATH = \"credit/data/test_data/\"\n",
    "\n",
    "TRAIN_TARGET_PATH = \"credit/data/train_target.csv\""
   ]
  },
  {
   "cell_type": "code",
   "execution_count": 23,
   "metadata": {
    "execution": {
     "iopub.execute_input": "2025-04-16T17:11:51.454867Z",
     "iopub.status.busy": "2025-04-16T17:11:51.454558Z",
     "iopub.status.idle": "2025-04-16T17:11:51.979528Z",
     "shell.execute_reply": "2025-04-16T17:11:51.978432Z",
     "shell.execute_reply.started": "2025-04-16T17:11:51.454832Z"
    },
    "trusted": true
   },
   "outputs": [],
   "source": [
    "train_target = pd.read_csv(TRAIN_TARGET_PATH)"
   ]
  },
  {
   "cell_type": "code",
   "execution_count": 24,
   "metadata": {
    "execution": {
     "iopub.execute_input": "2025-04-16T17:11:51.980858Z",
     "iopub.status.busy": "2025-04-16T17:11:51.980550Z",
     "iopub.status.idle": "2025-04-16T17:11:52.007701Z",
     "shell.execute_reply": "2025-04-16T17:11:52.006904Z",
     "shell.execute_reply.started": "2025-04-16T17:11:51.980832Z"
    },
    "trusted": true
   },
   "outputs": [],
   "source": [
    "from credit.utils import read_parquet_dataset_from_local\n",
    "from credit.dataset_preprocessing_utils import features, transform_credits_to_sequences, create_padded_buckets"
   ]
  },
  {
   "cell_type": "markdown",
   "metadata": {},
   "source": [
    "* В дальнейшем при построении рекуррентной нейронной сети нам понадобятся следующие статистики по тренировочной и тестовой выборкам: распределение длин кредитных историй и число уникальных значений каждого категориального значения. Посчитаем эти статистики:"
   ]
  },
  {
   "cell_type": "code",
   "execution_count": 25,
   "metadata": {
    "execution": {
     "iopub.execute_input": "2025-04-16T17:11:52.009524Z",
     "iopub.status.busy": "2025-04-16T17:11:52.009295Z",
     "iopub.status.idle": "2025-04-16T17:12:38.874584Z",
     "shell.execute_reply": "2025-04-16T17:12:38.873630Z",
     "shell.execute_reply.started": "2025-04-16T17:11:52.009503Z"
    },
    "trusted": true
   },
   "outputs": [
    {
     "data": {
      "application/vnd.jupyter.widget-view+json": {
       "model_id": "f3a5391e6ea4442aad67346fb3b431be",
       "version_major": 2,
       "version_minor": 0
      },
      "text/plain": [
       "Count statistics on train data:   0%|          | 0/3 [00:00<?, ?it/s]"
      ]
     },
     "metadata": {},
     "output_type": "display_data"
    },
    {
     "name": "stdout",
     "output_type": "stream",
     "text": [
      "Reading chunks:\n",
      "credit/data/train_data/train_data_0.pq\n",
      "credit/data/train_data/train_data_1.pq\n",
      "credit/data/train_data/train_data_2.pq\n",
      "credit/data/train_data/train_data_3.pq\n"
     ]
    },
    {
     "data": {
      "application/vnd.jupyter.widget-view+json": {
       "model_id": "b7f21e2dc99244c69f183a14f68acd99",
       "version_major": 2,
       "version_minor": 0
      },
      "text/plain": [
       "Reading dataset with pandas:   0%|          | 0/4 [00:00<?, ?it/s]"
      ]
     },
     "metadata": {},
     "output_type": "display_data"
    },
    {
     "name": "stdout",
     "output_type": "stream",
     "text": [
      "Reading chunks:\n",
      "credit/data/train_data/train_data_4.pq\n",
      "credit/data/train_data/train_data_5.pq\n",
      "credit/data/train_data/train_data_6.pq\n",
      "credit/data/train_data/train_data_7.pq\n"
     ]
    },
    {
     "data": {
      "application/vnd.jupyter.widget-view+json": {
       "model_id": "2808aa0815aa48a5a9ecddbea7161bb7",
       "version_major": 2,
       "version_minor": 0
      },
      "text/plain": [
       "Reading dataset with pandas:   0%|          | 0/4 [00:00<?, ?it/s]"
      ]
     },
     "metadata": {},
     "output_type": "display_data"
    },
    {
     "name": "stdout",
     "output_type": "stream",
     "text": [
      "Reading chunks:\n",
      "credit/data/train_data/train_data_8.pq\n",
      "credit/data/train_data/train_data_9.pq\n",
      "credit/data/train_data/train_data_10.pq\n",
      "credit/data/train_data/train_data_11.pq\n"
     ]
    },
    {
     "data": {
      "application/vnd.jupyter.widget-view+json": {
       "model_id": "550aa2dfe24646e08cb9cde01593e455",
       "version_major": 2,
       "version_minor": 0
      },
      "text/plain": [
       "Reading dataset with pandas:   0%|          | 0/4 [00:00<?, ?it/s]"
      ]
     },
     "metadata": {},
     "output_type": "display_data"
    },
    {
     "data": {
      "application/vnd.jupyter.widget-view+json": {
       "model_id": "d6119b6ce2b74e10a899bcc8b64f857d",
       "version_major": 2,
       "version_minor": 0
      },
      "text/plain": [
       "Count statistics on test data:   0%|          | 0/1 [00:00<?, ?it/s]"
      ]
     },
     "metadata": {},
     "output_type": "display_data"
    },
    {
     "name": "stdout",
     "output_type": "stream",
     "text": [
      "Reading chunks:\n",
      "credit/data/test_data/test_data_0.pq\n",
      "credit/data/test_data/test_data_1.pq\n"
     ]
    },
    {
     "data": {
      "application/vnd.jupyter.widget-view+json": {
       "model_id": "d75bdcb82eed4157b020f54d580b3d3d",
       "version_major": 2,
       "version_minor": 0
      },
      "text/plain": [
       "Reading dataset with pandas:   0%|          | 0/2 [00:00<?, ?it/s]"
      ]
     },
     "metadata": {},
     "output_type": "display_data"
    },
    {
     "name": "stdout",
     "output_type": "stream",
     "text": [
      "CPU times: total: 1min 57s\n",
      "Wall time: 28.4 s\n"
     ]
    }
   ],
   "source": [
    "%%time\n",
    "from collections import defaultdict\n",
    "\n",
    "\n",
    "train_lens = []\n",
    "test_lens = []\n",
    "uniques = defaultdict(set)\n",
    "\n",
    "for step in tqdm.notebook.tqdm(range(0, 12, 4),\n",
    "                     desc=\"Count statistics on train data\"):\n",
    "        credits_frame = read_parquet_dataset_from_local(TRAIN_DATA_PATH, step, 4, verbose=True)\n",
    "        seq_lens = credits_frame.groupby(\"id\").agg(seq_len=(\"rn\", \"max\"))[\"seq_len\"].values\n",
    "        train_lens.extend(seq_lens)\n",
    "        credits_frame.drop(columns=[\"id\", \"rn\"], inplace=True)\n",
    "        for feat in credits_frame.columns.values:\n",
    "            uniques[feat] = uniques[feat].union(credits_frame[feat].unique())\n",
    "train_lens = np.hstack(train_lens)\n",
    "\n",
    "for step in tqdm.notebook.tqdm(range(0, 2, 2),\n",
    "                     desc=\"Count statistics on test data\"):\n",
    "        credits_frame = read_parquet_dataset_from_local(TEST_DATA_PATH, step, 2, verbose=True)\n",
    "        seq_lens = credits_frame.groupby(\"id\").agg(seq_len=(\"rn\", \"max\"))[\"seq_len\"].values\n",
    "        test_lens.extend(seq_lens)\n",
    "        credits_frame.drop(columns=[\"id\", \"rn\"], inplace=True)\n",
    "        for feat in credits_frame.columns.values:\n",
    "            uniques[feat] = uniques[feat].union(credits_frame[feat].unique())\n",
    "test_lens = np.hstack(test_lens)\n",
    "uniques = dict(uniques)"
   ]
  },
  {
   "cell_type": "markdown",
   "metadata": {},
   "source": [
    "* Чтобы сразу убедиться, что посчитанные статистики интересные и полезные, построим графики распределений длин кредитных историй в тренировочной и тестовой выборках"
   ]
  },
  {
   "cell_type": "code",
   "execution_count": 26,
   "metadata": {
    "execution": {
     "iopub.execute_input": "2025-04-16T17:12:38.876239Z",
     "iopub.status.busy": "2025-04-16T17:12:38.875920Z",
     "iopub.status.idle": "2025-04-16T17:12:38.906434Z",
     "shell.execute_reply": "2025-04-16T17:12:38.905626Z",
     "shell.execute_reply.started": "2025-04-16T17:12:38.876185Z"
    },
    "trusted": true
   },
   "outputs": [
    {
     "name": "stdout",
     "output_type": "stream",
     "text": [
      "['Dict', '__builtins__', '__cached__', '__doc__', '__file__', '__loader__', '__name__', '__package__', '__spec__', 'create_padded_buckets', 'features', 'np', 'pad_sequence', 'pd', 'pickle', 'tqdm', 'transform_credits_to_sequences', 'truncate']\n"
     ]
    }
   ],
   "source": [
    "import credit.dataset_preprocessing_utils\n",
    "print(dir(credit.dataset_preprocessing_utils))"
   ]
  },
  {
   "cell_type": "code",
   "execution_count": 27,
   "metadata": {
    "execution": {
     "iopub.execute_input": "2025-04-16T17:12:38.907580Z",
     "iopub.status.busy": "2025-04-16T17:12:38.907299Z",
     "iopub.status.idle": "2025-04-16T17:12:39.383003Z",
     "shell.execute_reply": "2025-04-16T17:12:39.382265Z",
     "shell.execute_reply.started": "2025-04-16T17:12:38.907549Z"
    },
    "trusted": true
   },
   "outputs": [],
   "source": [
    "from collections import Counter\n",
    "\n",
    "\n",
    "train_len_counter = pd.Series(Counter(train_lens)).sort_index()\n",
    "test_len_counter = pd.Series(Counter(test_lens)).sort_index()"
   ]
  },
  {
   "cell_type": "code",
   "execution_count": 28,
   "metadata": {
    "execution": {
     "iopub.execute_input": "2025-04-16T17:12:39.384061Z",
     "iopub.status.busy": "2025-04-16T17:12:39.383796Z",
     "iopub.status.idle": "2025-04-16T17:12:39.634931Z",
     "shell.execute_reply": "2025-04-16T17:12:39.633989Z",
     "shell.execute_reply.started": "2025-04-16T17:12:39.384041Z"
    },
    "trusted": true
   },
   "outputs": [
    {
     "data": {
      "text/plain": [
       "<BarContainer object of 54 artists>"
      ]
     },
     "execution_count": 28,
     "metadata": {},
     "output_type": "execute_result"
    },
    {
     "data": {
      "image/png": "[encoded data removed]",
      "text/plain": [
       "<Figure size 1500x600 with 1 Axes>"
      ]
     },
     "metadata": {},
     "output_type": "display_data"
    }
   ],
   "source": [
    "fig, ax = plt.subplots(figsize=(15, 6), nrows=1)\n",
    "ax.bar(train_len_counter.index.values, train_len_counter.values)"
   ]
  },
  {
   "cell_type": "code",
   "execution_count": 29,
   "metadata": {
    "execution": {
     "iopub.execute_input": "2025-04-16T17:12:39.636277Z",
     "iopub.status.busy": "2025-04-16T17:12:39.635859Z",
     "iopub.status.idle": "2025-04-16T17:12:39.902111Z",
     "shell.execute_reply": "2025-04-16T17:12:39.901298Z",
     "shell.execute_reply.started": "2025-04-16T17:12:39.636243Z"
    },
    "trusted": true
   },
   "outputs": [
    {
     "data": {
      "text/plain": [
       "<BarContainer object of 50 artists>"
      ]
     },
     "execution_count": 29,
     "metadata": {},
     "output_type": "execute_result"
    },
    {
     "data": {
      "image/png": "[encoded data removed]",
      "text/plain": [
       "<Figure size 1500x600 with 1 Axes>"
      ]
     },
     "metadata": {},
     "output_type": "display_data"
    }
   ],
   "source": [
    "fig, ax = plt.subplots(figsize=(15, 6), nrows=1)\n",
    "ax.bar(test_len_counter.index.values, test_len_counter.values)"
   ]
  },
  {
   "cell_type": "code",
   "execution_count": 30,
   "metadata": {
    "execution": {
     "iopub.execute_input": "2025-04-16T17:12:39.904740Z",
     "iopub.status.busy": "2025-04-16T17:12:39.904525Z",
     "iopub.status.idle": "2025-04-16T17:12:39.935030Z",
     "shell.execute_reply": "2025-04-16T17:12:39.934380Z",
     "shell.execute_reply.started": "2025-04-16T17:12:39.904722Z"
    },
    "trusted": true
   },
   "outputs": [
    {
     "data": {
      "text/plain": [
       "(np.int64(58), np.int64(57))"
      ]
     },
     "execution_count": 30,
     "metadata": {},
     "output_type": "execute_result"
    }
   ],
   "source": [
    "train_lens.max(), test_lens.max()"
   ]
  },
  {
   "cell_type": "markdown",
   "metadata": {},
   "source": [
    "* Один из аргументов в функции `dataset_preprocessing_utils.create_padded_buckets` &ndash; `bucket_info` &ndash; словарь, где для конкретной длины последовательности указано до какой длины нужно делать паддинг. Для данного бэйзлайна возьмем простое разбиение на 43 бакета: \n",
    "| Длина последовательности | Длина после паддинга |\n",
    "| :-: | :-: \n",
    "| 1 &ndash; 40 | без изменений |\n",
    "| 41 &ndash; 45 | 45 |\n",
    "| 46 &ndash; 50 | 50 |\n",
    "| 51 &ndash; 58 | 58 |"
   ]
  },
  {
   "cell_type": "code",
   "execution_count": 31,
   "metadata": {
    "execution": {
     "iopub.execute_input": "2025-04-16T17:12:39.937060Z",
     "iopub.status.busy": "2025-04-16T17:12:39.936737Z",
     "iopub.status.idle": "2025-04-16T17:12:39.968167Z",
     "shell.execute_reply": "2025-04-16T17:12:39.967493Z",
     "shell.execute_reply.started": "2025-04-16T17:12:39.937024Z"
    },
    "trusted": true
   },
   "outputs": [
    {
     "data": {
      "text/plain": [
       "{1: 1,\n",
       " 2: 2,\n",
       " 3: 3,\n",
       " 4: 4,\n",
       " 5: 5,\n",
       " 6: 6,\n",
       " 7: 7,\n",
       " 8: 8,\n",
       " 9: 9,\n",
       " 10: 10,\n",
       " 11: 11,\n",
       " 12: 12,\n",
       " 13: 13,\n",
       " 14: 14,\n",
       " 15: 15,\n",
       " 16: 16,\n",
       " 17: 17,\n",
       " 18: 18,\n",
       " 19: 19,\n",
       " 20: 20,\n",
       " 21: 21,\n",
       " 22: 22,\n",
       " 23: 23,\n",
       " 24: 24,\n",
       " 25: 25,\n",
       " 26: 26,\n",
       " 27: 27,\n",
       " 28: 28,\n",
       " 29: 29,\n",
       " 30: 30,\n",
       " 31: 31,\n",
       " 32: 32,\n",
       " 33: 33,\n",
       " 34: 34,\n",
       " 35: 35,\n",
       " 36: 36,\n",
       " 37: 37,\n",
       " 38: 38,\n",
       " 39: 39,\n",
       " 40: 40,\n",
       " 41: 45,\n",
       " 42: 45,\n",
       " 43: 45,\n",
       " 44: 45,\n",
       " 45: 45,\n",
       " 46: 50,\n",
       " 47: 50,\n",
       " 48: 50,\n",
       " 49: 50,\n",
       " 50: 50,\n",
       " 51: 58,\n",
       " 52: 58,\n",
       " 53: 58,\n",
       " 54: 58,\n",
       " 55: 58,\n",
       " 56: 58,\n",
       " 57: 58,\n",
       " 58: 58}"
      ]
     },
     "execution_count": 31,
     "metadata": {},
     "output_type": "execute_result"
    }
   ],
   "source": [
    "keys_ = list(range(1, 59)) \n",
    "lens_ = list(range(1, 41)) + [45] * 5 + [50] * 5 + [58] * 8\n",
    "bucket_info = dict(zip(keys_, lens_))\n",
    "bucket_info"
   ]
  },
  {
   "cell_type": "markdown",
   "metadata": {},
   "source": [
    "* Так же рассмотрим уникальные значения признаков"
   ]
  },
  {
   "cell_type": "code",
   "execution_count": 32,
   "metadata": {
    "execution": {
     "iopub.execute_input": "2025-04-16T17:12:39.969577Z",
     "iopub.status.busy": "2025-04-16T17:12:39.969254Z",
     "iopub.status.idle": "2025-04-16T17:12:40.004567Z",
     "shell.execute_reply": "2025-04-16T17:12:40.003737Z",
     "shell.execute_reply.started": "2025-04-16T17:12:39.969544Z"
    },
    "trusted": true
   },
   "outputs": [
    {
     "name": "stdout",
     "output_type": "stream",
     "text": [
      "Feature: pre_since_opened, unique values: {np.int64(0), np.int64(1), np.int64(2), np.int64(3), np.int64(4), np.int64(5), np.int64(6), np.int64(7), np.int64(8), np.int64(9), np.int64(10), np.int64(11), np.int64(12), np.int64(13), np.int64(14), np.int64(15), np.int64(16), np.int64(17), np.int64(18), np.int64(19)}\n",
      "Feature: pre_since_confirmed, unique values: {np.int64(0), np.int64(1), np.int64(2), np.int64(3), np.int64(4), np.int64(5), np.int64(6), np.int64(7), np.int64(8), np.int64(9), np.int64(10), np.int64(11), np.int64(12), np.int64(13), np.int64(14), np.int64(15), np.int64(16), np.int64(17)}\n",
      "Feature: pre_pterm, unique values: {np.int64(0), np.int64(1), np.int64(2), np.int64(3), np.int64(4), np.int64(5), np.int64(6), np.int64(7), np.int64(8), np.int64(9), np.int64(10), np.int64(11), np.int64(12), np.int64(13), np.int64(14), np.int64(15), np.int64(16), np.int64(17)}\n",
      "Feature: pre_fterm, unique values: {np.int64(0), np.int64(1), np.int64(2), np.int64(3), np.int64(4), np.int64(5), np.int64(6), np.int64(7), np.int64(8), np.int64(9), np.int64(10), np.int64(11), np.int64(12), np.int64(13), np.int64(14), np.int64(15), np.int64(16)}\n",
      "Feature: pre_till_pclose, unique values: {np.int64(0), np.int64(1), np.int64(2), np.int64(3), np.int64(4), np.int64(5), np.int64(6), np.int64(7), np.int64(8), np.int64(9), np.int64(10), np.int64(11), np.int64(12), np.int64(13), np.int64(14), np.int64(15), np.int64(16)}\n",
      "Feature: pre_till_fclose, unique values: {np.int64(0), np.int64(1), np.int64(2), np.int64(3), np.int64(4), np.int64(5), np.int64(6), np.int64(7), np.int64(8), np.int64(9), np.int64(10), np.int64(11), np.int64(12), np.int64(13), np.int64(14), np.int64(15)}\n",
      "Feature: pre_loans_credit_limit, unique values: {np.int64(0), np.int64(1), np.int64(2), np.int64(3), np.int64(4), np.int64(5), np.int64(6), np.int64(7), np.int64(8), np.int64(9), np.int64(10), np.int64(11), np.int64(12), np.int64(13), np.int64(14), np.int64(15), np.int64(16), np.int64(17), np.int64(18), np.int64(19)}\n",
      "Feature: pre_loans_next_pay_summ, unique values: {np.int64(0), np.int64(1), np.int64(2), np.int64(3), np.int64(4), np.int64(5), np.int64(6), np.int64(7)}\n",
      "Feature: pre_loans_outstanding, unique values: {np.int64(1), np.int64(2), np.int64(3), np.int64(4), np.int64(5)}\n",
      "Feature: pre_loans_total_overdue, unique values: {np.int64(0), np.int64(1)}\n",
      "Feature: pre_loans_max_overdue_sum, unique values: {np.int64(0), np.int64(1), np.int64(2), np.int64(3)}\n",
      "Feature: pre_loans_credit_cost_rate, unique values: {np.int64(0), np.int64(1), np.int64(2), np.int64(3), np.int64(4), np.int64(5), np.int64(6), np.int64(7), np.int64(8), np.int64(9), np.int64(10), np.int64(11), np.int64(12), np.int64(13)}\n",
      "Feature: pre_loans5, unique values: {np.int64(0), np.int64(1), np.int64(2), np.int64(3), np.int64(4), np.int64(5), np.int64(6), np.int64(7), np.int64(8), np.int64(9), np.int64(10), np.int64(11), np.int64(13), np.int64(14), np.int64(15), np.int64(16), np.int64(17)}\n",
      "Feature: pre_loans530, unique values: {np.int64(0), np.int64(1), np.int64(2), np.int64(3), np.int64(4), np.int64(5), np.int64(6), np.int64(7), np.int64(8), np.int64(9), np.int64(10), np.int64(11), np.int64(12), np.int64(13), np.int64(14), np.int64(15), np.int64(16), np.int64(17), np.int64(18), np.int64(19)}\n",
      "Feature: pre_loans3060, unique values: {np.int64(0), np.int64(1), np.int64(2), np.int64(3), np.int64(4), np.int64(5), np.int64(6), np.int64(7), np.int64(8), np.int64(9)}\n",
      "Feature: pre_loans6090, unique values: {np.int64(0), np.int64(1), np.int64(2), np.int64(3), np.int64(4), np.int64(5)}\n",
      "Feature: pre_loans90, unique values: {np.int64(1), np.int64(2), np.int64(3), np.int64(4), np.int64(8), np.int64(10), np.int64(11), np.int64(13), np.int64(14), np.int64(18), np.int64(19)}\n",
      "Feature: is_zero_loans5, unique values: {np.int64(0), np.int64(1)}\n",
      "Feature: is_zero_loans530, unique values: {np.int64(0), np.int64(1)}\n",
      "Feature: is_zero_loans3060, unique values: {np.int64(0), np.int64(1)}\n",
      "Feature: is_zero_loans6090, unique values: {np.int64(0), np.int64(1)}\n",
      "Feature: is_zero_loans90, unique values: {np.int64(0), np.int64(1)}\n",
      "Feature: pre_util, unique values: {np.int64(0), np.int64(1), np.int64(2), np.int64(3), np.int64(4), np.int64(5), np.int64(6), np.int64(7), np.int64(8), np.int64(9), np.int64(10), np.int64(11), np.int64(12), np.int64(13), np.int64(14), np.int64(15), np.int64(16), np.int64(17), np.int64(18), np.int64(19)}\n",
      "Feature: pre_over2limit, unique values: {np.int64(0), np.int64(1), np.int64(2), np.int64(3), np.int64(4), np.int64(5), np.int64(6), np.int64(7), np.int64(8), np.int64(9), np.int64(10), np.int64(11), np.int64(12), np.int64(13), np.int64(14), np.int64(15), np.int64(16), np.int64(17), np.int64(18), np.int64(19)}\n",
      "Feature: pre_maxover2limit, unique values: {np.int64(0), np.int64(1), np.int64(2), np.int64(3), np.int64(4), np.int64(5), np.int64(6), np.int64(7), np.int64(8), np.int64(9), np.int64(10), np.int64(11), np.int64(12), np.int64(13), np.int64(14), np.int64(15), np.int64(16), np.int64(17), np.int64(18), np.int64(19)}\n",
      "Feature: is_zero_util, unique values: {np.int64(0), np.int64(1)}\n",
      "Feature: is_zero_over2limit, unique values: {np.int64(0), np.int64(1)}\n",
      "Feature: is_zero_maxover2limit, unique values: {np.int64(0), np.int64(1)}\n",
      "Feature: enc_paym_0, unique values: {np.int64(0), np.int64(1), np.int64(2), np.int64(3)}\n",
      "Feature: enc_paym_1, unique values: {np.int64(0), np.int64(1), np.int64(2), np.int64(3)}\n",
      "Feature: enc_paym_2, unique values: {np.int64(0), np.int64(1), np.int64(2), np.int64(3)}\n",
      "Feature: enc_paym_3, unique values: {np.int64(0), np.int64(1), np.int64(2), np.int64(3)}\n",
      "Feature: enc_paym_4, unique values: {np.int64(0), np.int64(1), np.int64(2), np.int64(3)}\n",
      "Feature: enc_paym_5, unique values: {np.int64(0), np.int64(1), np.int64(2), np.int64(3)}\n",
      "Feature: enc_paym_6, unique values: {np.int64(0), np.int64(1), np.int64(2), np.int64(3)}\n",
      "Feature: enc_paym_7, unique values: {np.int64(0), np.int64(1), np.int64(2), np.int64(3)}\n",
      "Feature: enc_paym_8, unique values: {np.int64(0), np.int64(1), np.int64(2), np.int64(3)}\n",
      "Feature: enc_paym_9, unique values: {np.int64(0), np.int64(1), np.int64(2), np.int64(3)}\n",
      "Feature: enc_paym_10, unique values: {np.int64(0), np.int64(1), np.int64(2), np.int64(3)}\n",
      "Feature: enc_paym_11, unique values: {np.int64(1), np.int64(2), np.int64(3), np.int64(4)}\n",
      "Feature: enc_paym_12, unique values: {np.int64(0), np.int64(1), np.int64(2), np.int64(3)}\n",
      "Feature: enc_paym_13, unique values: {np.int64(0), np.int64(1), np.int64(2), np.int64(3)}\n",
      "Feature: enc_paym_14, unique values: {np.int64(0), np.int64(1), np.int64(2), np.int64(3)}\n",
      "Feature: enc_paym_15, unique values: {np.int64(0), np.int64(1), np.int64(2), np.int64(3)}\n",
      "Feature: enc_paym_16, unique values: {np.int64(0), np.int64(1), np.int64(2), np.int64(3)}\n",
      "Feature: enc_paym_17, unique values: {np.int64(0), np.int64(1), np.int64(2), np.int64(3)}\n",
      "Feature: enc_paym_18, unique values: {np.int64(0), np.int64(1), np.int64(2), np.int64(3)}\n",
      "Feature: enc_paym_19, unique values: {np.int64(0), np.int64(1), np.int64(2), np.int64(3)}\n",
      "Feature: enc_paym_20, unique values: {np.int64(1), np.int64(2), np.int64(3), np.int64(4)}\n",
      "Feature: enc_paym_21, unique values: {np.int64(0), np.int64(1), np.int64(2), np.int64(3)}\n",
      "Feature: enc_paym_22, unique values: {np.int64(0), np.int64(1), np.int64(2), np.int64(3)}\n",
      "Feature: enc_paym_23, unique values: {np.int64(0), np.int64(1), np.int64(2), np.int64(3)}\n",
      "Feature: enc_paym_24, unique values: {np.int64(1), np.int64(2), np.int64(3), np.int64(4)}\n",
      "Feature: enc_loans_account_holder_type, unique values: {np.int64(0), np.int64(1), np.int64(2), np.int64(3), np.int64(4), np.int64(5), np.int64(6)}\n",
      "Feature: enc_loans_credit_status, unique values: {np.int64(0), np.int64(1), np.int64(2), np.int64(3), np.int64(4), np.int64(5), np.int64(6)}\n",
      "Feature: enc_loans_credit_type, unique values: {np.int64(0), np.int64(1), np.int64(2), np.int64(3), np.int64(4), np.int64(5), np.int64(6), np.int64(7)}\n",
      "Feature: enc_loans_account_cur, unique values: {np.int64(0), np.int64(1), np.int64(2), np.int64(3)}\n",
      "Feature: pclose_flag, unique values: {np.int64(0), np.int64(1)}\n",
      "Feature: fclose_flag, unique values: {np.int64(0), np.int64(1)}\n"
     ]
    }
   ],
   "source": [
    "for feat, uniq in uniques.items():\n",
    "    print(f\"Feature: {feat}, unique values: {uniq}\")"
   ]
  },
  {
   "cell_type": "markdown",
   "metadata": {},
   "source": [
    "* Поскольку паддинг будет производиться нулями, а категориальные признаки закодированы, начиная с 0, перед паддингом будем сдвигать все значения на 1."
   ]
  },
  {
   "cell_type": "markdown",
   "metadata": {},
   "source": [
    "* Вся описанная выше предобработка данных реализована в виде функции `create_buckets_from_credits`:"
   ]
  },
  {
   "cell_type": "code",
   "execution_count": 33,
   "metadata": {
    "execution": {
     "iopub.execute_input": "2025-04-16T17:12:40.005487Z",
     "iopub.status.busy": "2025-04-16T17:12:40.005293Z",
     "iopub.status.idle": "2025-04-16T17:12:40.033983Z",
     "shell.execute_reply": "2025-04-16T17:12:40.033261Z",
     "shell.execute_reply.started": "2025-04-16T17:12:40.005469Z"
    },
    "trusted": true
   },
   "outputs": [],
   "source": [
    "def create_buckets_from_credits(path_to_dataset, bucket_info, save_to_path, frame_with_ids = None, \n",
    "                                num_parts_to_preprocess_at_once: int = 1, \n",
    "                                num_parts_total=50, has_target=False):\n",
    "    block = 0\n",
    "    for step in tqdm.notebook.tqdm(range(0, num_parts_total, num_parts_to_preprocess_at_once),\n",
    "                     desc=\"Preparing credit data\"):\n",
    "        credits_frame = read_parquet_dataset_from_local(path_to_dataset, step, num_parts_to_preprocess_at_once, verbose=True)\n",
    "        credits_frame.loc[:, features] += 1       \n",
    "        seq = transform_credits_to_sequences(credits_frame)\n",
    "        print(\"Transforming credits to sequences is done.\")\n",
    "        \n",
    "        if frame_with_ids is not None:\n",
    "            seq = seq.merge(frame_with_ids, on=\"id\")\n",
    "\n",
    "        block_as_str = str(block)\n",
    "        if len(block_as_str) == 1:\n",
    "            block_as_str = \"00\" + block_as_str\n",
    "        else:\n",
    "            block_as_str = \"0\" + block_as_str\n",
    "            \n",
    "        processed_fragment =  create_padded_buckets(seq, bucket_info=bucket_info, has_target=has_target, \n",
    "                                                    save_to_file_path=os.path.join(save_to_path, \n",
    "                                                                                   f\"processed_chunk_{block_as_str}.pkl\"))\n",
    "        block += 1"
   ]
  },
  {
   "cell_type": "markdown",
   "metadata": {},
   "source": [
    "* Разобьем обучающие данные на тренировочную и валидационную выборки. Воспользуемся самым простым способом &ndash; для валидации случайным образом выберем 10% обучающих данных."
   ]
  },
  {
   "cell_type": "code",
   "execution_count": 34,
   "metadata": {
    "execution": {
     "iopub.execute_input": "2025-04-16T17:12:40.035205Z",
     "iopub.status.busy": "2025-04-16T17:12:40.034909Z",
     "iopub.status.idle": "2025-04-16T17:12:40.224936Z",
     "shell.execute_reply": "2025-04-16T17:12:40.224179Z",
     "shell.execute_reply.started": "2025-04-16T17:12:40.035163Z"
    },
    "trusted": true
   },
   "outputs": [
    {
     "data": {
      "text/plain": [
       "((2700000, 2), (300000, 2))"
      ]
     },
     "execution_count": 34,
     "metadata": {},
     "output_type": "execute_result"
    }
   ],
   "source": [
    "train, val = train_test_split(train_target, random_state=42, test_size=0.1)\n",
    "train.shape, val.shape"
   ]
  },
  {
   "cell_type": "code",
   "execution_count": 35,
   "metadata": {
    "execution": {
     "iopub.execute_input": "2025-04-16T17:12:40.225964Z",
     "iopub.status.busy": "2025-04-16T17:12:40.225726Z",
     "iopub.status.idle": "2025-04-16T17:12:40.252787Z",
     "shell.execute_reply": "2025-04-16T17:12:40.251911Z",
     "shell.execute_reply.started": "2025-04-16T17:12:40.225940Z"
    },
    "trusted": true
   },
   "outputs": [],
   "source": [
    "TRAIN_BUCKETS_PATH = \"data/train_buckets_rnn\"\n",
    "VAL_BUCKETS_PATH = \"data/val_buckets_rnn\"\n",
    "TEST_BUCKETS_PATH = \"data/test_buckets_rnn\""
   ]
  },
  {
   "cell_type": "code",
   "execution_count": 36,
   "metadata": {
    "execution": {
     "iopub.execute_input": "2025-04-16T17:12:40.254054Z",
     "iopub.status.busy": "2025-04-16T17:12:40.253793Z",
     "iopub.status.idle": "2025-04-16T17:12:40.283462Z",
     "shell.execute_reply": "2025-04-16T17:12:40.282732Z",
     "shell.execute_reply.started": "2025-04-16T17:12:40.254021Z"
    },
    "trusted": true
   },
   "outputs": [
    {
     "name": "stdout",
     "output_type": "stream",
     "text": [
      "Удаляю папку data/train_buckets_rnn\n",
      "Создаю папку data/train_buckets_rnn\n",
      "Удаляю папку data/val_buckets_rnn\n",
      "Создаю папку data/val_buckets_rnn\n",
      "Удаляю папку data/test_buckets_rnn\n",
      "Создаю папку data/test_buckets_rnn\n"
     ]
    }
   ],
   "source": [
    "import shutil\n",
    "\n",
    "for buckets_path in [TRAIN_BUCKETS_PATH, VAL_BUCKETS_PATH, TEST_BUCKETS_PATH]:\n",
    "    if os.path.exists(buckets_path):\n",
    "        print(f\"Удаляю папку {buckets_path}\")\n",
    "        shutil.rmtree(buckets_path)  # Удаляем директорию и её содержимое\n",
    "    print(f\"Создаю папку {buckets_path}\")\n",
    "    os.makedirs(buckets_path)  # Создаём директорию"
   ]
  },
  {
   "cell_type": "code",
   "execution_count": 37,
   "metadata": {
    "execution": {
     "iopub.execute_input": "2025-04-16T17:12:40.284641Z",
     "iopub.status.busy": "2025-04-16T17:12:40.284301Z",
     "iopub.status.idle": "2025-04-16T17:23:00.608512Z",
     "shell.execute_reply": "2025-04-16T17:23:00.607642Z",
     "shell.execute_reply.started": "2025-04-16T17:12:40.284610Z"
    },
    "trusted": true
   },
   "outputs": [
    {
     "data": {
      "application/vnd.jupyter.widget-view+json": {
       "model_id": "74d935517a3f4c9d9e72cdbe4b5ac9c4",
       "version_major": 2,
       "version_minor": 0
      },
      "text/plain": [
       "Preparing credit data:   0%|          | 0/4 [00:00<?, ?it/s]"
      ]
     },
     "metadata": {},
     "output_type": "display_data"
    },
    {
     "name": "stdout",
     "output_type": "stream",
     "text": [
      "Reading chunks:\n",
      "credit/data/train_data/train_data_0.pq\n",
      "credit/data/train_data/train_data_1.pq\n",
      "credit/data/train_data/train_data_2.pq\n"
     ]
    },
    {
     "data": {
      "application/vnd.jupyter.widget-view+json": {
       "model_id": "1a7b63e1dd8f4f738e261c9c64a70426",
       "version_major": 2,
       "version_minor": 0
      },
      "text/plain": [
       "Reading dataset with pandas:   0%|          | 0/3 [00:00<?, ?it/s]"
      ]
     },
     "metadata": {},
     "output_type": "display_data"
    },
    {
     "name": "stdout",
     "output_type": "stream",
     "text": [
      "Transforming credits to sequences is done.\n"
     ]
    },
    {
     "data": {
      "application/vnd.jupyter.widget-view+json": {
       "model_id": "8e91bdcc607d47a099df3a5fe2c6d065",
       "version_major": 2,
       "version_minor": 0
      },
      "text/plain": [
       "Extracting buckets:   0%|          | 0/43 [00:00<?, ?it/s]"
      ]
     },
     "metadata": {},
     "output_type": "display_data"
    },
    {
     "name": "stdout",
     "output_type": "stream",
     "text": [
      "Reading chunks:\n",
      "credit/data/train_data/train_data_3.pq\n",
      "credit/data/train_data/train_data_4.pq\n",
      "credit/data/train_data/train_data_5.pq\n"
     ]
    },
    {
     "data": {
      "application/vnd.jupyter.widget-view+json": {
       "model_id": "cb043d147acd49bf885647a439ef9e21",
       "version_major": 2,
       "version_minor": 0
      },
      "text/plain": [
       "Reading dataset with pandas:   0%|          | 0/3 [00:00<?, ?it/s]"
      ]
     },
     "metadata": {},
     "output_type": "display_data"
    },
    {
     "name": "stdout",
     "output_type": "stream",
     "text": [
      "Transforming credits to sequences is done.\n"
     ]
    },
    {
     "data": {
      "application/vnd.jupyter.widget-view+json": {
       "model_id": "ad3a87ad253d46b09d7d6baacba78c0f",
       "version_major": 2,
       "version_minor": 0
      },
      "text/plain": [
       "Extracting buckets:   0%|          | 0/42 [00:00<?, ?it/s]"
      ]
     },
     "metadata": {},
     "output_type": "display_data"
    },
    {
     "name": "stdout",
     "output_type": "stream",
     "text": [
      "Reading chunks:\n",
      "credit/data/train_data/train_data_6.pq\n",
      "credit/data/train_data/train_data_7.pq\n",
      "credit/data/train_data/train_data_8.pq\n"
     ]
    },
    {
     "data": {
      "application/vnd.jupyter.widget-view+json": {
       "model_id": "2f34f2fe7b50442fae874419a209f9f3",
       "version_major": 2,
       "version_minor": 0
      },
      "text/plain": [
       "Reading dataset with pandas:   0%|          | 0/3 [00:00<?, ?it/s]"
      ]
     },
     "metadata": {},
     "output_type": "display_data"
    },
    {
     "name": "stdout",
     "output_type": "stream",
     "text": [
      "Transforming credits to sequences is done.\n"
     ]
    },
    {
     "data": {
      "application/vnd.jupyter.widget-view+json": {
       "model_id": "bcd941937fc84a1aba1bd94c456901bf",
       "version_major": 2,
       "version_minor": 0
      },
      "text/plain": [
       "Extracting buckets:   0%|          | 0/43 [00:00<?, ?it/s]"
      ]
     },
     "metadata": {},
     "output_type": "display_data"
    },
    {
     "name": "stdout",
     "output_type": "stream",
     "text": [
      "Reading chunks:\n",
      "credit/data/train_data/train_data_9.pq\n",
      "credit/data/train_data/train_data_10.pq\n",
      "credit/data/train_data/train_data_11.pq\n"
     ]
    },
    {
     "data": {
      "application/vnd.jupyter.widget-view+json": {
       "model_id": "ae1515d0f74f46c58a4c73016cc9b23d",
       "version_major": 2,
       "version_minor": 0
      },
      "text/plain": [
       "Reading dataset with pandas:   0%|          | 0/3 [00:00<?, ?it/s]"
      ]
     },
     "metadata": {},
     "output_type": "display_data"
    },
    {
     "name": "stdout",
     "output_type": "stream",
     "text": [
      "Transforming credits to sequences is done.\n"
     ]
    },
    {
     "data": {
      "application/vnd.jupyter.widget-view+json": {
       "model_id": "c5d9c0bfd4c34fc3947c97283c754932",
       "version_major": 2,
       "version_minor": 0
      },
      "text/plain": [
       "Extracting buckets:   0%|          | 0/42 [00:00<?, ?it/s]"
      ]
     },
     "metadata": {},
     "output_type": "display_data"
    },
    {
     "name": "stdout",
     "output_type": "stream",
     "text": [
      "CPU times: total: 6min 40s\n",
      "Wall time: 5min 29s\n"
     ]
    },
    {
     "data": {
      "text/plain": [
       "['data/train_buckets_rnn\\\\processed_chunk_000.pkl',\n",
       " 'data/train_buckets_rnn\\\\processed_chunk_001.pkl',\n",
       " 'data/train_buckets_rnn\\\\processed_chunk_002.pkl',\n",
       " 'data/train_buckets_rnn\\\\processed_chunk_003.pkl']"
      ]
     },
     "execution_count": 37,
     "metadata": {},
     "output_type": "execute_result"
    }
   ],
   "source": [
    "%%time\n",
    "create_buckets_from_credits(TRAIN_DATA_PATH,\n",
    "                            bucket_info=bucket_info,\n",
    "                            save_to_path=TRAIN_BUCKETS_PATH,\n",
    "                            frame_with_ids=train,\n",
    "                            num_parts_to_preprocess_at_once=3, \n",
    "                            num_parts_total=12, has_target=True)\n",
    "\n",
    "dataset_train = sorted([os.path.join(TRAIN_BUCKETS_PATH, x) for x in os.listdir(TRAIN_BUCKETS_PATH)])\n",
    "dataset_train"
   ]
  },
  {
   "cell_type": "code",
   "execution_count": 38,
   "metadata": {
    "execution": {
     "iopub.execute_input": "2025-04-16T17:23:00.609963Z",
     "iopub.status.busy": "2025-04-16T17:23:00.609543Z",
     "iopub.status.idle": "2025-04-16T17:32:20.436977Z",
     "shell.execute_reply": "2025-04-16T17:32:20.436089Z",
     "shell.execute_reply.started": "2025-04-16T17:23:00.609928Z"
    },
    "trusted": true
   },
   "outputs": [
    {
     "data": {
      "application/vnd.jupyter.widget-view+json": {
       "model_id": "12f283a1d26d45dfb80c060287af1dce",
       "version_major": 2,
       "version_minor": 0
      },
      "text/plain": [
       "Preparing credit data:   0%|          | 0/4 [00:00<?, ?it/s]"
      ]
     },
     "metadata": {},
     "output_type": "display_data"
    },
    {
     "name": "stdout",
     "output_type": "stream",
     "text": [
      "Reading chunks:\n",
      "credit/data/train_data/train_data_0.pq\n",
      "credit/data/train_data/train_data_1.pq\n",
      "credit/data/train_data/train_data_2.pq\n"
     ]
    },
    {
     "data": {
      "application/vnd.jupyter.widget-view+json": {
       "model_id": "008e8eb4396440d9824ede61eb6e5156",
       "version_major": 2,
       "version_minor": 0
      },
      "text/plain": [
       "Reading dataset with pandas:   0%|          | 0/3 [00:00<?, ?it/s]"
      ]
     },
     "metadata": {},
     "output_type": "display_data"
    },
    {
     "name": "stdout",
     "output_type": "stream",
     "text": [
      "Transforming credits to sequences is done.\n"
     ]
    },
    {
     "data": {
      "application/vnd.jupyter.widget-view+json": {
       "model_id": "8ecd2a6da8b14d888a1dfdbd4c2221ef",
       "version_major": 2,
       "version_minor": 0
      },
      "text/plain": [
       "Extracting buckets:   0%|          | 0/41 [00:00<?, ?it/s]"
      ]
     },
     "metadata": {},
     "output_type": "display_data"
    },
    {
     "name": "stdout",
     "output_type": "stream",
     "text": [
      "Reading chunks:\n",
      "credit/data/train_data/train_data_3.pq\n",
      "credit/data/train_data/train_data_4.pq\n",
      "credit/data/train_data/train_data_5.pq\n"
     ]
    },
    {
     "data": {
      "application/vnd.jupyter.widget-view+json": {
       "model_id": "494eca53bce04ec2aeff8f1ab29720b0",
       "version_major": 2,
       "version_minor": 0
      },
      "text/plain": [
       "Reading dataset with pandas:   0%|          | 0/3 [00:00<?, ?it/s]"
      ]
     },
     "metadata": {},
     "output_type": "display_data"
    },
    {
     "name": "stdout",
     "output_type": "stream",
     "text": [
      "Transforming credits to sequences is done.\n"
     ]
    },
    {
     "data": {
      "application/vnd.jupyter.widget-view+json": {
       "model_id": "59caab4d1a354d9baedb2772b480bb2a",
       "version_major": 2,
       "version_minor": 0
      },
      "text/plain": [
       "Extracting buckets:   0%|          | 0/41 [00:00<?, ?it/s]"
      ]
     },
     "metadata": {},
     "output_type": "display_data"
    },
    {
     "name": "stdout",
     "output_type": "stream",
     "text": [
      "Reading chunks:\n",
      "credit/data/train_data/train_data_6.pq\n",
      "credit/data/train_data/train_data_7.pq\n",
      "credit/data/train_data/train_data_8.pq\n"
     ]
    },
    {
     "data": {
      "application/vnd.jupyter.widget-view+json": {
       "model_id": "1aec001a12d44b3e997fae7e45489214",
       "version_major": 2,
       "version_minor": 0
      },
      "text/plain": [
       "Reading dataset with pandas:   0%|          | 0/3 [00:00<?, ?it/s]"
      ]
     },
     "metadata": {},
     "output_type": "display_data"
    },
    {
     "name": "stdout",
     "output_type": "stream",
     "text": [
      "Transforming credits to sequences is done.\n"
     ]
    },
    {
     "data": {
      "application/vnd.jupyter.widget-view+json": {
       "model_id": "52a1f0ba47c84263be4593825763b226",
       "version_major": 2,
       "version_minor": 0
      },
      "text/plain": [
       "Extracting buckets:   0%|          | 0/41 [00:00<?, ?it/s]"
      ]
     },
     "metadata": {},
     "output_type": "display_data"
    },
    {
     "name": "stdout",
     "output_type": "stream",
     "text": [
      "Reading chunks:\n",
      "credit/data/train_data/train_data_9.pq\n",
      "credit/data/train_data/train_data_10.pq\n",
      "credit/data/train_data/train_data_11.pq\n"
     ]
    },
    {
     "data": {
      "application/vnd.jupyter.widget-view+json": {
       "model_id": "6c4d0e8603194a1ab49ab4dd40d8b066",
       "version_major": 2,
       "version_minor": 0
      },
      "text/plain": [
       "Reading dataset with pandas:   0%|          | 0/3 [00:00<?, ?it/s]"
      ]
     },
     "metadata": {},
     "output_type": "display_data"
    },
    {
     "name": "stdout",
     "output_type": "stream",
     "text": [
      "Transforming credits to sequences is done.\n"
     ]
    },
    {
     "data": {
      "application/vnd.jupyter.widget-view+json": {
       "model_id": "6aaf799e9597486bb8a8a7c6552bd1dc",
       "version_major": 2,
       "version_minor": 0
      },
      "text/plain": [
       "Extracting buckets:   0%|          | 0/43 [00:00<?, ?it/s]"
      ]
     },
     "metadata": {},
     "output_type": "display_data"
    },
    {
     "name": "stdout",
     "output_type": "stream",
     "text": [
      "CPU times: total: 5min 56s\n",
      "Wall time: 4min 51s\n"
     ]
    },
    {
     "data": {
      "text/plain": [
       "['data/val_buckets_rnn\\\\processed_chunk_000.pkl',\n",
       " 'data/val_buckets_rnn\\\\processed_chunk_001.pkl',\n",
       " 'data/val_buckets_rnn\\\\processed_chunk_002.pkl',\n",
       " 'data/val_buckets_rnn\\\\processed_chunk_003.pkl']"
      ]
     },
     "execution_count": 38,
     "metadata": {},
     "output_type": "execute_result"
    }
   ],
   "source": [
    "%%time\n",
    "create_buckets_from_credits(TRAIN_DATA_PATH,\n",
    "                            bucket_info=bucket_info,\n",
    "                            save_to_path=VAL_BUCKETS_PATH,\n",
    "                            frame_with_ids=val,\n",
    "                            num_parts_to_preprocess_at_once=3, \n",
    "                            num_parts_total=12, has_target=True)\n",
    "\n",
    "dataset_val = sorted([os.path.join(VAL_BUCKETS_PATH, x) for x in os.listdir(VAL_BUCKETS_PATH)])\n",
    "dataset_val"
   ]
  },
  {
   "cell_type": "code",
   "execution_count": 39,
   "metadata": {
    "execution": {
     "iopub.execute_input": "2025-04-16T17:32:20.438338Z",
     "iopub.status.busy": "2025-04-16T17:32:20.437982Z",
     "iopub.status.idle": "2025-04-16T17:34:03.068699Z",
     "shell.execute_reply": "2025-04-16T17:34:03.067788Z",
     "shell.execute_reply.started": "2025-04-16T17:32:20.438304Z"
    },
    "trusted": true
   },
   "outputs": [
    {
     "data": {
      "application/vnd.jupyter.widget-view+json": {
       "model_id": "430546bc169348829d75a376350aa463",
       "version_major": 2,
       "version_minor": 0
      },
      "text/plain": [
       "Preparing credit data:   0%|          | 0/1 [00:00<?, ?it/s]"
      ]
     },
     "metadata": {},
     "output_type": "display_data"
    },
    {
     "name": "stdout",
     "output_type": "stream",
     "text": [
      "Reading chunks:\n",
      "credit/data/test_data/test_data_0.pq\n",
      "credit/data/test_data/test_data_1.pq\n"
     ]
    },
    {
     "data": {
      "application/vnd.jupyter.widget-view+json": {
       "model_id": "966fa39d16a740f1a6da1a7560d7de8e",
       "version_major": 2,
       "version_minor": 0
      },
      "text/plain": [
       "Reading dataset with pandas:   0%|          | 0/2 [00:00<?, ?it/s]"
      ]
     },
     "metadata": {},
     "output_type": "display_data"
    },
    {
     "name": "stdout",
     "output_type": "stream",
     "text": [
      "Transforming credits to sequences is done.\n"
     ]
    },
    {
     "data": {
      "application/vnd.jupyter.widget-view+json": {
       "model_id": "9fa983b29e4d4e90aebd5acf2dd4e935",
       "version_major": 2,
       "version_minor": 0
      },
      "text/plain": [
       "Extracting buckets:   0%|          | 0/43 [00:00<?, ?it/s]"
      ]
     },
     "metadata": {},
     "output_type": "display_data"
    },
    {
     "name": "stdout",
     "output_type": "stream",
     "text": [
      "CPU times: total: 1min 3s\n",
      "Wall time: 51.8 s\n"
     ]
    },
    {
     "data": {
      "text/plain": [
       "['data/test_buckets_rnn\\\\processed_chunk_000.pkl']"
      ]
     },
     "execution_count": 39,
     "metadata": {},
     "output_type": "execute_result"
    }
   ],
   "source": [
    "%%time\n",
    "create_buckets_from_credits(TEST_DATA_PATH,\n",
    "                            bucket_info=bucket_info,\n",
    "                            save_to_path=TEST_BUCKETS_PATH, num_parts_to_preprocess_at_once=2, \n",
    "                            num_parts_total=2)\n",
    "\n",
    "dataset_test = sorted([os.path.join(TEST_BUCKETS_PATH, x) for x in os.listdir(TEST_BUCKETS_PATH)])\n",
    "dataset_test"
   ]
  },
  {
   "cell_type": "markdown",
   "metadata": {},
   "source": [
    "### 2. Modeling"
   ]
  },
  {
   "cell_type": "code",
   "execution_count": 40,
   "metadata": {
    "execution": {
     "iopub.execute_input": "2025-04-16T17:34:03.069944Z",
     "iopub.status.busy": "2025-04-16T17:34:03.069630Z",
     "iopub.status.idle": "2025-04-16T17:34:03.228543Z",
     "shell.execute_reply": "2025-04-16T17:34:03.227478Z",
     "shell.execute_reply.started": "2025-04-16T17:34:03.069911Z"
    },
    "trusted": true
   },
   "outputs": [
    {
     "name": "stdout",
     "output_type": "stream",
     "text": [
      "Using device: cuda\n"
     ]
    }
   ],
   "source": [
    "device = torch.device('cpu')\n",
    "if torch.cuda.is_available():\n",
    "    device = torch.device('cuda')\n",
    "elif torch.backends.mps.is_available():\n",
    "    device = torch.device(\"mps\")\n",
    "print('Using device:', device)"
   ]
  },
  {
   "cell_type": "markdown",
   "metadata": {},
   "source": [
    "* Для создания модели будем использовать фреймворк `torch`. В нем есть все, чтобы писать произвольные сложные архитектуры и быстро экспериментировать. Для того, чтобы мониторить и логировать весь процесс во время обучения сетей, рекомендуется использовать надстройки над данным фреймворком, например, `lightning`.\n",
    "\n",
    "* В бейзлайне мы предлагаем базовые компоненты, чтобы можно было обучать нейронную сеть и отслеживать ее качество. Для этого вам предоставлены следующие функции:\n",
    "    * `data_generators.batches_generator` &ndash; функция-генератор, итеративно возвращает батчи, поддерживает батчи для `tensorflow.keras` и `torch.nn.Module` моделей. В зависимости от флага `is_train` может быть использована для генерации батчей на train/val/test стадии.\n",
    "    * функция `pytorch_training.train_epoch` &ndash; обучает модель одну эпоху.\n",
    "    * функция `pytorch_training.eval_model` &ndash; проверяет качество модели на отложенной выборке и возвращает roc_auc_score.\n",
    "    * функция `pytorch_training.inference` &ndash; делает предикты на новых данных и готовит фрейм для проверяющей системы.\n",
    "    * класс `training_aux.EarlyStopping` &ndash; реализует early_stopping, сохраняя лучшую модель. Пример использования приведен ниже."
   ]
  },
  {
   "cell_type": "code",
   "execution_count": 41,
   "metadata": {
    "execution": {
     "iopub.execute_input": "2025-04-16T17:34:03.230243Z",
     "iopub.status.busy": "2025-04-16T17:34:03.229738Z",
     "iopub.status.idle": "2025-04-16T17:34:03.308183Z",
     "shell.execute_reply": "2025-04-16T17:34:03.307259Z",
     "shell.execute_reply.started": "2025-04-16T17:34:03.230180Z"
    },
    "trusted": true
   },
   "outputs": [],
   "source": [
    "from credit.data_generators import batches_generator\n",
    "from credit.pytorch_training import train_epoch, eval_model, inference\n",
    "from credit.training_aux import EarlyStopping"
   ]
  },
  {
   "cell_type": "markdown",
   "metadata": {},
   "source": [
    "* Все признаки, описывающие кредитную историю клиентов &ndash; категориальные. Для их представления в модели используем категориальные эмбеддинги. Для этого нужно каждому категориальному признаку задать размерность латентного пространства. Используем [формулу](https://forums.fast.ai/t/size-of-embedding-for-categorical-variables/42608) из библиотеки `fast.ai`."
   ]
  },
  {
   "cell_type": "code",
   "execution_count": 42,
   "metadata": {
    "execution": {
     "iopub.execute_input": "2025-04-16T17:34:03.309413Z",
     "iopub.status.busy": "2025-04-16T17:34:03.309084Z",
     "iopub.status.idle": "2025-04-16T17:34:03.343244Z",
     "shell.execute_reply": "2025-04-16T17:34:03.342289Z",
     "shell.execute_reply.started": "2025-04-16T17:34:03.309382Z"
    },
    "trusted": true
   },
   "outputs": [],
   "source": [
    "def compute_embed_dim(n_cat: int) -> int:\n",
    "    return min(600, round(1.6 * n_cat**0.56))"
   ]
  },
  {
   "cell_type": "code",
   "execution_count": 43,
   "metadata": {
    "execution": {
     "iopub.execute_input": "2025-04-16T17:34:03.344657Z",
     "iopub.status.busy": "2025-04-16T17:34:03.344359Z",
     "iopub.status.idle": "2025-04-16T17:34:03.375642Z",
     "shell.execute_reply": "2025-04-16T17:34:03.374801Z",
     "shell.execute_reply.started": "2025-04-16T17:34:03.344624Z"
    },
    "trusted": true
   },
   "outputs": [
    {
     "data": {
      "text/plain": [
       "{'pre_since_opened': (np.int64(20), 9),\n",
       " 'pre_since_confirmed': (np.int64(18), 8),\n",
       " 'pre_pterm': (np.int64(18), 8),\n",
       " 'pre_fterm': (np.int64(17), 8),\n",
       " 'pre_till_pclose': (np.int64(17), 8),\n",
       " 'pre_till_fclose': (np.int64(16), 8),\n",
       " 'pre_loans_credit_limit': (np.int64(20), 9),\n",
       " 'pre_loans_next_pay_summ': (np.int64(8), 5),\n",
       " 'pre_loans_outstanding': (np.int64(6), 4),\n",
       " 'pre_loans_total_overdue': (np.int64(2), 2),\n",
       " 'pre_loans_max_overdue_sum': (np.int64(4), 3),\n",
       " 'pre_loans_credit_cost_rate': (np.int64(14), 7),\n",
       " 'pre_loans5': (np.int64(18), 8),\n",
       " 'pre_loans530': (np.int64(20), 9),\n",
       " 'pre_loans3060': (np.int64(10), 6),\n",
       " 'pre_loans6090': (np.int64(6), 4),\n",
       " 'pre_loans90': (np.int64(20), 9),\n",
       " 'is_zero_loans5': (np.int64(2), 2),\n",
       " 'is_zero_loans530': (np.int64(2), 2),\n",
       " 'is_zero_loans3060': (np.int64(2), 2),\n",
       " 'is_zero_loans6090': (np.int64(2), 2),\n",
       " 'is_zero_loans90': (np.int64(2), 2),\n",
       " 'pre_util': (np.int64(20), 9),\n",
       " 'pre_over2limit': (np.int64(20), 9),\n",
       " 'pre_maxover2limit': (np.int64(20), 9),\n",
       " 'is_zero_util': (np.int64(2), 2),\n",
       " 'is_zero_over2limit': (np.int64(2), 2),\n",
       " 'is_zero_maxover2limit': (np.int64(2), 2),\n",
       " 'enc_paym_0': (np.int64(4), 3),\n",
       " 'enc_paym_1': (np.int64(4), 3),\n",
       " 'enc_paym_2': (np.int64(4), 3),\n",
       " 'enc_paym_3': (np.int64(4), 3),\n",
       " 'enc_paym_4': (np.int64(4), 3),\n",
       " 'enc_paym_5': (np.int64(4), 3),\n",
       " 'enc_paym_6': (np.int64(4), 3),\n",
       " 'enc_paym_7': (np.int64(4), 3),\n",
       " 'enc_paym_8': (np.int64(4), 3),\n",
       " 'enc_paym_9': (np.int64(4), 3),\n",
       " 'enc_paym_10': (np.int64(4), 3),\n",
       " 'enc_paym_11': (np.int64(5), 4),\n",
       " 'enc_paym_12': (np.int64(4), 3),\n",
       " 'enc_paym_13': (np.int64(4), 3),\n",
       " 'enc_paym_14': (np.int64(4), 3),\n",
       " 'enc_paym_15': (np.int64(4), 3),\n",
       " 'enc_paym_16': (np.int64(4), 3),\n",
       " 'enc_paym_17': (np.int64(4), 3),\n",
       " 'enc_paym_18': (np.int64(4), 3),\n",
       " 'enc_paym_19': (np.int64(4), 3),\n",
       " 'enc_paym_20': (np.int64(5), 4),\n",
       " 'enc_paym_21': (np.int64(4), 3),\n",
       " 'enc_paym_22': (np.int64(4), 3),\n",
       " 'enc_paym_23': (np.int64(4), 3),\n",
       " 'enc_paym_24': (np.int64(5), 4),\n",
       " 'enc_loans_account_holder_type': (np.int64(7), 5),\n",
       " 'enc_loans_credit_status': (np.int64(7), 5),\n",
       " 'enc_loans_credit_type': (np.int64(8), 5),\n",
       " 'enc_loans_account_cur': (np.int64(4), 3),\n",
       " 'pclose_flag': (np.int64(2), 2),\n",
       " 'fclose_flag': (np.int64(2), 2)}"
      ]
     },
     "execution_count": 43,
     "metadata": {},
     "output_type": "execute_result"
    }
   ],
   "source": [
    "embedding_projections = {feat: (max(uniq)+1, compute_embed_dim(max(uniq)+1)) for feat, uniq in uniques.items()}\n",
    "embedding_projections"
   ]
  },
  {
   "cell_type": "markdown",
   "metadata": {},
   "source": [
    "* Реализуем модель. Все входные признаки представим в виде эмбеддингов, сконкатенируем, чтобы получить векторное представление транзакции. Подадим последовательности в `GRU` рекуррентный слой. Используем последнее скрытое состояние в качестве выхода слоя. На основе такого входа построим небольшой `MLP`, выступающий классификатором для целевой задачи. Используем градиентный спуск, чтобы решить оптимизационную задачу."
   ]
  },
  {
   "cell_type": "code",
   "execution_count": 44,
   "metadata": {
    "execution": {
     "iopub.execute_input": "2025-04-16T17:34:03.376788Z",
     "iopub.status.busy": "2025-04-16T17:34:03.376531Z",
     "iopub.status.idle": "2025-04-16T17:34:03.416390Z",
     "shell.execute_reply": "2025-04-16T17:34:03.415582Z",
     "shell.execute_reply.started": "2025-04-16T17:34:03.376756Z"
    },
    "trusted": true
   },
   "outputs": [],
   "source": [
    "class RNN_GRU(nn.Module):\n",
    "    def __init__(self, features, embedding_projections, rnn_units=128, top_classifier_units=32, bidirectional=False, num_layers=1, dropout = 0.0):\n",
    "        super(RNN_GRU, self).__init__()\n",
    "       \n",
    "        self._credits_cat_embeddings = nn.ModuleList([\n",
    "            self._create_embedding_projection(*embedding_projections[feature])\n",
    "            for feature in features\n",
    "        ])\n",
    "        self._gru = nn.GRU(input_size=sum([embedding_projections[x][1] for x in features]),\n",
    "                            hidden_size=rnn_units,\n",
    "                            batch_first=True,\n",
    "                            bidirectional=bidirectional,\n",
    "                            num_layers=num_layers,\n",
    "                            dropout = dropout)\n",
    "        self._hidden_size = rnn_units * (2 if bidirectional else 1)\n",
    "        self._top_classifier = nn.Linear(in_features=self._hidden_size, out_features=top_classifier_units)\n",
    "        self._intermediate_activation = nn.ReLU()\n",
    "        self._head = nn.Linear(in_features=top_classifier_units, out_features=1)\n",
    "        \n",
    "    def forward(self, features):\n",
    "        batch_size = features[0].shape[0]\n",
    "        embeddings = [embedding(features[i]) for i, embedding in enumerate(self._credits_cat_embeddings)]\n",
    "        concated_embeddings = torch.cat(embeddings, dim=-1)\n",
    "        \n",
    "        _, last_hidden = self._gru(concated_embeddings)\n",
    "        hidden = last_hidden.permute(1, 2, 0)\n",
    "        hidden = torch.reshape(hidden, (batch_size, self._hidden_size))\n",
    "        \n",
    "        classification_hidden = self._top_classifier(hidden)\n",
    "        activation = self._intermediate_activation(classification_hidden)\n",
    "        raw_output = self._head(activation)\n",
    "        return raw_output\n",
    "        \n",
    "    @classmethod\n",
    "    def _create_embedding_projection(cls, cardinality, embed_size, add_missing=True, padding_idx=0):\n",
    "        add_missing = 1 if add_missing else 0\n",
    "        return nn.Embedding(num_embeddings=cardinality + add_missing, embedding_dim=embed_size, padding_idx=padding_idx)\n"
   ]
  },
  {
   "cell_type": "code",
   "execution_count": 45,
   "metadata": {
    "execution": {
     "iopub.execute_input": "2025-04-16T18:03:19.965190Z",
     "iopub.status.busy": "2025-04-16T18:03:19.964898Z",
     "iopub.status.idle": "2025-04-16T18:03:20.007604Z",
     "shell.execute_reply": "2025-04-16T18:03:20.006938Z",
     "shell.execute_reply.started": "2025-04-16T18:03:19.965165Z"
    },
    "trusted": true
   },
   "outputs": [],
   "source": [
    "class RNN_LSTM(nn.Module):\n",
    "    def __init__(self, features, embedding_projections, rnn_units=128, top_classifier_units=32, bidirectional=False, num_layers=1, dropout = 0.0):\n",
    "        super(RNN_LSTM, self).__init__()\n",
    "       \n",
    "        self._credits_cat_embeddings = nn.ModuleList([\n",
    "            self._create_embedding_projection(*embedding_projections[feature])\n",
    "            for feature in features\n",
    "        ])\n",
    "        input_size = sum([embedding_projections[x][1] for x in features])\n",
    "        self._lstm = nn.LSTM(\n",
    "            input_size=input_size,\n",
    "            hidden_size=rnn_units,\n",
    "            batch_first=True,\n",
    "            bidirectional=bidirectional,\n",
    "            num_layers=num_layers,\n",
    "            dropout = dropout\n",
    "        )\n",
    "        \n",
    "        self._hidden_size = rnn_units * (2 if bidirectional else 1)\n",
    "        self._top_classifier = nn.Linear(in_features=self._hidden_size, out_features=top_classifier_units)\n",
    "        self._intermediate_activation = nn.ReLU()\n",
    "        self._head = nn.Linear(in_features=top_classifier_units, out_features=1)\n",
    "        \n",
    "    def forward(self, features):\n",
    "        batch_size = features[0].shape[0]\n",
    "        embeddings = [embedding(features[i]) for i, embedding in enumerate(self._credits_cat_embeddings)]\n",
    "        concated_embeddings = torch.cat(embeddings, dim=-1)\n",
    "        \n",
    "        _, (hidden, _) = self._lstm(concated_embeddings)\n",
    "        hidden = hidden.permute(1, 2, 0)\n",
    "        hidden = torch.reshape(hidden, (batch_size, self._hidden_size))\n",
    "        \n",
    "        classification_hidden = self._top_classifier(hidden)\n",
    "        activation = self._intermediate_activation(classification_hidden)\n",
    "        raw_output = self._head(activation)\n",
    "        return raw_output\n",
    "        \n",
    "    @classmethod\n",
    "    def _create_embedding_projection(cls, cardinality, embed_size, add_missing=True, padding_idx=0):\n",
    "        add_missing = 1 if add_missing else 0\n",
    "        return nn.Embedding(num_embeddings=cardinality + add_missing, embedding_dim=embed_size, padding_idx=padding_idx)\n"
   ]
  },
  {
   "cell_type": "code",
   "execution_count": 46,
   "metadata": {
    "execution": {
     "iopub.execute_input": "2025-04-16T18:03:25.544555Z",
     "iopub.status.busy": "2025-04-16T18:03:25.544266Z",
     "iopub.status.idle": "2025-04-16T18:03:25.583029Z",
     "shell.execute_reply": "2025-04-16T18:03:25.582270Z",
     "shell.execute_reply.started": "2025-04-16T18:03:25.544533Z"
    },
    "trusted": true
   },
   "outputs": [],
   "source": [
    "class RNN_RNN(nn.Module):\n",
    "    def __init__(self, features, embedding_projections,\n",
    "                 rnn_units=128, top_classifier_units=32,\n",
    "                 bidirectional=False, num_layers=1, dropout = 0.0):\n",
    "        super(RNN_RNN, self).__init__()\n",
    "       \n",
    "        # Проекции эмбеддингов для категориальных признаков\n",
    "        self._credits_cat_embeddings = nn.ModuleList([\n",
    "            self._create_embedding_projection(*embedding_projections[feature])\n",
    "            for feature in features\n",
    "        ])\n",
    "        \n",
    "        # Размер входа в RNN — сумма всех размеров эмбеддингов\n",
    "        input_size = sum(embedding_projections[x][1] for x in features)\n",
    "        \n",
    "        # RNN вместо LSTM\n",
    "        self._rnn = nn.RNN(\n",
    "            input_size=input_size,\n",
    "            hidden_size=rnn_units,\n",
    "            batch_first=True,\n",
    "            bidirectional=bidirectional,\n",
    "            num_layers=num_layers,\n",
    "            dropout = dropout\n",
    "        )\n",
    "        \n",
    "        # Итоговый размер скрытого состояния (учитываем направление)\n",
    "        self._hidden_size = rnn_units * (2 if bidirectional else 1)\n",
    "        \n",
    "        # Верхний классификатор\n",
    "        self._top_classifier = nn.Linear(self._hidden_size, top_classifier_units)\n",
    "        self._intermediate_activation = nn.ReLU()\n",
    "        self._head = nn.Linear(top_classifier_units, 1)\n",
    "        \n",
    "    def forward(self, features):\n",
    "        # features — список тензоров [batch, seq_len] по каждому категориальному фичеру\n",
    "        batch_size = features[0].shape[0]\n",
    "        \n",
    "        # Собираем эмбеддинги и конкатенируем по последнему измерению\n",
    "        embeds = [emb(features[i]) for i, emb in enumerate(self._credits_cat_embeddings)]\n",
    "        x = torch.cat(embeds, dim=-1)  # [batch, seq_len, input_size]\n",
    "        \n",
    "        # Прогоняем через RNN\n",
    "        # output: [batch, seq_len, hidden_size * num_directions]\n",
    "        # hidden: [num_layers * num_directions, batch, hidden_size]\n",
    "        _, hidden = self._rnn(x)\n",
    "        \n",
    "        # Переставляем оси и разворачиваем скрытое состояние\n",
    "        hidden = hidden.permute(1, 2, 0)            # [batch, hidden_size * num_directions, num_layers]\n",
    "        hidden = hidden.reshape(batch_size, self._hidden_size)\n",
    "        \n",
    "        # Классификатор\n",
    "        h = self._top_classifier(hidden)\n",
    "        h = self._intermediate_activation(h)\n",
    "        out = self._head(h)\n",
    "        return out\n",
    "        \n",
    "    @classmethod\n",
    "    def _create_embedding_projection(cls, cardinality, embed_size,\n",
    "                                     add_missing=True, padding_idx=0):\n",
    "        add_missing = 1 if add_missing else 0\n",
    "        return nn.Embedding(\n",
    "            num_embeddings=cardinality + add_missing,\n",
    "            embedding_dim=embed_size,\n",
    "            padding_idx=padding_idx\n",
    "        )\n"
   ]
  },
  {
   "cell_type": "markdown",
   "metadata": {},
   "source": [
    "### 3. Training"
   ]
  },
  {
   "cell_type": "code",
   "execution_count": 47,
   "metadata": {
    "execution": {
     "iopub.execute_input": "2025-04-16T18:03:28.323340Z",
     "iopub.status.busy": "2025-04-16T18:03:28.322989Z",
     "iopub.status.idle": "2025-04-16T18:03:28.358103Z",
     "shell.execute_reply": "2025-04-16T18:03:28.357276Z",
     "shell.execute_reply.started": "2025-04-16T18:03:28.323309Z"
    },
    "trusted": true
   },
   "outputs": [],
   "source": [
    "shutil.rmtree('./checkpoints/', ignore_errors=True)\n",
    "os.makedirs('./checkpoints/', exist_ok=True)"
   ]
  },
  {
   "cell_type": "markdown",
   "metadata": {},
   "source": [
    "* Запустим цикл обучения, каждую эпоху будем логировать лосс, а так же ROC-AUC на валидации и на обучении. Будем сохрнаять веса после каждой эпохи, а так же лучшие с помощью early_stopping."
   ]
  },
  {
   "cell_type": "code",
   "execution_count": 48,
   "metadata": {
    "execution": {
     "iopub.execute_input": "2025-04-16T18:04:51.305948Z",
     "iopub.status.busy": "2025-04-16T18:04:51.305650Z",
     "iopub.status.idle": "2025-04-16T18:04:51.345389Z",
     "shell.execute_reply": "2025-04-16T18:04:51.344537Z",
     "shell.execute_reply.started": "2025-04-16T18:04:51.305924Z"
    },
    "trusted": true
   },
   "outputs": [],
   "source": [
    "\n",
    "def train_model(model, optimizer, dataset_train, dataset_val, num_epochs, \n",
    "                train_batch_size, val_batch_size, path_to_checkpoints, es, device):\n",
    "    \"\"\"\n",
    "    Обучает модель, отслеживая значения ROC AUC для тренировки и валидации.\n",
    "\n",
    "    Возвращает:\n",
    "      best_model_path (str): путь к лучшей модели по валидационному ROC AUC.\n",
    "      best_roc_auc (float): наилучшее значение ROC AUC на валидационной выборке.\n",
    "      train_roc_auc_list (list): список ROC AUC на тренировке по эпохам.\n",
    "      val_roc_auc_list (list): список ROC AUC на валидации по эпохам.\n",
    "    \"\"\"\n",
    "    best_roc_auc = -float(\"inf\")\n",
    "    best_model_path = None\n",
    "    train_roc_auc_list = []\n",
    "    val_roc_auc_list = []\n",
    "    \n",
    "    for epoch in trange(num_epochs, desc=\"Training Epochs\", unit=\"epoch\", leave=True):\n",
    "        # Обучаем модель на тренировочном датасете\n",
    "        train_epoch(model, optimizer, dataset_train, batch_size=train_batch_size, \n",
    "                    shuffle=True, print_loss_every_n_batches=500, device=device)\n",
    "        \n",
    "        # Оцениваем модель на валидационном датасете\n",
    "        current_val_roc_auc = eval_model(model, dataset_val, batch_size=val_batch_size, device=device)\n",
    "        val_roc_auc_list.append(current_val_roc_auc)\n",
    "        \n",
    "        # Оцениваем модель на тренировочном датасете (для контроля переобучения)\n",
    "        current_train_roc_auc = eval_model(model, dataset_train, batch_size=val_batch_size, device=device)\n",
    "        train_roc_auc_list.append(current_train_roc_auc)\n",
    "        \n",
    "        #print(f\"Epoch {epoch+1} completed. Train ROC AUC: {current_train_roc_auc}, Val ROC AUC: {current_val_roc_auc}\")\n",
    "       \n",
    "        es(current_val_roc_auc, model)\n",
    "        if es.early_stop:\n",
    "            print(\"Early stopping reached. Stop training...\")\n",
    "            break\n",
    "        \n",
    "        # Сохраняем чекпоинт текущей эпохи (для истории)\n",
    "        checkpoint_path = os.path.join(path_to_checkpoints, f\"epoch_{epoch+1}_val_{current_val_roc_auc:.3f}.pt\")\n",
    "        torch.save(model.state_dict(), checkpoint_path)\n",
    "    \n",
    "    #print(f\"Training finished. Best model saved at: {best_model_path} with Val ROC AUC: {best_roc_auc}\")\n",
    "    \n",
    "    return best_model_path, best_roc_auc, train_roc_auc_list, val_roc_auc_list\n"
   ]
  },
  {
   "cell_type": "code",
   "execution_count": 49,
   "metadata": {
    "trusted": true
   },
   "outputs": [],
   "source": [
    "experiment_configs = [\n",
    "    {\n",
    "        \"name\": \"exp_RNN_adam_lr_001_rnn_units128_tpu32_bd0\",\n",
    "        \"model_name\": RNN_RNN,  \n",
    "        \"optimizer\": \"adam\",\n",
    "        \"optimizer_params\": {\n",
    "             \"lr\": 0.001,\n",
    "            },\n",
    "        \"num_epochs\": 20,\n",
    "        \"train_batch_size\": 128,\n",
    "        \"val_batch_size\": 128,\n",
    "        \"model_params\": {\n",
    "            \"features\":features,\n",
    "            \"embedding_projections\": embedding_projections,\n",
    "            \"rnn_units\": 128,\n",
    "            \"top_classifier_units\": 32,\n",
    "            \"bidirectional\": False,\n",
    "            \"num_layers\": 1,\n",
    "            \"dropout\":0.0\n",
    "            },\n",
    "        \"early_stopping_patience\": 3\n",
    "    },\n",
    "    {\n",
    "        \"name\": \"exp_RNN_adam_lr_001_rnn_units64_tpu32_bd0\",\n",
    "        \"model_name\": RNN_RNN,  \n",
    "        \"optimizer\": \"adam\",\n",
    "        \"optimizer_params\": {\n",
    "             \"lr\": 0.001,\n",
    "            },\n",
    "        \"num_epochs\": 20,\n",
    "        \"train_batch_size\": 128,\n",
    "        \"val_batch_size\": 128,\n",
    "        \"model_params\": {\n",
    "            \"features\":features,\n",
    "            \"embedding_projections\": embedding_projections,\n",
    "            \"rnn_units\": 64,\n",
    "            \"top_classifier_units\": 32,\n",
    "            \"bidirectional\": False,\n",
    "            \"num_layers\": 1,\n",
    "            \"dropout\":0.0\n",
    "            },\n",
    "        \"early_stopping_patience\": 3\n",
    "    },\n",
    "    {\n",
    "        \"name\": \"exp_RNN_adam_lr_001_rnn_units128_tpu32_bd1\",\n",
    "        \"model_name\": RNN_RNN,  \n",
    "        \"optimizer\": \"adam\",\n",
    "        \"optimizer_params\": {\n",
    "             \"lr\": 0.001,\n",
    "            },\n",
    "        \"num_epochs\": 20,\n",
    "        \"train_batch_size\": 128,\n",
    "        \"val_batch_size\": 128,\n",
    "        \"model_params\": {\n",
    "            \"features\":features,\n",
    "            \"embedding_projections\": embedding_projections,\n",
    "            \"rnn_units\": 128,\n",
    "            \"top_classifier_units\": 32,\n",
    "            \"bidirectional\": True,\n",
    "            \"num_layers\": 1,\n",
    "            \"dropout\":0.0\n",
    "            },\n",
    "        \"early_stopping_patience\": 3\n",
    "    },\n",
    "    {\n",
    "        \"name\": \"exp_RNN_adam_lr_001_rnn_units128_tpu32_bd0_dp2\",\n",
    "        \"model_name\": RNN_RNN,  \n",
    "        \"optimizer\": \"adam\",\n",
    "        \"optimizer_params\": {\n",
    "             \"lr\": 0.001,\n",
    "            },\n",
    "        \"num_epochs\": 20,\n",
    "        \"train_batch_size\": 128,\n",
    "        \"val_batch_size\": 128,\n",
    "        \"model_params\": {\n",
    "            \"features\":features,\n",
    "            \"embedding_projections\": embedding_projections,\n",
    "            \"rnn_units\": 128,\n",
    "            \"top_classifier_units\": 32,\n",
    "            \"bidirectional\": False,\n",
    "            \"num_layers\": 1,\n",
    "            \"dropout\":0.2\n",
    "            },\n",
    "        \"early_stopping_patience\": 3\n",
    "    },\n",
    "    {\n",
    "        \"name\": \"exp_RNN_adam_lr_001_rnn_units128_tpu32_bd0_dp5\",\n",
    "        \"model_name\": RNN_RNN,  \n",
    "        \"optimizer\": \"adam\",\n",
    "        \"optimizer_params\": {\n",
    "             \"lr\": 0.001,\n",
    "            },\n",
    "        \"num_epochs\": 20,\n",
    "        \"train_batch_size\": 128,\n",
    "        \"val_batch_size\": 128,\n",
    "        \"model_params\": {\n",
    "            \"features\":features,\n",
    "            \"embedding_projections\": embedding_projections,\n",
    "            \"rnn_units\": 128,\n",
    "            \"top_classifier_units\": 32,\n",
    "            \"bidirectional\": False,\n",
    "            \"num_layers\": 1,\n",
    "            \"dropout\":0.5\n",
    "            },\n",
    "        \"early_stopping_patience\": 3\n",
    "    },\n",
    "    {\n",
    "        \"name\": \"exp_GRU_adam_lr_001_rnn_units64_tpu32_bd0_dp0_nl1\",\n",
    "        \"model_name\": RNN_GRU,  \n",
    "        \"optimizer\": \"adam\",\n",
    "        \"optimizer_params\": {\n",
    "             \"lr\": 0.001,\n",
    "            },\n",
    "        \"num_epochs\": 20,\n",
    "        \"train_batch_size\": 128,\n",
    "        \"val_batch_size\": 128,\n",
    "        \"model_params\": {\n",
    "            \"features\":features,\n",
    "            \"embedding_projections\": embedding_projections,\n",
    "            \"rnn_units\": 64,\n",
    "            \"top_classifier_units\": 32,\n",
    "            \"bidirectional\": False,\n",
    "            \"num_layers\": 1,\n",
    "            \"dropout\":0.0\n",
    "            },\n",
    "        \"early_stopping_patience\": 3\n",
    "    },\n",
    "    {\n",
    "        \"name\": \"exp_GRU_adam_lr_001_rnn_units64_tpu32_bd0_dp2_nl1\",\n",
    "        \"model_name\": RNN_GRU,  \n",
    "        \"optimizer\": \"adam\",\n",
    "        \"optimizer_params\": {\n",
    "             \"lr\": 0.001,\n",
    "            },\n",
    "        \"num_epochs\": 20,\n",
    "        \"train_batch_size\": 128,\n",
    "        \"val_batch_size\": 128,\n",
    "        \"model_params\": {\n",
    "            \"features\":features,\n",
    "            \"embedding_projections\": embedding_projections,\n",
    "            \"rnn_units\": 64,\n",
    "            \"top_classifier_units\": 32,\n",
    "            \"bidirectional\": False,\n",
    "            \"num_layers\": 1,\n",
    "            \"dropout\":0.2\n",
    "            },\n",
    "        \"early_stopping_patience\": 3\n",
    "    },\n",
    "    {\n",
    "        \"name\": \"exp_GRU_adam_lr_001_rnn_units64_tpu32_bd0_dp0_nl1\",\n",
    "        \"model_name\": RNN_GRU,  \n",
    "        \"optimizer\": \"adam\",\n",
    "        \"optimizer_params\": {\n",
    "             \"lr\": 0.001,\n",
    "            },\n",
    "        \"num_epochs\": 20,\n",
    "        \"train_batch_size\": 128,\n",
    "        \"val_batch_size\": 128,\n",
    "        \"model_params\": {\n",
    "            \"features\":features,\n",
    "            \"embedding_projections\": embedding_projections,\n",
    "            \"rnn_units\": 64,\n",
    "            \"top_classifier_units\": 32,\n",
    "            \"bidirectional\": False,\n",
    "            \"num_layers\": 1,\n",
    "            \"dropout\":0.5\n",
    "            },\n",
    "        \"early_stopping_patience\": 3\n",
    "    },\n",
    "    {\n",
    "        \"name\": \"exp_GRU_adam_lr_001_rnn_units64_tpu32_bd1_dp5_nl1\",\n",
    "        \"model_name\": RNN_GRU,  \n",
    "        \"optimizer\": \"adam\",\n",
    "        \"optimizer_params\": {\n",
    "             \"lr\": 0.001,\n",
    "            },\n",
    "        \"num_epochs\": 20,\n",
    "        \"train_batch_size\": 128,\n",
    "        \"val_batch_size\": 128,\n",
    "        \"model_params\": {\n",
    "            \"features\":features,\n",
    "            \"embedding_projections\": embedding_projections,\n",
    "            \"rnn_units\": 64,\n",
    "            \"top_classifier_units\": 32,\n",
    "            \"bidirectional\": True,\n",
    "            \"num_layers\": 1,\n",
    "            \"dropout\":0.5\n",
    "            },\n",
    "        \"early_stopping_patience\": 3\n",
    "    },\n",
    "    {\n",
    "        \"name\": \"exp_LSTM_adam_lr_001_rnn_units64_tpu32_bd0_dp0_nl1\",\n",
    "        \"model_name\": RNN_LSTM,  \n",
    "        \"optimizer\": \"adam\",\n",
    "        \"optimizer_params\": {\n",
    "             \"lr\": 0.001,\n",
    "            },\n",
    "        \"num_epochs\": 20,\n",
    "        \"train_batch_size\": 128,\n",
    "        \"val_batch_size\": 128,\n",
    "        \"model_params\": {\n",
    "            \"features\":features,\n",
    "            \"embedding_projections\": embedding_projections,\n",
    "            \"rnn_units\": 64,\n",
    "            \"top_classifier_units\": 32,\n",
    "            \"bidirectional\": False,\n",
    "            \"num_layers\": 1,\n",
    "            \"dropout\":0.0\n",
    "            },\n",
    "        \"early_stopping_patience\": 3\n",
    "    },\n",
    "    {\n",
    "        \"name\": \"exp_LSTM_adam_lr_001_rnn_units64_tpu32_bd1_dp0_nl1\",\n",
    "        \"model_name\": RNN_LSTM,  \n",
    "        \"optimizer\": \"adam\",\n",
    "        \"optimizer_params\": {\n",
    "             \"lr\": 0.001,\n",
    "            },\n",
    "        \"num_epochs\": 20,\n",
    "        \"train_batch_size\": 128,\n",
    "        \"val_batch_size\": 128,\n",
    "        \"model_params\": {\n",
    "            \"features\":features,\n",
    "            \"embedding_projections\": embedding_projections,\n",
    "            \"rnn_units\": 64,\n",
    "            \"top_classifier_units\": 32,\n",
    "            \"bidirectional\": True,\n",
    "            \"num_layers\": 1,\n",
    "            \"dropout\":0.0\n",
    "            },\n",
    "        \"early_stopping_patience\": 3\n",
    "    },\n",
    "    {\n",
    "        \"name\": \"exp_LSTM_adam_lr_001_rnn_units64_tpu32_bd1_dp5_nl1\",\n",
    "        \"model_name\": RNN_LSTM,  \n",
    "        \"optimizer\": \"adam\",\n",
    "        \"optimizer_params\": {\n",
    "             \"lr\": 0.001,\n",
    "            },\n",
    "        \"num_epochs\": 20,\n",
    "        \"train_batch_size\": 128,\n",
    "        \"val_batch_size\": 128,\n",
    "        \"model_params\": {\n",
    "            \"features\":features,\n",
    "            \"embedding_projections\": embedding_projections,\n",
    "            \"rnn_units\": 64,\n",
    "            \"top_classifier_units\": 32,\n",
    "            \"bidirectional\": True,\n",
    "            \"num_layers\": 1,\n",
    "            \"dropout\":0.5\n",
    "            },\n",
    "        \"early_stopping_patience\": 3\n",
    "    },\n",
    "    {\n",
    "        \"name\": \"exp_LSTM_adam_lr_001_rnn_units64_tpu32_bd1_dp5_nl2\",\n",
    "        \"model_name\": RNN_LSTM,  \n",
    "        \"optimizer\": \"adam\",\n",
    "        \"optimizer_params\": {\n",
    "             \"lr\": 0.001,\n",
    "            },\n",
    "        \"num_epochs\": 20,\n",
    "        \"train_batch_size\": 128,\n",
    "        \"val_batch_size\": 128,\n",
    "        \"model_params\": {\n",
    "            \"features\":features,\n",
    "            \"embedding_projections\": embedding_projections,\n",
    "            \"rnn_units\": 64,\n",
    "            \"top_classifier_units\": 32,\n",
    "            \"bidirectional\": True,\n",
    "            \"num_layers\": 2,\n",
    "            \"dropout\":0.5\n",
    "            },\n",
    "        \"early_stopping_patience\": 3\n",
    "    },\n",
    "    \n",
    "    \n",
    "]"
   ]
  },
  {
   "cell_type": "code",
   "execution_count": 50,
   "metadata": {
    "trusted": true
   },
   "outputs": [
    {
     "name": "stdout",
     "output_type": "stream",
     "text": [
      "13\n"
     ]
    }
   ],
   "source": [
    "print(len(experiment_configs))"
   ]
  },
  {
   "cell_type": "code",
   "execution_count": 51,
   "metadata": {
    "execution": {
     "iopub.execute_input": "2025-04-16T18:11:51.494984Z",
     "iopub.status.busy": "2025-04-16T18:11:51.494645Z"
    },
    "trusted": true
   },
   "outputs": [
    {
     "name": "stderr",
     "output_type": "stream",
     "text": [
      "Experiments:   0%|          | 0/13 [00:00<?, ?experiment/s]"
     ]
    },
    {
     "name": "stdout",
     "output_type": "stream",
     "text": [
      "\n",
      "========================================\n",
      "Starting experiment: exp_RNN_adam_lr_001_rnn_units128_tpu32_bd0\n"
     ]
    },
    {
     "name": "stderr",
     "output_type": "stream",
     "text": []
    },
    {
     "data": {
      "application/vnd.jupyter.widget-view+json": {
       "model_id": "0c881c47d4454a759aa712cbb3392506",
       "version_major": 2,
       "version_minor": 0
      },
      "text/plain": [
       "Training: 0it [00:00, ?it/s]"
      ]
     },
     "metadata": {},
     "output_type": "display_data"
    },
    {
     "name": "stdout",
     "output_type": "stream",
     "text": [
      "Training loss after epoch: 0.13983684778213588\r"
     ]
    },
    {
     "data": {
      "application/vnd.jupyter.widget-view+json": {
       "model_id": "143d6090113547e6963dedcea4905c3a",
       "version_major": 2,
       "version_minor": 0
      },
      "text/plain": [
       "Evaluating model: 0it [00:00, ?it/s]"
      ]
     },
     "metadata": {},
     "output_type": "display_data"
    },
    {
     "data": {
      "application/vnd.jupyter.widget-view+json": {
       "model_id": "8e08ce01207046b4a9cc124555d1d5bf",
       "version_major": 2,
       "version_minor": 0
      },
      "text/plain": [
       "Evaluating model: 0it [00:00, ?it/s]"
      ]
     },
     "metadata": {},
     "output_type": "display_data"
    },
    {
     "name": "stderr",
     "output_type": "stream",
     "text": []
    },
    {
     "data": {
      "application/vnd.jupyter.widget-view+json": {
       "model_id": "adb7198bf2ca48889bc457a7f45c7472",
       "version_major": 2,
       "version_minor": 0
      },
      "text/plain": [
       "Training: 0it [00:00, ?it/s]"
      ]
     },
     "metadata": {},
     "output_type": "display_data"
    },
    {
     "name": "stdout",
     "output_type": "stream",
     "text": [
      "Training loss after epoch: 0.13756170868873596\r"
     ]
    },
    {
     "data": {
      "application/vnd.jupyter.widget-view+json": {
       "model_id": "3edd5b0640a54b25a2e2ed4aeeb02628",
       "version_major": 2,
       "version_minor": 0
      },
      "text/plain": [
       "Evaluating model: 0it [00:00, ?it/s]"
      ]
     },
     "metadata": {},
     "output_type": "display_data"
    },
    {
     "data": {
      "application/vnd.jupyter.widget-view+json": {
       "model_id": "c6cc2cc788e140d2824435b5bc00141c",
       "version_major": 2,
       "version_minor": 0
      },
      "text/plain": [
       "Evaluating model: 0it [00:00, ?it/s]"
      ]
     },
     "metadata": {},
     "output_type": "display_data"
    },
    {
     "name": "stderr",
     "output_type": "stream",
     "text": []
    },
    {
     "data": {
      "application/vnd.jupyter.widget-view+json": {
       "model_id": "e9f6c2720ef045cbb5e67621d162f790",
       "version_major": 2,
       "version_minor": 0
      },
      "text/plain": [
       "Training: 0it [00:00, ?it/s]"
      ]
     },
     "metadata": {},
     "output_type": "display_data"
    },
    {
     "name": "stdout",
     "output_type": "stream",
     "text": [
      "Training loss after epoch: 0.13691216707229614\r"
     ]
    },
    {
     "data": {
      "application/vnd.jupyter.widget-view+json": {
       "model_id": "8e74df2d088f4a83848b252c60eb0b29",
       "version_major": 2,
       "version_minor": 0
      },
      "text/plain": [
       "Evaluating model: 0it [00:00, ?it/s]"
      ]
     },
     "metadata": {},
     "output_type": "display_data"
    },
    {
     "data": {
      "application/vnd.jupyter.widget-view+json": {
       "model_id": "01e6ca36ef6940e5a10f740f5aa53bac",
       "version_major": 2,
       "version_minor": 0
      },
      "text/plain": [
       "Evaluating model: 0it [00:00, ?it/s]"
      ]
     },
     "metadata": {},
     "output_type": "display_data"
    },
    {
     "name": "stderr",
     "output_type": "stream",
     "text": []
    },
    {
     "name": "stdout",
     "output_type": "stream",
     "text": [
      "No imporvement in validation metric. Current: -0.764597. Current best: -0.748413\n",
      "EarlyStopping counter: 1 out of 3\n"
     ]
    },
    {
     "data": {
      "application/vnd.jupyter.widget-view+json": {
       "model_id": "630c2350381441899b6e20b7d3c36ebf",
       "version_major": 2,
       "version_minor": 0
      },
      "text/plain": [
       "Training: 0it [00:00, ?it/s]"
      ]
     },
     "metadata": {},
     "output_type": "display_data"
    },
    {
     "name": "stdout",
     "output_type": "stream",
     "text": [
      "Training loss after epoch: 0.13649725914001465\r"
     ]
    },
    {
     "data": {
      "application/vnd.jupyter.widget-view+json": {
       "model_id": "79308d293d37457cb47af9e4c6509d10",
       "version_major": 2,
       "version_minor": 0
      },
      "text/plain": [
       "Evaluating model: 0it [00:00, ?it/s]"
      ]
     },
     "metadata": {},
     "output_type": "display_data"
    },
    {
     "data": {
      "application/vnd.jupyter.widget-view+json": {
       "model_id": "87104485924843309aa0d6baa23a313d",
       "version_major": 2,
       "version_minor": 0
      },
      "text/plain": [
       "Evaluating model: 0it [00:00, ?it/s]"
      ]
     },
     "metadata": {},
     "output_type": "display_data"
    },
    {
     "name": "stderr",
     "output_type": "stream",
     "text": []
    },
    {
     "name": "stdout",
     "output_type": "stream",
     "text": [
      "No imporvement in validation metric. Current: -0.766076. Current best: -0.748413\n",
      "EarlyStopping counter: 2 out of 3\n"
     ]
    },
    {
     "data": {
      "application/vnd.jupyter.widget-view+json": {
       "model_id": "40825ba7e2c34e3ca898c38d43f8620a",
       "version_major": 2,
       "version_minor": 0
      },
      "text/plain": [
       "Training: 0it [00:00, ?it/s]"
      ]
     },
     "metadata": {},
     "output_type": "display_data"
    },
    {
     "name": "stdout",
     "output_type": "stream",
     "text": [
      "Training loss after epoch: 0.13624426722526553\r"
     ]
    },
    {
     "data": {
      "application/vnd.jupyter.widget-view+json": {
       "model_id": "4e9500d3cf484bba8114389d8dac029a",
       "version_major": 2,
       "version_minor": 0
      },
      "text/plain": [
       "Evaluating model: 0it [00:00, ?it/s]"
      ]
     },
     "metadata": {},
     "output_type": "display_data"
    },
    {
     "data": {
      "application/vnd.jupyter.widget-view+json": {
       "model_id": "51a389a56e314a339ac4cde136265a32",
       "version_major": 2,
       "version_minor": 0
      },
      "text/plain": [
       "Evaluating model: 0it [00:00, ?it/s]"
      ]
     },
     "metadata": {},
     "output_type": "display_data"
    },
    {
     "name": "stderr",
     "output_type": "stream",
     "text": [
      "Training Epochs:  20%|██        | 4/20 [21:12<1:24:51, 318.22s/epoch]\n",
      "Experiments:   8%|▊         | 1/13 [21:13<4:14:37, 1273.09s/experiment]"
     ]
    },
    {
     "name": "stdout",
     "output_type": "stream",
     "text": [
      "No imporvement in validation metric. Current: -0.766554. Current best: -0.748413\n",
      "EarlyStopping counter: 3 out of 3\n",
      "Early stopping reached. Stop training...\n",
      "Experiment exp_RNN_adam_lr_001_rnn_units128_tpu32_bd0 finished. Best model saved at: None\n",
      "\n",
      "========================================\n",
      "Starting experiment: exp_RNN_adam_lr_001_rnn_units64_tpu32_bd0\n"
     ]
    },
    {
     "name": "stderr",
     "output_type": "stream",
     "text": []
    },
    {
     "data": {
      "application/vnd.jupyter.widget-view+json": {
       "model_id": "d83451bb9cd94e56a7e9c9578fd6b020",
       "version_major": 2,
       "version_minor": 0
      },
      "text/plain": [
       "Training: 0it [00:00, ?it/s]"
      ]
     },
     "metadata": {},
     "output_type": "display_data"
    },
    {
     "name": "stdout",
     "output_type": "stream",
     "text": [
      "Training loss after epoch: 0.13982212543487558\r"
     ]
    },
    {
     "data": {
      "application/vnd.jupyter.widget-view+json": {
       "model_id": "e28136c8508e4d1fb31eee78f9f13cff",
       "version_major": 2,
       "version_minor": 0
      },
      "text/plain": [
       "Evaluating model: 0it [00:00, ?it/s]"
      ]
     },
     "metadata": {},
     "output_type": "display_data"
    },
    {
     "data": {
      "application/vnd.jupyter.widget-view+json": {
       "model_id": "d2da1025f27845e5915ec427e84b44ec",
       "version_major": 2,
       "version_minor": 0
      },
      "text/plain": [
       "Evaluating model: 0it [00:00, ?it/s]"
      ]
     },
     "metadata": {},
     "output_type": "display_data"
    },
    {
     "name": "stderr",
     "output_type": "stream",
     "text": []
    },
    {
     "data": {
      "application/vnd.jupyter.widget-view+json": {
       "model_id": "c93849ad6b8e4744b7ffa71c6e2419b7",
       "version_major": 2,
       "version_minor": 0
      },
      "text/plain": [
       "Training: 0it [00:00, ?it/s]"
      ]
     },
     "metadata": {},
     "output_type": "display_data"
    },
    {
     "name": "stdout",
     "output_type": "stream",
     "text": [
      "Training loss after epoch: 0.13755796849727637\r"
     ]
    },
    {
     "data": {
      "application/vnd.jupyter.widget-view+json": {
       "model_id": "413228966c254818a23923a58373fb44",
       "version_major": 2,
       "version_minor": 0
      },
      "text/plain": [
       "Evaluating model: 0it [00:00, ?it/s]"
      ]
     },
     "metadata": {},
     "output_type": "display_data"
    },
    {
     "data": {
      "application/vnd.jupyter.widget-view+json": {
       "model_id": "719e6b9769b746faafdcfc2e98fbdc44",
       "version_major": 2,
       "version_minor": 0
      },
      "text/plain": [
       "Evaluating model: 0it [00:00, ?it/s]"
      ]
     },
     "metadata": {},
     "output_type": "display_data"
    },
    {
     "name": "stderr",
     "output_type": "stream",
     "text": []
    },
    {
     "name": "stdout",
     "output_type": "stream",
     "text": [
      "No imporvement in validation metric. Current: -0.756783. Current best: -0.753441\n",
      "EarlyStopping counter: 1 out of 3\n"
     ]
    },
    {
     "data": {
      "application/vnd.jupyter.widget-view+json": {
       "model_id": "ecfd84f6d8ca48f58d6e2bfcdaf49041",
       "version_major": 2,
       "version_minor": 0
      },
      "text/plain": [
       "Training: 0it [00:00, ?it/s]"
      ]
     },
     "metadata": {},
     "output_type": "display_data"
    },
    {
     "name": "stdout",
     "output_type": "stream",
     "text": [
      "Training loss after epoch: 0.13695824146270752\r"
     ]
    },
    {
     "data": {
      "application/vnd.jupyter.widget-view+json": {
       "model_id": "ce3b6a011ab648efb48ebb0ffc327047",
       "version_major": 2,
       "version_minor": 0
      },
      "text/plain": [
       "Evaluating model: 0it [00:00, ?it/s]"
      ]
     },
     "metadata": {},
     "output_type": "display_data"
    },
    {
     "data": {
      "application/vnd.jupyter.widget-view+json": {
       "model_id": "1d0cef28f4e74772a9ee92c18dec3403",
       "version_major": 2,
       "version_minor": 0
      },
      "text/plain": [
       "Evaluating model: 0it [00:00, ?it/s]"
      ]
     },
     "metadata": {},
     "output_type": "display_data"
    },
    {
     "name": "stderr",
     "output_type": "stream",
     "text": []
    },
    {
     "name": "stdout",
     "output_type": "stream",
     "text": [
      "No imporvement in validation metric. Current: -0.761400. Current best: -0.753441\n",
      "EarlyStopping counter: 2 out of 3\n"
     ]
    },
    {
     "data": {
      "application/vnd.jupyter.widget-view+json": {
       "model_id": "d43ccf1ae195466a92eed6a8ca16b02f",
       "version_major": 2,
       "version_minor": 0
      },
      "text/plain": [
       "Training: 0it [00:00, ?it/s]"
      ]
     },
     "metadata": {},
     "output_type": "display_data"
    },
    {
     "name": "stdout",
     "output_type": "stream",
     "text": [
      "Training loss after epoch: 0.13658429682254792\r"
     ]
    },
    {
     "data": {
      "application/vnd.jupyter.widget-view+json": {
       "model_id": "c27cc34dd11940758dbefb8de7e7f9c1",
       "version_major": 2,
       "version_minor": 0
      },
      "text/plain": [
       "Evaluating model: 0it [00:00, ?it/s]"
      ]
     },
     "metadata": {},
     "output_type": "display_data"
    },
    {
     "data": {
      "application/vnd.jupyter.widget-view+json": {
       "model_id": "56d43500f1ca45669f17225e82ddfc67",
       "version_major": 2,
       "version_minor": 0
      },
      "text/plain": [
       "Evaluating model: 0it [00:00, ?it/s]"
      ]
     },
     "metadata": {},
     "output_type": "display_data"
    },
    {
     "name": "stderr",
     "output_type": "stream",
     "text": [
      "Training Epochs:  15%|█▌        | 3/20 [16:24<1:32:58, 328.17s/epoch]\n",
      "Experiments:  15%|█▌        | 2/13 [37:37<3:22:16, 1103.34s/experiment]"
     ]
    },
    {
     "name": "stdout",
     "output_type": "stream",
     "text": [
      "No imporvement in validation metric. Current: -0.763519. Current best: -0.753441\n",
      "EarlyStopping counter: 3 out of 3\n",
      "Early stopping reached. Stop training...\n",
      "Experiment exp_RNN_adam_lr_001_rnn_units64_tpu32_bd0 finished. Best model saved at: None\n",
      "\n",
      "========================================\n",
      "Starting experiment: exp_RNN_adam_lr_001_rnn_units128_tpu32_bd1\n"
     ]
    },
    {
     "name": "stderr",
     "output_type": "stream",
     "text": []
    },
    {
     "data": {
      "application/vnd.jupyter.widget-view+json": {
       "model_id": "fd794f79e12b454faa30ec83bef36f88",
       "version_major": 2,
       "version_minor": 0
      },
      "text/plain": [
       "Training: 0it [00:00, ?it/s]"
      ]
     },
     "metadata": {},
     "output_type": "display_data"
    },
    {
     "name": "stdout",
     "output_type": "stream",
     "text": [
      "Training loss after epoch: 0.13948404788970947\r"
     ]
    },
    {
     "data": {
      "application/vnd.jupyter.widget-view+json": {
       "model_id": "9fdc69b02daf4e95bbe67b7a2bb4c715",
       "version_major": 2,
       "version_minor": 0
      },
      "text/plain": [
       "Evaluating model: 0it [00:00, ?it/s]"
      ]
     },
     "metadata": {},
     "output_type": "display_data"
    },
    {
     "data": {
      "application/vnd.jupyter.widget-view+json": {
       "model_id": "96c9cb0a75414800a541076f9995e307",
       "version_major": 2,
       "version_minor": 0
      },
      "text/plain": [
       "Evaluating model: 0it [00:00, ?it/s]"
      ]
     },
     "metadata": {},
     "output_type": "display_data"
    },
    {
     "name": "stderr",
     "output_type": "stream",
     "text": []
    },
    {
     "data": {
      "application/vnd.jupyter.widget-view+json": {
       "model_id": "31fe75994c624873add522941b555ab5",
       "version_major": 2,
       "version_minor": 0
      },
      "text/plain": [
       "Training: 0it [00:00, ?it/s]"
      ]
     },
     "metadata": {},
     "output_type": "display_data"
    },
    {
     "name": "stdout",
     "output_type": "stream",
     "text": [
      "Training loss after epoch: 0.13700601458549578\r"
     ]
    },
    {
     "data": {
      "application/vnd.jupyter.widget-view+json": {
       "model_id": "8590021905464e189c9b6b03b541f8c7",
       "version_major": 2,
       "version_minor": 0
      },
      "text/plain": [
       "Evaluating model: 0it [00:00, ?it/s]"
      ]
     },
     "metadata": {},
     "output_type": "display_data"
    },
    {
     "data": {
      "application/vnd.jupyter.widget-view+json": {
       "model_id": "36f2f30bc1ce42eeaaed9117c21536d9",
       "version_major": 2,
       "version_minor": 0
      },
      "text/plain": [
       "Evaluating model: 0it [00:00, ?it/s]"
      ]
     },
     "metadata": {},
     "output_type": "display_data"
    },
    {
     "name": "stderr",
     "output_type": "stream",
     "text": []
    },
    {
     "data": {
      "application/vnd.jupyter.widget-view+json": {
       "model_id": "a6590e12e0df478188926f1da06cc462",
       "version_major": 2,
       "version_minor": 0
      },
      "text/plain": [
       "Training: 0it [00:00, ?it/s]"
      ]
     },
     "metadata": {},
     "output_type": "display_data"
    },
    {
     "name": "stdout",
     "output_type": "stream",
     "text": [
      "Training loss after epoch: 0.13634872436523438\r"
     ]
    },
    {
     "data": {
      "application/vnd.jupyter.widget-view+json": {
       "model_id": "90c2077d643845c4b379b4445bcf57d2",
       "version_major": 2,
       "version_minor": 0
      },
      "text/plain": [
       "Evaluating model: 0it [00:00, ?it/s]"
      ]
     },
     "metadata": {},
     "output_type": "display_data"
    },
    {
     "data": {
      "application/vnd.jupyter.widget-view+json": {
       "model_id": "aef7cd6120124c2fa7e7b1ffeeac6952",
       "version_major": 2,
       "version_minor": 0
      },
      "text/plain": [
       "Evaluating model: 0it [00:00, ?it/s]"
      ]
     },
     "metadata": {},
     "output_type": "display_data"
    },
    {
     "name": "stderr",
     "output_type": "stream",
     "text": []
    },
    {
     "name": "stdout",
     "output_type": "stream",
     "text": [
      "No imporvement in validation metric. Current: -0.766288. Current best: -0.757879\n",
      "EarlyStopping counter: 1 out of 3\n"
     ]
    },
    {
     "data": {
      "application/vnd.jupyter.widget-view+json": {
       "model_id": "faedd703711d46b2a23077c7d972da69",
       "version_major": 2,
       "version_minor": 0
      },
      "text/plain": [
       "Training: 0it [00:00, ?it/s]"
      ]
     },
     "metadata": {},
     "output_type": "display_data"
    },
    {
     "name": "stdout",
     "output_type": "stream",
     "text": [
      "Training loss after epoch: 0.13601458072662354\r"
     ]
    },
    {
     "data": {
      "application/vnd.jupyter.widget-view+json": {
       "model_id": "59f71723c63e46a0bbcd7ae94c088cfb",
       "version_major": 2,
       "version_minor": 0
      },
      "text/plain": [
       "Evaluating model: 0it [00:00, ?it/s]"
      ]
     },
     "metadata": {},
     "output_type": "display_data"
    },
    {
     "data": {
      "application/vnd.jupyter.widget-view+json": {
       "model_id": "e3608ec591f8403cb710f5e94587712f",
       "version_major": 2,
       "version_minor": 0
      },
      "text/plain": [
       "Evaluating model: 0it [00:00, ?it/s]"
      ]
     },
     "metadata": {},
     "output_type": "display_data"
    },
    {
     "name": "stderr",
     "output_type": "stream",
     "text": []
    },
    {
     "name": "stdout",
     "output_type": "stream",
     "text": [
      "No imporvement in validation metric. Current: -0.764490. Current best: -0.757879\n",
      "EarlyStopping counter: 2 out of 3\n"
     ]
    },
    {
     "data": {
      "application/vnd.jupyter.widget-view+json": {
       "model_id": "bf6245bb81744b4b812d712a58869c11",
       "version_major": 2,
       "version_minor": 0
      },
      "text/plain": [
       "Training: 0it [00:00, ?it/s]"
      ]
     },
     "metadata": {},
     "output_type": "display_data"
    },
    {
     "name": "stdout",
     "output_type": "stream",
     "text": [
      "Training loss after epoch: 0.13569286465644836\r"
     ]
    },
    {
     "data": {
      "application/vnd.jupyter.widget-view+json": {
       "model_id": "70dd8cab74624c349f65dffcd16cbe3e",
       "version_major": 2,
       "version_minor": 0
      },
      "text/plain": [
       "Evaluating model: 0it [00:00, ?it/s]"
      ]
     },
     "metadata": {},
     "output_type": "display_data"
    },
    {
     "data": {
      "application/vnd.jupyter.widget-view+json": {
       "model_id": "1d4fcfdcf0704c2ba26757dea4d1d52e",
       "version_major": 2,
       "version_minor": 0
      },
      "text/plain": [
       "Evaluating model: 0it [00:00, ?it/s]"
      ]
     },
     "metadata": {},
     "output_type": "display_data"
    },
    {
     "name": "stderr",
     "output_type": "stream",
     "text": [
      "Training Epochs:  20%|██        | 4/20 [21:32<1:26:10, 323.14s/epoch]\n",
      "Experiments:  23%|██▎       | 3/13 [59:10<3:18:17, 1189.74s/experiment]c:\\Users\\AltSp\\.conda\\envs\\pytorch_env\\lib\\site-packages\\torch\\nn\\modules\\rnn.py:123: UserWarning: dropout option adds dropout after all but last recurrent layer, so non-zero dropout expects num_layers greater than 1, but got dropout=0.2 and num_layers=1\n",
      "  warnings.warn(\n"
     ]
    },
    {
     "name": "stdout",
     "output_type": "stream",
     "text": [
      "No imporvement in validation metric. Current: -0.768627. Current best: -0.757879\n",
      "EarlyStopping counter: 3 out of 3\n",
      "Early stopping reached. Stop training...\n",
      "Experiment exp_RNN_adam_lr_001_rnn_units128_tpu32_bd1 finished. Best model saved at: None\n",
      "\n",
      "========================================\n",
      "Starting experiment: exp_RNN_adam_lr_001_rnn_units128_tpu32_bd0_dp2\n"
     ]
    },
    {
     "name": "stderr",
     "output_type": "stream",
     "text": []
    },
    {
     "data": {
      "application/vnd.jupyter.widget-view+json": {
       "model_id": "8e2bd903df584a87a2f7581a77ed6a5a",
       "version_major": 2,
       "version_minor": 0
      },
      "text/plain": [
       "Training: 0it [00:00, ?it/s]"
      ]
     },
     "metadata": {},
     "output_type": "display_data"
    },
    {
     "name": "stdout",
     "output_type": "stream",
     "text": [
      "Training loss after epoch: 0.13969631493091583\r"
     ]
    },
    {
     "data": {
      "application/vnd.jupyter.widget-view+json": {
       "model_id": "98130a125b504b9a86f10cf4aabd9147",
       "version_major": 2,
       "version_minor": 0
      },
      "text/plain": [
       "Evaluating model: 0it [00:00, ?it/s]"
      ]
     },
     "metadata": {},
     "output_type": "display_data"
    },
    {
     "data": {
      "application/vnd.jupyter.widget-view+json": {
       "model_id": "f8fcd6773f264bfcab0246e319d96005",
       "version_major": 2,
       "version_minor": 0
      },
      "text/plain": [
       "Evaluating model: 0it [00:00, ?it/s]"
      ]
     },
     "metadata": {},
     "output_type": "display_data"
    },
    {
     "name": "stderr",
     "output_type": "stream",
     "text": []
    },
    {
     "data": {
      "application/vnd.jupyter.widget-view+json": {
       "model_id": "3e0c7ea83e4b40d49539bf7b1405f1f1",
       "version_major": 2,
       "version_minor": 0
      },
      "text/plain": [
       "Training: 0it [00:00, ?it/s]"
      ]
     },
     "metadata": {},
     "output_type": "display_data"
    },
    {
     "name": "stdout",
     "output_type": "stream",
     "text": [
      "Training loss after epoch: 0.13746875524520874\r"
     ]
    },
    {
     "data": {
      "application/vnd.jupyter.widget-view+json": {
       "model_id": "4f0b2078e84d4b22bf88f9f63e761e96",
       "version_major": 2,
       "version_minor": 0
      },
      "text/plain": [
       "Evaluating model: 0it [00:00, ?it/s]"
      ]
     },
     "metadata": {},
     "output_type": "display_data"
    },
    {
     "data": {
      "application/vnd.jupyter.widget-view+json": {
       "model_id": "488a37cb1d2a4b7f8b74cb8bcc62307d",
       "version_major": 2,
       "version_minor": 0
      },
      "text/plain": [
       "Evaluating model: 0it [00:00, ?it/s]"
      ]
     },
     "metadata": {},
     "output_type": "display_data"
    },
    {
     "name": "stderr",
     "output_type": "stream",
     "text": []
    },
    {
     "name": "stdout",
     "output_type": "stream",
     "text": [
      "No imporvement in validation metric. Current: -0.752097. Current best: -0.751061\n",
      "EarlyStopping counter: 1 out of 3\n"
     ]
    },
    {
     "data": {
      "application/vnd.jupyter.widget-view+json": {
       "model_id": "05a9bb9fabda46af83740dc5eb16b5e8",
       "version_major": 2,
       "version_minor": 0
      },
      "text/plain": [
       "Training: 0it [00:00, ?it/s]"
      ]
     },
     "metadata": {},
     "output_type": "display_data"
    },
    {
     "name": "stdout",
     "output_type": "stream",
     "text": [
      "Training loss after epoch: 0.13665276765823364\r"
     ]
    },
    {
     "data": {
      "application/vnd.jupyter.widget-view+json": {
       "model_id": "867c0ba3e4be4d6097db5afab37c73fb",
       "version_major": 2,
       "version_minor": 0
      },
      "text/plain": [
       "Evaluating model: 0it [00:00, ?it/s]"
      ]
     },
     "metadata": {},
     "output_type": "display_data"
    },
    {
     "data": {
      "application/vnd.jupyter.widget-view+json": {
       "model_id": "34648caea4d34dcf8998dc6ee5e31dea",
       "version_major": 2,
       "version_minor": 0
      },
      "text/plain": [
       "Evaluating model: 0it [00:00, ?it/s]"
      ]
     },
     "metadata": {},
     "output_type": "display_data"
    },
    {
     "name": "stderr",
     "output_type": "stream",
     "text": []
    },
    {
     "name": "stdout",
     "output_type": "stream",
     "text": [
      "No imporvement in validation metric. Current: -0.762991. Current best: -0.751061\n",
      "EarlyStopping counter: 2 out of 3\n"
     ]
    },
    {
     "data": {
      "application/vnd.jupyter.widget-view+json": {
       "model_id": "db8c95a96e7d4cd989192318e6c6d94c",
       "version_major": 2,
       "version_minor": 0
      },
      "text/plain": [
       "Training: 0it [00:00, ?it/s]"
      ]
     },
     "metadata": {},
     "output_type": "display_data"
    },
    {
     "name": "stdout",
     "output_type": "stream",
     "text": [
      "Training loss after epoch: 0.13640843331813812\r"
     ]
    },
    {
     "data": {
      "application/vnd.jupyter.widget-view+json": {
       "model_id": "db77f5289b2c4c41bcc50130e87585e9",
       "version_major": 2,
       "version_minor": 0
      },
      "text/plain": [
       "Evaluating model: 0it [00:00, ?it/s]"
      ]
     },
     "metadata": {},
     "output_type": "display_data"
    },
    {
     "data": {
      "application/vnd.jupyter.widget-view+json": {
       "model_id": "31f5e6b8996b429e952088381be76b37",
       "version_major": 2,
       "version_minor": 0
      },
      "text/plain": [
       "Evaluating model: 0it [00:00, ?it/s]"
      ]
     },
     "metadata": {},
     "output_type": "display_data"
    },
    {
     "name": "stderr",
     "output_type": "stream",
     "text": [
      "Training Epochs:  15%|█▌        | 3/20 [17:30<1:39:13, 350.23s/epoch]\n",
      "Experiments:  31%|███       | 4/13 [1:16:40<2:50:13, 1134.85s/experiment]c:\\Users\\AltSp\\.conda\\envs\\pytorch_env\\lib\\site-packages\\torch\\nn\\modules\\rnn.py:123: UserWarning: dropout option adds dropout after all but last recurrent layer, so non-zero dropout expects num_layers greater than 1, but got dropout=0.5 and num_layers=1\n",
      "  warnings.warn(\n"
     ]
    },
    {
     "name": "stdout",
     "output_type": "stream",
     "text": [
      "No imporvement in validation metric. Current: -0.765841. Current best: -0.751061\n",
      "EarlyStopping counter: 3 out of 3\n",
      "Early stopping reached. Stop training...\n",
      "Experiment exp_RNN_adam_lr_001_rnn_units128_tpu32_bd0_dp2 finished. Best model saved at: None\n",
      "\n",
      "========================================\n",
      "Starting experiment: exp_RNN_adam_lr_001_rnn_units128_tpu32_bd0_dp5\n"
     ]
    },
    {
     "name": "stderr",
     "output_type": "stream",
     "text": []
    },
    {
     "data": {
      "application/vnd.jupyter.widget-view+json": {
       "model_id": "6925c797d91c4411bf78059c7919d752",
       "version_major": 2,
       "version_minor": 0
      },
      "text/plain": [
       "Training: 0it [00:00, ?it/s]"
      ]
     },
     "metadata": {},
     "output_type": "display_data"
    },
    {
     "name": "stdout",
     "output_type": "stream",
     "text": [
      "Training loss after epoch: 0.13960814476013184\r"
     ]
    },
    {
     "data": {
      "application/vnd.jupyter.widget-view+json": {
       "model_id": "2c2e99b265aa43d0ab8a9a646eb9bab0",
       "version_major": 2,
       "version_minor": 0
      },
      "text/plain": [
       "Evaluating model: 0it [00:00, ?it/s]"
      ]
     },
     "metadata": {},
     "output_type": "display_data"
    },
    {
     "data": {
      "application/vnd.jupyter.widget-view+json": {
       "model_id": "a5ee83db2ecc44309745287233cbbdc6",
       "version_major": 2,
       "version_minor": 0
      },
      "text/plain": [
       "Evaluating model: 0it [00:00, ?it/s]"
      ]
     },
     "metadata": {},
     "output_type": "display_data"
    },
    {
     "name": "stderr",
     "output_type": "stream",
     "text": []
    },
    {
     "data": {
      "application/vnd.jupyter.widget-view+json": {
       "model_id": "837efe3fcf7445c8897191cffd8bc911",
       "version_major": 2,
       "version_minor": 0
      },
      "text/plain": [
       "Training: 0it [00:00, ?it/s]"
      ]
     },
     "metadata": {},
     "output_type": "display_data"
    },
    {
     "name": "stdout",
     "output_type": "stream",
     "text": [
      "Training loss after epoch: 0.13735857605934143\r"
     ]
    },
    {
     "data": {
      "application/vnd.jupyter.widget-view+json": {
       "model_id": "02ffc3329d744087bfdd289036c14d33",
       "version_major": 2,
       "version_minor": 0
      },
      "text/plain": [
       "Evaluating model: 0it [00:00, ?it/s]"
      ]
     },
     "metadata": {},
     "output_type": "display_data"
    },
    {
     "data": {
      "application/vnd.jupyter.widget-view+json": {
       "model_id": "92e445fa99824e008cf2a4d9bf6dda63",
       "version_major": 2,
       "version_minor": 0
      },
      "text/plain": [
       "Evaluating model: 0it [00:00, ?it/s]"
      ]
     },
     "metadata": {},
     "output_type": "display_data"
    },
    {
     "name": "stderr",
     "output_type": "stream",
     "text": []
    },
    {
     "name": "stdout",
     "output_type": "stream",
     "text": [
      "No imporvement in validation metric. Current: -0.761647. Current best: -0.752674\n",
      "EarlyStopping counter: 1 out of 3\n"
     ]
    },
    {
     "data": {
      "application/vnd.jupyter.widget-view+json": {
       "model_id": "3371cef2989e4f1d8515f66653522ac9",
       "version_major": 2,
       "version_minor": 0
      },
      "text/plain": [
       "Training: 0it [00:00, ?it/s]"
      ]
     },
     "metadata": {},
     "output_type": "display_data"
    },
    {
     "name": "stdout",
     "output_type": "stream",
     "text": [
      "Training loss after epoch: 0.13663148880004883\r"
     ]
    },
    {
     "data": {
      "application/vnd.jupyter.widget-view+json": {
       "model_id": "4316b823c1284faf8653b83214ac7618",
       "version_major": 2,
       "version_minor": 0
      },
      "text/plain": [
       "Evaluating model: 0it [00:00, ?it/s]"
      ]
     },
     "metadata": {},
     "output_type": "display_data"
    },
    {
     "data": {
      "application/vnd.jupyter.widget-view+json": {
       "model_id": "48253137e6f44f5ea9dfbdf043db4040",
       "version_major": 2,
       "version_minor": 0
      },
      "text/plain": [
       "Evaluating model: 0it [00:00, ?it/s]"
      ]
     },
     "metadata": {},
     "output_type": "display_data"
    },
    {
     "name": "stderr",
     "output_type": "stream",
     "text": []
    },
    {
     "name": "stdout",
     "output_type": "stream",
     "text": [
      "No imporvement in validation metric. Current: -0.764308. Current best: -0.752674\n",
      "EarlyStopping counter: 2 out of 3\n"
     ]
    },
    {
     "data": {
      "application/vnd.jupyter.widget-view+json": {
       "model_id": "8a3a809ebecb4fc0bfa7dcd42dc07d2d",
       "version_major": 2,
       "version_minor": 0
      },
      "text/plain": [
       "Training: 0it [00:00, ?it/s]"
      ]
     },
     "metadata": {},
     "output_type": "display_data"
    },
    {
     "name": "stdout",
     "output_type": "stream",
     "text": [
      "Training loss after epoch: 0.13633437454700472\r"
     ]
    },
    {
     "data": {
      "application/vnd.jupyter.widget-view+json": {
       "model_id": "fb37f7e945c44fab9b4700a27733c76d",
       "version_major": 2,
       "version_minor": 0
      },
      "text/plain": [
       "Evaluating model: 0it [00:00, ?it/s]"
      ]
     },
     "metadata": {},
     "output_type": "display_data"
    },
    {
     "data": {
      "application/vnd.jupyter.widget-view+json": {
       "model_id": "6b8918087e884001a9df6e903e36a6c5",
       "version_major": 2,
       "version_minor": 0
      },
      "text/plain": [
       "Evaluating model: 0it [00:00, ?it/s]"
      ]
     },
     "metadata": {},
     "output_type": "display_data"
    },
    {
     "name": "stderr",
     "output_type": "stream",
     "text": [
      "Training Epochs:  15%|█▌        | 3/20 [17:29<1:39:09, 349.98s/epoch]\n",
      "Experiments:  38%|███▊      | 5/13 [1:34:10<2:27:13, 1104.23s/experiment]"
     ]
    },
    {
     "name": "stdout",
     "output_type": "stream",
     "text": [
      "No imporvement in validation metric. Current: -0.767237. Current best: -0.752674\n",
      "EarlyStopping counter: 3 out of 3\n",
      "Early stopping reached. Stop training...\n",
      "Experiment exp_RNN_adam_lr_001_rnn_units128_tpu32_bd0_dp5 finished. Best model saved at: None\n",
      "\n",
      "========================================\n",
      "Starting experiment: exp_GRU_adam_lr_001_rnn_units64_tpu32_bd0_dp0_nl1\n"
     ]
    },
    {
     "name": "stderr",
     "output_type": "stream",
     "text": []
    },
    {
     "data": {
      "application/vnd.jupyter.widget-view+json": {
       "model_id": "76970c74b77745e0b430b70f5446b131",
       "version_major": 2,
       "version_minor": 0
      },
      "text/plain": [
       "Training: 0it [00:00, ?it/s]"
      ]
     },
     "metadata": {},
     "output_type": "display_data"
    },
    {
     "name": "stdout",
     "output_type": "stream",
     "text": [
      "Training loss after epoch: 0.13733768463134766\r"
     ]
    },
    {
     "data": {
      "application/vnd.jupyter.widget-view+json": {
       "model_id": "2358da1382c24d359dd5cd8c39e2c522",
       "version_major": 2,
       "version_minor": 0
      },
      "text/plain": [
       "Evaluating model: 0it [00:00, ?it/s]"
      ]
     },
     "metadata": {},
     "output_type": "display_data"
    },
    {
     "data": {
      "application/vnd.jupyter.widget-view+json": {
       "model_id": "c3d47d79650940aca51a4ad79697d61f",
       "version_major": 2,
       "version_minor": 0
      },
      "text/plain": [
       "Evaluating model: 0it [00:00, ?it/s]"
      ]
     },
     "metadata": {},
     "output_type": "display_data"
    },
    {
     "name": "stderr",
     "output_type": "stream",
     "text": []
    },
    {
     "data": {
      "application/vnd.jupyter.widget-view+json": {
       "model_id": "ec650143dbfc4e969cae1bddc1375d94",
       "version_major": 2,
       "version_minor": 0
      },
      "text/plain": [
       "Training: 0it [00:00, ?it/s]"
      ]
     },
     "metadata": {},
     "output_type": "display_data"
    },
    {
     "name": "stdout",
     "output_type": "stream",
     "text": [
      "Training loss after epoch: 0.13505743443965912\r"
     ]
    },
    {
     "data": {
      "application/vnd.jupyter.widget-view+json": {
       "model_id": "c160dbe95fd54a62b4cf86bbbd4e0eb2",
       "version_major": 2,
       "version_minor": 0
      },
      "text/plain": [
       "Evaluating model: 0it [00:00, ?it/s]"
      ]
     },
     "metadata": {},
     "output_type": "display_data"
    },
    {
     "data": {
      "application/vnd.jupyter.widget-view+json": {
       "model_id": "dd2a92e3a0024a6f8584bae8af618251",
       "version_major": 2,
       "version_minor": 0
      },
      "text/plain": [
       "Evaluating model: 0it [00:00, ?it/s]"
      ]
     },
     "metadata": {},
     "output_type": "display_data"
    },
    {
     "name": "stderr",
     "output_type": "stream",
     "text": []
    },
    {
     "name": "stdout",
     "output_type": "stream",
     "text": [
      "No imporvement in validation metric. Current: -0.773638. Current best: -0.768031\n",
      "EarlyStopping counter: 1 out of 3\n"
     ]
    },
    {
     "data": {
      "application/vnd.jupyter.widget-view+json": {
       "model_id": "5fd2610518e343519c3e986b35aee97a",
       "version_major": 2,
       "version_minor": 0
      },
      "text/plain": [
       "Training: 0it [00:00, ?it/s]"
      ]
     },
     "metadata": {},
     "output_type": "display_data"
    },
    {
     "name": "stdout",
     "output_type": "stream",
     "text": [
      "Training loss after epoch: 0.13433027267456055\r"
     ]
    },
    {
     "data": {
      "application/vnd.jupyter.widget-view+json": {
       "model_id": "ed896f75d82044bf9f67aef3b9b6ea8a",
       "version_major": 2,
       "version_minor": 0
      },
      "text/plain": [
       "Evaluating model: 0it [00:00, ?it/s]"
      ]
     },
     "metadata": {},
     "output_type": "display_data"
    },
    {
     "data": {
      "application/vnd.jupyter.widget-view+json": {
       "model_id": "5967eda2913943d48f97f414f8317788",
       "version_major": 2,
       "version_minor": 0
      },
      "text/plain": [
       "Evaluating model: 0it [00:00, ?it/s]"
      ]
     },
     "metadata": {},
     "output_type": "display_data"
    },
    {
     "name": "stderr",
     "output_type": "stream",
     "text": []
    },
    {
     "name": "stdout",
     "output_type": "stream",
     "text": [
      "No imporvement in validation metric. Current: -0.775281. Current best: -0.768031\n",
      "EarlyStopping counter: 2 out of 3\n"
     ]
    },
    {
     "data": {
      "application/vnd.jupyter.widget-view+json": {
       "model_id": "92cf78c0a3b748388cb0cdd89ac85458",
       "version_major": 2,
       "version_minor": 0
      },
      "text/plain": [
       "Training: 0it [00:00, ?it/s]"
      ]
     },
     "metadata": {},
     "output_type": "display_data"
    },
    {
     "name": "stdout",
     "output_type": "stream",
     "text": [
      "Training loss after epoch: 0.13377521932125092\r"
     ]
    },
    {
     "data": {
      "application/vnd.jupyter.widget-view+json": {
       "model_id": "6582378272174ec4beb29feb88445e66",
       "version_major": 2,
       "version_minor": 0
      },
      "text/plain": [
       "Evaluating model: 0it [00:00, ?it/s]"
      ]
     },
     "metadata": {},
     "output_type": "display_data"
    },
    {
     "data": {
      "application/vnd.jupyter.widget-view+json": {
       "model_id": "e1f9fb0a10324eacb847548663cf5e4d",
       "version_major": 2,
       "version_minor": 0
      },
      "text/plain": [
       "Evaluating model: 0it [00:00, ?it/s]"
      ]
     },
     "metadata": {},
     "output_type": "display_data"
    },
    {
     "name": "stderr",
     "output_type": "stream",
     "text": [
      "Training Epochs:  15%|█▌        | 3/20 [17:37<1:39:52, 352.51s/epoch]\n",
      "Experiments:  46%|████▌     | 6/13 [1:51:48<2:06:58, 1088.36s/experiment]c:\\Users\\AltSp\\.conda\\envs\\pytorch_env\\lib\\site-packages\\torch\\nn\\modules\\rnn.py:123: UserWarning: dropout option adds dropout after all but last recurrent layer, so non-zero dropout expects num_layers greater than 1, but got dropout=0.2 and num_layers=1\n",
      "  warnings.warn(\n"
     ]
    },
    {
     "name": "stdout",
     "output_type": "stream",
     "text": [
      "No imporvement in validation metric. Current: -0.776831. Current best: -0.768031\n",
      "EarlyStopping counter: 3 out of 3\n",
      "Early stopping reached. Stop training...\n",
      "Experiment exp_GRU_adam_lr_001_rnn_units64_tpu32_bd0_dp0_nl1 finished. Best model saved at: None\n",
      "\n",
      "========================================\n",
      "Starting experiment: exp_GRU_adam_lr_001_rnn_units64_tpu32_bd0_dp2_nl1\n"
     ]
    },
    {
     "name": "stderr",
     "output_type": "stream",
     "text": []
    },
    {
     "data": {
      "application/vnd.jupyter.widget-view+json": {
       "model_id": "56258346f19e4f7bac271e78264ac622",
       "version_major": 2,
       "version_minor": 0
      },
      "text/plain": [
       "Training: 0it [00:00, ?it/s]"
      ]
     },
     "metadata": {},
     "output_type": "display_data"
    },
    {
     "name": "stdout",
     "output_type": "stream",
     "text": [
      "Training loss after epoch: 0.13754376769065857\r"
     ]
    },
    {
     "data": {
      "application/vnd.jupyter.widget-view+json": {
       "model_id": "b4354bcb09944e908c6931c721ffce3f",
       "version_major": 2,
       "version_minor": 0
      },
      "text/plain": [
       "Evaluating model: 0it [00:00, ?it/s]"
      ]
     },
     "metadata": {},
     "output_type": "display_data"
    },
    {
     "data": {
      "application/vnd.jupyter.widget-view+json": {
       "model_id": "c41493115e1a4262ae0fb27967c4b7e4",
       "version_major": 2,
       "version_minor": 0
      },
      "text/plain": [
       "Evaluating model: 0it [00:00, ?it/s]"
      ]
     },
     "metadata": {},
     "output_type": "display_data"
    },
    {
     "name": "stderr",
     "output_type": "stream",
     "text": []
    },
    {
     "data": {
      "application/vnd.jupyter.widget-view+json": {
       "model_id": "b1a7ab1d5f9a477e8a1bcab8b6e82069",
       "version_major": 2,
       "version_minor": 0
      },
      "text/plain": [
       "Training: 0it [00:00, ?it/s]"
      ]
     },
     "metadata": {},
     "output_type": "display_data"
    },
    {
     "name": "stdout",
     "output_type": "stream",
     "text": [
      "Training loss after epoch: 0.13530276715755463\r"
     ]
    },
    {
     "data": {
      "application/vnd.jupyter.widget-view+json": {
       "model_id": "052a83b2bed04a94acf1592925da2af7",
       "version_major": 2,
       "version_minor": 0
      },
      "text/plain": [
       "Evaluating model: 0it [00:00, ?it/s]"
      ]
     },
     "metadata": {},
     "output_type": "display_data"
    },
    {
     "data": {
      "application/vnd.jupyter.widget-view+json": {
       "model_id": "f6da36f9d3fb4e3b973c6bb25334a241",
       "version_major": 2,
       "version_minor": 0
      },
      "text/plain": [
       "Evaluating model: 0it [00:00, ?it/s]"
      ]
     },
     "metadata": {},
     "output_type": "display_data"
    },
    {
     "name": "stderr",
     "output_type": "stream",
     "text": []
    },
    {
     "name": "stdout",
     "output_type": "stream",
     "text": [
      "No imporvement in validation metric. Current: -0.770950. Current best: -0.765655\n",
      "EarlyStopping counter: 1 out of 3\n"
     ]
    },
    {
     "data": {
      "application/vnd.jupyter.widget-view+json": {
       "model_id": "a608f646c13e43a8963aff6b471b3d54",
       "version_major": 2,
       "version_minor": 0
      },
      "text/plain": [
       "Training: 0it [00:00, ?it/s]"
      ]
     },
     "metadata": {},
     "output_type": "display_data"
    },
    {
     "name": "stdout",
     "output_type": "stream",
     "text": [
      "Training loss after epoch: 0.13448178768157966\r"
     ]
    },
    {
     "data": {
      "application/vnd.jupyter.widget-view+json": {
       "model_id": "b9cf367f4f2e4be88fb18495bb430cb0",
       "version_major": 2,
       "version_minor": 0
      },
      "text/plain": [
       "Evaluating model: 0it [00:00, ?it/s]"
      ]
     },
     "metadata": {},
     "output_type": "display_data"
    },
    {
     "data": {
      "application/vnd.jupyter.widget-view+json": {
       "model_id": "f687fc86d03143a8bd6a5934811095cd",
       "version_major": 2,
       "version_minor": 0
      },
      "text/plain": [
       "Evaluating model: 0it [00:00, ?it/s]"
      ]
     },
     "metadata": {},
     "output_type": "display_data"
    },
    {
     "name": "stderr",
     "output_type": "stream",
     "text": []
    },
    {
     "name": "stdout",
     "output_type": "stream",
     "text": [
      "No imporvement in validation metric. Current: -0.771131. Current best: -0.765655\n",
      "EarlyStopping counter: 2 out of 3\n"
     ]
    },
    {
     "data": {
      "application/vnd.jupyter.widget-view+json": {
       "model_id": "e50349011ccb435c9926dde7bdd66dc7",
       "version_major": 2,
       "version_minor": 0
      },
      "text/plain": [
       "Training: 0it [00:00, ?it/s]"
      ]
     },
     "metadata": {},
     "output_type": "display_data"
    },
    {
     "name": "stdout",
     "output_type": "stream",
     "text": [
      "Training loss after epoch: 0.13388696312904358\r"
     ]
    },
    {
     "data": {
      "application/vnd.jupyter.widget-view+json": {
       "model_id": "dd0ce1efe40a47cfa097edde7d79bc32",
       "version_major": 2,
       "version_minor": 0
      },
      "text/plain": [
       "Evaluating model: 0it [00:00, ?it/s]"
      ]
     },
     "metadata": {},
     "output_type": "display_data"
    },
    {
     "data": {
      "application/vnd.jupyter.widget-view+json": {
       "model_id": "f609afb03792486f876592745284816d",
       "version_major": 2,
       "version_minor": 0
      },
      "text/plain": [
       "Evaluating model: 0it [00:00, ?it/s]"
      ]
     },
     "metadata": {},
     "output_type": "display_data"
    },
    {
     "name": "stderr",
     "output_type": "stream",
     "text": [
      "Training Epochs:  15%|█▌        | 3/20 [17:33<1:39:31, 351.26s/epoch]\n",
      "Experiments:  54%|█████▍    | 7/13 [2:09:22<1:47:42, 1077.05s/experiment]c:\\Users\\AltSp\\.conda\\envs\\pytorch_env\\lib\\site-packages\\torch\\nn\\modules\\rnn.py:123: UserWarning: dropout option adds dropout after all but last recurrent layer, so non-zero dropout expects num_layers greater than 1, but got dropout=0.5 and num_layers=1\n",
      "  warnings.warn(\n"
     ]
    },
    {
     "name": "stdout",
     "output_type": "stream",
     "text": [
      "No imporvement in validation metric. Current: -0.774627. Current best: -0.765655\n",
      "EarlyStopping counter: 3 out of 3\n",
      "Early stopping reached. Stop training...\n",
      "Experiment exp_GRU_adam_lr_001_rnn_units64_tpu32_bd0_dp2_nl1 finished. Best model saved at: None\n",
      "\n",
      "========================================\n",
      "Starting experiment: exp_GRU_adam_lr_001_rnn_units64_tpu32_bd0_dp0_nl1\n"
     ]
    },
    {
     "name": "stderr",
     "output_type": "stream",
     "text": []
    },
    {
     "data": {
      "application/vnd.jupyter.widget-view+json": {
       "model_id": "6e01cdc4e60b43c1990a16f9caa29daa",
       "version_major": 2,
       "version_minor": 0
      },
      "text/plain": [
       "Training: 0it [00:00, ?it/s]"
      ]
     },
     "metadata": {},
     "output_type": "display_data"
    },
    {
     "name": "stdout",
     "output_type": "stream",
     "text": [
      "Training loss after epoch: 0.13761393725872046\r"
     ]
    },
    {
     "data": {
      "application/vnd.jupyter.widget-view+json": {
       "model_id": "6467c437e28741459aeb18e05baa00f1",
       "version_major": 2,
       "version_minor": 0
      },
      "text/plain": [
       "Evaluating model: 0it [00:00, ?it/s]"
      ]
     },
     "metadata": {},
     "output_type": "display_data"
    },
    {
     "data": {
      "application/vnd.jupyter.widget-view+json": {
       "model_id": "c24f16988586477dba0bea1ddef02f06",
       "version_major": 2,
       "version_minor": 0
      },
      "text/plain": [
       "Evaluating model: 0it [00:00, ?it/s]"
      ]
     },
     "metadata": {},
     "output_type": "display_data"
    },
    {
     "name": "stderr",
     "output_type": "stream",
     "text": []
    },
    {
     "data": {
      "application/vnd.jupyter.widget-view+json": {
       "model_id": "8c15e24d39094feb9b5997de0a37b990",
       "version_major": 2,
       "version_minor": 0
      },
      "text/plain": [
       "Training: 0it [00:00, ?it/s]"
      ]
     },
     "metadata": {},
     "output_type": "display_data"
    },
    {
     "name": "stdout",
     "output_type": "stream",
     "text": [
      "Training loss after epoch: 0.13524226844310762\r"
     ]
    },
    {
     "data": {
      "application/vnd.jupyter.widget-view+json": {
       "model_id": "12ced8665ca44d949b459a529a93f1e5",
       "version_major": 2,
       "version_minor": 0
      },
      "text/plain": [
       "Evaluating model: 0it [00:00, ?it/s]"
      ]
     },
     "metadata": {},
     "output_type": "display_data"
    },
    {
     "data": {
      "application/vnd.jupyter.widget-view+json": {
       "model_id": "b0a1f3e11ff74c5a86449f236dc95634",
       "version_major": 2,
       "version_minor": 0
      },
      "text/plain": [
       "Evaluating model: 0it [00:00, ?it/s]"
      ]
     },
     "metadata": {},
     "output_type": "display_data"
    },
    {
     "name": "stderr",
     "output_type": "stream",
     "text": []
    },
    {
     "name": "stdout",
     "output_type": "stream",
     "text": [
      "No imporvement in validation metric. Current: -0.771163. Current best: -0.767215\n",
      "EarlyStopping counter: 1 out of 3\n"
     ]
    },
    {
     "data": {
      "application/vnd.jupyter.widget-view+json": {
       "model_id": "e25a73b5a5de491c83883d96b735d6e4",
       "version_major": 2,
       "version_minor": 0
      },
      "text/plain": [
       "Training: 0it [00:00, ?it/s]"
      ]
     },
     "metadata": {},
     "output_type": "display_data"
    },
    {
     "name": "stdout",
     "output_type": "stream",
     "text": [
      "Training loss after epoch: 0.13442492485046387\r"
     ]
    },
    {
     "data": {
      "application/vnd.jupyter.widget-view+json": {
       "model_id": "f7d724201d1c4beaa856c563941080b8",
       "version_major": 2,
       "version_minor": 0
      },
      "text/plain": [
       "Evaluating model: 0it [00:00, ?it/s]"
      ]
     },
     "metadata": {},
     "output_type": "display_data"
    },
    {
     "data": {
      "application/vnd.jupyter.widget-view+json": {
       "model_id": "f70198b587f9436783324dc7aa7d71e8",
       "version_major": 2,
       "version_minor": 0
      },
      "text/plain": [
       "Evaluating model: 0it [00:00, ?it/s]"
      ]
     },
     "metadata": {},
     "output_type": "display_data"
    },
    {
     "name": "stderr",
     "output_type": "stream",
     "text": []
    },
    {
     "name": "stdout",
     "output_type": "stream",
     "text": [
      "No imporvement in validation metric. Current: -0.774035. Current best: -0.767215\n",
      "EarlyStopping counter: 2 out of 3\n"
     ]
    },
    {
     "data": {
      "application/vnd.jupyter.widget-view+json": {
       "model_id": "3cdaef8a8d6a4869b869504c81f26e4d",
       "version_major": 2,
       "version_minor": 0
      },
      "text/plain": [
       "Training: 0it [00:00, ?it/s]"
      ]
     },
     "metadata": {},
     "output_type": "display_data"
    },
    {
     "name": "stdout",
     "output_type": "stream",
     "text": [
      "Training loss after epoch: 0.13382270932197572\r"
     ]
    },
    {
     "data": {
      "application/vnd.jupyter.widget-view+json": {
       "model_id": "bb779a9b27584651a5a98ea04d69691d",
       "version_major": 2,
       "version_minor": 0
      },
      "text/plain": [
       "Evaluating model: 0it [00:00, ?it/s]"
      ]
     },
     "metadata": {},
     "output_type": "display_data"
    },
    {
     "data": {
      "application/vnd.jupyter.widget-view+json": {
       "model_id": "a450b10d74684f2294765a24f570beb4",
       "version_major": 2,
       "version_minor": 0
      },
      "text/plain": [
       "Evaluating model: 0it [00:00, ?it/s]"
      ]
     },
     "metadata": {},
     "output_type": "display_data"
    },
    {
     "name": "stderr",
     "output_type": "stream",
     "text": [
      "Training Epochs:  15%|█▌        | 3/20 [17:43<1:40:26, 354.50s/epoch]\n",
      "Experiments:  62%|██████▏   | 8/13 [2:27:05<1:29:23, 1072.75s/experiment]c:\\Users\\AltSp\\.conda\\envs\\pytorch_env\\lib\\site-packages\\torch\\nn\\modules\\rnn.py:123: UserWarning: dropout option adds dropout after all but last recurrent layer, so non-zero dropout expects num_layers greater than 1, but got dropout=0.5 and num_layers=1\n",
      "  warnings.warn(\n"
     ]
    },
    {
     "name": "stdout",
     "output_type": "stream",
     "text": [
      "No imporvement in validation metric. Current: -0.773946. Current best: -0.767215\n",
      "EarlyStopping counter: 3 out of 3\n",
      "Early stopping reached. Stop training...\n",
      "Experiment exp_GRU_adam_lr_001_rnn_units64_tpu32_bd0_dp0_nl1 finished. Best model saved at: None\n",
      "\n",
      "========================================\n",
      "Starting experiment: exp_GRU_adam_lr_001_rnn_units64_tpu32_bd1_dp5_nl1\n"
     ]
    },
    {
     "name": "stderr",
     "output_type": "stream",
     "text": []
    },
    {
     "data": {
      "application/vnd.jupyter.widget-view+json": {
       "model_id": "aee8865eb2a947ecb67fb615a6b4f112",
       "version_major": 2,
       "version_minor": 0
      },
      "text/plain": [
       "Training: 0it [00:00, ?it/s]"
      ]
     },
     "metadata": {},
     "output_type": "display_data"
    },
    {
     "name": "stdout",
     "output_type": "stream",
     "text": [
      "Training loss after epoch: 0.13747125864028933\r"
     ]
    },
    {
     "data": {
      "application/vnd.jupyter.widget-view+json": {
       "model_id": "3216bc30a4c34266b53881f6b6868931",
       "version_major": 2,
       "version_minor": 0
      },
      "text/plain": [
       "Evaluating model: 0it [00:00, ?it/s]"
      ]
     },
     "metadata": {},
     "output_type": "display_data"
    },
    {
     "data": {
      "application/vnd.jupyter.widget-view+json": {
       "model_id": "898b4bbd5601487c841cb76d03e85256",
       "version_major": 2,
       "version_minor": 0
      },
      "text/plain": [
       "Evaluating model: 0it [00:00, ?it/s]"
      ]
     },
     "metadata": {},
     "output_type": "display_data"
    },
    {
     "name": "stderr",
     "output_type": "stream",
     "text": []
    },
    {
     "data": {
      "application/vnd.jupyter.widget-view+json": {
       "model_id": "7b0805d22bec4d56adb4ef4c6255e53c",
       "version_major": 2,
       "version_minor": 0
      },
      "text/plain": [
       "Training: 0it [00:00, ?it/s]"
      ]
     },
     "metadata": {},
     "output_type": "display_data"
    },
    {
     "name": "stdout",
     "output_type": "stream",
     "text": [
      "Training loss after epoch: 0.13477571308612823\r"
     ]
    },
    {
     "data": {
      "application/vnd.jupyter.widget-view+json": {
       "model_id": "fe522e12d91745c2b164ee1d3dafaed7",
       "version_major": 2,
       "version_minor": 0
      },
      "text/plain": [
       "Evaluating model: 0it [00:00, ?it/s]"
      ]
     },
     "metadata": {},
     "output_type": "display_data"
    },
    {
     "data": {
      "application/vnd.jupyter.widget-view+json": {
       "model_id": "921a63963079439783df4b2529ef0731",
       "version_major": 2,
       "version_minor": 0
      },
      "text/plain": [
       "Evaluating model: 0it [00:00, ?it/s]"
      ]
     },
     "metadata": {},
     "output_type": "display_data"
    },
    {
     "name": "stderr",
     "output_type": "stream",
     "text": []
    },
    {
     "name": "stdout",
     "output_type": "stream",
     "text": [
      "No imporvement in validation metric. Current: -0.772397. Current best: -0.767395\n",
      "EarlyStopping counter: 1 out of 3\n"
     ]
    },
    {
     "data": {
      "application/vnd.jupyter.widget-view+json": {
       "model_id": "2ac601c3d9014b7fb8dc43eeecd0c836",
       "version_major": 2,
       "version_minor": 0
      },
      "text/plain": [
       "Training: 0it [00:00, ?it/s]"
      ]
     },
     "metadata": {},
     "output_type": "display_data"
    },
    {
     "name": "stdout",
     "output_type": "stream",
     "text": [
      "Training loss after epoch: 0.13393171131610877\r"
     ]
    },
    {
     "data": {
      "application/vnd.jupyter.widget-view+json": {
       "model_id": "2d8d3cc05cdc4840a2576c0406448062",
       "version_major": 2,
       "version_minor": 0
      },
      "text/plain": [
       "Evaluating model: 0it [00:00, ?it/s]"
      ]
     },
     "metadata": {},
     "output_type": "display_data"
    },
    {
     "data": {
      "application/vnd.jupyter.widget-view+json": {
       "model_id": "5f40db8e1682437fa23b2625d7463fd7",
       "version_major": 2,
       "version_minor": 0
      },
      "text/plain": [
       "Evaluating model: 0it [00:00, ?it/s]"
      ]
     },
     "metadata": {},
     "output_type": "display_data"
    },
    {
     "name": "stderr",
     "output_type": "stream",
     "text": []
    },
    {
     "name": "stdout",
     "output_type": "stream",
     "text": [
      "No imporvement in validation metric. Current: -0.776713. Current best: -0.767395\n",
      "EarlyStopping counter: 2 out of 3\n"
     ]
    },
    {
     "data": {
      "application/vnd.jupyter.widget-view+json": {
       "model_id": "dda502b1d0a04af2af3256b4186f66c9",
       "version_major": 2,
       "version_minor": 0
      },
      "text/plain": [
       "Training: 0it [00:00, ?it/s]"
      ]
     },
     "metadata": {},
     "output_type": "display_data"
    },
    {
     "name": "stdout",
     "output_type": "stream",
     "text": [
      "Training loss after epoch: 0.13340575993061066\r"
     ]
    },
    {
     "data": {
      "application/vnd.jupyter.widget-view+json": {
       "model_id": "b7120aa69c3f4cb9af2a4aff594b0588",
       "version_major": 2,
       "version_minor": 0
      },
      "text/plain": [
       "Evaluating model: 0it [00:00, ?it/s]"
      ]
     },
     "metadata": {},
     "output_type": "display_data"
    },
    {
     "data": {
      "application/vnd.jupyter.widget-view+json": {
       "model_id": "fad48dd576f4408ea9ba861530eaa072",
       "version_major": 2,
       "version_minor": 0
      },
      "text/plain": [
       "Evaluating model: 0it [00:00, ?it/s]"
      ]
     },
     "metadata": {},
     "output_type": "display_data"
    },
    {
     "name": "stderr",
     "output_type": "stream",
     "text": [
      "Training Epochs:  15%|█▌        | 3/20 [17:52<1:41:16, 357.46s/epoch]\n",
      "Experiments:  69%|██████▉   | 9/13 [2:44:58<1:11:30, 1072.64s/experiment]"
     ]
    },
    {
     "name": "stdout",
     "output_type": "stream",
     "text": [
      "No imporvement in validation metric. Current: -0.778331. Current best: -0.767395\n",
      "EarlyStopping counter: 3 out of 3\n",
      "Early stopping reached. Stop training...\n",
      "Experiment exp_GRU_adam_lr_001_rnn_units64_tpu32_bd1_dp5_nl1 finished. Best model saved at: None\n",
      "\n",
      "========================================\n",
      "Starting experiment: exp_LSTM_adam_lr_001_rnn_units64_tpu32_bd0_dp0_nl1\n"
     ]
    },
    {
     "name": "stderr",
     "output_type": "stream",
     "text": []
    },
    {
     "data": {
      "application/vnd.jupyter.widget-view+json": {
       "model_id": "bf6b23b93fc0431585518c1820170595",
       "version_major": 2,
       "version_minor": 0
      },
      "text/plain": [
       "Training: 0it [00:00, ?it/s]"
      ]
     },
     "metadata": {},
     "output_type": "display_data"
    },
    {
     "name": "stdout",
     "output_type": "stream",
     "text": [
      "Training loss after epoch: 0.13788411021232605\r"
     ]
    },
    {
     "data": {
      "application/vnd.jupyter.widget-view+json": {
       "model_id": "c69ef8b7457e42818cbe498f04a658fa",
       "version_major": 2,
       "version_minor": 0
      },
      "text/plain": [
       "Evaluating model: 0it [00:00, ?it/s]"
      ]
     },
     "metadata": {},
     "output_type": "display_data"
    },
    {
     "data": {
      "application/vnd.jupyter.widget-view+json": {
       "model_id": "e0ef0e59fef1487b99e067c8250aa1a3",
       "version_major": 2,
       "version_minor": 0
      },
      "text/plain": [
       "Evaluating model: 0it [00:00, ?it/s]"
      ]
     },
     "metadata": {},
     "output_type": "display_data"
    },
    {
     "name": "stderr",
     "output_type": "stream",
     "text": []
    },
    {
     "data": {
      "application/vnd.jupyter.widget-view+json": {
       "model_id": "5e6841d76eee441bae1f164106c6b80a",
       "version_major": 2,
       "version_minor": 0
      },
      "text/plain": [
       "Training: 0it [00:00, ?it/s]"
      ]
     },
     "metadata": {},
     "output_type": "display_data"
    },
    {
     "name": "stdout",
     "output_type": "stream",
     "text": [
      "Training loss after epoch: 0.13542705774307257\r"
     ]
    },
    {
     "data": {
      "application/vnd.jupyter.widget-view+json": {
       "model_id": "9a593d8f5db847de8a750b2d0b473c28",
       "version_major": 2,
       "version_minor": 0
      },
      "text/plain": [
       "Evaluating model: 0it [00:00, ?it/s]"
      ]
     },
     "metadata": {},
     "output_type": "display_data"
    },
    {
     "data": {
      "application/vnd.jupyter.widget-view+json": {
       "model_id": "593a6a60ce5d431d83a071ae502a4774",
       "version_major": 2,
       "version_minor": 0
      },
      "text/plain": [
       "Evaluating model: 0it [00:00, ?it/s]"
      ]
     },
     "metadata": {},
     "output_type": "display_data"
    },
    {
     "name": "stderr",
     "output_type": "stream",
     "text": []
    },
    {
     "name": "stdout",
     "output_type": "stream",
     "text": [
      "No imporvement in validation metric. Current: -0.771363. Current best: -0.764095\n",
      "EarlyStopping counter: 1 out of 3\n"
     ]
    },
    {
     "data": {
      "application/vnd.jupyter.widget-view+json": {
       "model_id": "cf2f965d63de4e2c83986b0da37cee88",
       "version_major": 2,
       "version_minor": 0
      },
      "text/plain": [
       "Training: 0it [00:00, ?it/s]"
      ]
     },
     "metadata": {},
     "output_type": "display_data"
    },
    {
     "name": "stdout",
     "output_type": "stream",
     "text": [
      "Training loss after epoch: 0.13452425599098206\r"
     ]
    },
    {
     "data": {
      "application/vnd.jupyter.widget-view+json": {
       "model_id": "c963e69000a44b609be6de6ef6fc3c74",
       "version_major": 2,
       "version_minor": 0
      },
      "text/plain": [
       "Evaluating model: 0it [00:00, ?it/s]"
      ]
     },
     "metadata": {},
     "output_type": "display_data"
    },
    {
     "data": {
      "application/vnd.jupyter.widget-view+json": {
       "model_id": "70d8c43f1adf45188fb68166889d3747",
       "version_major": 2,
       "version_minor": 0
      },
      "text/plain": [
       "Evaluating model: 0it [00:00, ?it/s]"
      ]
     },
     "metadata": {},
     "output_type": "display_data"
    },
    {
     "name": "stderr",
     "output_type": "stream",
     "text": []
    },
    {
     "name": "stdout",
     "output_type": "stream",
     "text": [
      "No imporvement in validation metric. Current: -0.773504. Current best: -0.764095\n",
      "EarlyStopping counter: 2 out of 3\n"
     ]
    },
    {
     "data": {
      "application/vnd.jupyter.widget-view+json": {
       "model_id": "481603c52c5a46879b3310fc165da415",
       "version_major": 2,
       "version_minor": 0
      },
      "text/plain": [
       "Training: 0it [00:00, ?it/s]"
      ]
     },
     "metadata": {},
     "output_type": "display_data"
    },
    {
     "name": "stdout",
     "output_type": "stream",
     "text": [
      "Training loss after epoch: 0.13391572237014774\r"
     ]
    },
    {
     "data": {
      "application/vnd.jupyter.widget-view+json": {
       "model_id": "a7a5dbbdbaf44078bbf4625898d320f3",
       "version_major": 2,
       "version_minor": 0
      },
      "text/plain": [
       "Evaluating model: 0it [00:00, ?it/s]"
      ]
     },
     "metadata": {},
     "output_type": "display_data"
    },
    {
     "data": {
      "application/vnd.jupyter.widget-view+json": {
       "model_id": "6b4490814d8c4bd1b70d73209c1bcfc3",
       "version_major": 2,
       "version_minor": 0
      },
      "text/plain": [
       "Evaluating model: 0it [00:00, ?it/s]"
      ]
     },
     "metadata": {},
     "output_type": "display_data"
    },
    {
     "name": "stderr",
     "output_type": "stream",
     "text": [
      "Training Epochs:  15%|█▌        | 3/20 [17:34<1:39:37, 351.64s/epoch]\n",
      "Experiments:  77%|███████▋  | 10/13 [3:02:32<53:21, 1067.17s/experiment] "
     ]
    },
    {
     "name": "stdout",
     "output_type": "stream",
     "text": [
      "No imporvement in validation metric. Current: -0.773903. Current best: -0.764095\n",
      "EarlyStopping counter: 3 out of 3\n",
      "Early stopping reached. Stop training...\n",
      "Experiment exp_LSTM_adam_lr_001_rnn_units64_tpu32_bd0_dp0_nl1 finished. Best model saved at: None\n",
      "\n",
      "========================================\n",
      "Starting experiment: exp_LSTM_adam_lr_001_rnn_units64_tpu32_bd1_dp0_nl1\n"
     ]
    },
    {
     "name": "stderr",
     "output_type": "stream",
     "text": []
    },
    {
     "data": {
      "application/vnd.jupyter.widget-view+json": {
       "model_id": "44e97f8443d24c0d841a013c0b6bc66c",
       "version_major": 2,
       "version_minor": 0
      },
      "text/plain": [
       "Training: 0it [00:00, ?it/s]"
      ]
     },
     "metadata": {},
     "output_type": "display_data"
    },
    {
     "name": "stdout",
     "output_type": "stream",
     "text": [
      "Training loss after epoch: 0.13775542378425598\r"
     ]
    },
    {
     "data": {
      "application/vnd.jupyter.widget-view+json": {
       "model_id": "6d902e1eccdb42c7a59c96a1df38132c",
       "version_major": 2,
       "version_minor": 0
      },
      "text/plain": [
       "Evaluating model: 0it [00:00, ?it/s]"
      ]
     },
     "metadata": {},
     "output_type": "display_data"
    },
    {
     "data": {
      "application/vnd.jupyter.widget-view+json": {
       "model_id": "384d2f8d026a4780b72b26939d5e5f65",
       "version_major": 2,
       "version_minor": 0
      },
      "text/plain": [
       "Evaluating model: 0it [00:00, ?it/s]"
      ]
     },
     "metadata": {},
     "output_type": "display_data"
    },
    {
     "name": "stderr",
     "output_type": "stream",
     "text": []
    },
    {
     "data": {
      "application/vnd.jupyter.widget-view+json": {
       "model_id": "d2d3d3b1263c46bd9c5c8b365eff8587",
       "version_major": 2,
       "version_minor": 0
      },
      "text/plain": [
       "Training: 0it [00:00, ?it/s]"
      ]
     },
     "metadata": {},
     "output_type": "display_data"
    },
    {
     "name": "stdout",
     "output_type": "stream",
     "text": [
      "Training loss after epoch: 0.13525152206420898\r"
     ]
    },
    {
     "data": {
      "application/vnd.jupyter.widget-view+json": {
       "model_id": "f98abc51e82642beaadeb9859ad46589",
       "version_major": 2,
       "version_minor": 0
      },
      "text/plain": [
       "Evaluating model: 0it [00:00, ?it/s]"
      ]
     },
     "metadata": {},
     "output_type": "display_data"
    },
    {
     "data": {
      "application/vnd.jupyter.widget-view+json": {
       "model_id": "1c99a0bb1d174efc8177b1ac3b4708f6",
       "version_major": 2,
       "version_minor": 0
      },
      "text/plain": [
       "Evaluating model: 0it [00:00, ?it/s]"
      ]
     },
     "metadata": {},
     "output_type": "display_data"
    },
    {
     "name": "stderr",
     "output_type": "stream",
     "text": []
    },
    {
     "name": "stdout",
     "output_type": "stream",
     "text": [
      "No imporvement in validation metric. Current: -0.767392. Current best: -0.766127\n",
      "EarlyStopping counter: 1 out of 3\n"
     ]
    },
    {
     "data": {
      "application/vnd.jupyter.widget-view+json": {
       "model_id": "6a84139967c14b569aac04beedd0a719",
       "version_major": 2,
       "version_minor": 0
      },
      "text/plain": [
       "Training: 0it [00:00, ?it/s]"
      ]
     },
     "metadata": {},
     "output_type": "display_data"
    },
    {
     "name": "stdout",
     "output_type": "stream",
     "text": [
      "Training loss after epoch: 0.13442672789096832\r"
     ]
    },
    {
     "data": {
      "application/vnd.jupyter.widget-view+json": {
       "model_id": "ed11286ed6504b04a97eda5b23ec96eb",
       "version_major": 2,
       "version_minor": 0
      },
      "text/plain": [
       "Evaluating model: 0it [00:00, ?it/s]"
      ]
     },
     "metadata": {},
     "output_type": "display_data"
    },
    {
     "data": {
      "application/vnd.jupyter.widget-view+json": {
       "model_id": "6cc11c33245d4709a36f779ea37438a3",
       "version_major": 2,
       "version_minor": 0
      },
      "text/plain": [
       "Evaluating model: 0it [00:00, ?it/s]"
      ]
     },
     "metadata": {},
     "output_type": "display_data"
    },
    {
     "name": "stderr",
     "output_type": "stream",
     "text": []
    },
    {
     "name": "stdout",
     "output_type": "stream",
     "text": [
      "No imporvement in validation metric. Current: -0.775947. Current best: -0.766127\n",
      "EarlyStopping counter: 2 out of 3\n"
     ]
    },
    {
     "data": {
      "application/vnd.jupyter.widget-view+json": {
       "model_id": "bbd960f379804a988c3f66bb81d0d117",
       "version_major": 2,
       "version_minor": 0
      },
      "text/plain": [
       "Training: 0it [00:00, ?it/s]"
      ]
     },
     "metadata": {},
     "output_type": "display_data"
    },
    {
     "name": "stdout",
     "output_type": "stream",
     "text": [
      "Training loss after epoch: 0.13364146649837494\r"
     ]
    },
    {
     "data": {
      "application/vnd.jupyter.widget-view+json": {
       "model_id": "60cd5416bf2d466abe0c1728148b767e",
       "version_major": 2,
       "version_minor": 0
      },
      "text/plain": [
       "Evaluating model: 0it [00:00, ?it/s]"
      ]
     },
     "metadata": {},
     "output_type": "display_data"
    },
    {
     "data": {
      "application/vnd.jupyter.widget-view+json": {
       "model_id": "45cc57c7bb6f4c48947b86f833a7f072",
       "version_major": 2,
       "version_minor": 0
      },
      "text/plain": [
       "Evaluating model: 0it [00:00, ?it/s]"
      ]
     },
     "metadata": {},
     "output_type": "display_data"
    },
    {
     "name": "stderr",
     "output_type": "stream",
     "text": [
      "Training Epochs:  15%|█▌        | 3/20 [18:07<1:42:44, 362.62s/epoch]\n",
      "Experiments:  85%|████████▍ | 11/13 [3:20:40<35:47, 1073.51s/experiment]c:\\Users\\AltSp\\.conda\\envs\\pytorch_env\\lib\\site-packages\\torch\\nn\\modules\\rnn.py:123: UserWarning: dropout option adds dropout after all but last recurrent layer, so non-zero dropout expects num_layers greater than 1, but got dropout=0.5 and num_layers=1\n",
      "  warnings.warn(\n"
     ]
    },
    {
     "name": "stdout",
     "output_type": "stream",
     "text": [
      "No imporvement in validation metric. Current: -0.774838. Current best: -0.766127\n",
      "EarlyStopping counter: 3 out of 3\n",
      "Early stopping reached. Stop training...\n",
      "Experiment exp_LSTM_adam_lr_001_rnn_units64_tpu32_bd1_dp0_nl1 finished. Best model saved at: None\n",
      "\n",
      "========================================\n",
      "Starting experiment: exp_LSTM_adam_lr_001_rnn_units64_tpu32_bd1_dp5_nl1\n"
     ]
    },
    {
     "name": "stderr",
     "output_type": "stream",
     "text": []
    },
    {
     "data": {
      "application/vnd.jupyter.widget-view+json": {
       "model_id": "25772cfc1bf74db2b674e25216ddf652",
       "version_major": 2,
       "version_minor": 0
      },
      "text/plain": [
       "Training: 0it [00:00, ?it/s]"
      ]
     },
     "metadata": {},
     "output_type": "display_data"
    },
    {
     "name": "stdout",
     "output_type": "stream",
     "text": [
      "Training loss after epoch: 0.13748581707477578\r"
     ]
    },
    {
     "data": {
      "application/vnd.jupyter.widget-view+json": {
       "model_id": "e16f429f33d940a08ef62d65a993d9ad",
       "version_major": 2,
       "version_minor": 0
      },
      "text/plain": [
       "Evaluating model: 0it [00:00, ?it/s]"
      ]
     },
     "metadata": {},
     "output_type": "display_data"
    },
    {
     "data": {
      "application/vnd.jupyter.widget-view+json": {
       "model_id": "d668b6ee9d324aaeb1a54512e45d74bd",
       "version_major": 2,
       "version_minor": 0
      },
      "text/plain": [
       "Evaluating model: 0it [00:00, ?it/s]"
      ]
     },
     "metadata": {},
     "output_type": "display_data"
    },
    {
     "name": "stderr",
     "output_type": "stream",
     "text": []
    },
    {
     "data": {
      "application/vnd.jupyter.widget-view+json": {
       "model_id": "ae4b334613bf4c14b562bc1260f51d97",
       "version_major": 2,
       "version_minor": 0
      },
      "text/plain": [
       "Training: 0it [00:00, ?it/s]"
      ]
     },
     "metadata": {},
     "output_type": "display_data"
    },
    {
     "name": "stdout",
     "output_type": "stream",
     "text": [
      "Training loss after epoch: 0.13510458171367645\r"
     ]
    },
    {
     "data": {
      "application/vnd.jupyter.widget-view+json": {
       "model_id": "b2f7b08882b34042ac242fd9486612bd",
       "version_major": 2,
       "version_minor": 0
      },
      "text/plain": [
       "Evaluating model: 0it [00:00, ?it/s]"
      ]
     },
     "metadata": {},
     "output_type": "display_data"
    },
    {
     "data": {
      "application/vnd.jupyter.widget-view+json": {
       "model_id": "98354c78cf1d46fe824c15468f0ecbd2",
       "version_major": 2,
       "version_minor": 0
      },
      "text/plain": [
       "Evaluating model: 0it [00:00, ?it/s]"
      ]
     },
     "metadata": {},
     "output_type": "display_data"
    },
    {
     "name": "stderr",
     "output_type": "stream",
     "text": []
    },
    {
     "name": "stdout",
     "output_type": "stream",
     "text": [
      "No imporvement in validation metric. Current: -0.773550. Current best: -0.766692\n",
      "EarlyStopping counter: 1 out of 3\n"
     ]
    },
    {
     "data": {
      "application/vnd.jupyter.widget-view+json": {
       "model_id": "f5f5d2dea8d34d2ebbc6e6d3200a0726",
       "version_major": 2,
       "version_minor": 0
      },
      "text/plain": [
       "Training: 0it [00:00, ?it/s]"
      ]
     },
     "metadata": {},
     "output_type": "display_data"
    },
    {
     "name": "stdout",
     "output_type": "stream",
     "text": [
      "Training loss after epoch: 0.13405036926269535\r"
     ]
    },
    {
     "data": {
      "application/vnd.jupyter.widget-view+json": {
       "model_id": "48534d4ce1bb4f0dafad1b2738f59fc8",
       "version_major": 2,
       "version_minor": 0
      },
      "text/plain": [
       "Evaluating model: 0it [00:00, ?it/s]"
      ]
     },
     "metadata": {},
     "output_type": "display_data"
    },
    {
     "data": {
      "application/vnd.jupyter.widget-view+json": {
       "model_id": "7fc50fd7b40845259daa896d8aa38316",
       "version_major": 2,
       "version_minor": 0
      },
      "text/plain": [
       "Evaluating model: 0it [00:00, ?it/s]"
      ]
     },
     "metadata": {},
     "output_type": "display_data"
    },
    {
     "name": "stderr",
     "output_type": "stream",
     "text": []
    },
    {
     "name": "stdout",
     "output_type": "stream",
     "text": [
      "No imporvement in validation metric. Current: -0.770667. Current best: -0.766692\n",
      "EarlyStopping counter: 2 out of 3\n"
     ]
    },
    {
     "data": {
      "application/vnd.jupyter.widget-view+json": {
       "model_id": "97485e79a6a04cff9e68551762030bba",
       "version_major": 2,
       "version_minor": 0
      },
      "text/plain": [
       "Training: 0it [00:00, ?it/s]"
      ]
     },
     "metadata": {},
     "output_type": "display_data"
    },
    {
     "name": "stdout",
     "output_type": "stream",
     "text": [
      "Training loss after epoch: 0.13332849740982056\r"
     ]
    },
    {
     "data": {
      "application/vnd.jupyter.widget-view+json": {
       "model_id": "e1ccb73776444c61b3b11ae1b323b961",
       "version_major": 2,
       "version_minor": 0
      },
      "text/plain": [
       "Evaluating model: 0it [00:00, ?it/s]"
      ]
     },
     "metadata": {},
     "output_type": "display_data"
    },
    {
     "data": {
      "application/vnd.jupyter.widget-view+json": {
       "model_id": "22a729d0ba894c49a48e052e0eb6135e",
       "version_major": 2,
       "version_minor": 0
      },
      "text/plain": [
       "Evaluating model: 0it [00:00, ?it/s]"
      ]
     },
     "metadata": {},
     "output_type": "display_data"
    },
    {
     "name": "stderr",
     "output_type": "stream",
     "text": [
      "Training Epochs:  15%|█▌        | 3/20 [17:58<1:41:53, 359.64s/epoch]\n",
      "Experiments:  92%|█████████▏| 12/13 [3:38:39<17:55, 1075.16s/experiment]"
     ]
    },
    {
     "name": "stdout",
     "output_type": "stream",
     "text": [
      "No imporvement in validation metric. Current: -0.773837. Current best: -0.766692\n",
      "EarlyStopping counter: 3 out of 3\n",
      "Early stopping reached. Stop training...\n",
      "Experiment exp_LSTM_adam_lr_001_rnn_units64_tpu32_bd1_dp5_nl1 finished. Best model saved at: None\n",
      "\n",
      "========================================\n",
      "Starting experiment: exp_LSTM_adam_lr_001_rnn_units64_tpu32_bd1_dp5_nl2\n"
     ]
    },
    {
     "name": "stderr",
     "output_type": "stream",
     "text": []
    },
    {
     "data": {
      "application/vnd.jupyter.widget-view+json": {
       "model_id": "bac9495f15f94bb588321f97dc13cde3",
       "version_major": 2,
       "version_minor": 0
      },
      "text/plain": [
       "Training: 0it [00:00, ?it/s]"
      ]
     },
     "metadata": {},
     "output_type": "display_data"
    },
    {
     "name": "stderr",
     "output_type": "stream",
     "text": [
      "Training Epochs:   0%|          | 0/20 [00:00<?, ?epoch/s]\n",
      "Experiments:  92%|█████████▏| 12/13 [3:38:40<18:13, 1093.36s/experiment]\n"
     ]
    },
    {
     "ename": "RuntimeError",
     "evalue": "shape '[128, 128]' is invalid for input of size 32768",
     "output_type": "error",
     "traceback": [
      "\u001b[1;31m---------------------------------------------------------------------------\u001b[0m",
      "\u001b[1;31mRuntimeError\u001b[0m                              Traceback (most recent call last)",
      "Cell \u001b[1;32mIn[51], line 28\u001b[0m\n\u001b[0;32m     25\u001b[0m es \u001b[38;5;241m=\u001b[39m EarlyStopping(patience\u001b[38;5;241m=\u001b[39mconfig\u001b[38;5;241m.\u001b[39mget(\u001b[38;5;124m\"\u001b[39m\u001b[38;5;124mearly_stopping_patience\u001b[39m\u001b[38;5;124m\"\u001b[39m, \u001b[38;5;241m3\u001b[39m), verbose\u001b[38;5;241m=\u001b[39m\u001b[38;5;28;01mFalse\u001b[39;00m)\n\u001b[0;32m     27\u001b[0m \u001b[38;5;66;03m# Запуск обучения\u001b[39;00m\n\u001b[1;32m---> 28\u001b[0m best_model_path, best_roc_auc, train_roc_auc_list, val_roc_auc_list \u001b[38;5;241m=\u001b[39m \u001b[43mtrain_model\u001b[49m\u001b[43m(\u001b[49m\n\u001b[0;32m     29\u001b[0m \u001b[43m    \u001b[49m\u001b[43mmodel\u001b[49m\u001b[38;5;241;43m=\u001b[39;49m\u001b[43mmodel\u001b[49m\u001b[43m,\u001b[49m\n\u001b[0;32m     30\u001b[0m \u001b[43m    \u001b[49m\u001b[43moptimizer\u001b[49m\u001b[38;5;241;43m=\u001b[39;49m\u001b[43moptimizer\u001b[49m\u001b[43m,\u001b[49m\n\u001b[0;32m     31\u001b[0m \u001b[43m    \u001b[49m\u001b[43mdataset_train\u001b[49m\u001b[38;5;241;43m=\u001b[39;49m\u001b[43mdataset_train\u001b[49m\u001b[43m,\u001b[49m\n\u001b[0;32m     32\u001b[0m \u001b[43m    \u001b[49m\u001b[43mdataset_val\u001b[49m\u001b[38;5;241;43m=\u001b[39;49m\u001b[43mdataset_val\u001b[49m\u001b[43m,\u001b[49m\n\u001b[0;32m     33\u001b[0m \u001b[43m    \u001b[49m\u001b[43mnum_epochs\u001b[49m\u001b[38;5;241;43m=\u001b[39;49m\u001b[43mconfig\u001b[49m\u001b[43m[\u001b[49m\u001b[38;5;124;43m\"\u001b[39;49m\u001b[38;5;124;43mnum_epochs\u001b[39;49m\u001b[38;5;124;43m\"\u001b[39;49m\u001b[43m]\u001b[49m\u001b[43m,\u001b[49m\n\u001b[0;32m     34\u001b[0m \u001b[43m    \u001b[49m\u001b[43mtrain_batch_size\u001b[49m\u001b[38;5;241;43m=\u001b[39;49m\u001b[43mconfig\u001b[49m\u001b[43m[\u001b[49m\u001b[38;5;124;43m\"\u001b[39;49m\u001b[38;5;124;43mtrain_batch_size\u001b[39;49m\u001b[38;5;124;43m\"\u001b[39;49m\u001b[43m]\u001b[49m\u001b[43m,\u001b[49m\n\u001b[0;32m     35\u001b[0m \u001b[43m    \u001b[49m\u001b[43mval_batch_size\u001b[49m\u001b[38;5;241;43m=\u001b[39;49m\u001b[43mconfig\u001b[49m\u001b[43m[\u001b[49m\u001b[38;5;124;43m\"\u001b[39;49m\u001b[38;5;124;43mval_batch_size\u001b[39;49m\u001b[38;5;124;43m\"\u001b[39;49m\u001b[43m]\u001b[49m\u001b[43m,\u001b[49m\n\u001b[0;32m     36\u001b[0m \u001b[43m    \u001b[49m\u001b[43mpath_to_checkpoints\u001b[49m\u001b[38;5;241;43m=\u001b[39;49m\u001b[43mcheckpoint_dir\u001b[49m\u001b[43m,\u001b[49m\n\u001b[0;32m     37\u001b[0m \u001b[43m    \u001b[49m\u001b[43mes\u001b[49m\u001b[38;5;241;43m=\u001b[39;49m\u001b[43mes\u001b[49m\u001b[43m,\u001b[49m\n\u001b[0;32m     38\u001b[0m \u001b[43m    \u001b[49m\u001b[43mdevice\u001b[49m\u001b[38;5;241;43m=\u001b[39;49m\u001b[43mdevice\u001b[49m\n\u001b[0;32m     39\u001b[0m \u001b[43m\u001b[49m\u001b[43m)\u001b[49m\n\u001b[0;32m     41\u001b[0m \u001b[38;5;28mprint\u001b[39m(\u001b[38;5;124mf\u001b[39m\u001b[38;5;124m\"\u001b[39m\u001b[38;5;124mExperiment \u001b[39m\u001b[38;5;132;01m{\u001b[39;00mconfig[\u001b[38;5;124m'\u001b[39m\u001b[38;5;124mname\u001b[39m\u001b[38;5;124m'\u001b[39m]\u001b[38;5;132;01m}\u001b[39;00m\u001b[38;5;124m finished. Best model saved at: \u001b[39m\u001b[38;5;132;01m{\u001b[39;00mbest_model_path\u001b[38;5;132;01m}\u001b[39;00m\u001b[38;5;124m\"\u001b[39m)\n\u001b[0;32m     43\u001b[0m experiment_results\u001b[38;5;241m.\u001b[39mappend({\n\u001b[0;32m     44\u001b[0m     \u001b[38;5;124m\"\u001b[39m\u001b[38;5;124mexperiment\u001b[39m\u001b[38;5;124m\"\u001b[39m: config[\u001b[38;5;124m\"\u001b[39m\u001b[38;5;124mname\u001b[39m\u001b[38;5;124m\"\u001b[39m],\n\u001b[0;32m     45\u001b[0m     \u001b[38;5;124m\"\u001b[39m\u001b[38;5;124mmodel_name\u001b[39m\u001b[38;5;124m\"\u001b[39m: config[\u001b[38;5;124m\"\u001b[39m\u001b[38;5;124mmodel_name\u001b[39m\u001b[38;5;124m\"\u001b[39m]\u001b[38;5;241m.\u001b[39m\u001b[38;5;18m__name__\u001b[39m,  \u001b[38;5;66;03m# Получаем имя класса модели\u001b[39;00m\n\u001b[1;32m   (...)\u001b[0m\n\u001b[0;32m     56\u001b[0m     \u001b[38;5;124m\"\u001b[39m\u001b[38;5;124mval_roc_auc\u001b[39m\u001b[38;5;124m\"\u001b[39m: val_roc_auc_list,\n\u001b[0;32m     57\u001b[0m })\n",
      "Cell \u001b[1;32mIn[48], line 19\u001b[0m, in \u001b[0;36mtrain_model\u001b[1;34m(model, optimizer, dataset_train, dataset_val, num_epochs, train_batch_size, val_batch_size, path_to_checkpoints, es, device)\u001b[0m\n\u001b[0;32m     15\u001b[0m val_roc_auc_list \u001b[38;5;241m=\u001b[39m []\n\u001b[0;32m     17\u001b[0m \u001b[38;5;28;01mfor\u001b[39;00m epoch \u001b[38;5;129;01min\u001b[39;00m trange(num_epochs, desc\u001b[38;5;241m=\u001b[39m\u001b[38;5;124m\"\u001b[39m\u001b[38;5;124mTraining Epochs\u001b[39m\u001b[38;5;124m\"\u001b[39m, unit\u001b[38;5;241m=\u001b[39m\u001b[38;5;124m\"\u001b[39m\u001b[38;5;124mepoch\u001b[39m\u001b[38;5;124m\"\u001b[39m, leave\u001b[38;5;241m=\u001b[39m\u001b[38;5;28;01mTrue\u001b[39;00m):\n\u001b[0;32m     18\u001b[0m     \u001b[38;5;66;03m# Обучаем модель на тренировочном датасете\u001b[39;00m\n\u001b[1;32m---> 19\u001b[0m     \u001b[43mtrain_epoch\u001b[49m\u001b[43m(\u001b[49m\u001b[43mmodel\u001b[49m\u001b[43m,\u001b[49m\u001b[43m \u001b[49m\u001b[43moptimizer\u001b[49m\u001b[43m,\u001b[49m\u001b[43m \u001b[49m\u001b[43mdataset_train\u001b[49m\u001b[43m,\u001b[49m\u001b[43m \u001b[49m\u001b[43mbatch_size\u001b[49m\u001b[38;5;241;43m=\u001b[39;49m\u001b[43mtrain_batch_size\u001b[49m\u001b[43m,\u001b[49m\u001b[43m \u001b[49m\n\u001b[0;32m     20\u001b[0m \u001b[43m                \u001b[49m\u001b[43mshuffle\u001b[49m\u001b[38;5;241;43m=\u001b[39;49m\u001b[38;5;28;43;01mTrue\u001b[39;49;00m\u001b[43m,\u001b[49m\u001b[43m \u001b[49m\u001b[43mprint_loss_every_n_batches\u001b[49m\u001b[38;5;241;43m=\u001b[39;49m\u001b[38;5;241;43m500\u001b[39;49m\u001b[43m,\u001b[49m\u001b[43m \u001b[49m\u001b[43mdevice\u001b[49m\u001b[38;5;241;43m=\u001b[39;49m\u001b[43mdevice\u001b[49m\u001b[43m)\u001b[49m\n\u001b[0;32m     22\u001b[0m     \u001b[38;5;66;03m# Оцениваем модель на валидационном датасете\u001b[39;00m\n\u001b[0;32m     23\u001b[0m     current_val_roc_auc \u001b[38;5;241m=\u001b[39m eval_model(model, dataset_val, batch_size\u001b[38;5;241m=\u001b[39mval_batch_size, device\u001b[38;5;241m=\u001b[39mdevice)\n",
      "File \u001b[1;32mc:\\Users\\AltSp\\PycharmProjects\\credit_score\\credit\\pytorch_training.py:46\u001b[0m, in \u001b[0;36mtrain_epoch\u001b[1;34m(model, optimizer, dataset_train, batch_size, shuffle, print_loss_every_n_batches, device)\u001b[0m\n\u001b[0;32m     42\u001b[0m train_generator \u001b[38;5;241m=\u001b[39m batches_generator(dataset_train, batch_size\u001b[38;5;241m=\u001b[39mbatch_size, shuffle\u001b[38;5;241m=\u001b[39mshuffle,\n\u001b[0;32m     43\u001b[0m                                     device\u001b[38;5;241m=\u001b[39mdevice, is_train\u001b[38;5;241m=\u001b[39m\u001b[38;5;28;01mTrue\u001b[39;00m, output_format\u001b[38;5;241m=\u001b[39m\u001b[38;5;124m\"\u001b[39m\u001b[38;5;124mtorch\u001b[39m\u001b[38;5;124m\"\u001b[39m)\n\u001b[0;32m     45\u001b[0m \u001b[38;5;28;01mfor\u001b[39;00m num_batch, batch \u001b[38;5;129;01min\u001b[39;00m tqdm_notebook(\u001b[38;5;28menumerate\u001b[39m(train_generator, start\u001b[38;5;241m=\u001b[39m\u001b[38;5;241m1\u001b[39m), desc\u001b[38;5;241m=\u001b[39m\u001b[38;5;124m\"\u001b[39m\u001b[38;5;124mTraining\u001b[39m\u001b[38;5;124m\"\u001b[39m):\n\u001b[1;32m---> 46\u001b[0m     output \u001b[38;5;241m=\u001b[39m torch\u001b[38;5;241m.\u001b[39mflatten(\u001b[43mmodel\u001b[49m\u001b[43m(\u001b[49m\u001b[43mbatch\u001b[49m\u001b[43m[\u001b[49m\u001b[38;5;124;43m\"\u001b[39;49m\u001b[38;5;124;43mfeatures\u001b[39;49m\u001b[38;5;124;43m\"\u001b[39;49m\u001b[43m]\u001b[49m\u001b[43m)\u001b[49m)\n\u001b[0;32m     47\u001b[0m     batch_loss \u001b[38;5;241m=\u001b[39m loss_function(output, batch[\u001b[38;5;124m\"\u001b[39m\u001b[38;5;124mlabel\u001b[39m\u001b[38;5;124m\"\u001b[39m]\u001b[38;5;241m.\u001b[39mfloat())\n\u001b[0;32m     48\u001b[0m     batch_loss\u001b[38;5;241m.\u001b[39mmean()\u001b[38;5;241m.\u001b[39mbackward()\n",
      "File \u001b[1;32mc:\\Users\\AltSp\\.conda\\envs\\pytorch_env\\lib\\site-packages\\torch\\nn\\modules\\module.py:1736\u001b[0m, in \u001b[0;36mModule._wrapped_call_impl\u001b[1;34m(self, *args, **kwargs)\u001b[0m\n\u001b[0;32m   1734\u001b[0m     \u001b[38;5;28;01mreturn\u001b[39;00m \u001b[38;5;28mself\u001b[39m\u001b[38;5;241m.\u001b[39m_compiled_call_impl(\u001b[38;5;241m*\u001b[39margs, \u001b[38;5;241m*\u001b[39m\u001b[38;5;241m*\u001b[39mkwargs)  \u001b[38;5;66;03m# type: ignore[misc]\u001b[39;00m\n\u001b[0;32m   1735\u001b[0m \u001b[38;5;28;01melse\u001b[39;00m:\n\u001b[1;32m-> 1736\u001b[0m     \u001b[38;5;28;01mreturn\u001b[39;00m \u001b[38;5;28mself\u001b[39m\u001b[38;5;241m.\u001b[39m_call_impl(\u001b[38;5;241m*\u001b[39margs, \u001b[38;5;241m*\u001b[39m\u001b[38;5;241m*\u001b[39mkwargs)\n",
      "File \u001b[1;32mc:\\Users\\AltSp\\.conda\\envs\\pytorch_env\\lib\\site-packages\\torch\\nn\\modules\\module.py:1747\u001b[0m, in \u001b[0;36mModule._call_impl\u001b[1;34m(self, *args, **kwargs)\u001b[0m\n\u001b[0;32m   1742\u001b[0m \u001b[38;5;66;03m# If we don't have any hooks, we want to skip the rest of the logic in\u001b[39;00m\n\u001b[0;32m   1743\u001b[0m \u001b[38;5;66;03m# this function, and just call forward.\u001b[39;00m\n\u001b[0;32m   1744\u001b[0m \u001b[38;5;28;01mif\u001b[39;00m \u001b[38;5;129;01mnot\u001b[39;00m (\u001b[38;5;28mself\u001b[39m\u001b[38;5;241m.\u001b[39m_backward_hooks \u001b[38;5;129;01mor\u001b[39;00m \u001b[38;5;28mself\u001b[39m\u001b[38;5;241m.\u001b[39m_backward_pre_hooks \u001b[38;5;129;01mor\u001b[39;00m \u001b[38;5;28mself\u001b[39m\u001b[38;5;241m.\u001b[39m_forward_hooks \u001b[38;5;129;01mor\u001b[39;00m \u001b[38;5;28mself\u001b[39m\u001b[38;5;241m.\u001b[39m_forward_pre_hooks\n\u001b[0;32m   1745\u001b[0m         \u001b[38;5;129;01mor\u001b[39;00m _global_backward_pre_hooks \u001b[38;5;129;01mor\u001b[39;00m _global_backward_hooks\n\u001b[0;32m   1746\u001b[0m         \u001b[38;5;129;01mor\u001b[39;00m _global_forward_hooks \u001b[38;5;129;01mor\u001b[39;00m _global_forward_pre_hooks):\n\u001b[1;32m-> 1747\u001b[0m     \u001b[38;5;28;01mreturn\u001b[39;00m forward_call(\u001b[38;5;241m*\u001b[39margs, \u001b[38;5;241m*\u001b[39m\u001b[38;5;241m*\u001b[39mkwargs)\n\u001b[0;32m   1749\u001b[0m result \u001b[38;5;241m=\u001b[39m \u001b[38;5;28;01mNone\u001b[39;00m\n\u001b[0;32m   1750\u001b[0m called_always_called_hooks \u001b[38;5;241m=\u001b[39m \u001b[38;5;28mset\u001b[39m()\n",
      "Cell \u001b[1;32mIn[45], line 31\u001b[0m, in \u001b[0;36mRNN_LSTM.forward\u001b[1;34m(self, features)\u001b[0m\n\u001b[0;32m     29\u001b[0m _, (hidden, _) \u001b[38;5;241m=\u001b[39m \u001b[38;5;28mself\u001b[39m\u001b[38;5;241m.\u001b[39m_lstm(concated_embeddings)\n\u001b[0;32m     30\u001b[0m hidden \u001b[38;5;241m=\u001b[39m hidden\u001b[38;5;241m.\u001b[39mpermute(\u001b[38;5;241m1\u001b[39m, \u001b[38;5;241m2\u001b[39m, \u001b[38;5;241m0\u001b[39m)\n\u001b[1;32m---> 31\u001b[0m hidden \u001b[38;5;241m=\u001b[39m \u001b[43mtorch\u001b[49m\u001b[38;5;241;43m.\u001b[39;49m\u001b[43mreshape\u001b[49m\u001b[43m(\u001b[49m\u001b[43mhidden\u001b[49m\u001b[43m,\u001b[49m\u001b[43m \u001b[49m\u001b[43m(\u001b[49m\u001b[43mbatch_size\u001b[49m\u001b[43m,\u001b[49m\u001b[43m \u001b[49m\u001b[38;5;28;43mself\u001b[39;49m\u001b[38;5;241;43m.\u001b[39;49m\u001b[43m_hidden_size\u001b[49m\u001b[43m)\u001b[49m\u001b[43m)\u001b[49m\n\u001b[0;32m     33\u001b[0m classification_hidden \u001b[38;5;241m=\u001b[39m \u001b[38;5;28mself\u001b[39m\u001b[38;5;241m.\u001b[39m_top_classifier(hidden)\n\u001b[0;32m     34\u001b[0m activation \u001b[38;5;241m=\u001b[39m \u001b[38;5;28mself\u001b[39m\u001b[38;5;241m.\u001b[39m_intermediate_activation(classification_hidden)\n",
      "\u001b[1;31mRuntimeError\u001b[0m: shape '[128, 128]' is invalid for input of size 32768"
     ]
    }
   ],
   "source": [
    "experiment_results = []\n",
    "\n",
    "for config in tqdm.tqdm(experiment_configs, desc=\"Experiments\", unit=\"experiment\"):\n",
    "    print(f\"\\n{'='*40}\\nStarting experiment: {config['name']}\")\n",
    "    \n",
    "    checkpoint_dir = os.path.join(\"checkpoints\", config[\"name\"])\n",
    "    os.makedirs(checkpoint_dir, exist_ok=True)\n",
    "    \n",
    "    # Создание модели через передачу класса\n",
    "    model = config[\"model_name\"](**config[\"model_params\"])\n",
    "    model.to(device)\n",
    "    \n",
    "    # Настройка оптимизатора\n",
    "    optimizer_name = config[\"optimizer\"].lower()\n",
    "    if optimizer_name == \"adam\":\n",
    "        optimizer = torch.optim.Adam(model.parameters(),**config[\"optimizer_params\"])\n",
    "    elif optimizer_name == \"sgd\":\n",
    "        optimizer = torch.optim.SGD(model.parameters(),**config[\"optimizer_params\"])\n",
    "    elif optimizer_name == 'adamw':\n",
    "        optimizer = torch.optim.AdamW(model.parameters(),**config[\"optimizer_params\"])\n",
    "    else:\n",
    "        raise ValueError(f\"Неизвестный оптимизатор: {config['optimizer']}\")\n",
    "    \n",
    "    # Создание объекта ранней остановки\n",
    "    es = EarlyStopping(patience=config.get(\"early_stopping_patience\", 3), verbose=False)\n",
    "    \n",
    "    # Запуск обучения\n",
    "    best_model_path, best_roc_auc, train_roc_auc_list, val_roc_auc_list = train_model(\n",
    "        model=model,\n",
    "        optimizer=optimizer,\n",
    "        dataset_train=dataset_train,\n",
    "        dataset_val=dataset_val,\n",
    "        num_epochs=config[\"num_epochs\"],\n",
    "        train_batch_size=config[\"train_batch_size\"],\n",
    "        val_batch_size=config[\"val_batch_size\"],\n",
    "        path_to_checkpoints=checkpoint_dir,\n",
    "        es=es,\n",
    "        device=device\n",
    "    )\n",
    "    \n",
    "    print(f\"Experiment {config['name']} finished. Best model saved at: {best_model_path}\")\n",
    "    \n",
    "    experiment_results.append({\n",
    "        \"experiment\": config[\"name\"],\n",
    "        \"model_name\": config[\"model_name\"].__name__,  # Получаем имя класса модели\n",
    "        \"optimizer\": config[\"optimizer\"],\n",
    "        \"optimizer_params\": config[\"optimizer_params\"],\n",
    "        \"num_epochs\": config[\"num_epochs\"],\n",
    "        \"train_batch_size\": config[\"train_batch_size\"],\n",
    "        \"val_batch_size\": config[\"val_batch_size\"],\n",
    "        \"model_params\": config[\"model_params\"],\n",
    "        \"early_stopping_patience\": config.get(\"early_stopping_patience\", 3),\n",
    "        \"best_model_path\": best_model_path,\n",
    "        \"best_roc_auc\": best_roc_auc,\n",
    "        \"train_roc_auc\": train_roc_auc_list,\n",
    "        \"val_roc_auc\": val_roc_auc_list,\n",
    "    })\n",
    "\n"
   ]
  },
  {
   "cell_type": "code",
   "execution_count": null,
   "metadata": {
    "execution": {
     "iopub.status.busy": "2025-04-16T17:51:36.518752Z",
     "iopub.status.idle": "2025-04-16T17:51:36.519002Z",
     "shell.execute_reply": "2025-04-16T17:51:36.518903Z"
    },
    "trusted": true
   },
   "outputs": [],
   "source": [
    "# --- Сохранение результатов в DataFrame ---\n",
    "df_results = pd.DataFrame(experiment_results)\n",
    "df_results"
   ]
  },
  {
   "cell_type": "code",
   "execution_count": null,
   "metadata": {
    "execution": {
     "iopub.status.busy": "2025-04-16T17:51:36.519609Z",
     "iopub.status.idle": "2025-04-16T17:51:36.519841Z",
     "shell.execute_reply": "2025-04-16T17:51:36.519745Z"
    },
    "trusted": true
   },
   "outputs": [],
   "source": [
    "df_results.to_csv('experiments_relults.csv', index=False, encoding='utf-8')"
   ]
  }
 ],
 "metadata": {
  "kaggle": {
   "accelerator": "gpu",
   "dataSources": [
    {
     "datasetId": 7043178,
     "sourceId": 11267456,
     "sourceType": "datasetVersion"
    }
   ],
   "dockerImageVersionId": 30919,
   "isGpuEnabled": true,
   "isInternetEnabled": true,
   "language": "python",
   "sourceType": "notebook"
  },
  "kernelspec": {
   "display_name": "pytorch_env",
   "language": "python",
   "name": "python3"
  },
  "language_info": {
   "codemirror_mode": {
    "name": "ipython",
    "version": 3
   },
   "file_extension": ".py",
   "mimetype": "text/x-python",
   "name": "python",
   "nbconvert_exporter": "python",
   "pygments_lexer": "ipython3",
   "version": "3.10.16"
  }
 },
 "nbformat": 4,
 "nbformat_minor": 4
}
