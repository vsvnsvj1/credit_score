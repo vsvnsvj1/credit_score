{
 "cells": [
  {
   "cell_type": "markdown",
   "metadata": {},
   "source": [
    "### 0. Imports and requirements"
   ]
  },
  {
   "cell_type": "code",
   "execution_count": 1,
   "metadata": {
    "execution": {
     "iopub.execute_input": "2025-04-18T11:46:57.218042Z",
     "iopub.status.busy": "2025-04-18T11:46:57.217773Z",
     "iopub.status.idle": "2025-04-18T11:47:02.656349Z",
     "shell.execute_reply": "2025-04-18T11:47:02.655628Z",
     "shell.execute_reply.started": "2025-04-18T11:46:57.218010Z"
    },
    "trusted": true
   },
   "outputs": [],
   "source": [
    "%load_ext autoreload\n",
    "%autoreload 2\n",
    "\n",
    "import os\n",
    "import pandas as pd\n",
    "import sys\n",
    "import pickle\n",
    "import numpy as np\n",
    "import torch\n",
    "import torch.nn as nn\n",
    "import os\n",
    "import torch\n",
    "from tqdm import trange\n",
    "\n",
    "\n",
    "from sklearn.model_selection import train_test_split\n",
    "import tqdm \n",
    "\n",
    "\n",
    "pd.set_option(\"display.max_columns\", None)\n",
    "sys.path.append('/kaggle/input/credit') # замени на свою\n",
    "sys.path.append('../')\n",
    "\n"
   ]
  },
  {
   "cell_type": "code",
   "execution_count": 2,
   "metadata": {
    "execution": {
     "iopub.execute_input": "2025-04-18T11:47:13.609680Z",
     "iopub.status.busy": "2025-04-18T11:47:13.609353Z",
     "iopub.status.idle": "2025-04-18T11:47:13.636612Z",
     "shell.execute_reply": "2025-04-18T11:47:13.635826Z",
     "shell.execute_reply.started": "2025-04-18T11:47:13.609653Z"
    },
    "trusted": true
   },
   "outputs": [],
   "source": [
    "import matplotlib.pyplot as plt\n",
    "plt.style.use(\"seaborn-v0_8-whitegrid\")"
   ]
  },
  {
   "cell_type": "markdown",
   "metadata": {},
   "source": [
    "### 1. Data Preprocessing"
   ]
  },
  {
   "cell_type": "code",
   "execution_count": 3,
   "metadata": {
    "execution": {
     "iopub.execute_input": "2025-04-18T11:47:15.179544Z",
     "iopub.status.busy": "2025-04-18T11:47:15.179257Z",
     "iopub.status.idle": "2025-04-18T11:47:15.338454Z",
     "shell.execute_reply": "2025-04-18T11:47:15.337763Z",
     "shell.execute_reply.started": "2025-04-18T11:47:15.179523Z"
    },
    "trusted": true
   },
   "outputs": [
    {
     "name": "stdout",
     "output_type": "stream",
     "text": [
      "['Dict', '__builtins__', '__cached__', '__doc__', '__file__', '__loader__', '__name__', '__package__', '__spec__', 'create_padded_buckets', 'features', 'np', 'pad_sequence', 'pd', 'pickle', 'tqdm', 'transform_credits_to_sequences', 'truncate']\n"
     ]
    }
   ],
   "source": [
    "import dataset_preprocessing_utils\n",
    "print(dir(dataset_preprocessing_utils))"
   ]
  },
  {
   "cell_type": "code",
   "execution_count": 4,
   "metadata": {
    "execution": {
     "iopub.execute_input": "2025-04-18T11:47:17.707389Z",
     "iopub.status.busy": "2025-04-18T11:47:17.707102Z",
     "iopub.status.idle": "2025-04-18T11:47:17.734034Z",
     "shell.execute_reply": "2025-04-18T11:47:17.733157Z",
     "shell.execute_reply.started": "2025-04-18T11:47:17.707358Z"
    },
    "trusted": true
   },
   "outputs": [],
   "source": [
    "# тут тоже поставь свое \n",
    "TRAIN_DATA_PATH = \"/kaggle/input/credit/data/train_data/\" \n",
    "TEST_DATA_PATH = \"/kaggle/input/credit/data/test_data/\"\n",
    "\n",
    "TRAIN_TARGET_PATH = \"/kaggle/input/credit/data/train_target.csv\""
   ]
  },
  {
   "cell_type": "code",
   "execution_count": 5,
   "metadata": {
    "execution": {
     "iopub.execute_input": "2025-04-18T11:47:21.988393Z",
     "iopub.status.busy": "2025-04-18T11:47:21.988112Z",
     "iopub.status.idle": "2025-04-18T11:47:22.639448Z",
     "shell.execute_reply": "2025-04-18T11:47:22.638516Z",
     "shell.execute_reply.started": "2025-04-18T11:47:21.988364Z"
    },
    "trusted": true
   },
   "outputs": [],
   "source": [
    "train_target = pd.read_csv(TRAIN_TARGET_PATH)"
   ]
  },
  {
   "cell_type": "code",
   "execution_count": 6,
   "metadata": {
    "execution": {
     "iopub.execute_input": "2025-04-18T11:47:23.100190Z",
     "iopub.status.busy": "2025-04-18T11:47:23.099607Z",
     "iopub.status.idle": "2025-04-18T11:47:23.129183Z",
     "shell.execute_reply": "2025-04-18T11:47:23.128189Z",
     "shell.execute_reply.started": "2025-04-18T11:47:23.100161Z"
    },
    "trusted": true
   },
   "outputs": [],
   "source": [
    "from utils import read_parquet_dataset_from_local\n",
    "from dataset_preprocessing_utils import features, transform_credits_to_sequences, create_padded_buckets"
   ]
  },
  {
   "cell_type": "code",
   "execution_count": 23,
   "metadata": {
    "execution": {
     "iopub.execute_input": "2025-04-18T12:22:43.379546Z",
     "iopub.status.busy": "2025-04-18T12:22:43.379214Z",
     "iopub.status.idle": "2025-04-18T12:23:30.899569Z",
     "shell.execute_reply": "2025-04-18T12:23:30.898679Z",
     "shell.execute_reply.started": "2025-04-18T12:22:43.379521Z"
    },
    "trusted": true
   },
   "outputs": [
    {
     "data": {
      "application/vnd.jupyter.widget-view+json": {
       "model_id": "989b9927e0944512a57b234721b116aa",
       "version_major": 2,
       "version_minor": 0
      },
      "text/plain": [
       "Count statistics on train data:   0%|          | 0/3 [00:00<?, ?it/s]"
      ]
     },
     "metadata": {},
     "output_type": "display_data"
    },
    {
     "name": "stdout",
     "output_type": "stream",
     "text": [
      "Reading chunks:\n",
      "/kaggle/input/credit/data/train_data/train_data_0.pq\n",
      "/kaggle/input/credit/data/train_data/train_data_1.pq\n",
      "/kaggle/input/credit/data/train_data/train_data_2.pq\n",
      "/kaggle/input/credit/data/train_data/train_data_3.pq\n"
     ]
    },
    {
     "data": {
      "application/vnd.jupyter.widget-view+json": {
       "model_id": "00f1df53195647d7b79ea948c0679893",
       "version_major": 2,
       "version_minor": 0
      },
      "text/plain": [
       "Reading dataset with pandas:   0%|          | 0/4 [00:00<?, ?it/s]"
      ]
     },
     "metadata": {},
     "output_type": "display_data"
    },
    {
     "name": "stdout",
     "output_type": "stream",
     "text": [
      "Reading chunks:\n",
      "/kaggle/input/credit/data/train_data/train_data_4.pq\n",
      "/kaggle/input/credit/data/train_data/train_data_5.pq\n",
      "/kaggle/input/credit/data/train_data/train_data_6.pq\n",
      "/kaggle/input/credit/data/train_data/train_data_7.pq\n"
     ]
    },
    {
     "data": {
      "application/vnd.jupyter.widget-view+json": {
       "model_id": "e2e98da737f741a8ad77a6078d7c7bc4",
       "version_major": 2,
       "version_minor": 0
      },
      "text/plain": [
       "Reading dataset with pandas:   0%|          | 0/4 [00:00<?, ?it/s]"
      ]
     },
     "metadata": {},
     "output_type": "display_data"
    },
    {
     "name": "stdout",
     "output_type": "stream",
     "text": [
      "Reading chunks:\n",
      "/kaggle/input/credit/data/train_data/train_data_8.pq\n",
      "/kaggle/input/credit/data/train_data/train_data_9.pq\n",
      "/kaggle/input/credit/data/train_data/train_data_10.pq\n",
      "/kaggle/input/credit/data/train_data/train_data_11.pq\n"
     ]
    },
    {
     "data": {
      "application/vnd.jupyter.widget-view+json": {
       "model_id": "20d6063d1457438ba7e41339eef696cc",
       "version_major": 2,
       "version_minor": 0
      },
      "text/plain": [
       "Reading dataset with pandas:   0%|          | 0/4 [00:00<?, ?it/s]"
      ]
     },
     "metadata": {},
     "output_type": "display_data"
    },
    {
     "data": {
      "application/vnd.jupyter.widget-view+json": {
       "model_id": "9b8673151d054bd49ca14a993be2148b",
       "version_major": 2,
       "version_minor": 0
      },
      "text/plain": [
       "Count statistics on test data:   0%|          | 0/1 [00:00<?, ?it/s]"
      ]
     },
     "metadata": {},
     "output_type": "display_data"
    },
    {
     "name": "stdout",
     "output_type": "stream",
     "text": [
      "Reading chunks:\n",
      "/kaggle/input/credit/data/test_data/test_data_0.pq\n",
      "/kaggle/input/credit/data/test_data/test_data_1.pq\n"
     ]
    },
    {
     "data": {
      "application/vnd.jupyter.widget-view+json": {
       "model_id": "255cde8c52db481884a525a27f5fa400",
       "version_major": 2,
       "version_minor": 0
      },
      "text/plain": [
       "Reading dataset with pandas:   0%|          | 0/2 [00:00<?, ?it/s]"
      ]
     },
     "metadata": {},
     "output_type": "display_data"
    },
    {
     "name": "stdout",
     "output_type": "stream",
     "text": [
      "CPU times: user 46.8 s, sys: 34.4 s, total: 1min 21s\n",
      "Wall time: 47.5 s\n"
     ]
    }
   ],
   "source": [
    "%%time\n",
    "from collections import defaultdict\n",
    "\n",
    "\n",
    "train_lens = []\n",
    "test_lens = []\n",
    "uniques = defaultdict(set)\n",
    "\n",
    "for step in tqdm.notebook.tqdm(range(0, 12, 4),\n",
    "                     desc=\"Count statistics on train data\"):\n",
    "        credits_frame = read_parquet_dataset_from_local(TRAIN_DATA_PATH, step, 4, verbose=True)\n",
    "        seq_lens = credits_frame.groupby(\"id\").agg(seq_len=(\"rn\", \"max\"))[\"seq_len\"].values\n",
    "        train_lens.extend(seq_lens)\n",
    "        credits_frame.drop(columns=[\"id\", \"rn\"], inplace=True)\n",
    "        for feat in credits_frame.columns.values:\n",
    "            uniques[feat] = uniques[feat].union(credits_frame[feat].unique())\n",
    "train_lens = np.hstack(train_lens)\n",
    "\n",
    "for step in tqdm.notebook.tqdm(range(0, 2, 2),\n",
    "                     desc=\"Count statistics on test data\"):\n",
    "        credits_frame = read_parquet_dataset_from_local(TEST_DATA_PATH, step, 2, verbose=True)\n",
    "        seq_lens = credits_frame.groupby(\"id\").agg(seq_len=(\"rn\", \"max\"))[\"seq_len\"].values\n",
    "        test_lens.extend(seq_lens)\n",
    "        credits_frame.drop(columns=[\"id\", \"rn\"], inplace=True)\n",
    "        for feat in credits_frame.columns.values:\n",
    "            uniques[feat] = uniques[feat].union(credits_frame[feat].unique())\n",
    "test_lens = np.hstack(test_lens)\n",
    "uniques = dict(uniques)"
   ]
  },
  {
   "cell_type": "markdown",
   "metadata": {},
   "source": [
    "* В дальнейшем при построении рекуррентной нейронной сети нам понадобятся следующие статистики по тренировочной и тестовой выборкам: распределение длин кредитных историй и число уникальных значений каждого категориального значения. Посчитаем эти статистики:"
   ]
  },
  {
   "cell_type": "markdown",
   "metadata": {},
   "source": [
    "* Чтобы сразу убедиться, что посчитанные статистики интересные и полезные, построим графики распределений длин кредитных историй в тренировочной и тестовой выборках"
   ]
  },
  {
   "cell_type": "code",
   "execution_count": 7,
   "metadata": {
    "execution": {
     "iopub.execute_input": "2025-04-18T11:47:26.767147Z",
     "iopub.status.busy": "2025-04-18T11:47:26.766799Z",
     "iopub.status.idle": "2025-04-18T11:47:26.794650Z",
     "shell.execute_reply": "2025-04-18T11:47:26.793986Z",
     "shell.execute_reply.started": "2025-04-18T11:47:26.767119Z"
    },
    "trusted": true
   },
   "outputs": [
    {
     "name": "stdout",
     "output_type": "stream",
     "text": [
      "['Dict', '__builtins__', '__cached__', '__doc__', '__file__', '__loader__', '__name__', '__package__', '__spec__', 'create_padded_buckets', 'features', 'np', 'pad_sequence', 'pd', 'pickle', 'tqdm', 'transform_credits_to_sequences', 'truncate']\n"
     ]
    }
   ],
   "source": [
    "import dataset_preprocessing_utils\n",
    "print(dir(dataset_preprocessing_utils))"
   ]
  },
  {
   "cell_type": "markdown",
   "metadata": {},
   "source": [
    "* Один из аргументов в функции `dataset_preprocessing_utils.create_padded_buckets` &ndash; `bucket_info` &ndash; словарь, где для конкретной длины последовательности указано до какой длины нужно делать паддинг. Для данного бэйзлайна возьмем простое разбиение на 43 бакета: \n",
    "| Длина последовательности | Длина после паддинга |\n",
    "| :-: | :-: \n",
    "| 1 &ndash; 40 | без изменений |\n",
    "| 41 &ndash; 45 | 45 |\n",
    "| 46 &ndash; 50 | 50 |\n",
    "| 51 &ndash; 58 | 58 |"
   ]
  },
  {
   "cell_type": "code",
   "execution_count": 8,
   "metadata": {
    "execution": {
     "iopub.execute_input": "2025-04-18T11:47:30.450309Z",
     "iopub.status.busy": "2025-04-18T11:47:30.449998Z",
     "iopub.status.idle": "2025-04-18T11:47:30.483473Z",
     "shell.execute_reply": "2025-04-18T11:47:30.482249Z",
     "shell.execute_reply.started": "2025-04-18T11:47:30.450282Z"
    },
    "trusted": true
   },
   "outputs": [
    {
     "data": {
      "text/plain": [
       "{1: 1,\n",
       " 2: 2,\n",
       " 3: 3,\n",
       " 4: 4,\n",
       " 5: 5,\n",
       " 6: 6,\n",
       " 7: 7,\n",
       " 8: 8,\n",
       " 9: 9,\n",
       " 10: 10,\n",
       " 11: 11,\n",
       " 12: 12,\n",
       " 13: 13,\n",
       " 14: 14,\n",
       " 15: 15,\n",
       " 16: 16,\n",
       " 17: 17,\n",
       " 18: 18,\n",
       " 19: 19,\n",
       " 20: 20,\n",
       " 21: 21,\n",
       " 22: 22,\n",
       " 23: 23,\n",
       " 24: 24,\n",
       " 25: 25,\n",
       " 26: 26,\n",
       " 27: 27,\n",
       " 28: 28,\n",
       " 29: 29,\n",
       " 30: 30,\n",
       " 31: 31,\n",
       " 32: 32,\n",
       " 33: 33,\n",
       " 34: 34,\n",
       " 35: 35,\n",
       " 36: 36,\n",
       " 37: 37,\n",
       " 38: 38,\n",
       " 39: 39,\n",
       " 40: 40,\n",
       " 41: 45,\n",
       " 42: 45,\n",
       " 43: 45,\n",
       " 44: 45,\n",
       " 45: 45,\n",
       " 46: 50,\n",
       " 47: 50,\n",
       " 48: 50,\n",
       " 49: 50,\n",
       " 50: 50,\n",
       " 51: 58,\n",
       " 52: 58,\n",
       " 53: 58,\n",
       " 54: 58,\n",
       " 55: 58,\n",
       " 56: 58,\n",
       " 57: 58,\n",
       " 58: 58}"
      ]
     },
     "execution_count": 8,
     "metadata": {},
     "output_type": "execute_result"
    }
   ],
   "source": [
    "keys_ = list(range(1, 59)) \n",
    "lens_ = list(range(1, 41)) + [45] * 5 + [50] * 5 + [58] * 8\n",
    "bucket_info = dict(zip(keys_, lens_))\n",
    "bucket_info"
   ]
  },
  {
   "cell_type": "markdown",
   "metadata": {},
   "source": [
    "* Так же рассмотрим уникальные значения признаков"
   ]
  },
  {
   "cell_type": "markdown",
   "metadata": {},
   "source": [
    "* Поскольку паддинг будет производиться нулями, а категориальные признаки закодированы, начиная с 0, перед паддингом будем сдвигать все значения на 1."
   ]
  },
  {
   "cell_type": "markdown",
   "metadata": {},
   "source": [
    "* Вся описанная выше предобработка данных реализована в виде функции `create_buckets_from_credits`:"
   ]
  },
  {
   "cell_type": "code",
   "execution_count": 10,
   "metadata": {
    "execution": {
     "iopub.execute_input": "2025-04-18T11:47:54.651250Z",
     "iopub.status.busy": "2025-04-18T11:47:54.650972Z",
     "iopub.status.idle": "2025-04-18T11:47:54.682076Z",
     "shell.execute_reply": "2025-04-18T11:47:54.681234Z",
     "shell.execute_reply.started": "2025-04-18T11:47:54.651230Z"
    },
    "trusted": true
   },
   "outputs": [],
   "source": [
    "def create_buckets_from_credits(path_to_dataset, bucket_info, save_to_path, frame_with_ids = None, \n",
    "                                num_parts_to_preprocess_at_once: int = 1, \n",
    "                                num_parts_total=50, has_target=False):\n",
    "    block = 0\n",
    "    for step in tqdm.notebook.tqdm(range(0, num_parts_total, num_parts_to_preprocess_at_once),\n",
    "                     desc=\"Preparing credit data\"):\n",
    "        credits_frame = read_parquet_dataset_from_local(path_to_dataset, step, num_parts_to_preprocess_at_once, verbose=True)\n",
    "        credits_frame.loc[:, features] += 1       \n",
    "        seq = transform_credits_to_sequences(credits_frame)\n",
    "        print(\"Transforming credits to sequences is done.\")\n",
    "        \n",
    "        if frame_with_ids is not None:\n",
    "            seq = seq.merge(frame_with_ids, on=\"id\")\n",
    "\n",
    "        block_as_str = str(block)\n",
    "        if len(block_as_str) == 1:\n",
    "            block_as_str = \"00\" + block_as_str\n",
    "        else:\n",
    "            block_as_str = \"0\" + block_as_str\n",
    "            \n",
    "        processed_fragment =  create_padded_buckets(seq, bucket_info=bucket_info, has_target=has_target, \n",
    "                                                    save_to_file_path=os.path.join(save_to_path, \n",
    "                                                                                   f\"processed_chunk_{block_as_str}.pkl\"))\n",
    "        block += 1"
   ]
  },
  {
   "cell_type": "markdown",
   "metadata": {},
   "source": [
    "* Разобьем обучающие данные на тренировочную и валидационную выборки. Воспользуемся самым простым способом &ndash; для валидации случайным образом выберем 10% обучающих данных."
   ]
  },
  {
   "cell_type": "code",
   "execution_count": 11,
   "metadata": {
    "execution": {
     "iopub.execute_input": "2025-04-18T11:48:00.059012Z",
     "iopub.status.busy": "2025-04-18T11:48:00.058710Z",
     "iopub.status.idle": "2025-04-18T11:48:00.272063Z",
     "shell.execute_reply": "2025-04-18T11:48:00.271154Z",
     "shell.execute_reply.started": "2025-04-18T11:48:00.058991Z"
    },
    "trusted": true
   },
   "outputs": [
    {
     "data": {
      "text/plain": [
       "((2700000, 2), (300000, 2))"
      ]
     },
     "execution_count": 11,
     "metadata": {},
     "output_type": "execute_result"
    }
   ],
   "source": [
    "train, val = train_test_split(train_target, random_state=42, test_size=0.1)\n",
    "train.shape, val.shape"
   ]
  },
  {
   "cell_type": "code",
   "execution_count": 12,
   "metadata": {
    "execution": {
     "iopub.execute_input": "2025-04-18T11:48:01.981233Z",
     "iopub.status.busy": "2025-04-18T11:48:01.980920Z",
     "iopub.status.idle": "2025-04-18T11:48:02.007651Z",
     "shell.execute_reply": "2025-04-18T11:48:02.007026Z",
     "shell.execute_reply.started": "2025-04-18T11:48:01.981207Z"
    },
    "trusted": true
   },
   "outputs": [],
   "source": [
    "TRAIN_BUCKETS_PATH = \"data/train_buckets_rnn\"\n",
    "VAL_BUCKETS_PATH = \"data/val_buckets_rnn\"\n",
    "TEST_BUCKETS_PATH = \"data/test_buckets_rnn\""
   ]
  },
  {
   "cell_type": "code",
   "execution_count": 16,
   "metadata": {
    "execution": {
     "iopub.execute_input": "2025-04-18T12:00:47.801522Z",
     "iopub.status.busy": "2025-04-18T12:00:47.801154Z",
     "iopub.status.idle": "2025-04-18T12:00:47.847172Z",
     "shell.execute_reply": "2025-04-18T12:00:47.846380Z",
     "shell.execute_reply.started": "2025-04-18T12:00:47.801491Z"
    },
    "trusted": true
   },
   "outputs": [
    {
     "name": "stdout",
     "output_type": "stream",
     "text": [
      "Создаю папку data/train_buckets_rnn\n",
      "Создаю папку data/val_buckets_rnn\n",
      "Создаю папку data/test_buckets_rnn\n"
     ]
    }
   ],
   "source": [
    "import shutil\n",
    "\n",
    "for buckets_path in [TRAIN_BUCKETS_PATH, VAL_BUCKETS_PATH, TEST_BUCKETS_PATH]:\n",
    "    if os.path.exists(buckets_path):\n",
    "        print(f\"Удаляю папку {buckets_path}\")\n",
    "        shutil.rmtree(buckets_path)  # Удаляем директорию и её содержимое\n",
    "    print(f\"Создаю папку {buckets_path}\")\n",
    "    os.makedirs(buckets_path)  # Создаём директорию"
   ]
  },
  {
   "cell_type": "code",
   "execution_count": 17,
   "metadata": {
    "execution": {
     "iopub.execute_input": "2025-04-18T12:00:51.569042Z",
     "iopub.status.busy": "2025-04-18T12:00:51.568759Z",
     "iopub.status.idle": "2025-04-18T12:11:07.969864Z",
     "shell.execute_reply": "2025-04-18T12:11:07.969103Z",
     "shell.execute_reply.started": "2025-04-18T12:00:51.569021Z"
    },
    "trusted": true
   },
   "outputs": [
    {
     "data": {
      "application/vnd.jupyter.widget-view+json": {
       "model_id": "68ac5820d78242b5b1635295b5d90591",
       "version_major": 2,
       "version_minor": 0
      },
      "text/plain": [
       "Preparing credit data:   0%|          | 0/4 [00:00<?, ?it/s]"
      ]
     },
     "metadata": {},
     "output_type": "display_data"
    },
    {
     "name": "stdout",
     "output_type": "stream",
     "text": [
      "Reading chunks:\n",
      "/kaggle/input/credit/data/train_data/train_data_0.pq\n",
      "/kaggle/input/credit/data/train_data/train_data_1.pq\n",
      "/kaggle/input/credit/data/train_data/train_data_2.pq\n"
     ]
    },
    {
     "data": {
      "application/vnd.jupyter.widget-view+json": {
       "model_id": "71ac3d8e01cb4f3a80fe9703e2c02f58",
       "version_major": 2,
       "version_minor": 0
      },
      "text/plain": [
       "Reading dataset with pandas:   0%|          | 0/3 [00:00<?, ?it/s]"
      ]
     },
     "metadata": {},
     "output_type": "display_data"
    },
    {
     "name": "stdout",
     "output_type": "stream",
     "text": [
      "Transforming credits to sequences is done.\n"
     ]
    },
    {
     "data": {
      "application/vnd.jupyter.widget-view+json": {
       "model_id": "94fe6627a8754339aa18e3e20874aefa",
       "version_major": 2,
       "version_minor": 0
      },
      "text/plain": [
       "Extracting buckets:   0%|          | 0/43 [00:00<?, ?it/s]"
      ]
     },
     "metadata": {},
     "output_type": "display_data"
    },
    {
     "name": "stdout",
     "output_type": "stream",
     "text": [
      "Reading chunks:\n",
      "/kaggle/input/credit/data/train_data/train_data_3.pq\n",
      "/kaggle/input/credit/data/train_data/train_data_4.pq\n",
      "/kaggle/input/credit/data/train_data/train_data_5.pq\n"
     ]
    },
    {
     "data": {
      "application/vnd.jupyter.widget-view+json": {
       "model_id": "68ad3283590f4866a842ffe2c43829b4",
       "version_major": 2,
       "version_minor": 0
      },
      "text/plain": [
       "Reading dataset with pandas:   0%|          | 0/3 [00:00<?, ?it/s]"
      ]
     },
     "metadata": {},
     "output_type": "display_data"
    },
    {
     "name": "stdout",
     "output_type": "stream",
     "text": [
      "Transforming credits to sequences is done.\n"
     ]
    },
    {
     "data": {
      "application/vnd.jupyter.widget-view+json": {
       "model_id": "a8ef140b132b48ffb3bbea2f73460f50",
       "version_major": 2,
       "version_minor": 0
      },
      "text/plain": [
       "Extracting buckets:   0%|          | 0/42 [00:00<?, ?it/s]"
      ]
     },
     "metadata": {},
     "output_type": "display_data"
    },
    {
     "name": "stdout",
     "output_type": "stream",
     "text": [
      "Reading chunks:\n",
      "/kaggle/input/credit/data/train_data/train_data_6.pq\n",
      "/kaggle/input/credit/data/train_data/train_data_7.pq\n",
      "/kaggle/input/credit/data/train_data/train_data_8.pq\n"
     ]
    },
    {
     "data": {
      "application/vnd.jupyter.widget-view+json": {
       "model_id": "f455989a90234132903c8d50e3266cc4",
       "version_major": 2,
       "version_minor": 0
      },
      "text/plain": [
       "Reading dataset with pandas:   0%|          | 0/3 [00:00<?, ?it/s]"
      ]
     },
     "metadata": {},
     "output_type": "display_data"
    },
    {
     "name": "stdout",
     "output_type": "stream",
     "text": [
      "Transforming credits to sequences is done.\n"
     ]
    },
    {
     "data": {
      "application/vnd.jupyter.widget-view+json": {
       "model_id": "a27a25a60e7847dabc148526ab50bdb1",
       "version_major": 2,
       "version_minor": 0
      },
      "text/plain": [
       "Extracting buckets:   0%|          | 0/43 [00:00<?, ?it/s]"
      ]
     },
     "metadata": {},
     "output_type": "display_data"
    },
    {
     "name": "stdout",
     "output_type": "stream",
     "text": [
      "Reading chunks:\n",
      "/kaggle/input/credit/data/train_data/train_data_9.pq\n",
      "/kaggle/input/credit/data/train_data/train_data_10.pq\n",
      "/kaggle/input/credit/data/train_data/train_data_11.pq\n"
     ]
    },
    {
     "data": {
      "application/vnd.jupyter.widget-view+json": {
       "model_id": "8877fd863ef54ccfb6fe5c9d94f396b5",
       "version_major": 2,
       "version_minor": 0
      },
      "text/plain": [
       "Reading dataset with pandas:   0%|          | 0/3 [00:00<?, ?it/s]"
      ]
     },
     "metadata": {},
     "output_type": "display_data"
    },
    {
     "name": "stdout",
     "output_type": "stream",
     "text": [
      "Transforming credits to sequences is done.\n"
     ]
    },
    {
     "data": {
      "application/vnd.jupyter.widget-view+json": {
       "model_id": "23ecc2b2453e4b2b8931fb5cde215599",
       "version_major": 2,
       "version_minor": 0
      },
      "text/plain": [
       "Extracting buckets:   0%|          | 0/42 [00:00<?, ?it/s]"
      ]
     },
     "metadata": {},
     "output_type": "display_data"
    },
    {
     "name": "stdout",
     "output_type": "stream",
     "text": [
      "CPU times: user 9min 24s, sys: 1min 13s, total: 10min 38s\n",
      "Wall time: 10min 16s\n"
     ]
    },
    {
     "data": {
      "text/plain": [
       "['data/train_buckets_rnn/processed_chunk_000.pkl',\n",
       " 'data/train_buckets_rnn/processed_chunk_001.pkl',\n",
       " 'data/train_buckets_rnn/processed_chunk_002.pkl',\n",
       " 'data/train_buckets_rnn/processed_chunk_003.pkl']"
      ]
     },
     "execution_count": 17,
     "metadata": {},
     "output_type": "execute_result"
    }
   ],
   "source": [
    "%%time\n",
    "create_buckets_from_credits(TRAIN_DATA_PATH,\n",
    "                            bucket_info=bucket_info,\n",
    "                            save_to_path=TRAIN_BUCKETS_PATH,\n",
    "                            frame_with_ids=train,\n",
    "                            num_parts_to_preprocess_at_once=3, \n",
    "                            num_parts_total=12, has_target=True)\n",
    "\n",
    "dataset_train = sorted([os.path.join(TRAIN_BUCKETS_PATH, x) for x in os.listdir(TRAIN_BUCKETS_PATH)])\n",
    "dataset_train"
   ]
  },
  {
   "cell_type": "code",
   "execution_count": 18,
   "metadata": {
    "execution": {
     "iopub.execute_input": "2025-04-18T12:11:07.971367Z",
     "iopub.status.busy": "2025-04-18T12:11:07.971065Z",
     "iopub.status.idle": "2025-04-18T12:20:19.741983Z",
     "shell.execute_reply": "2025-04-18T12:20:19.741068Z",
     "shell.execute_reply.started": "2025-04-18T12:11:07.971335Z"
    },
    "trusted": true
   },
   "outputs": [
    {
     "data": {
      "application/vnd.jupyter.widget-view+json": {
       "model_id": "928ff0d7d8814a84981039b1cd9fe2da",
       "version_major": 2,
       "version_minor": 0
      },
      "text/plain": [
       "Preparing credit data:   0%|          | 0/4 [00:00<?, ?it/s]"
      ]
     },
     "metadata": {},
     "output_type": "display_data"
    },
    {
     "name": "stdout",
     "output_type": "stream",
     "text": [
      "Reading chunks:\n",
      "/kaggle/input/credit/data/train_data/train_data_0.pq\n",
      "/kaggle/input/credit/data/train_data/train_data_1.pq\n",
      "/kaggle/input/credit/data/train_data/train_data_2.pq\n"
     ]
    },
    {
     "data": {
      "application/vnd.jupyter.widget-view+json": {
       "model_id": "8e15568040e44a65a36bb4f801e87b83",
       "version_major": 2,
       "version_minor": 0
      },
      "text/plain": [
       "Reading dataset with pandas:   0%|          | 0/3 [00:00<?, ?it/s]"
      ]
     },
     "metadata": {},
     "output_type": "display_data"
    },
    {
     "name": "stdout",
     "output_type": "stream",
     "text": [
      "Transforming credits to sequences is done.\n"
     ]
    },
    {
     "data": {
      "application/vnd.jupyter.widget-view+json": {
       "model_id": "db76f167b93340478ec3f4da67323209",
       "version_major": 2,
       "version_minor": 0
      },
      "text/plain": [
       "Extracting buckets:   0%|          | 0/41 [00:00<?, ?it/s]"
      ]
     },
     "metadata": {},
     "output_type": "display_data"
    },
    {
     "name": "stdout",
     "output_type": "stream",
     "text": [
      "Reading chunks:\n",
      "/kaggle/input/credit/data/train_data/train_data_3.pq\n",
      "/kaggle/input/credit/data/train_data/train_data_4.pq\n",
      "/kaggle/input/credit/data/train_data/train_data_5.pq\n"
     ]
    },
    {
     "data": {
      "application/vnd.jupyter.widget-view+json": {
       "model_id": "3b2984c5845a4f02a219424fe5296034",
       "version_major": 2,
       "version_minor": 0
      },
      "text/plain": [
       "Reading dataset with pandas:   0%|          | 0/3 [00:00<?, ?it/s]"
      ]
     },
     "metadata": {},
     "output_type": "display_data"
    },
    {
     "name": "stdout",
     "output_type": "stream",
     "text": [
      "Transforming credits to sequences is done.\n"
     ]
    },
    {
     "data": {
      "application/vnd.jupyter.widget-view+json": {
       "model_id": "fe42cb454ddd4093907a1cec89f2a5c1",
       "version_major": 2,
       "version_minor": 0
      },
      "text/plain": [
       "Extracting buckets:   0%|          | 0/41 [00:00<?, ?it/s]"
      ]
     },
     "metadata": {},
     "output_type": "display_data"
    },
    {
     "name": "stdout",
     "output_type": "stream",
     "text": [
      "Reading chunks:\n",
      "/kaggle/input/credit/data/train_data/train_data_6.pq\n",
      "/kaggle/input/credit/data/train_data/train_data_7.pq\n",
      "/kaggle/input/credit/data/train_data/train_data_8.pq\n"
     ]
    },
    {
     "data": {
      "application/vnd.jupyter.widget-view+json": {
       "model_id": "8b83f6bcad854b849539926803bdc4aa",
       "version_major": 2,
       "version_minor": 0
      },
      "text/plain": [
       "Reading dataset with pandas:   0%|          | 0/3 [00:00<?, ?it/s]"
      ]
     },
     "metadata": {},
     "output_type": "display_data"
    },
    {
     "name": "stdout",
     "output_type": "stream",
     "text": [
      "Transforming credits to sequences is done.\n"
     ]
    },
    {
     "data": {
      "application/vnd.jupyter.widget-view+json": {
       "model_id": "7876d957a39741ca8ad583c2a08c76ee",
       "version_major": 2,
       "version_minor": 0
      },
      "text/plain": [
       "Extracting buckets:   0%|          | 0/41 [00:00<?, ?it/s]"
      ]
     },
     "metadata": {},
     "output_type": "display_data"
    },
    {
     "name": "stdout",
     "output_type": "stream",
     "text": [
      "Reading chunks:\n",
      "/kaggle/input/credit/data/train_data/train_data_9.pq\n",
      "/kaggle/input/credit/data/train_data/train_data_10.pq\n",
      "/kaggle/input/credit/data/train_data/train_data_11.pq\n"
     ]
    },
    {
     "data": {
      "application/vnd.jupyter.widget-view+json": {
       "model_id": "caaa57460253412cbfcef3888f9290ae",
       "version_major": 2,
       "version_minor": 0
      },
      "text/plain": [
       "Reading dataset with pandas:   0%|          | 0/3 [00:00<?, ?it/s]"
      ]
     },
     "metadata": {},
     "output_type": "display_data"
    },
    {
     "name": "stdout",
     "output_type": "stream",
     "text": [
      "Transforming credits to sequences is done.\n"
     ]
    },
    {
     "data": {
      "application/vnd.jupyter.widget-view+json": {
       "model_id": "6104bc028ae84b67b2298d0df6669291",
       "version_major": 2,
       "version_minor": 0
      },
      "text/plain": [
       "Extracting buckets:   0%|          | 0/43 [00:00<?, ?it/s]"
      ]
     },
     "metadata": {},
     "output_type": "display_data"
    },
    {
     "name": "stdout",
     "output_type": "stream",
     "text": [
      "CPU times: user 8min 58s, sys: 46.1 s, total: 9min 44s\n",
      "Wall time: 9min 11s\n"
     ]
    },
    {
     "data": {
      "text/plain": [
       "['data/val_buckets_rnn/processed_chunk_000.pkl',\n",
       " 'data/val_buckets_rnn/processed_chunk_001.pkl',\n",
       " 'data/val_buckets_rnn/processed_chunk_002.pkl',\n",
       " 'data/val_buckets_rnn/processed_chunk_003.pkl']"
      ]
     },
     "execution_count": 18,
     "metadata": {},
     "output_type": "execute_result"
    }
   ],
   "source": [
    "%%time\n",
    "create_buckets_from_credits(TRAIN_DATA_PATH,\n",
    "                            bucket_info=bucket_info,\n",
    "                            save_to_path=VAL_BUCKETS_PATH,\n",
    "                            frame_with_ids=val,\n",
    "                            num_parts_to_preprocess_at_once=3, \n",
    "                            num_parts_total=12, has_target=True)\n",
    "\n",
    "dataset_val = sorted([os.path.join(VAL_BUCKETS_PATH, x) for x in os.listdir(VAL_BUCKETS_PATH)])\n",
    "dataset_val"
   ]
  },
  {
   "cell_type": "markdown",
   "metadata": {},
   "source": [
    "### 2. Modeling"
   ]
  },
  {
   "cell_type": "code",
   "execution_count": 19,
   "metadata": {
    "execution": {
     "iopub.execute_input": "2025-04-18T12:20:19.743542Z",
     "iopub.status.busy": "2025-04-18T12:20:19.743296Z",
     "iopub.status.idle": "2025-04-18T12:20:19.778062Z",
     "shell.execute_reply": "2025-04-18T12:20:19.777262Z",
     "shell.execute_reply.started": "2025-04-18T12:20:19.743521Z"
    },
    "trusted": true
   },
   "outputs": [
    {
     "name": "stdout",
     "output_type": "stream",
     "text": [
      "Using device: cuda\n"
     ]
    }
   ],
   "source": [
    "device = torch.device('cpu')\n",
    "if torch.cuda.is_available():\n",
    "    device = torch.device('cuda')\n",
    "elif torch.backends.mps.is_available():\n",
    "    device = torch.device(\"mps\")\n",
    "print('Using device:', device)"
   ]
  },
  {
   "cell_type": "markdown",
   "metadata": {},
   "source": [
    "* Для создания модели будем использовать фреймворк `torch`. В нем есть все, чтобы писать произвольные сложные архитектуры и быстро экспериментировать. Для того, чтобы мониторить и логировать весь процесс во время обучения сетей, рекомендуется использовать надстройки над данным фреймворком, например, `lightning`.\n",
    "\n",
    "* В бейзлайне мы предлагаем базовые компоненты, чтобы можно было обучать нейронную сеть и отслеживать ее качество. Для этого вам предоставлены следующие функции:\n",
    "    * `data_generators.batches_generator` &ndash; функция-генератор, итеративно возвращает батчи, поддерживает батчи для `tensorflow.keras` и `torch.nn.Module` моделей. В зависимости от флага `is_train` может быть использована для генерации батчей на train/val/test стадии.\n",
    "    * функция `pytorch_training.train_epoch` &ndash; обучает модель одну эпоху.\n",
    "    * функция `pytorch_training.eval_model` &ndash; проверяет качество модели на отложенной выборке и возвращает roc_auc_score.\n",
    "    * функция `pytorch_training.inference` &ndash; делает предикты на новых данных и готовит фрейм для проверяющей системы.\n",
    "    * класс `training_aux.EarlyStopping` &ndash; реализует early_stopping, сохраняя лучшую модель. Пример использования приведен ниже."
   ]
  },
  {
   "cell_type": "code",
   "execution_count": 20,
   "metadata": {
    "execution": {
     "iopub.execute_input": "2025-04-18T12:21:51.594797Z",
     "iopub.status.busy": "2025-04-18T12:21:51.594408Z",
     "iopub.status.idle": "2025-04-18T12:21:51.638849Z",
     "shell.execute_reply": "2025-04-18T12:21:51.638130Z",
     "shell.execute_reply.started": "2025-04-18T12:21:51.594763Z"
    },
    "trusted": true
   },
   "outputs": [],
   "source": [
    "from data_generators import batches_generator\n",
    "from pytorch_training import train_epoch, eval_model, inference\n",
    "from training_aux import EarlyStopping"
   ]
  },
  {
   "cell_type": "markdown",
   "metadata": {},
   "source": [
    "* Все признаки, описывающие кредитную историю клиентов &ndash; категориальные. Для их представления в модели используем категориальные эмбеддинги. Для этого нужно каждому категориальному признаку задать размерность латентного пространства. Используем [формулу](https://forums.fast.ai/t/size-of-embedding-for-categorical-variables/42608) из библиотеки `fast.ai`."
   ]
  },
  {
   "cell_type": "code",
   "execution_count": 21,
   "metadata": {
    "execution": {
     "iopub.execute_input": "2025-04-18T12:21:56.961467Z",
     "iopub.status.busy": "2025-04-18T12:21:56.961167Z",
     "iopub.status.idle": "2025-04-18T12:21:56.988881Z",
     "shell.execute_reply": "2025-04-18T12:21:56.988113Z",
     "shell.execute_reply.started": "2025-04-18T12:21:56.961426Z"
    },
    "trusted": true
   },
   "outputs": [],
   "source": [
    "def compute_embed_dim(n_cat: int) -> int:\n",
    "    return min(600, round(1.6 * n_cat**0.56))"
   ]
  },
  {
   "cell_type": "code",
   "execution_count": 24,
   "metadata": {
    "execution": {
     "iopub.execute_input": "2025-04-18T12:23:30.901181Z",
     "iopub.status.busy": "2025-04-18T12:23:30.900834Z",
     "iopub.status.idle": "2025-04-18T12:23:30.935499Z",
     "shell.execute_reply": "2025-04-18T12:23:30.934594Z",
     "shell.execute_reply.started": "2025-04-18T12:23:30.901147Z"
    },
    "trusted": true
   },
   "outputs": [
    {
     "data": {
      "text/plain": [
       "{'pre_since_opened': (20, 9),\n",
       " 'pre_since_confirmed': (18, 8),\n",
       " 'pre_pterm': (18, 8),\n",
       " 'pre_fterm': (17, 8),\n",
       " 'pre_till_pclose': (17, 8),\n",
       " 'pre_till_fclose': (16, 8),\n",
       " 'pre_loans_credit_limit': (20, 9),\n",
       " 'pre_loans_next_pay_summ': (8, 5),\n",
       " 'pre_loans_outstanding': (6, 4),\n",
       " 'pre_loans_total_overdue': (2, 2),\n",
       " 'pre_loans_max_overdue_sum': (4, 3),\n",
       " 'pre_loans_credit_cost_rate': (14, 7),\n",
       " 'pre_loans5': (18, 8),\n",
       " 'pre_loans530': (20, 9),\n",
       " 'pre_loans3060': (10, 6),\n",
       " 'pre_loans6090': (6, 4),\n",
       " 'pre_loans90': (20, 9),\n",
       " 'is_zero_loans5': (2, 2),\n",
       " 'is_zero_loans530': (2, 2),\n",
       " 'is_zero_loans3060': (2, 2),\n",
       " 'is_zero_loans6090': (2, 2),\n",
       " 'is_zero_loans90': (2, 2),\n",
       " 'pre_util': (20, 9),\n",
       " 'pre_over2limit': (20, 9),\n",
       " 'pre_maxover2limit': (20, 9),\n",
       " 'is_zero_util': (2, 2),\n",
       " 'is_zero_over2limit': (2, 2),\n",
       " 'is_zero_maxover2limit': (2, 2),\n",
       " 'enc_paym_0': (4, 3),\n",
       " 'enc_paym_1': (4, 3),\n",
       " 'enc_paym_2': (4, 3),\n",
       " 'enc_paym_3': (4, 3),\n",
       " 'enc_paym_4': (4, 3),\n",
       " 'enc_paym_5': (4, 3),\n",
       " 'enc_paym_6': (4, 3),\n",
       " 'enc_paym_7': (4, 3),\n",
       " 'enc_paym_8': (4, 3),\n",
       " 'enc_paym_9': (4, 3),\n",
       " 'enc_paym_10': (4, 3),\n",
       " 'enc_paym_11': (5, 4),\n",
       " 'enc_paym_12': (4, 3),\n",
       " 'enc_paym_13': (4, 3),\n",
       " 'enc_paym_14': (4, 3),\n",
       " 'enc_paym_15': (4, 3),\n",
       " 'enc_paym_16': (4, 3),\n",
       " 'enc_paym_17': (4, 3),\n",
       " 'enc_paym_18': (4, 3),\n",
       " 'enc_paym_19': (4, 3),\n",
       " 'enc_paym_20': (5, 4),\n",
       " 'enc_paym_21': (4, 3),\n",
       " 'enc_paym_22': (4, 3),\n",
       " 'enc_paym_23': (4, 3),\n",
       " 'enc_paym_24': (5, 4),\n",
       " 'enc_loans_account_holder_type': (7, 5),\n",
       " 'enc_loans_credit_status': (7, 5),\n",
       " 'enc_loans_credit_type': (8, 5),\n",
       " 'enc_loans_account_cur': (4, 3),\n",
       " 'pclose_flag': (2, 2),\n",
       " 'fclose_flag': (2, 2)}"
      ]
     },
     "execution_count": 24,
     "metadata": {},
     "output_type": "execute_result"
    }
   ],
   "source": [
    "embedding_projections = {feat: (max(uniq)+1, compute_embed_dim(max(uniq)+1)) for feat, uniq in uniques.items()}\n",
    "embedding_projections"
   ]
  },
  {
   "cell_type": "markdown",
   "metadata": {},
   "source": [
    "* Реализуем модель. Все входные признаки представим в виде эмбеддингов, сконкатенируем, чтобы получить векторное представление транзакции. Подадим последовательности в `GRU` рекуррентный слой. Используем последнее скрытое состояние в качестве выхода слоя. На основе такого входа построим небольшой `MLP`, выступающий классификатором для целевой задачи. Используем градиентный спуск, чтобы решить оптимизационную задачу."
   ]
  },
  {
   "cell_type": "code",
   "execution_count": 46,
   "metadata": {
    "execution": {
     "iopub.execute_input": "2025-04-18T13:12:59.280351Z",
     "iopub.status.busy": "2025-04-18T13:12:59.279972Z",
     "iopub.status.idle": "2025-04-18T13:12:59.324058Z",
     "shell.execute_reply": "2025-04-18T13:12:59.323129Z",
     "shell.execute_reply.started": "2025-04-18T13:12:59.280321Z"
    },
    "trusted": true
   },
   "outputs": [],
   "source": [
    "class RNN_GRU(nn.Module):\n",
    "    def __init__(self,\n",
    "                 features,\n",
    "                 embedding_projections,\n",
    "                 rnn_units=128,\n",
    "                 top_classifier_units=32,\n",
    "                 bidirectional=False,\n",
    "                 num_layers=1,\n",
    "                 spatial_dropout = 0.0\n",
    "                ):\n",
    "        super(RNN_GRU, self).__init__()\n",
    "       \n",
    "        self._credits_cat_embeddings = nn.ModuleList([\n",
    "            self._create_embedding_projection(*embedding_projections[feature])\n",
    "            for feature in features\n",
    "        ])\n",
    "        \n",
    "        input_size = sum([embedding_projections[x][1] for x in features])\n",
    "        self._spatial_dropout = nn.Dropout1d(spatial_dropout)\n",
    "        self._gru = nn.GRU(input_size=input_size,\n",
    "                            hidden_size=rnn_units,\n",
    "                            batch_first=True,\n",
    "                            bidirectional=bidirectional,\n",
    "                            num_layers=num_layers,\n",
    "                            )\n",
    "        \n",
    "        self._hidden_size = rnn_units * (2 if bidirectional else 1)\n",
    "\n",
    "        self._maxpool = nn.AdaptiveMaxPool1d(1)\n",
    "        self._avgpool = nn.AdaptiveAvgPool1d(1)\n",
    "        self._top_classifier = nn.Sequential(nn.Linear(in_features=self._hidden_size * 2, \n",
    "                                                       out_features=top_classifier_units),\n",
    "                                             nn.ReLU(),\n",
    "                                             nn.Linear(in_features=top_classifier_units, out_features=1)\n",
    "                                            )\n",
    "        \n",
    "        \n",
    "    def forward(self, features):\n",
    "        batch_size = features[0].shape[0]\n",
    "        embeddings = [embedding(features[i]) for i, embedding in enumerate(self._credits_cat_embeddings)]\n",
    "        concated_embeddings = torch.cat(embeddings, dim=-1)  # [B, T, input_size]\n",
    "        embeddings_permute = concated_embeddings.permute(0, 2, 1)\n",
    "        embeddings_dropped = self._spatial_dropout(embeddings_permute)\n",
    "        embeddings = embeddings_dropped.permute(0, 2, 1)  # [B, T, input_size]\n",
    "        \n",
    "        \n",
    "        gru_out, _ = self._gru(embeddings)  # [B, T, hidden_size]\n",
    "        \n",
    "        gp_input = gru_out.permute(0, 2, 1) # [B, input_size, T]\n",
    "        max_pooled = self._maxpool(gp_input).squeeze(-1)  # [B, hidden_size]\n",
    "        avg_pooled = self._avgpool(gp_input).squeeze(-1)  # [B, hidden_size]\n",
    "\n",
    "        hidden = torch.cat([max_pooled, avg_pooled], dim=1)  # [B, hidden_size * 2]\n",
    "        \n",
    "        logit = self._top_classifier(hidden)\n",
    "        return logit\n",
    "        \n",
    "    @classmethod\n",
    "    def _create_embedding_projection(cls, cardinality, embed_size, add_missing=True, padding_idx=0):\n",
    "        add_missing = 1 if add_missing else 0\n",
    "        return nn.Embedding(num_embeddings=cardinality + add_missing, embedding_dim=embed_size, padding_idx=padding_idx)\n"
   ]
  },
  {
   "cell_type": "markdown",
   "metadata": {},
   "source": [
    "### 3. Training"
   ]
  },
  {
   "cell_type": "code",
   "execution_count": 47,
   "metadata": {
    "execution": {
     "iopub.execute_input": "2025-04-18T13:13:03.928487Z",
     "iopub.status.busy": "2025-04-18T13:13:03.928187Z",
     "iopub.status.idle": "2025-04-18T13:13:03.963483Z",
     "shell.execute_reply": "2025-04-18T13:13:03.962683Z",
     "shell.execute_reply.started": "2025-04-18T13:13:03.928462Z"
    },
    "trusted": true
   },
   "outputs": [],
   "source": [
    "shutil.rmtree('./checkpoints/', ignore_errors=True)\n",
    "os.makedirs('./checkpoints/', exist_ok=True)"
   ]
  },
  {
   "cell_type": "markdown",
   "metadata": {},
   "source": [
    "* Запустим цикл обучения, каждую эпоху будем логировать лосс, а так же ROC-AUC на валидации и на обучении. Будем сохрнаять веса после каждой эпохи, а так же лучшие с помощью early_stopping."
   ]
  },
  {
   "cell_type": "code",
   "execution_count": null,
   "metadata": {
    "trusted": true
   },
   "outputs": [],
   "source": []
  },
  {
   "cell_type": "code",
   "execution_count": 59,
   "metadata": {
    "execution": {
     "iopub.execute_input": "2025-04-18T14:29:57.570177Z",
     "iopub.status.busy": "2025-04-18T14:29:57.569849Z",
     "iopub.status.idle": "2025-04-18T14:29:57.618008Z",
     "shell.execute_reply": "2025-04-18T14:29:57.617160Z",
     "shell.execute_reply.started": "2025-04-18T14:29:57.570154Z"
    },
    "trusted": true
   },
   "outputs": [],
   "source": [
    "\n",
    "def train_model(model,\n",
    "                optimizer,\n",
    "                dataset_train,\n",
    "                dataset_val,\n",
    "                num_epochs, \n",
    "                train_batch_size,\n",
    "                val_batch_size,\n",
    "                path_to_checkpoints,\n",
    "                es,\n",
    "                device,\n",
    "                scheduler=None):\n",
    "    \"\"\"\n",
    "    Обучает модель, отслеживая значения ROC AUC для тренировки и валидации.\n",
    "\n",
    "    Возвращает:\n",
    "      best_model_path (str): путь к лучшей модели по валидационному ROC AUC.\n",
    "      best_roc_auc (float): наилучшее значение ROC AUC на валидационной выборке.\n",
    "      train_roc_auc_list (list): список ROC AUC на тренировке по эпохам.\n",
    "      val_roc_auc_list (list): список ROC AUC на валидации по эпохам.\n",
    "    \"\"\"\n",
    "    best_roc_auc = -float(\"inf\")\n",
    "    best_model_path = None\n",
    "    train_roc_auc_list = []\n",
    "    val_roc_auc_list = []\n",
    "    \n",
    "    for epoch in trange(num_epochs, desc=\"Training Epochs\", unit=\"epoch\", leave=True):\n",
    "        # Обучаем модель на тренировочном датасете\n",
    "        train_epoch(model, optimizer, dataset_train, batch_size=train_batch_size, \n",
    "                    shuffle=True, print_loss_every_n_batches=500, device=device)\n",
    "        \n",
    "        # Оцениваем модель на валидационном датасете\n",
    "        current_val_roc_auc = eval_model(model, dataset_val, batch_size=val_batch_size, device=device)\n",
    "        val_roc_auc_list.append(current_val_roc_auc)\n",
    "        \n",
    "        # Оцениваем модель на тренировочном датасете (для контроля переобучения)\n",
    "        current_train_roc_auc = eval_model(model, dataset_train, batch_size=val_batch_size, device=device)\n",
    "        train_roc_auc_list.append(current_train_roc_auc)\n",
    "        \n",
    "        print(f\"Epoch {epoch+1} completed. Train ROC AUC: {current_train_roc_auc}, Val ROC AUC: {current_val_roc_auc}\")\n",
    "       \n",
    "        es(current_val_roc_auc, model)\n",
    "        if es.early_stop:\n",
    "            print(\"Early stopping reached. Stop training...\")\n",
    "            break\n",
    "        if scheduler:\n",
    "            scheduler.step()\n",
    "            current_lr = optimizer.param_groups[0]['lr']\n",
    "            print(f\"End of epoch, current lr = {current_lr:.2e}\")\n",
    "        # Сохраняем чекпоинт текущей эпохи (для истории)\n",
    "        checkpoint_path = os.path.join(path_to_checkpoints, f\"epoch_{epoch+1}_val_{current_val_roc_auc:.3f}.pt\")\n",
    "        torch.save(model.state_dict(), checkpoint_path)\n",
    "    best_roc_auc = max(val_roc_auc_list)\n",
    "    print(f\"Training finished. Best model saved at: {best_model_path} with Val ROC AUC: {best_roc_auc}\")\n",
    "    return best_model_path, best_roc_auc, train_roc_auc_list, val_roc_auc_list\n"
   ]
  },
  {
   "cell_type": "code",
   "execution_count": 67,
   "metadata": {
    "execution": {
     "iopub.execute_input": "2025-04-18T14:36:21.444727Z",
     "iopub.status.busy": "2025-04-18T14:36:21.444316Z",
     "iopub.status.idle": "2025-04-18T14:36:21.481223Z",
     "shell.execute_reply": "2025-04-18T14:36:21.480565Z",
     "shell.execute_reply.started": "2025-04-18T14:36:21.444691Z"
    },
    "trusted": true
   },
   "outputs": [],
   "source": [
    "experiment_configs = [\n",
    "{\n",
    "        \"name\": \"exp_GRU_adam_lr_000001_schCyclicLR_rnn_units128_tpu32_bd1\",\n",
    "        \"model_name\": RNN_GRU,  \n",
    "        \"optimizer\": \"adam\",\n",
    "        \"optimizer_params\": {\n",
    "             \"lr\": 1e-5,\n",
    "            },\n",
    "        \"num_epochs\": 20,\n",
    "        \"train_batch_size\": 128,\n",
    "        \"val_batch_size\": 128,\n",
    "        \"model_params\": {\n",
    "            \"features\":features,\n",
    "            \"embedding_projections\": embedding_projections,\n",
    "            \"rnn_units\": 128,\n",
    "            \"top_classifier_units\": 32,\n",
    "            \"bidirectional\": True,\n",
    "            \"num_layers\": 1,\n",
    "            \"spatial_dropout\":0.05\n",
    "            },\n",
    "        \"schedule\":True,\n",
    "        \"early_stopping_patience\": 3\n",
    "    }\n",
    "]"
   ]
  },
  {
   "cell_type": "code",
   "execution_count": 69,
   "metadata": {
    "execution": {
     "iopub.execute_input": "2025-04-18T14:36:36.042849Z",
     "iopub.status.busy": "2025-04-18T14:36:36.042378Z",
     "iopub.status.idle": "2025-04-18T14:36:45.142508Z",
     "shell.execute_reply": "2025-04-18T14:36:45.141640Z",
     "shell.execute_reply.started": "2025-04-18T14:36:36.042816Z"
    },
    "trusted": true
   },
   "outputs": [
    {
     "data": {
      "image/png": "[encoded data removed]",
      "text/plain": [
       "<Figure size 640x480 with 1 Axes>"
      ]
     },
     "metadata": {},
     "output_type": "display_data"
    }
   ],
   "source": [
    "import matplotlib.pyplot as plt\n",
    "import torch\n",
    "import torch.nn as nn\n",
    "from data_generators import batches_generator\n",
    "\n",
    "def find_lr(\n",
    "    model: nn.Module,\n",
    "    optimizer: torch.optim.Optimizer,\n",
    "    loss_fn: nn.Module,\n",
    "    dataset: list,\n",
    "    device: torch.device,\n",
    "    batch_size: int = 64,\n",
    "    start_lr: float = 1e-7,\n",
    "    end_lr: float = 10,\n",
    "    num_it: int = 100\n",
    "):\n",
    "    \"\"\"\n",
    "    Пробегаем num_it батчей, экспоненциально увеличивая lr от start_lr до end_lr,\n",
    "    собираем loss и рисуем его в логарифмической шкале.\n",
    "    \"\"\"\n",
    "    model.train()\n",
    "    lr_mult = (end_lr / start_lr) ** (1 / num_it)\n",
    "    lr = start_lr\n",
    "    for pg in optimizer.param_groups:\n",
    "        pg['lr'] = lr\n",
    "\n",
    "    lrs = []\n",
    "    losses = []\n",
    "    best_loss = float('inf')\n",
    "\n",
    "    gen = batches_generator(dataset, batch_size=batch_size, shuffle=True,\n",
    "                             device=device, is_train=True, output_format=\"torch\")\n",
    "    it = iter(gen)\n",
    "    for iteration in range(num_it):\n",
    "        try:\n",
    "            batch = next(it)\n",
    "        except StopIteration:\n",
    "            it = iter(batches_generator(dataset, batch_size, True, device, True, \"torch\"))\n",
    "            batch = next(it)\n",
    "\n",
    "        optimizer.zero_grad()\n",
    "        preds = model(batch[\"features\"])\n",
    "        loss = loss_fn(preds.flatten(), batch[\"label\"].float())\n",
    "        loss = loss.mean()\n",
    "        loss.backward()\n",
    "        optimizer.step()\n",
    "\n",
    "        # запоминаем и проверяем взрыв\n",
    "        lrs.append(lr)\n",
    "        losses.append(loss.item())\n",
    "        if loss.item() > best_loss * 4:\n",
    "            break\n",
    "        if loss.item() < best_loss:\n",
    "            best_loss = loss.item()\n",
    "\n",
    "        # обновляем lr\n",
    "        lr *= lr_mult\n",
    "        for pg in optimizer.param_groups:\n",
    "            pg['lr'] = lr\n",
    "\n",
    "    # рисуем\n",
    "    plt.plot(lrs, losses)\n",
    "    plt.xscale('log')\n",
    "    plt.xlabel(\"Learning rate\")\n",
    "    plt.ylabel(\"Loss\")\n",
    "    plt.title(\"LR Finder\")\n",
    "    plt.show()\n",
    "\n",
    "    return lrs, losses\n",
    "\n",
    "# -----------------------------\n",
    "# Как вызвать перед основным обучением\n",
    "# -----------------------------\n",
    "\n",
    "# 1) инициализируем модель, optimizer и loss\n",
    "model = RNN_GRU(**config[\"model_params\"]).to(device)\n",
    "optimizer = torch.optim.Adam(model.parameters(), lr=1e-7)\n",
    "criterion = nn.BCEWithLogitsLoss()\n",
    "\n",
    "# 2) запускаем LRFinder\n",
    "lrs, losses = find_lr(\n",
    "    model=model,\n",
    "    optimizer=optimizer,\n",
    "    loss_fn=criterion,\n",
    "    dataset=dataset_train,\n",
    "    device=device,\n",
    "    batch_size=64,\n",
    "    start_lr=1e-7,\n",
    "    end_lr=1,\n",
    "    num_it=200\n",
    ")\n",
    "\n",
    "# 3) смотрим график и выбираем оптимальный lr (например, точку самого крутого спуска)\n",
    "#    допустим, это ~1e-3\n",
    "\n",
    "# 4) устанавливаем найденный lr и начинаем полное обучение\n",
    "for pg in optimizer.param_groups:\n",
    "    pg['lr'] = 1e-3\n",
    "\n"
   ]
  },
  {
   "cell_type": "code",
   "execution_count": 70,
   "metadata": {
    "execution": {
     "iopub.execute_input": "2025-04-18T14:36:45.143871Z",
     "iopub.status.busy": "2025-04-18T14:36:45.143546Z",
     "iopub.status.idle": "2025-04-18T14:36:45.183764Z",
     "shell.execute_reply": "2025-04-18T14:36:45.183093Z",
     "shell.execute_reply.started": "2025-04-18T14:36:45.143847Z"
    },
    "trusted": true
   },
   "outputs": [
    {
     "name": "stdout",
     "output_type": "stream",
     "text": [
      "1\n"
     ]
    }
   ],
   "source": [
    "print(len(experiment_configs))"
   ]
  },
  {
   "cell_type": "code",
   "execution_count": 71,
   "metadata": {
    "execution": {
     "iopub.execute_input": "2025-04-18T14:36:45.185472Z",
     "iopub.status.busy": "2025-04-18T14:36:45.185239Z",
     "iopub.status.idle": "2025-04-18T14:36:45.220039Z",
     "shell.execute_reply": "2025-04-18T14:36:45.219237Z",
     "shell.execute_reply.started": "2025-04-18T14:36:45.185451Z"
    },
    "trusted": true
   },
   "outputs": [],
   "source": [
    "from torch.optim.lr_scheduler import StepLR\n",
    "from torch.optim.lr_scheduler import CyclicLR\n"
   ]
  },
  {
   "cell_type": "code",
   "execution_count": null,
   "metadata": {
    "execution": {
     "iopub.execute_input": "2025-04-18T14:36:45.221116Z",
     "iopub.status.busy": "2025-04-18T14:36:45.220885Z",
     "iopub.status.idle": "2025-04-18T17:16:35.972893Z",
     "shell.execute_reply": "2025-04-18T17:16:35.968216Z",
     "shell.execute_reply.started": "2025-04-18T14:36:45.221097Z"
    },
    "trusted": true
   },
   "outputs": [
    {
     "name": "stderr",
     "output_type": "stream",
     "text": [
      "Experiments:   0%|          | 0/1 [00:00<?, ?experiment/s]"
     ]
    },
    {
     "name": "stdout",
     "output_type": "stream",
     "text": [
      "\n",
      "========================================\n",
      "Starting experiment: exp_GRU_adam_lr_000001_schCyclicLR_rnn_units128_tpu32_bd1\n"
     ]
    },
    {
     "name": "stderr",
     "output_type": "stream",
     "text": [
      "\n",
      "Training Epochs:   0%|          | 0/20 [00:00<?, ?epoch/s]\u001b[A"
     ]
    },
    {
     "data": {
      "application/vnd.jupyter.widget-view+json": {
       "model_id": "800473d9e8b0492795fa7eca78991024",
       "version_major": 2,
       "version_minor": 0
      },
      "text/plain": [
       "Training: 0it [00:00, ?it/s]"
      ]
     },
     "metadata": {},
     "output_type": "display_data"
    },
    {
     "name": "stdout",
     "output_type": "stream",
     "text": [
      "Training loss after epoch: 0.14989066123962402\r"
     ]
    },
    {
     "data": {
      "application/vnd.jupyter.widget-view+json": {
       "model_id": "5ca788a089a2448bac41898d6ee1f32d",
       "version_major": 2,
       "version_minor": 0
      },
      "text/plain": [
       "Evaluating model: 0it [00:00, ?it/s]"
      ]
     },
     "metadata": {},
     "output_type": "display_data"
    },
    {
     "data": {
      "application/vnd.jupyter.widget-view+json": {
       "model_id": "46c4b357821f4954b34e2cd51d3bc10c",
       "version_major": 2,
       "version_minor": 0
      },
      "text/plain": [
       "Evaluating model: 0it [00:00, ?it/s]"
      ]
     },
     "metadata": {},
     "output_type": "display_data"
    },
    {
     "name": "stderr",
     "output_type": "stream",
     "text": [
      "\n",
      "Training Epochs:   5%|▌         | 1/20 [08:00<2:32:01, 480.08s/epoch]\u001b[A"
     ]
    },
    {
     "name": "stdout",
     "output_type": "stream",
     "text": [
      "Epoch 1 completed. Train ROC AUC: 0.7343052881553964, Val ROC AUC: 0.7338667612348515\n",
      "Validation ROC-AUC improved (-inf --> 0.733867).  Saving model...\n",
      "End of epoch, current lr = 1.00e-04\n"
     ]
    },
    {
     "data": {
      "application/vnd.jupyter.widget-view+json": {
       "model_id": "664609f486164e1888baa5cb920952a8",
       "version_major": 2,
       "version_minor": 0
      },
      "text/plain": [
       "Training: 0it [00:00, ?it/s]"
      ]
     },
     "metadata": {},
     "output_type": "display_data"
    },
    {
     "name": "stdout",
     "output_type": "stream",
     "text": [
      "Training loss after epoch: 0.13816609978675842\r"
     ]
    },
    {
     "data": {
      "application/vnd.jupyter.widget-view+json": {
       "model_id": "2e47a75b949c4475987d93463a1308be",
       "version_major": 2,
       "version_minor": 0
      },
      "text/plain": [
       "Evaluating model: 0it [00:00, ?it/s]"
      ]
     },
     "metadata": {},
     "output_type": "display_data"
    },
    {
     "data": {
      "application/vnd.jupyter.widget-view+json": {
       "model_id": "7fb30d6bb8b444cbac2b2e330f44ba4e",
       "version_major": 2,
       "version_minor": 0
      },
      "text/plain": [
       "Evaluating model: 0it [00:00, ?it/s]"
      ]
     },
     "metadata": {},
     "output_type": "display_data"
    },
    {
     "name": "stderr",
     "output_type": "stream",
     "text": [
      "\n",
      "Training Epochs:  10%|█         | 2/20 [15:57<2:23:36, 478.71s/epoch]\u001b[A"
     ]
    },
    {
     "name": "stdout",
     "output_type": "stream",
     "text": [
      "Epoch 2 completed. Train ROC AUC: 0.7651361595791211, Val ROC AUC: 0.7628463938431627\n",
      "Validation ROC-AUC improved (0.733867 --> 0.762846).  Saving model...\n",
      "End of epoch, current lr = 1.00e-05\n"
     ]
    },
    {
     "data": {
      "application/vnd.jupyter.widget-view+json": {
       "model_id": "a18e3cb5708f4ca38b8553faa56a5817",
       "version_major": 2,
       "version_minor": 0
      },
      "text/plain": [
       "Training: 0it [00:00, ?it/s]"
      ]
     },
     "metadata": {},
     "output_type": "display_data"
    },
    {
     "name": "stdout",
     "output_type": "stream",
     "text": [
      "Training loss after epoch: 0.13579437136650085\r"
     ]
    },
    {
     "data": {
      "application/vnd.jupyter.widget-view+json": {
       "model_id": "4ebc5d4b13b64e7f9eefd6f2c8a610fb",
       "version_major": 2,
       "version_minor": 0
      },
      "text/plain": [
       "Evaluating model: 0it [00:00, ?it/s]"
      ]
     },
     "metadata": {},
     "output_type": "display_data"
    },
    {
     "data": {
      "application/vnd.jupyter.widget-view+json": {
       "model_id": "b732eca3f14946428b096816cedf32d5",
       "version_major": 2,
       "version_minor": 0
      },
      "text/plain": [
       "Evaluating model: 0it [00:00, ?it/s]"
      ]
     },
     "metadata": {},
     "output_type": "display_data"
    },
    {
     "name": "stderr",
     "output_type": "stream",
     "text": [
      "\n",
      "Training Epochs:  15%|█▌        | 3/20 [23:56<2:15:34, 478.51s/epoch]\u001b[A"
     ]
    },
    {
     "name": "stdout",
     "output_type": "stream",
     "text": [
      "Epoch 3 completed. Train ROC AUC: 0.774787763278229, Val ROC AUC: 0.7717537801490539\n",
      "Validation ROC-AUC improved (0.762846 --> 0.771754).  Saving model...\n",
      "End of epoch, current lr = 5.50e-05\n"
     ]
    },
    {
     "data": {
      "application/vnd.jupyter.widget-view+json": {
       "model_id": "63f307651a0e4c2098912b8a32e0c00c",
       "version_major": 2,
       "version_minor": 0
      },
      "text/plain": [
       "Training: 0it [00:00, ?it/s]"
      ]
     },
     "metadata": {},
     "output_type": "display_data"
    },
    {
     "name": "stdout",
     "output_type": "stream",
     "text": [
      "Training loss after epoch: 0.13541533052921295\r"
     ]
    },
    {
     "data": {
      "application/vnd.jupyter.widget-view+json": {
       "model_id": "e040cabbf01340b9a8064b412e68a22d",
       "version_major": 2,
       "version_minor": 0
      },
      "text/plain": [
       "Evaluating model: 0it [00:00, ?it/s]"
      ]
     },
     "metadata": {},
     "output_type": "display_data"
    },
    {
     "data": {
      "application/vnd.jupyter.widget-view+json": {
       "model_id": "84e9eddfaf224a9081539548b96b94d0",
       "version_major": 2,
       "version_minor": 0
      },
      "text/plain": [
       "Evaluating model: 0it [00:00, ?it/s]"
      ]
     },
     "metadata": {},
     "output_type": "display_data"
    },
    {
     "name": "stderr",
     "output_type": "stream",
     "text": [
      "\n",
      "Training Epochs:  20%|██        | 4/20 [31:55<2:07:40, 478.79s/epoch]\u001b[A"
     ]
    },
    {
     "name": "stdout",
     "output_type": "stream",
     "text": [
      "Epoch 4 completed. Train ROC AUC: 0.7746699113472064, Val ROC AUC: 0.770400314790606\n",
      "No imporvement in validation ROC-AUC. Current: 0.770400. Current best: 0.771754\n",
      "EarlyStopping counter: 1 out of 3\n",
      "End of epoch, current lr = 1.00e-05\n"
     ]
    },
    {
     "data": {
      "application/vnd.jupyter.widget-view+json": {
       "model_id": "8a5fe3ba1ceb43b18f6d23ab39da106f",
       "version_major": 2,
       "version_minor": 0
      },
      "text/plain": [
       "Training: 0it [00:00, ?it/s]"
      ]
     },
     "metadata": {},
     "output_type": "display_data"
    },
    {
     "name": "stdout",
     "output_type": "stream",
     "text": [
      "Training loss after epoch: 0.13453985750675201\r"
     ]
    },
    {
     "data": {
      "application/vnd.jupyter.widget-view+json": {
       "model_id": "4d8c1e4274b24265a9976ff9cd165b49",
       "version_major": 2,
       "version_minor": 0
      },
      "text/plain": [
       "Evaluating model: 0it [00:00, ?it/s]"
      ]
     },
     "metadata": {},
     "output_type": "display_data"
    },
    {
     "data": {
      "application/vnd.jupyter.widget-view+json": {
       "model_id": "65d55ab51ce643dab6c016e8609e3cd2",
       "version_major": 2,
       "version_minor": 0
      },
      "text/plain": [
       "Evaluating model: 0it [00:00, ?it/s]"
      ]
     },
     "metadata": {},
     "output_type": "display_data"
    },
    {
     "name": "stderr",
     "output_type": "stream",
     "text": [
      "\n",
      "Training Epochs:  25%|██▌       | 5/20 [39:55<1:59:51, 479.46s/epoch]\u001b[A"
     ]
    },
    {
     "name": "stdout",
     "output_type": "stream",
     "text": [
      "Epoch 5 completed. Train ROC AUC: 0.7824744048524045, Val ROC AUC: 0.776943792366816\n",
      "Validation ROC-AUC improved (0.771754 --> 0.776944).  Saving model...\n",
      "End of epoch, current lr = 3.25e-05\n"
     ]
    },
    {
     "data": {
      "application/vnd.jupyter.widget-view+json": {
       "model_id": "500f2401b8cf402eb24ee60ee70ce27e",
       "version_major": 2,
       "version_minor": 0
      },
      "text/plain": [
       "Training: 0it [00:00, ?it/s]"
      ]
     },
     "metadata": {},
     "output_type": "display_data"
    },
    {
     "name": "stdout",
     "output_type": "stream",
     "text": [
      "Training loss after epoch: 0.13439981639385223\r"
     ]
    },
    {
     "data": {
      "application/vnd.jupyter.widget-view+json": {
       "model_id": "eff91a0a53e44ff98daaa55c524b799e",
       "version_major": 2,
       "version_minor": 0
      },
      "text/plain": [
       "Evaluating model: 0it [00:00, ?it/s]"
      ]
     },
     "metadata": {},
     "output_type": "display_data"
    },
    {
     "data": {
      "application/vnd.jupyter.widget-view+json": {
       "model_id": "d0810e9d4f514ef495055af75fd108ae",
       "version_major": 2,
       "version_minor": 0
      },
      "text/plain": [
       "Evaluating model: 0it [00:00, ?it/s]"
      ]
     },
     "metadata": {},
     "output_type": "display_data"
    },
    {
     "name": "stderr",
     "output_type": "stream",
     "text": [
      "\n",
      "Training Epochs:  30%|███       | 6/20 [47:55<1:51:54, 479.62s/epoch]\u001b[A"
     ]
    },
    {
     "name": "stdout",
     "output_type": "stream",
     "text": [
      "Epoch 6 completed. Train ROC AUC: 0.7846474559504433, Val ROC AUC: 0.7772527619007318\n",
      "Validation ROC-AUC improved (0.776944 --> 0.777253).  Saving model...\n",
      "End of epoch, current lr = 1.00e-05\n"
     ]
    },
    {
     "data": {
      "application/vnd.jupyter.widget-view+json": {
       "model_id": "811ed0650ab8485d8d2aafdc49a0224a",
       "version_major": 2,
       "version_minor": 0
      },
      "text/plain": [
       "Training: 0it [00:00, ?it/s]"
      ]
     },
     "metadata": {},
     "output_type": "display_data"
    },
    {
     "name": "stdout",
     "output_type": "stream",
     "text": [
      "Training loss after epoch: 0.13388021290302277\r"
     ]
    },
    {
     "data": {
      "application/vnd.jupyter.widget-view+json": {
       "model_id": "88fb05884db54d189a367f5eb8f27077",
       "version_major": 2,
       "version_minor": 0
      },
      "text/plain": [
       "Evaluating model: 0it [00:00, ?it/s]"
      ]
     },
     "metadata": {},
     "output_type": "display_data"
    },
    {
     "data": {
      "application/vnd.jupyter.widget-view+json": {
       "model_id": "35aa8c015900429089eaa03fbf128c7b",
       "version_major": 2,
       "version_minor": 0
      },
      "text/plain": [
       "Evaluating model: 0it [00:00, ?it/s]"
      ]
     },
     "metadata": {},
     "output_type": "display_data"
    },
    {
     "name": "stderr",
     "output_type": "stream",
     "text": [
      "\n",
      "Training Epochs:  35%|███▌      | 7/20 [55:56<1:43:58, 479.90s/epoch]\u001b[A"
     ]
    },
    {
     "name": "stdout",
     "output_type": "stream",
     "text": [
      "Epoch 7 completed. Train ROC AUC: 0.7863294023820276, Val ROC AUC: 0.7787078379960217\n",
      "Validation ROC-AUC improved (0.777253 --> 0.778708).  Saving model...\n",
      "End of epoch, current lr = 2.13e-05\n"
     ]
    },
    {
     "data": {
      "application/vnd.jupyter.widget-view+json": {
       "model_id": "dccacb69569e48c58d63510e141f7f38",
       "version_major": 2,
       "version_minor": 0
      },
      "text/plain": [
       "Training: 0it [00:00, ?it/s]"
      ]
     },
     "metadata": {},
     "output_type": "display_data"
    },
    {
     "name": "stdout",
     "output_type": "stream",
     "text": [
      "Training loss after epoch: 0.13374261558055878\r"
     ]
    },
    {
     "data": {
      "application/vnd.jupyter.widget-view+json": {
       "model_id": "bd98ad9c4afe41f282b2df71810abd9e",
       "version_major": 2,
       "version_minor": 0
      },
      "text/plain": [
       "Evaluating model: 0it [00:00, ?it/s]"
      ]
     },
     "metadata": {},
     "output_type": "display_data"
    },
    {
     "data": {
      "application/vnd.jupyter.widget-view+json": {
       "model_id": "6c0afed74ca142b890b48c13cab09539",
       "version_major": 2,
       "version_minor": 0
      },
      "text/plain": [
       "Evaluating model: 0it [00:00, ?it/s]"
      ]
     },
     "metadata": {},
     "output_type": "display_data"
    },
    {
     "name": "stderr",
     "output_type": "stream",
     "text": [
      "\n",
      "Training Epochs:  40%|████      | 8/20 [1:03:55<1:35:55, 479.61s/epoch]\u001b[A"
     ]
    },
    {
     "name": "stdout",
     "output_type": "stream",
     "text": [
      "Epoch 8 completed. Train ROC AUC: 0.7872956844070178, Val ROC AUC: 0.7778123011014185\n",
      "No imporvement in validation ROC-AUC. Current: 0.777812. Current best: 0.778708\n",
      "EarlyStopping counter: 1 out of 3\n",
      "End of epoch, current lr = 1.00e-05\n"
     ]
    },
    {
     "data": {
      "application/vnd.jupyter.widget-view+json": {
       "model_id": "c9982f50349c43baba6e332d44cad3cf",
       "version_major": 2,
       "version_minor": 0
      },
      "text/plain": [
       "Training: 0it [00:00, ?it/s]"
      ]
     },
     "metadata": {},
     "output_type": "display_data"
    },
    {
     "name": "stdout",
     "output_type": "stream",
     "text": [
      "Training loss after epoch: 0.13341833651065826\r"
     ]
    },
    {
     "data": {
      "application/vnd.jupyter.widget-view+json": {
       "model_id": "16edb781a9934b60b313a8510285e0a0",
       "version_major": 2,
       "version_minor": 0
      },
      "text/plain": [
       "Evaluating model: 0it [00:00, ?it/s]"
      ]
     },
     "metadata": {},
     "output_type": "display_data"
    },
    {
     "data": {
      "application/vnd.jupyter.widget-view+json": {
       "model_id": "68c8f3ce37f747bdae73e900e79a98d9",
       "version_major": 2,
       "version_minor": 0
      },
      "text/plain": [
       "Evaluating model: 0it [00:00, ?it/s]"
      ]
     },
     "metadata": {},
     "output_type": "display_data"
    },
    {
     "name": "stderr",
     "output_type": "stream",
     "text": [
      "\n",
      "Training Epochs:  45%|████▌     | 9/20 [1:11:55<1:27:58, 479.83s/epoch]\u001b[A"
     ]
    },
    {
     "name": "stdout",
     "output_type": "stream",
     "text": [
      "Epoch 9 completed. Train ROC AUC: 0.7883955020585327, Val ROC AUC: 0.778398243773276\n",
      "No imporvement in validation ROC-AUC. Current: 0.778398. Current best: 0.778708\n",
      "EarlyStopping counter: 2 out of 3\n",
      "End of epoch, current lr = 1.56e-05\n"
     ]
    },
    {
     "data": {
      "application/vnd.jupyter.widget-view+json": {
       "model_id": "28113fa0b4004d3983bee1b9e48e2057",
       "version_major": 2,
       "version_minor": 0
      },
      "text/plain": [
       "Training: 0it [00:00, ?it/s]"
      ]
     },
     "metadata": {},
     "output_type": "display_data"
    },
    {
     "name": "stdout",
     "output_type": "stream",
     "text": [
      "Training loss after epoch: 0.13329593837261246\r"
     ]
    },
    {
     "data": {
      "application/vnd.jupyter.widget-view+json": {
       "model_id": "f497e3874baa498582049bf383e681d5",
       "version_major": 2,
       "version_minor": 0
      },
      "text/plain": [
       "Evaluating model: 0it [00:00, ?it/s]"
      ]
     },
     "metadata": {},
     "output_type": "display_data"
    },
    {
     "data": {
      "application/vnd.jupyter.widget-view+json": {
       "model_id": "4e8c2f095fae4a388de55db9dcec3350",
       "version_major": 2,
       "version_minor": 0
      },
      "text/plain": [
       "Evaluating model: 0it [00:00, ?it/s]"
      ]
     },
     "metadata": {},
     "output_type": "display_data"
    },
    {
     "name": "stderr",
     "output_type": "stream",
     "text": [
      "\n",
      "Training Epochs:  50%|█████     | 10/20 [1:19:56<1:20:00, 480.02s/epoch]\u001b[A"
     ]
    },
    {
     "name": "stdout",
     "output_type": "stream",
     "text": [
      "Epoch 10 completed. Train ROC AUC: 0.790440329186847, Val ROC AUC: 0.7798941855122996\n",
      "Validation ROC-AUC improved (0.778708 --> 0.779894).  Saving model...\n",
      "End of epoch, current lr = 1.00e-05\n"
     ]
    },
    {
     "data": {
      "application/vnd.jupyter.widget-view+json": {
       "model_id": "2ca5c6ad8c97426db1eeaa82c43ffd18",
       "version_major": 2,
       "version_minor": 0
      },
      "text/plain": [
       "Training: 0it [00:00, ?it/s]"
      ]
     },
     "metadata": {},
     "output_type": "display_data"
    },
    {
     "name": "stdout",
     "output_type": "stream",
     "text": [
      "Training loss after epoch: 0.13299039006233215\r"
     ]
    },
    {
     "data": {
      "application/vnd.jupyter.widget-view+json": {
       "model_id": "5fc9fe6eed6c492788ec4a58861f675e",
       "version_major": 2,
       "version_minor": 0
      },
      "text/plain": [
       "Evaluating model: 0it [00:00, ?it/s]"
      ]
     },
     "metadata": {},
     "output_type": "display_data"
    },
    {
     "data": {
      "application/vnd.jupyter.widget-view+json": {
       "model_id": "cfc4c402b07a4167b93b68a4ae876be6",
       "version_major": 2,
       "version_minor": 0
      },
      "text/plain": [
       "Evaluating model: 0it [00:00, ?it/s]"
      ]
     },
     "metadata": {},
     "output_type": "display_data"
    },
    {
     "name": "stderr",
     "output_type": "stream",
     "text": [
      "\n",
      "Training Epochs:  55%|█████▌    | 11/20 [1:27:58<1:12:08, 480.89s/epoch]\u001b[A"
     ]
    },
    {
     "name": "stdout",
     "output_type": "stream",
     "text": [
      "Epoch 11 completed. Train ROC AUC: 0.791136974305815, Val ROC AUC: 0.779384240522076\n",
      "No imporvement in validation ROC-AUC. Current: 0.779384. Current best: 0.779894\n",
      "EarlyStopping counter: 1 out of 3\n",
      "End of epoch, current lr = 1.28e-05\n"
     ]
    },
    {
     "data": {
      "application/vnd.jupyter.widget-view+json": {
       "model_id": "7421a22dc57d424094c30049a836aa8e",
       "version_major": 2,
       "version_minor": 0
      },
      "text/plain": [
       "Training: 0it [00:00, ?it/s]"
      ]
     },
     "metadata": {},
     "output_type": "display_data"
    },
    {
     "name": "stdout",
     "output_type": "stream",
     "text": [
      "Training loss after epoch: 0.13294005393981934\r"
     ]
    },
    {
     "data": {
      "application/vnd.jupyter.widget-view+json": {
       "model_id": "f724c5fbbbab45a0b9893aa0b615f714",
       "version_major": 2,
       "version_minor": 0
      },
      "text/plain": [
       "Evaluating model: 0it [00:00, ?it/s]"
      ]
     },
     "metadata": {},
     "output_type": "display_data"
    },
    {
     "data": {
      "application/vnd.jupyter.widget-view+json": {
       "model_id": "8ba2b835511f4df49ea7b43bfe92b39c",
       "version_major": 2,
       "version_minor": 0
      },
      "text/plain": [
       "Evaluating model: 0it [00:00, ?it/s]"
      ]
     },
     "metadata": {},
     "output_type": "display_data"
    },
    {
     "name": "stderr",
     "output_type": "stream",
     "text": [
      "\n",
      "Training Epochs:  60%|██████    | 12/20 [1:36:01<1:04:10, 481.26s/epoch]\u001b[A"
     ]
    },
    {
     "name": "stdout",
     "output_type": "stream",
     "text": [
      "Epoch 12 completed. Train ROC AUC: 0.7926739057734262, Val ROC AUC: 0.7802421827288801\n",
      "Validation ROC-AUC improved (0.779894 --> 0.780242).  Saving model...\n",
      "End of epoch, current lr = 1.00e-05\n"
     ]
    },
    {
     "data": {
      "application/vnd.jupyter.widget-view+json": {
       "model_id": "c6a4de0ac67540539f4a5adf51e701f1",
       "version_major": 2,
       "version_minor": 0
      },
      "text/plain": [
       "Training: 0it [00:00, ?it/s]"
      ]
     },
     "metadata": {},
     "output_type": "display_data"
    },
    {
     "name": "stdout",
     "output_type": "stream",
     "text": [
      "Training loss after epoch: 0.13272295892238617\r"
     ]
    },
    {
     "data": {
      "application/vnd.jupyter.widget-view+json": {
       "model_id": "3b3a9159a56f47daada1b7d71fbb15ab",
       "version_major": 2,
       "version_minor": 0
      },
      "text/plain": [
       "Evaluating model: 0it [00:00, ?it/s]"
      ]
     },
     "metadata": {},
     "output_type": "display_data"
    },
    {
     "data": {
      "application/vnd.jupyter.widget-view+json": {
       "model_id": "ffe97b44790e4fc69d49da01d3daf721",
       "version_major": 2,
       "version_minor": 0
      },
      "text/plain": [
       "Evaluating model: 0it [00:00, ?it/s]"
      ]
     },
     "metadata": {},
     "output_type": "display_data"
    },
    {
     "name": "stderr",
     "output_type": "stream",
     "text": [
      "\n",
      "Training Epochs:  65%|██████▌   | 13/20 [1:44:03<56:10, 481.51s/epoch]  \u001b[A"
     ]
    },
    {
     "name": "stdout",
     "output_type": "stream",
     "text": [
      "Epoch 13 completed. Train ROC AUC: 0.7926270517353327, Val ROC AUC: 0.779813997812878\n",
      "No imporvement in validation ROC-AUC. Current: 0.779814. Current best: 0.780242\n",
      "EarlyStopping counter: 1 out of 3\n",
      "End of epoch, current lr = 1.14e-05\n"
     ]
    },
    {
     "data": {
      "application/vnd.jupyter.widget-view+json": {
       "model_id": "36fab3f2abbb4ed88fa29571b942479d",
       "version_major": 2,
       "version_minor": 0
      },
      "text/plain": [
       "Training: 0it [00:00, ?it/s]"
      ]
     },
     "metadata": {},
     "output_type": "display_data"
    },
    {
     "name": "stdout",
     "output_type": "stream",
     "text": [
      "Training loss after epoch: 0.13257835805416107\r"
     ]
    },
    {
     "data": {
      "application/vnd.jupyter.widget-view+json": {
       "model_id": "126148213e6e41da9848065a79d3e571",
       "version_major": 2,
       "version_minor": 0
      },
      "text/plain": [
       "Evaluating model: 0it [00:00, ?it/s]"
      ]
     },
     "metadata": {},
     "output_type": "display_data"
    },
    {
     "data": {
      "application/vnd.jupyter.widget-view+json": {
       "model_id": "b0425e62b6024847b135093a15a472e4",
       "version_major": 2,
       "version_minor": 0
      },
      "text/plain": [
       "Evaluating model: 0it [00:00, ?it/s]"
      ]
     },
     "metadata": {},
     "output_type": "display_data"
    },
    {
     "name": "stderr",
     "output_type": "stream",
     "text": [
      "\n",
      "Training Epochs:  70%|███████   | 14/20 [1:52:03<48:06, 481.16s/epoch]\u001b[A"
     ]
    },
    {
     "name": "stdout",
     "output_type": "stream",
     "text": [
      "Epoch 14 completed. Train ROC AUC: 0.7949279925814315, Val ROC AUC: 0.7809519923645011\n",
      "Validation ROC-AUC improved (0.780242 --> 0.780952).  Saving model...\n",
      "End of epoch, current lr = 1.00e-05\n"
     ]
    },
    {
     "data": {
      "application/vnd.jupyter.widget-view+json": {
       "model_id": "9428ae33073547e692fc44ef2f8defee",
       "version_major": 2,
       "version_minor": 0
      },
      "text/plain": [
       "Training: 0it [00:00, ?it/s]"
      ]
     },
     "metadata": {},
     "output_type": "display_data"
    },
    {
     "name": "stdout",
     "output_type": "stream",
     "text": [
      "Training loss after epoch: 0.13244099915027618\r"
     ]
    },
    {
     "data": {
      "application/vnd.jupyter.widget-view+json": {
       "model_id": "72ab17966b1d40e4a8890ac45d8f6031",
       "version_major": 2,
       "version_minor": 0
      },
      "text/plain": [
       "Evaluating model: 0it [00:00, ?it/s]"
      ]
     },
     "metadata": {},
     "output_type": "display_data"
    },
    {
     "data": {
      "application/vnd.jupyter.widget-view+json": {
       "model_id": "2cffd2350206468cb6b2ffd481cb3b62",
       "version_major": 2,
       "version_minor": 0
      },
      "text/plain": [
       "Evaluating model: 0it [00:00, ?it/s]"
      ]
     },
     "metadata": {},
     "output_type": "display_data"
    },
    {
     "name": "stderr",
     "output_type": "stream",
     "text": [
      "\n",
      "Training Epochs:  75%|███████▌  | 15/20 [2:00:01<40:01, 480.30s/epoch]\u001b[A"
     ]
    },
    {
     "name": "stdout",
     "output_type": "stream",
     "text": [
      "Epoch 15 completed. Train ROC AUC: 0.7932107063311271, Val ROC AUC: 0.7792232656431425\n",
      "No imporvement in validation ROC-AUC. Current: 0.779223. Current best: 0.780952\n",
      "EarlyStopping counter: 1 out of 3\n",
      "End of epoch, current lr = 1.07e-05\n"
     ]
    },
    {
     "data": {
      "application/vnd.jupyter.widget-view+json": {
       "model_id": "237fa61fe21e4c4d8be49b16e24663b6",
       "version_major": 2,
       "version_minor": 0
      },
      "text/plain": [
       "Training: 0it [00:00, ?it/s]"
      ]
     },
     "metadata": {},
     "output_type": "display_data"
    },
    {
     "name": "stdout",
     "output_type": "stream",
     "text": [
      "Training loss after epoch: 0.13235966861248016\r"
     ]
    },
    {
     "data": {
      "application/vnd.jupyter.widget-view+json": {
       "model_id": "45941c8982e8479bb513efbdfff459e5",
       "version_major": 2,
       "version_minor": 0
      },
      "text/plain": [
       "Evaluating model: 0it [00:00, ?it/s]"
      ]
     },
     "metadata": {},
     "output_type": "display_data"
    },
    {
     "data": {
      "application/vnd.jupyter.widget-view+json": {
       "model_id": "a0b980c90e614d77bcbfda106d8f3bf4",
       "version_major": 2,
       "version_minor": 0
      },
      "text/plain": [
       "Evaluating model: 0it [00:00, ?it/s]"
      ]
     },
     "metadata": {},
     "output_type": "display_data"
    },
    {
     "name": "stderr",
     "output_type": "stream",
     "text": [
      "\n",
      "Training Epochs:  80%|████████  | 16/20 [2:07:59<31:57, 479.49s/epoch]\u001b[A"
     ]
    },
    {
     "name": "stdout",
     "output_type": "stream",
     "text": [
      "Epoch 16 completed. Train ROC AUC: 0.7960746997300561, Val ROC AUC: 0.7806068071421585\n",
      "No imporvement in validation ROC-AUC. Current: 0.780607. Current best: 0.780952\n",
      "EarlyStopping counter: 2 out of 3\n",
      "End of epoch, current lr = 1.00e-05\n"
     ]
    },
    {
     "data": {
      "application/vnd.jupyter.widget-view+json": {
       "model_id": "a4df50c3c40642ae87b72e0507bd1ffe",
       "version_major": 2,
       "version_minor": 0
      },
      "text/plain": [
       "Training: 0it [00:00, ?it/s]"
      ]
     },
     "metadata": {},
     "output_type": "display_data"
    },
    {
     "name": "stdout",
     "output_type": "stream",
     "text": [
      "Training loss after epoch: 0.13210220634937286\r"
     ]
    },
    {
     "data": {
      "application/vnd.jupyter.widget-view+json": {
       "model_id": "f765d271c413418ab450269da7ab09f3",
       "version_major": 2,
       "version_minor": 0
      },
      "text/plain": [
       "Evaluating model: 0it [00:00, ?it/s]"
      ]
     },
     "metadata": {},
     "output_type": "display_data"
    },
    {
     "data": {
      "application/vnd.jupyter.widget-view+json": {
       "model_id": "00c4c59a7cff4680801b653e1d2c6130",
       "version_major": 2,
       "version_minor": 0
      },
      "text/plain": [
       "Evaluating model: 0it [00:00, ?it/s]"
      ]
     },
     "metadata": {},
     "output_type": "display_data"
    },
    {
     "name": "stderr",
     "output_type": "stream",
     "text": [
      "\n",
      "Training Epochs:  85%|████████▌ | 17/20 [2:15:56<23:56, 478.90s/epoch]\u001b[A"
     ]
    },
    {
     "name": "stdout",
     "output_type": "stream",
     "text": [
      "Epoch 17 completed. Train ROC AUC: 0.7972265517222111, Val ROC AUC: 0.7809594247141065\n",
      "Validation ROC-AUC improved (0.780952 --> 0.780959).  Saving model...\n",
      "End of epoch, current lr = 1.04e-05\n"
     ]
    },
    {
     "data": {
      "application/vnd.jupyter.widget-view+json": {
       "model_id": "5fa3463b30474fcc87997be93c808e39",
       "version_major": 2,
       "version_minor": 0
      },
      "text/plain": [
       "Training: 0it [00:00, ?it/s]"
      ]
     },
     "metadata": {},
     "output_type": "display_data"
    },
    {
     "name": "stdout",
     "output_type": "stream",
     "text": [
      "Training loss after epoch: 0.13202078640460968\r"
     ]
    },
    {
     "data": {
      "application/vnd.jupyter.widget-view+json": {
       "model_id": "7fbbef8a65a444c5b7480bbb7c9c39b0",
       "version_major": 2,
       "version_minor": 0
      },
      "text/plain": [
       "Evaluating model: 0it [00:00, ?it/s]"
      ]
     },
     "metadata": {},
     "output_type": "display_data"
    },
    {
     "data": {
      "application/vnd.jupyter.widget-view+json": {
       "model_id": "ed6f1507f24448e195810cf34308ad33",
       "version_major": 2,
       "version_minor": 0
      },
      "text/plain": [
       "Evaluating model: 0it [00:00, ?it/s]"
      ]
     },
     "metadata": {},
     "output_type": "display_data"
    },
    {
     "name": "stderr",
     "output_type": "stream",
     "text": [
      "\n",
      "Training Epochs:  90%|█████████ | 18/20 [2:23:55<15:57, 478.94s/epoch]\u001b[A"
     ]
    },
    {
     "name": "stdout",
     "output_type": "stream",
     "text": [
      "Epoch 18 completed. Train ROC AUC: 0.7963087318626052, Val ROC AUC: 0.7796507583759476\n",
      "No imporvement in validation ROC-AUC. Current: 0.779651. Current best: 0.780959\n",
      "EarlyStopping counter: 1 out of 3\n",
      "End of epoch, current lr = 1.00e-05\n"
     ]
    },
    {
     "data": {
      "application/vnd.jupyter.widget-view+json": {
       "model_id": "e247b81bec4c4dae87896ed64ac2d44f",
       "version_major": 2,
       "version_minor": 0
      },
      "text/plain": [
       "Training: 0it [00:00, ?it/s]"
      ]
     },
     "metadata": {},
     "output_type": "display_data"
    },
    {
     "name": "stdout",
     "output_type": "stream",
     "text": [
      "Training loss after epoch: 0.13186569511890418\r"
     ]
    },
    {
     "data": {
      "application/vnd.jupyter.widget-view+json": {
       "model_id": "c2f4892da4634aadad3bc88afb3e6905",
       "version_major": 2,
       "version_minor": 0
      },
      "text/plain": [
       "Evaluating model: 0it [00:00, ?it/s]"
      ]
     },
     "metadata": {},
     "output_type": "display_data"
    },
    {
     "data": {
      "application/vnd.jupyter.widget-view+json": {
       "model_id": "fbe10a87a4f1435fba5ff485f4f38ef6",
       "version_major": 2,
       "version_minor": 0
      },
      "text/plain": [
       "Evaluating model: 0it [00:00, ?it/s]"
      ]
     },
     "metadata": {},
     "output_type": "display_data"
    },
    {
     "name": "stderr",
     "output_type": "stream",
     "text": [
      "\n",
      "Training Epochs:  95%|█████████▌| 19/20 [2:31:54<07:58, 478.82s/epoch]\u001b[A"
     ]
    },
    {
     "name": "stdout",
     "output_type": "stream",
     "text": [
      "Epoch 19 completed. Train ROC AUC: 0.7985280599801978, Val ROC AUC: 0.7796310682360752\n",
      "No imporvement in validation ROC-AUC. Current: 0.779631. Current best: 0.780959\n",
      "EarlyStopping counter: 2 out of 3\n",
      "End of epoch, current lr = 1.02e-05\n"
     ]
    },
    {
     "data": {
      "application/vnd.jupyter.widget-view+json": {
       "model_id": "85929eb92cda4acd8a14b2e21da64b9f",
       "version_major": 2,
       "version_minor": 0
      },
      "text/plain": [
       "Training: 0it [00:00, ?it/s]"
      ]
     },
     "metadata": {},
     "output_type": "display_data"
    },
    {
     "name": "stdout",
     "output_type": "stream",
     "text": [
      "Training loss after epoch: 0.13170370459556586\r"
     ]
    },
    {
     "data": {
      "application/vnd.jupyter.widget-view+json": {
       "model_id": "c8186d047a7f4ec2ac69ad10d78a20cc",
       "version_major": 2,
       "version_minor": 0
      },
      "text/plain": [
       "Evaluating model: 0it [00:00, ?it/s]"
      ]
     },
     "metadata": {},
     "output_type": "display_data"
    },
    {
     "data": {
      "application/vnd.jupyter.widget-view+json": {
       "model_id": "e8db23fecf5f450eb7d963156ea9d2a0",
       "version_major": 2,
       "version_minor": 0
      },
      "text/plain": [
       "Evaluating model: 0it [00:00, ?it/s]"
      ]
     },
     "metadata": {},
     "output_type": "display_data"
    },
    {
     "name": "stderr",
     "output_type": "stream",
     "text": [
      "Training Epochs:  95%|█████████▌| 19/20 [2:39:50<08:24, 504.77s/epoch]\n",
      "Experiments: 100%|██████████| 1/1 [2:39:50<00:00, 9590.70s/experiment]"
     ]
    },
    {
     "name": "stdout",
     "output_type": "stream",
     "text": [
      "Epoch 20 completed. Train ROC AUC: 0.8000459656037915, Val ROC AUC: 0.7808790451029901\n",
      "No imporvement in validation ROC-AUC. Current: 0.780879. Current best: 0.780959\n",
      "EarlyStopping counter: 3 out of 3\n",
      "Early stopping reached. Stop training...\n",
      "Training finished. Best model saved at: None with Val ROC AUC: 0.7809594247141065\n",
      "Experiment exp_GRU_adam_lr_000001_schCyclicLR_rnn_units128_tpu32_bd1 finished. Best model saved at: checkpoints/exp_GRU_adam_lr_000001_schCyclicLR_rnn_units128_tpu32_bd1/best_checkpoint.pt\n"
     ]
    },
    {
     "name": "stderr",
     "output_type": "stream",
     "text": [
      "\n"
     ]
    }
   ],
   "source": [
    "experiment_results = []\n",
    "base_lr = 1e-5   \n",
    "max_lr  = 1e-4\n",
    "for config in tqdm.tqdm(experiment_configs, desc=\"Experiments\", unit=\"experiment\"):\n",
    "    print(f\"\\n{'='*40}\\nStarting experiment: {config['name']}\")\n",
    "    \n",
    "    checkpoint_dir = os.path.join(\"checkpoints\", config[\"name\"])\n",
    "    os.makedirs(checkpoint_dir, exist_ok=True)\n",
    "    \n",
    "    # Создание модели через передачу класса\n",
    "    model = config[\"model_name\"](**config[\"model_params\"])\n",
    "    model.to(device)\n",
    "    \n",
    "    # Настройка оптимизатора\n",
    "    optimizer_name = config[\"optimizer\"].lower()\n",
    "    if optimizer_name == \"adam\":\n",
    "        optimizer = torch.optim.Adam(model.parameters(),base_lr)\n",
    "    elif optimizer_name == \"sgd\":\n",
    "        optimizer = torch.optim.SGD(model.parameters(),**config[\"optimizer_params\"])\n",
    "    elif optimizer_name == 'adamw':\n",
    "        optimizer = torch.optim.AdamW(model.parameters(),**config[\"optimizer_params\"])\n",
    "    else:\n",
    "        raise ValueError(f\"Неизвестный оптимизатор: {config['optimizer']}\")\n",
    "    \n",
    "\n",
    "    es = EarlyStopping(patience=config.get(\"early_stopping_patience\", 3),\n",
    "                       verbose=True,\n",
    "                       mode='max',\n",
    "                       save_path=os.path.join(checkpoint_dir, \"best_checkpoint.pt\"),\n",
    "                       metric_name=\"ROC-AUC\",\n",
    "                       save_format=\"torch\",\n",
    "                      )\n",
    "    scheduler = None\n",
    "    if config[\"schedule\"]:\n",
    "        scheduler = CyclicLR(\n",
    "            optimizer,\n",
    "            base_lr=base_lr,\n",
    "            max_lr =max_lr,\n",
    "            step_size_up=1,\n",
    "            step_size_down=1,\n",
    "            mode='triangular2',\n",
    "            cycle_momentum=False\n",
    "        )\n",
    "                \n",
    "    # Запуск обучения\n",
    "    best_model_path, best_roc_auc, train_roc_auc_list, val_roc_auc_list = train_model(\n",
    "        model=model,\n",
    "        optimizer=optimizer,\n",
    "        dataset_train=dataset_train,\n",
    "        dataset_val=dataset_val,\n",
    "        num_epochs=config[\"num_epochs\"],\n",
    "        train_batch_size=config[\"train_batch_size\"],\n",
    "        val_batch_size=config[\"val_batch_size\"],\n",
    "        path_to_checkpoints=checkpoint_dir,\n",
    "        es=es,\n",
    "        device=device,\n",
    "        scheduler = scheduler\n",
    "    )\n",
    "    \n",
    "    print(f\"Experiment {config['name']} finished. Best model saved at: {os.path.join(checkpoint_dir, 'best_checkpoint.pt')}\")\n",
    "    \n",
    "    experiment_results.append({\n",
    "        \"experiment\": config[\"name\"],\n",
    "        \"model_name\": config[\"model_name\"].__name__,  # Получаем имя класса модели\n",
    "        \"optimizer\": config[\"optimizer\"],\n",
    "        \"optimizer_params\": config[\"optimizer_params\"],\n",
    "        \"num_epochs\": config[\"num_epochs\"],\n",
    "        \"train_batch_size\": config[\"train_batch_size\"],\n",
    "        \"val_batch_size\": config[\"val_batch_size\"],\n",
    "        \"model_params\": config[\"model_params\"],\n",
    "        \"early_stopping_patience\": config.get(\"early_stopping_patience\", 3),\n",
    "        \"best_model_path\": best_model_path,\n",
    "        \"best_roc_auc\": best_roc_auc,\n",
    "        \"train_roc_auc\": train_roc_auc_list,\n",
    "        \"val_roc_auc\": val_roc_auc_list,\n",
    "    })\n",
    "\n"
   ]
  },
  {
   "cell_type": "code",
   "execution_count": 74,
   "metadata": {
    "execution": {
     "iopub.execute_input": "2025-04-18T17:16:36.960068Z",
     "iopub.status.busy": "2025-04-18T17:16:36.959780Z",
     "iopub.status.idle": "2025-04-18T17:16:36.996549Z",
     "shell.execute_reply": "2025-04-18T17:16:36.995688Z",
     "shell.execute_reply.started": "2025-04-18T17:16:36.960045Z"
    },
    "trusted": true
   },
   "outputs": [
    {
     "data": {
      "text/plain": [
       "RNN_GRU(\n",
       "  (_credits_cat_embeddings): ModuleList(\n",
       "    (0): Embedding(21, 9, padding_idx=0)\n",
       "    (1-2): 2 x Embedding(19, 8, padding_idx=0)\n",
       "    (3-4): 2 x Embedding(18, 8, padding_idx=0)\n",
       "    (5): Embedding(17, 8, padding_idx=0)\n",
       "    (6): Embedding(21, 9, padding_idx=0)\n",
       "    (7): Embedding(9, 5, padding_idx=0)\n",
       "    (8): Embedding(7, 4, padding_idx=0)\n",
       "    (9): Embedding(3, 2, padding_idx=0)\n",
       "    (10): Embedding(5, 3, padding_idx=0)\n",
       "    (11): Embedding(15, 7, padding_idx=0)\n",
       "    (12): Embedding(19, 8, padding_idx=0)\n",
       "    (13): Embedding(21, 9, padding_idx=0)\n",
       "    (14): Embedding(11, 6, padding_idx=0)\n",
       "    (15): Embedding(7, 4, padding_idx=0)\n",
       "    (16): Embedding(21, 9, padding_idx=0)\n",
       "    (17-21): 5 x Embedding(3, 2, padding_idx=0)\n",
       "    (22-24): 3 x Embedding(21, 9, padding_idx=0)\n",
       "    (25-27): 3 x Embedding(3, 2, padding_idx=0)\n",
       "    (28-38): 11 x Embedding(5, 3, padding_idx=0)\n",
       "    (39): Embedding(6, 4, padding_idx=0)\n",
       "    (40-47): 8 x Embedding(5, 3, padding_idx=0)\n",
       "    (48): Embedding(6, 4, padding_idx=0)\n",
       "    (49-51): 3 x Embedding(5, 3, padding_idx=0)\n",
       "    (52): Embedding(6, 4, padding_idx=0)\n",
       "    (53-54): 2 x Embedding(8, 5, padding_idx=0)\n",
       "    (55): Embedding(9, 5, padding_idx=0)\n",
       "    (56): Embedding(5, 3, padding_idx=0)\n",
       "    (57-58): 2 x Embedding(3, 2, padding_idx=0)\n",
       "  )\n",
       "  (_spatial_dropout): Dropout1d(p=0.05, inplace=False)\n",
       "  (_gru): GRU(258, 128, batch_first=True, bidirectional=True)\n",
       "  (_maxpool): AdaptiveMaxPool1d(output_size=1)\n",
       "  (_avgpool): AdaptiveAvgPool1d(output_size=1)\n",
       "  (_top_classifier): Sequential(\n",
       "    (0): Linear(in_features=512, out_features=32, bias=True)\n",
       "    (1): ReLU()\n",
       "    (2): Linear(in_features=32, out_features=1, bias=True)\n",
       "  )\n",
       ")"
      ]
     },
     "execution_count": 74,
     "metadata": {},
     "output_type": "execute_result"
    }
   ],
   "source": [
    "model"
   ]
  },
  {
   "cell_type": "code",
   "execution_count": 33,
   "metadata": {
    "execution": {
     "iopub.execute_input": "2025-04-18T13:04:40.570783Z",
     "iopub.status.busy": "2025-04-18T13:04:40.570164Z",
     "iopub.status.idle": "2025-04-18T13:04:40.707807Z",
     "shell.execute_reply": "2025-04-18T13:04:40.706989Z",
     "shell.execute_reply.started": "2025-04-18T13:04:40.570753Z"
    },
    "trusted": true
   },
   "outputs": [
    {
     "data": {
      "text/html": [
       "<div>\n",
       "<style scoped>\n",
       "    .dataframe tbody tr th:only-of-type {\n",
       "        vertical-align: middle;\n",
       "    }\n",
       "\n",
       "    .dataframe tbody tr th {\n",
       "        vertical-align: top;\n",
       "    }\n",
       "\n",
       "    .dataframe thead th {\n",
       "        text-align: right;\n",
       "    }\n",
       "</style>\n",
       "<table border=\"1\" class=\"dataframe\">\n",
       "  <thead>\n",
       "    <tr style=\"text-align: right;\">\n",
       "      <th></th>\n",
       "      <th>experiment</th>\n",
       "      <th>model_name</th>\n",
       "      <th>optimizer</th>\n",
       "      <th>optimizer_params</th>\n",
       "      <th>num_epochs</th>\n",
       "      <th>train_batch_size</th>\n",
       "      <th>val_batch_size</th>\n",
       "      <th>model_params</th>\n",
       "      <th>early_stopping_patience</th>\n",
       "      <th>best_model_path</th>\n",
       "      <th>best_roc_auc</th>\n",
       "      <th>train_roc_auc</th>\n",
       "      <th>val_roc_auc</th>\n",
       "    </tr>\n",
       "  </thead>\n",
       "  <tbody>\n",
       "    <tr>\n",
       "      <th>0</th>\n",
       "      <td>exp_GRU_adam_lr_001_sch3_rnn_units128_tpu32_bd1</td>\n",
       "      <td>RNN_GRU</td>\n",
       "      <td>adam</td>\n",
       "      <td>{'lr': 0.001}</td>\n",
       "      <td>20</td>\n",
       "      <td>128</td>\n",
       "      <td>128</td>\n",
       "      <td>{'features': ['pre_since_opened', 'pre_since_c...</td>\n",
       "      <td>3</td>\n",
       "      <td>None</td>\n",
       "      <td>-inf</td>\n",
       "      <td>[0.7753407063024896, 0.7839057216889576, 0.788...</td>\n",
       "      <td>[0.7699765674259503, 0.7761341606764023, 0.778...</td>\n",
       "    </tr>\n",
       "  </tbody>\n",
       "</table>\n",
       "</div>"
      ],
      "text/plain": [
       "                                        experiment model_name optimizer  \\\n",
       "0  exp_GRU_adam_lr_001_sch3_rnn_units128_tpu32_bd1    RNN_GRU      adam   \n",
       "\n",
       "  optimizer_params  num_epochs  train_batch_size  val_batch_size  \\\n",
       "0    {'lr': 0.001}          20               128             128   \n",
       "\n",
       "                                        model_params  early_stopping_patience  \\\n",
       "0  {'features': ['pre_since_opened', 'pre_since_c...                        3   \n",
       "\n",
       "  best_model_path  best_roc_auc  \\\n",
       "0            None          -inf   \n",
       "\n",
       "                                       train_roc_auc  \\\n",
       "0  [0.7753407063024896, 0.7839057216889576, 0.788...   \n",
       "\n",
       "                                         val_roc_auc  \n",
       "0  [0.7699765674259503, 0.7761341606764023, 0.778...  "
      ]
     },
     "execution_count": 33,
     "metadata": {},
     "output_type": "execute_result"
    }
   ],
   "source": [
    "# --- Сохранение результатов в DataFrame ---\n",
    "df_results = pd.DataFrame(experiment_results)\n",
    "df_results"
   ]
  },
  {
   "cell_type": "code",
   "execution_count": null,
   "metadata": {
    "execution": {
     "iopub.status.busy": "2025-04-16T17:51:36.519609Z",
     "iopub.status.idle": "2025-04-16T17:51:36.519841Z",
     "shell.execute_reply": "2025-04-16T17:51:36.519745Z"
    },
    "trusted": true
   },
   "outputs": [],
   "source": [
    "df.to_csv('experiments_relults.csv', index=False, encoding='utf-8')"
   ]
  },
  {
   "cell_type": "code",
   "execution_count": null,
   "metadata": {
    "execution": {
     "iopub.status.busy": "2025-04-16T17:34:15.417548Z",
     "iopub.status.idle": "2025-04-16T17:34:15.417858Z",
     "shell.execute_reply": "2025-04-16T17:34:15.417744Z"
    },
    "trusted": true
   },
   "outputs": [],
   "source": [
    "%%time\n",
    "for epoch in range(num_epochs):\n",
    "    print(f\"Starting epoch {epoch+1}\")\n",
    "    train_epoch(model, optimizer, dataset_train, batch_size=train_batch_size, \n",
    "                shuffle=True, print_loss_every_n_batches=500, device=device)\n",
    "    \n",
    "    val_roc_auc = eval_model(model, dataset_val, batch_size=val_batch_size, device=device)\n",
    "    es(val_roc_auc, model)\n",
    "    \n",
    "    if es.early_stop:\n",
    "        print(\"Early stopping reached. Stop training...\")\n",
    "        break\n",
    "    torch.save(model.state_dict(), os.path.join(path_to_checkpoints, f\"epoch_{epoch+1}_val_{val_roc_auc:.3f}.pt\"))\n",
    "    \n",
    "    train_roc_auc = eval_model(model, dataset_train, batch_size=val_batch_size, device=device)\n",
    "    print(f\"Epoch {epoch+1} completed. Train ROC AUC: {train_roc_auc}, val ROC AUC: {val_roc_auc}\")"
   ]
  }
 ],
 "metadata": {
  "kaggle": {
   "accelerator": "gpu",
   "dataSources": [
    {
     "datasetId": 7043178,
     "sourceId": 11267456,
     "sourceType": "datasetVersion"
    }
   ],
   "dockerImageVersionId": 30919,
   "isGpuEnabled": true,
   "isInternetEnabled": true,
   "language": "python",
   "sourceType": "notebook"
  },
  "kernelspec": {
   "display_name": "Python 3",
   "language": "python",
   "name": "python3"
  },
  "language_info": {
   "codemirror_mode": {
    "name": "ipython",
    "version": 3
   },
   "file_extension": ".py",
   "mimetype": "text/x-python",
   "name": "python",
   "nbconvert_exporter": "python",
   "pygments_lexer": "ipython3",
   "version": "3.10.12"
  }
 },
 "nbformat": 4,
 "nbformat_minor": 4
}
